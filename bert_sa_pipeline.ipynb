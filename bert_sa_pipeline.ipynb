{
 "cells": [
  {
   "cell_type": "code",
   "execution_count": 1,
   "metadata": {},
   "outputs": [],
   "source": [
    "import pandas as pd\n",
    "from transformers import pipeline"
   ]
  },
  {
   "cell_type": "code",
   "execution_count": 5,
   "metadata": {},
   "outputs": [
    {
     "name": "stderr",
     "output_type": "stream",
     "text": [
      "/Users/atz/anaconda3/envs/ada/lib/python3.8/site-packages/IPython/core/interactiveshell.py:3145: DtypeWarning: Columns (0) have mixed types.Specify dtype option on import or set low_memory=False.\n",
      "  has_raised = await self.run_ast_nodes(code_ast.body, cell_name,\n"
     ]
    }
   ],
   "source": [
    "tweets = pd.read_csv('tweets.txt')"
   ]
  },
  {
   "cell_type": "code",
   "execution_count": 24,
   "metadata": {},
   "outputs": [],
   "source": [
    "en_tweets = tweets[tweets['lang'] == 'en'].drop_duplicates().reindex()"
   ]
  },
  {
   "cell_type": "code",
   "execution_count": 25,
   "metadata": {},
   "outputs": [
    {
     "data": {
      "text/plain": [
       "0          Will try to live for a week offline... wish me...\n",
       "3          Boa tarde..\\n (@shekinahbiscuit live on http:/...\n",
       "4          Collect smurfy stars to complete four new cons...\n",
       "8          Phew... Valentine's day will be finally over i...\n",
       "9          up\\n (@deiabiscuit32 live on http://t.co/J8uYV...\n",
       "                                 ...                        \n",
       "1609378          @milesplumlee13 carry me to fantasy victory\n",
       "1609385    RT @_mariangelsofia: Hi lovely 💕 @Real_Liam_Pa...\n",
       "1609386    \"Many things about Satanism are offensive.\" - ...\n",
       "1609387    Smite #ArtemisStalkerSkin for Free http://t.co...\n",
       "1609388    New Ministry of Magic song! :D &lt;3 It's so p...\n",
       "Name: text, Length: 1093122, dtype: object"
      ]
     },
     "execution_count": 25,
     "metadata": {},
     "output_type": "execute_result"
    }
   ],
   "source": [
    "en_tweets['text']"
   ]
  },
  {
   "cell_type": "code",
   "execution_count": 26,
   "metadata": {},
   "outputs": [],
   "source": [
    "sa_pipeline = pipeline('sentiment-analysis')"
   ]
  },
  {
   "cell_type": "code",
   "execution_count": 27,
   "metadata": {},
   "outputs": [
    {
     "name": "stdout",
     "output_type": "stream",
     "text": [
      "Will try to live for a week offline... wish me luck! :D\n",
      "[{'label': 'POSITIVE', 'score': 0.8665001392364502}]\n",
      "\n",
      "Boa tarde..\n",
      " (@shekinahbiscuit live on http://t.co/nU1N0NJJIJ)\n",
      "[{'label': 'NEGATIVE', 'score': 0.9955580830574036}]\n",
      "\n",
      "Collect smurfy stars to complete four new constellations in the upcoming #SmurfsVillage update! http://t.co/0bvMBPc1wY\n",
      "[{'label': 'NEGATIVE', 'score': 0.9179400205612183}]\n",
      "\n",
      "Phew... Valentine's day will be finally over in few hours\n",
      "[{'label': 'NEGATIVE', 'score': 0.9857022762298584}]\n",
      "\n",
      "up\n",
      " (@deiabiscuit32 live on http://t.co/J8uYVfLR)\n",
      "[{'label': 'NEGATIVE', 'score': 0.9937337636947632}]\n",
      "\n",
      "simmm\n",
      " (@deiabiscuit32 live on http://t.co/J8uYVfLR)\n",
      "[{'label': 'NEGATIVE', 'score': 0.9974138140678406}]\n",
      "\n",
      "Get Feathers the bird to travel instantly to any of the four village areas when you become a #SmurfsVillage VIP! http://t.co/0bvMBPc1wY\n",
      "[{'label': 'NEGATIVE', 'score': 0.6767980456352234}]\n",
      "\n",
      "Get Feathers the bird to travel instantly to any of the four village areas when you become a #SmurfsVillage VIP! http://t.co/0bvMBPc1wY\n",
      "[{'label': 'NEGATIVE', 'score': 0.6767980456352234}]\n",
      "\n",
      "ski everybody! (rock)\n",
      "[{'label': 'POSITIVE', 'score': 0.9946964383125305}]\n",
      "\n",
      "Have you been to the mountain? Reach new heights on the #SmurfVillage mountain! http://t.co/d9BVrqiU82\n",
      "[{'label': 'NEGATIVE', 'score': 0.9115744829177856}]\n",
      "\n"
     ]
    }
   ],
   "source": [
    "for i in range(10):\n",
    "    text = en_tweets['text'].iloc[i]\n",
    "    print(text)\n",
    "    prediction = sa_pipeline(text)\n",
    "    print(prediction)\n",
    "    print()"
   ]
  },
  {
   "cell_type": "code",
   "execution_count": null,
   "metadata": {},
   "outputs": [],
   "source": []
  }
 ],
 "metadata": {
  "kernelspec": {
   "display_name": "Python 3",
   "language": "python",
   "name": "python3"
  },
  "language_info": {
   "codemirror_mode": {
    "name": "ipython",
    "version": 3
   },
   "file_extension": ".py",
   "mimetype": "text/x-python",
   "name": "python",
   "nbconvert_exporter": "python",
   "pygments_lexer": "ipython3",
   "version": "3.8.5"
  }
 },
 "nbformat": 4,
 "nbformat_minor": 4
}
