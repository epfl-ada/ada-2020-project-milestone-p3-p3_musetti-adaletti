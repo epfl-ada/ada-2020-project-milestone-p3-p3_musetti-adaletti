{
 "cells": [
  {
   "cell_type": "markdown",
   "metadata": {},
   "source": [
    "# Analyzing tweets retweetability by topic"
   ]
  },
  {
   "cell_type": "markdown",
   "metadata": {},
   "source": [
    "Importing libraries"
   ]
  },
  {
   "cell_type": "code",
   "execution_count": 1,
   "metadata": {},
   "outputs": [],
   "source": [
    "import pandas as pd\n",
    "import numpy as np\n",
    "import matplotlib.pyplot as plt\n",
    "import seaborn as sns\n",
    "from empath import Empath\n",
    "import os.path"
   ]
  },
  {
   "cell_type": "markdown",
   "metadata": {},
   "source": [
    "Reading dataset"
   ]
  },
  {
   "cell_type": "code",
   "execution_count": 2,
   "metadata": {},
   "outputs": [
    {
     "name": "stderr",
     "output_type": "stream",
     "text": [
      "/opt/anaconda3/lib/python3.8/site-packages/IPython/core/interactiveshell.py:3071: DtypeWarning: Columns (0) have mixed types.Specify dtype option on import or set low_memory=False.\n",
      "  has_raised = await self.run_ast_nodes(code_ast.body, cell_name,\n"
     ]
    },
    {
     "name": "stdout",
     "output_type": "stream",
     "text": [
      "Raw dataset shape:\t(1609389, 34)\n",
      "Filtered dataset shape:\t(639819, 34)\n",
      "\n",
      "HEAD of filtered dataset:\n",
      "\n"
     ]
    },
    {
     "data": {
      "text/html": [
       "<div>\n",
       "<style scoped>\n",
       "    .dataframe tbody tr th:only-of-type {\n",
       "        vertical-align: middle;\n",
       "    }\n",
       "\n",
       "    .dataframe tbody tr th {\n",
       "        vertical-align: top;\n",
       "    }\n",
       "\n",
       "    .dataframe thead th {\n",
       "        text-align: right;\n",
       "    }\n",
       "</style>\n",
       "<table border=\"1\" class=\"dataframe\">\n",
       "  <thead>\n",
       "    <tr style=\"text-align: right;\">\n",
       "      <th></th>\n",
       "      <th>coordinates</th>\n",
       "      <th>created_at</th>\n",
       "      <th>hashtags</th>\n",
       "      <th>media</th>\n",
       "      <th>urls</th>\n",
       "      <th>favorite_count</th>\n",
       "      <th>id</th>\n",
       "      <th>in_reply_to_screen_name</th>\n",
       "      <th>in_reply_to_status_id</th>\n",
       "      <th>in_reply_to_user_id</th>\n",
       "      <th>...</th>\n",
       "      <th>user_friends_count</th>\n",
       "      <th>user_listed_count</th>\n",
       "      <th>user_location</th>\n",
       "      <th>user_name</th>\n",
       "      <th>user_screen_name.1</th>\n",
       "      <th>user_statuses_count</th>\n",
       "      <th>user_time_zone</th>\n",
       "      <th>user_urls</th>\n",
       "      <th>user_verified</th>\n",
       "      <th>retweetability</th>\n",
       "    </tr>\n",
       "  </thead>\n",
       "  <tbody>\n",
       "    <tr>\n",
       "      <th>0</th>\n",
       "      <td>NaN</td>\n",
       "      <td>Sun Feb 14 23:29:33 +0000 2010</td>\n",
       "      <td>NaN</td>\n",
       "      <td>NaN</td>\n",
       "      <td>NaN</td>\n",
       "      <td>0</td>\n",
       "      <td>9116606357</td>\n",
       "      <td>NaN</td>\n",
       "      <td>NaN</td>\n",
       "      <td>NaN</td>\n",
       "      <td>...</td>\n",
       "      <td>17</td>\n",
       "      <td>0</td>\n",
       "      <td>Sofia, Bulgaria</td>\n",
       "      <td>Ina Gerdjikova</td>\n",
       "      <td>InaGerdjikova</td>\n",
       "      <td>6</td>\n",
       "      <td>NaN</td>\n",
       "      <td>http://kutiazamisli.blogspot.com/</td>\n",
       "      <td>False</td>\n",
       "      <td>False</td>\n",
       "    </tr>\n",
       "    <tr>\n",
       "      <th>3</th>\n",
       "      <td>NaN</td>\n",
       "      <td>Tue Aug 12 17:51:37 +0000 2014</td>\n",
       "      <td>NaN</td>\n",
       "      <td>NaN</td>\n",
       "      <td>http://twitcam.livestream.com/g7hpe</td>\n",
       "      <td>0</td>\n",
       "      <td>499251874256920577</td>\n",
       "      <td>NaN</td>\n",
       "      <td>NaN</td>\n",
       "      <td>NaN</td>\n",
       "      <td>...</td>\n",
       "      <td>9</td>\n",
       "      <td>0</td>\n",
       "      <td>NaN</td>\n",
       "      <td>Ana Paula Ribeiro</td>\n",
       "      <td>anadadal</td>\n",
       "      <td>7</td>\n",
       "      <td>NaN</td>\n",
       "      <td>NaN</td>\n",
       "      <td>False</td>\n",
       "      <td>False</td>\n",
       "    </tr>\n",
       "    <tr>\n",
       "      <th>8</th>\n",
       "      <td>NaN</td>\n",
       "      <td>Sun Feb 14 18:46:26 +0000 2010</td>\n",
       "      <td>NaN</td>\n",
       "      <td>NaN</td>\n",
       "      <td>NaN</td>\n",
       "      <td>0</td>\n",
       "      <td>9107804301</td>\n",
       "      <td>NaN</td>\n",
       "      <td>NaN</td>\n",
       "      <td>NaN</td>\n",
       "      <td>...</td>\n",
       "      <td>17</td>\n",
       "      <td>0</td>\n",
       "      <td>Sofia, Bulgaria</td>\n",
       "      <td>Ina Gerdjikova</td>\n",
       "      <td>InaGerdjikova</td>\n",
       "      <td>6</td>\n",
       "      <td>NaN</td>\n",
       "      <td>http://kutiazamisli.blogspot.com/</td>\n",
       "      <td>False</td>\n",
       "      <td>False</td>\n",
       "    </tr>\n",
       "    <tr>\n",
       "      <th>9</th>\n",
       "      <td>NaN</td>\n",
       "      <td>Fri Sep 28 19:07:04 +0000 2012</td>\n",
       "      <td>NaN</td>\n",
       "      <td>NaN</td>\n",
       "      <td>http://twitcam.livestream.com/c7fe0</td>\n",
       "      <td>0</td>\n",
       "      <td>251759950655791105</td>\n",
       "      <td>NaN</td>\n",
       "      <td>NaN</td>\n",
       "      <td>NaN</td>\n",
       "      <td>...</td>\n",
       "      <td>9</td>\n",
       "      <td>0</td>\n",
       "      <td>NaN</td>\n",
       "      <td>Ana Paula Ribeiro</td>\n",
       "      <td>anadadal</td>\n",
       "      <td>7</td>\n",
       "      <td>NaN</td>\n",
       "      <td>NaN</td>\n",
       "      <td>False</td>\n",
       "      <td>False</td>\n",
       "    </tr>\n",
       "    <tr>\n",
       "      <th>11</th>\n",
       "      <td>NaN</td>\n",
       "      <td>Fri Sep 28 19:05:53 +0000 2012</td>\n",
       "      <td>NaN</td>\n",
       "      <td>NaN</td>\n",
       "      <td>http://twitcam.livestream.com/c7fe0</td>\n",
       "      <td>0</td>\n",
       "      <td>251759653464199168</td>\n",
       "      <td>NaN</td>\n",
       "      <td>NaN</td>\n",
       "      <td>NaN</td>\n",
       "      <td>...</td>\n",
       "      <td>9</td>\n",
       "      <td>0</td>\n",
       "      <td>NaN</td>\n",
       "      <td>Ana Paula Ribeiro</td>\n",
       "      <td>anadadal</td>\n",
       "      <td>7</td>\n",
       "      <td>NaN</td>\n",
       "      <td>NaN</td>\n",
       "      <td>False</td>\n",
       "      <td>False</td>\n",
       "    </tr>\n",
       "  </tbody>\n",
       "</table>\n",
       "<p>5 rows × 35 columns</p>\n",
       "</div>"
      ],
      "text/plain": [
       "   coordinates                      created_at hashtags media  \\\n",
       "0          NaN  Sun Feb 14 23:29:33 +0000 2010      NaN   NaN   \n",
       "3          NaN  Tue Aug 12 17:51:37 +0000 2014      NaN   NaN   \n",
       "8          NaN  Sun Feb 14 18:46:26 +0000 2010      NaN   NaN   \n",
       "9          NaN  Fri Sep 28 19:07:04 +0000 2012      NaN   NaN   \n",
       "11         NaN  Fri Sep 28 19:05:53 +0000 2012      NaN   NaN   \n",
       "\n",
       "                                   urls  favorite_count                  id  \\\n",
       "0                                   NaN               0          9116606357   \n",
       "3   http://twitcam.livestream.com/g7hpe               0  499251874256920577   \n",
       "8                                   NaN               0          9107804301   \n",
       "9   http://twitcam.livestream.com/c7fe0               0  251759950655791105   \n",
       "11  http://twitcam.livestream.com/c7fe0               0  251759653464199168   \n",
       "\n",
       "   in_reply_to_screen_name  in_reply_to_status_id  in_reply_to_user_id  ...  \\\n",
       "0                      NaN                    NaN                  NaN  ...   \n",
       "3                      NaN                    NaN                  NaN  ...   \n",
       "8                      NaN                    NaN                  NaN  ...   \n",
       "9                      NaN                    NaN                  NaN  ...   \n",
       "11                     NaN                    NaN                  NaN  ...   \n",
       "\n",
       "   user_friends_count user_listed_count    user_location          user_name  \\\n",
       "0                  17                 0  Sofia, Bulgaria     Ina Gerdjikova   \n",
       "3                   9                 0              NaN  Ana Paula Ribeiro   \n",
       "8                  17                 0  Sofia, Bulgaria     Ina Gerdjikova   \n",
       "9                   9                 0              NaN  Ana Paula Ribeiro   \n",
       "11                  9                 0              NaN  Ana Paula Ribeiro   \n",
       "\n",
       "    user_screen_name.1 user_statuses_count user_time_zone  \\\n",
       "0        InaGerdjikova                   6            NaN   \n",
       "3             anadadal                   7            NaN   \n",
       "8        InaGerdjikova                   6            NaN   \n",
       "9             anadadal                   7            NaN   \n",
       "11            anadadal                   7            NaN   \n",
       "\n",
       "                            user_urls user_verified retweetability  \n",
       "0   http://kutiazamisli.blogspot.com/         False          False  \n",
       "3                                 NaN         False          False  \n",
       "8   http://kutiazamisli.blogspot.com/         False          False  \n",
       "9                                 NaN         False          False  \n",
       "11                                NaN         False          False  \n",
       "\n",
       "[5 rows x 35 columns]"
      ]
     },
     "execution_count": 2,
     "metadata": {},
     "output_type": "execute_result"
    }
   ],
   "source": [
    "# Reading raw dataset\n",
    "df = pd.read_csv('./Data/tweets', dtype={'retweetability': 'bool', 'favorite_count': 'int', 'retweet_count': 'int'})\n",
    "print(f\"Raw dataset shape:\\t{df.shape}\")\n",
    "\n",
    "# Filtering dataset for english original (not a reply nor a retweet) tweets\n",
    "in_english = df['lang'] == 'en'\n",
    "not_a_reply = df['in_reply_to_user_id'].isna()\n",
    "not_a_retweet = df['retweet_id'].isna()\n",
    "df = df[in_english & not_a_reply & not_a_retweet].drop_duplicates(subset=['text'], keep=False)\n",
    "print(f\"Filtered dataset shape:\\t{df.shape}\")\n",
    "\n",
    "# Retweetability column\n",
    "df['retweetability'] = df['retweet_count'] > 0\n",
    "\n",
    "# Showing dataset\n",
    "print(f\"\\nHEAD of filtered dataset:\\n\")\n",
    "df.head()"
   ]
  },
  {
   "cell_type": "markdown",
   "metadata": {},
   "source": [
    "## Topic extraction"
   ]
  },
  {
   "cell_type": "markdown",
   "metadata": {},
   "source": [
    "**Empath lexicon**"
   ]
  },
  {
   "cell_type": "markdown",
   "metadata": {},
   "source": [
    "We are going to use [*Empath*](https://github.com/Ejhfast/empath-client), a tool for analyzing text across lexical categories. It will be used to extract tweets that can be related to a certain topic."
   ]
  },
  {
   "cell_type": "code",
   "execution_count": 3,
   "metadata": {},
   "outputs": [],
   "source": [
    "lexicon = Empath()"
   ]
  },
  {
   "cell_type": "markdown",
   "metadata": {},
   "source": [
    "We show an example of usage for two different sentences"
   ]
  },
  {
   "cell_type": "code",
   "execution_count": 4,
   "metadata": {},
   "outputs": [
    {
     "name": "stdout",
     "output_type": "stream",
     "text": [
      "Sentence:\tWe love playing basketball\n",
      "Result:\t\t{'sports': 2.0, 'music': 0.0}\n",
      "Normalized result:\t{'sports': 0.5, 'music': 0.0}\n",
      "\n",
      "Sentence:\tWe love playing the guitar\n",
      "Result:\t\t{'sports': 1.0, 'music': 1.0}\n",
      "Normalized result:\t{'sports': 0.2, 'music': 0.2}\n",
      "\n",
      "Explanation: 'playing' and 'basketball' are in the sports keyword set, whereas 'guitar' falls into the music keywords set.\n"
     ]
    }
   ],
   "source": [
    "example_1 = \"We love playing basketball\"\n",
    "example_2 = \"We love playing the guitar\"\n",
    "for ex in [example_1, example_2]:\n",
    "    print(f\"Sentence:\\t{ex}\")\n",
    "    print(f\"Result:\\t\\t{lexicon.analyze(ex, categories = ['sports', 'music'])}\")\n",
    "    print(f\"Normalized result:\\t{lexicon.analyze(ex, categories = ['sports', 'music'], normalize = True)}\\n\")\n",
    "    \n",
    "print(\"Explanation: 'playing' and 'basketball' are in the sports keyword set,\"\n",
    "      \" whereas 'guitar' falls into the music keywords set.\")"
   ]
  },
  {
   "cell_type": "markdown",
   "metadata": {},
   "source": [
    "**Lexical Categories**"
   ]
  },
  {
   "cell_type": "code",
   "execution_count": 5,
   "metadata": {},
   "outputs": [
    {
     "name": "stdout",
     "output_type": "stream",
     "text": [
      "There are 194 predefined categories.\n",
      "Some of the categories are: ['achievement', 'affection', 'aggression', 'air_travel', 'alcohol', 'ancient', 'anger', 'animal', 'anonymity', 'anticipation', 'appearance', 'art', 'attractive', 'banking', 'beach', 'beauty', 'blue_collar_job', 'body', 'breaking', 'business', '...']\n",
      "\n",
      "Each category contains a set of keywords:\n",
      "sports: ['kickoff', 'gymnasium', 'gym', 'pitching', 'competition', 'volley', 'fanatic', 'halftime', 'skiing', 'basketball', 'touchdown', 'trampoline', 'coaching', 'backstroke', 'varsity', 'track', 'gymnastics', 'court', 'skateboarding', 'playoff', '...']\n"
     ]
    }
   ],
   "source": [
    "categories = list(lexicon.cats.keys())\n",
    "categories.sort()\n",
    "print(f\"There are {len(categories)} predefined categories.\\nSome of the categories are: {categories[:20] + ['...']}\")\n",
    "print(f\"\\nEach category contains a set of keywords:\\nsports: {lexicon.cats['sports'][:20] + ['...']}\")"
   ]
  },
  {
   "cell_type": "markdown",
   "metadata": {},
   "source": [
    "We will select 8 of these categories:<br>*sports, politics, music, religion, health, cooking, fashion, and family*"
   ]
  },
  {
   "cell_type": "code",
   "execution_count": 6,
   "metadata": {},
   "outputs": [],
   "source": [
    "CATEGORIES = [\"sports\", \"politics\", \"music\", \"religion\", \"health\", \"cooking\", \"fashion\", \"family\"]"
   ]
  },
  {
   "cell_type": "markdown",
   "metadata": {},
   "source": [
    "**Computing topic extraction**"
   ]
  },
  {
   "cell_type": "markdown",
   "metadata": {},
   "source": [
    "Let's compute the category scores for each tweet, and then select the most probable category if any detected. Or load the already computed dataset (saving time)."
   ]
  },
  {
   "cell_type": "code",
   "execution_count": 7,
   "metadata": {},
   "outputs": [],
   "source": [
    "categorized_dataset = 'Data/categorized_tweets.csv'\n",
    "load_df = False\n",
    "\n",
    "if not os.path.isfile(categorized_dataset) or not load_df:\n",
    "    \n",
    "    def score_categories(x, cats=CATEGORIES):\n",
    "        cat_scores = lexicon.analyze(x.text, categories = cats)\n",
    "        return [int(x) for x in list(cat_scores.values())]\n",
    "\n",
    "    df_cats = df.apply(score_categories, axis=1)\n",
    "    df_cats = pd.DataFrame(df_cats.to_list(), index=df_cats.index, columns=CATEGORIES)\n",
    "    df = df.join(df_cats)\n",
    "\n",
    "    # Extracting the category with the maximum number of occurrences\n",
    "    def max_category(x, cats=CATEGORIES):\n",
    "        array = [x[cat] for cat in cats]\n",
    "        if np.sum(array) == 0:\n",
    "            res = np.nan\n",
    "        elif array.count(max(array)) > 1:\n",
    "            res = np.nan\n",
    "        else:\n",
    "            res = cats[np.argmax(array)]\n",
    "        return res\n",
    "\n",
    "    df['category'] = df[CATEGORIES].apply(max_category, axis=1)\n",
    "    \n",
    "    # Write dataset\n",
    "    df.to_csv(categorized_dataset, index=False)\n",
    "    \n",
    "# Read already created dataset\n",
    "elif os.path.isfile(categorized_dataset) and 'category' not in df.columns and load_df:\n",
    "    df = pd.read_csv(categorized_dataset)"
   ]
  },
  {
   "cell_type": "markdown",
   "metadata": {},
   "source": [
    "For each category, we have counted the number of keywords present in the text. Then, the category with more keywords is considered the actual category of the tweet."
   ]
  },
  {
   "cell_type": "code",
   "execution_count": 8,
   "metadata": {},
   "outputs": [
    {
     "name": "stdout",
     "output_type": "stream",
     "text": [
      "78194 tweets were categorized; 12.22% of the total 639819 tweets.\n"
     ]
    }
   ],
   "source": [
    "print(f\"{df['category'].isna().value_counts()[False]} tweets were categorized;\"\n",
    "      f\" {df['category'].isna().value_counts()[False]/len(df)*100:.2f}% of the total {len(df)} tweets.\")"
   ]
  },
  {
   "cell_type": "markdown",
   "metadata": {},
   "source": [
    "Categorized tweets keyword count:"
   ]
  },
  {
   "cell_type": "code",
   "execution_count": 9,
   "metadata": {},
   "outputs": [
    {
     "data": {
      "text/html": [
       "<div>\n",
       "<style scoped>\n",
       "    .dataframe tbody tr th:only-of-type {\n",
       "        vertical-align: middle;\n",
       "    }\n",
       "\n",
       "    .dataframe tbody tr th {\n",
       "        vertical-align: top;\n",
       "    }\n",
       "\n",
       "    .dataframe thead th {\n",
       "        text-align: right;\n",
       "    }\n",
       "</style>\n",
       "<table border=\"1\" class=\"dataframe\">\n",
       "  <thead>\n",
       "    <tr style=\"text-align: right;\">\n",
       "      <th></th>\n",
       "      <th>sports</th>\n",
       "      <th>politics</th>\n",
       "      <th>music</th>\n",
       "      <th>religion</th>\n",
       "      <th>health</th>\n",
       "      <th>cooking</th>\n",
       "      <th>fashion</th>\n",
       "      <th>family</th>\n",
       "      <th>category</th>\n",
       "    </tr>\n",
       "  </thead>\n",
       "  <tbody>\n",
       "    <tr>\n",
       "      <th>156741</th>\n",
       "      <td>0</td>\n",
       "      <td>0</td>\n",
       "      <td>0</td>\n",
       "      <td>0</td>\n",
       "      <td>0</td>\n",
       "      <td>0</td>\n",
       "      <td>1</td>\n",
       "      <td>0</td>\n",
       "      <td>fashion</td>\n",
       "    </tr>\n",
       "    <tr>\n",
       "      <th>1408686</th>\n",
       "      <td>0</td>\n",
       "      <td>0</td>\n",
       "      <td>0</td>\n",
       "      <td>0</td>\n",
       "      <td>0</td>\n",
       "      <td>0</td>\n",
       "      <td>0</td>\n",
       "      <td>1</td>\n",
       "      <td>family</td>\n",
       "    </tr>\n",
       "    <tr>\n",
       "      <th>515334</th>\n",
       "      <td>0</td>\n",
       "      <td>0</td>\n",
       "      <td>0</td>\n",
       "      <td>0</td>\n",
       "      <td>0</td>\n",
       "      <td>0</td>\n",
       "      <td>0</td>\n",
       "      <td>1</td>\n",
       "      <td>family</td>\n",
       "    </tr>\n",
       "    <tr>\n",
       "      <th>1315816</th>\n",
       "      <td>1</td>\n",
       "      <td>0</td>\n",
       "      <td>0</td>\n",
       "      <td>0</td>\n",
       "      <td>0</td>\n",
       "      <td>0</td>\n",
       "      <td>0</td>\n",
       "      <td>0</td>\n",
       "      <td>sports</td>\n",
       "    </tr>\n",
       "  </tbody>\n",
       "</table>\n",
       "</div>"
      ],
      "text/plain": [
       "         sports  politics  music  religion  health  cooking  fashion  family  \\\n",
       "156741        0         0      0         0       0        0        1       0   \n",
       "1408686       0         0      0         0       0        0        0       1   \n",
       "515334        0         0      0         0       0        0        0       1   \n",
       "1315816       1         0      0         0       0        0        0       0   \n",
       "\n",
       "        category  \n",
       "156741   fashion  \n",
       "1408686   family  \n",
       "515334    family  \n",
       "1315816   sports  "
      ]
     },
     "execution_count": 9,
     "metadata": {},
     "output_type": "execute_result"
    }
   ],
   "source": [
    "df[df.columns[-(len(CATEGORIES)+1):]][~df['category'].isna()].sample(n=4, random_state=0)"
   ]
  },
  {
   "cell_type": "markdown",
   "metadata": {},
   "source": [
    "## Tweets per category"
   ]
  },
  {
   "cell_type": "code",
   "execution_count": 10,
   "metadata": {},
   "outputs": [
    {
     "data": {
      "image/png": "[encoded data removed]",
      "text/plain": [
       "<Figure size 864x432 with 1 Axes>"
      ]
     },
     "metadata": {
      "needs_background": "light"
     },
     "output_type": "display_data"
    }
   ],
   "source": [
    "counts_series = df['category'].value_counts()\n",
    "\n",
    "plt.figure(figsize=(12,6))\n",
    "ax = plt.bar(counts_series.index, counts_series.values)\n",
    "plt.grid(axis='y')\n",
    "plt.title('Amount of tweets per category')\n",
    "plt.ylabel('Number of tweets')\n",
    "plt.xlabel('Category')\n",
    "\n",
    "# Showing labels\n",
    "for rect, label in zip(ax.patches, counts_series.values):\n",
    "    height = rect.get_height()\n",
    "    plt.text(rect.get_x() + rect.get_width() / 2, height + 5, label,\n",
    "            ha='center', va='bottom')\n",
    "\n",
    "plt.show()"
   ]
  },
  {
   "cell_type": "markdown",
   "metadata": {},
   "source": [
    "## Group statistics"
   ]
  },
  {
   "cell_type": "code",
   "execution_count": 11,
   "metadata": {},
   "outputs": [],
   "source": [
    "group_stats =   (df[['category', 'text', 'retweet_count', 'favorite_count', 'retweetability']]\n",
    "                 .groupby('category')\n",
    "                 .agg({'text':'count', 'retweet_count':['mean', 'std'], 'retweetability':'mean', 'favorite_count':['mean', 'std']})\n",
    "                 .sort_values(('retweet_count', 'mean'), ascending=False)\n",
    "                )"
   ]
  },
  {
   "cell_type": "code",
   "execution_count": 12,
   "metadata": {},
   "outputs": [],
   "source": [
    "def highlight_max(data): #, color='yellow'):\n",
    "    '''\n",
    "    highlight the maximum in a Series or DataFrame\n",
    "    '''\n",
    "    attr = 'font-weight: bold'\n",
    "    #attr = 'background-color: {}'.format(color)\n",
    "    if data.ndim == 1:  # Series from .apply(axis=0) or axis=1\n",
    "        is_max = data == data.max()\n",
    "        return [attr if v else '' for v in is_max]\n",
    "    else:  # from .apply(axis=None)\n",
    "        is_max = data == data.max().max()\n",
    "        return pd.DataFrame(np.where(is_max, attr, ''),\n",
    "                            index=data.index, columns=data.columns)"
   ]
  },
  {
   "cell_type": "code",
   "execution_count": 13,
   "metadata": {},
   "outputs": [
    {
     "data": {
      "text/html": [
       "<style  type=\"text/css\" >\n",
       "    #T_10d1fb1c_3b10_11eb_b959_acde48001122row0_col1 {\n",
       "            font-weight:  bold;\n",
       "        }    #T_10d1fb1c_3b10_11eb_b959_acde48001122row0_col3 {\n",
       "            font-weight:  bold;\n",
       "        }    #T_10d1fb1c_3b10_11eb_b959_acde48001122row0_col4 {\n",
       "            font-weight:  bold;\n",
       "        }    #T_10d1fb1c_3b10_11eb_b959_acde48001122row1_col5 {\n",
       "            font-weight:  bold;\n",
       "        }    #T_10d1fb1c_3b10_11eb_b959_acde48001122row4_col0 {\n",
       "            font-weight:  bold;\n",
       "        }    #T_10d1fb1c_3b10_11eb_b959_acde48001122row4_col2 {\n",
       "            font-weight:  bold;\n",
       "        }</style><table id=\"T_10d1fb1c_3b10_11eb_b959_acde48001122\" ><thead>    <tr>        <th class=\"blank level0\" ></th>        <th class=\"col_heading level0 col0\" >text</th>        <th class=\"col_heading level0 col1\" colspan=2>retweet_count</th>        <th class=\"col_heading level0 col3\" >retweetability</th>        <th class=\"col_heading level0 col4\" colspan=2>favorite_count</th>    </tr>    <tr>        <th class=\"blank level1\" ></th>        <th class=\"col_heading level1 col0\" >count</th>        <th class=\"col_heading level1 col1\" >mean</th>        <th class=\"col_heading level1 col2\" >std</th>        <th class=\"col_heading level1 col3\" >mean</th>        <th class=\"col_heading level1 col4\" >mean</th>        <th class=\"col_heading level1 col5\" >std</th>    </tr>    <tr>        <th class=\"index_name level0\" >category</th>        <th class=\"blank\" ></th>        <th class=\"blank\" ></th>        <th class=\"blank\" ></th>        <th class=\"blank\" ></th>        <th class=\"blank\" ></th>        <th class=\"blank\" ></th>    </tr></thead><tbody>\n",
       "                <tr>\n",
       "                        <th id=\"T_10d1fb1c_3b10_11eb_b959_acde48001122level0_row0\" class=\"row_heading level0 row0\" >religion</th>\n",
       "                        <td id=\"T_10d1fb1c_3b10_11eb_b959_acde48001122row0_col0\" class=\"data row0 col0\" >2523</td>\n",
       "                        <td id=\"T_10d1fb1c_3b10_11eb_b959_acde48001122row0_col1\" class=\"data row0 col1\" >0.515656</td>\n",
       "                        <td id=\"T_10d1fb1c_3b10_11eb_b959_acde48001122row0_col2\" class=\"data row0 col2\" >2.009112</td>\n",
       "                        <td id=\"T_10d1fb1c_3b10_11eb_b959_acde48001122row0_col3\" class=\"data row0 col3\" >0.202537</td>\n",
       "                        <td id=\"T_10d1fb1c_3b10_11eb_b959_acde48001122row0_col4\" class=\"data row0 col4\" >0.535077</td>\n",
       "                        <td id=\"T_10d1fb1c_3b10_11eb_b959_acde48001122row0_col5\" class=\"data row0 col5\" >1.676167</td>\n",
       "            </tr>\n",
       "            <tr>\n",
       "                        <th id=\"T_10d1fb1c_3b10_11eb_b959_acde48001122level0_row1\" class=\"row_heading level0 row1\" >politics</th>\n",
       "                        <td id=\"T_10d1fb1c_3b10_11eb_b959_acde48001122row1_col0\" class=\"data row1 col0\" >1637</td>\n",
       "                        <td id=\"T_10d1fb1c_3b10_11eb_b959_acde48001122row1_col1\" class=\"data row1 col1\" >0.344533</td>\n",
       "                        <td id=\"T_10d1fb1c_3b10_11eb_b959_acde48001122row1_col2\" class=\"data row1 col2\" >2.186266</td>\n",
       "                        <td id=\"T_10d1fb1c_3b10_11eb_b959_acde48001122row1_col3\" class=\"data row1 col3\" >0.132560</td>\n",
       "                        <td id=\"T_10d1fb1c_3b10_11eb_b959_acde48001122row1_col4\" class=\"data row1 col4\" >0.345144</td>\n",
       "                        <td id=\"T_10d1fb1c_3b10_11eb_b959_acde48001122row1_col5\" class=\"data row1 col5\" >3.317177</td>\n",
       "            </tr>\n",
       "            <tr>\n",
       "                        <th id=\"T_10d1fb1c_3b10_11eb_b959_acde48001122level0_row2\" class=\"row_heading level0 row2\" >fashion</th>\n",
       "                        <td id=\"T_10d1fb1c_3b10_11eb_b959_acde48001122row2_col0\" class=\"data row2 col0\" >5045</td>\n",
       "                        <td id=\"T_10d1fb1c_3b10_11eb_b959_acde48001122row2_col1\" class=\"data row2 col1\" >0.211100</td>\n",
       "                        <td id=\"T_10d1fb1c_3b10_11eb_b959_acde48001122row2_col2\" class=\"data row2 col2\" >1.935118</td>\n",
       "                        <td id=\"T_10d1fb1c_3b10_11eb_b959_acde48001122row2_col3\" class=\"data row2 col3\" >0.094945</td>\n",
       "                        <td id=\"T_10d1fb1c_3b10_11eb_b959_acde48001122row2_col4\" class=\"data row2 col4\" >0.393657</td>\n",
       "                        <td id=\"T_10d1fb1c_3b10_11eb_b959_acde48001122row2_col5\" class=\"data row2 col5\" >1.899236</td>\n",
       "            </tr>\n",
       "            <tr>\n",
       "                        <th id=\"T_10d1fb1c_3b10_11eb_b959_acde48001122level0_row3\" class=\"row_heading level0 row3\" >sports</th>\n",
       "                        <td id=\"T_10d1fb1c_3b10_11eb_b959_acde48001122row3_col0\" class=\"data row3 col0\" >14512</td>\n",
       "                        <td id=\"T_10d1fb1c_3b10_11eb_b959_acde48001122row3_col1\" class=\"data row3 col1\" >0.209275</td>\n",
       "                        <td id=\"T_10d1fb1c_3b10_11eb_b959_acde48001122row3_col2\" class=\"data row3 col2\" >1.554900</td>\n",
       "                        <td id=\"T_10d1fb1c_3b10_11eb_b959_acde48001122row3_col3\" class=\"data row3 col3\" >0.106257</td>\n",
       "                        <td id=\"T_10d1fb1c_3b10_11eb_b959_acde48001122row3_col4\" class=\"data row3 col4\" >0.303818</td>\n",
       "                        <td id=\"T_10d1fb1c_3b10_11eb_b959_acde48001122row3_col5\" class=\"data row3 col5\" >1.528167</td>\n",
       "            </tr>\n",
       "            <tr>\n",
       "                        <th id=\"T_10d1fb1c_3b10_11eb_b959_acde48001122level0_row4\" class=\"row_heading level0 row4\" >family</th>\n",
       "                        <td id=\"T_10d1fb1c_3b10_11eb_b959_acde48001122row4_col0\" class=\"data row4 col0\" >22310</td>\n",
       "                        <td id=\"T_10d1fb1c_3b10_11eb_b959_acde48001122row4_col1\" class=\"data row4 col1\" >0.199014</td>\n",
       "                        <td id=\"T_10d1fb1c_3b10_11eb_b959_acde48001122row4_col2\" class=\"data row4 col2\" >4.910670</td>\n",
       "                        <td id=\"T_10d1fb1c_3b10_11eb_b959_acde48001122row4_col3\" class=\"data row4 col3\" >0.088615</td>\n",
       "                        <td id=\"T_10d1fb1c_3b10_11eb_b959_acde48001122row4_col4\" class=\"data row4 col4\" >0.324608</td>\n",
       "                        <td id=\"T_10d1fb1c_3b10_11eb_b959_acde48001122row4_col5\" class=\"data row4 col5\" >1.209010</td>\n",
       "            </tr>\n",
       "            <tr>\n",
       "                        <th id=\"T_10d1fb1c_3b10_11eb_b959_acde48001122level0_row5\" class=\"row_heading level0 row5\" >music</th>\n",
       "                        <td id=\"T_10d1fb1c_3b10_11eb_b959_acde48001122row5_col0\" class=\"data row5 col0\" >17245</td>\n",
       "                        <td id=\"T_10d1fb1c_3b10_11eb_b959_acde48001122row5_col1\" class=\"data row5 col1\" >0.169498</td>\n",
       "                        <td id=\"T_10d1fb1c_3b10_11eb_b959_acde48001122row5_col2\" class=\"data row5 col2\" >1.024224</td>\n",
       "                        <td id=\"T_10d1fb1c_3b10_11eb_b959_acde48001122row5_col3\" class=\"data row5 col3\" >0.091563</td>\n",
       "                        <td id=\"T_10d1fb1c_3b10_11eb_b959_acde48001122row5_col4\" class=\"data row5 col4\" >0.246912</td>\n",
       "                        <td id=\"T_10d1fb1c_3b10_11eb_b959_acde48001122row5_col5\" class=\"data row5 col5\" >1.157075</td>\n",
       "            </tr>\n",
       "            <tr>\n",
       "                        <th id=\"T_10d1fb1c_3b10_11eb_b959_acde48001122level0_row6\" class=\"row_heading level0 row6\" >health</th>\n",
       "                        <td id=\"T_10d1fb1c_3b10_11eb_b959_acde48001122row6_col0\" class=\"data row6 col0\" >4734</td>\n",
       "                        <td id=\"T_10d1fb1c_3b10_11eb_b959_acde48001122row6_col1\" class=\"data row6 col1\" >0.155471</td>\n",
       "                        <td id=\"T_10d1fb1c_3b10_11eb_b959_acde48001122row6_col2\" class=\"data row6 col2\" >0.865516</td>\n",
       "                        <td id=\"T_10d1fb1c_3b10_11eb_b959_acde48001122row6_col3\" class=\"data row6 col3\" >0.079003</td>\n",
       "                        <td id=\"T_10d1fb1c_3b10_11eb_b959_acde48001122row6_col4\" class=\"data row6 col4\" >0.204689</td>\n",
       "                        <td id=\"T_10d1fb1c_3b10_11eb_b959_acde48001122row6_col5\" class=\"data row6 col5\" >0.877285</td>\n",
       "            </tr>\n",
       "            <tr>\n",
       "                        <th id=\"T_10d1fb1c_3b10_11eb_b959_acde48001122level0_row7\" class=\"row_heading level0 row7\" >cooking</th>\n",
       "                        <td id=\"T_10d1fb1c_3b10_11eb_b959_acde48001122row7_col0\" class=\"data row7 col0\" >10188</td>\n",
       "                        <td id=\"T_10d1fb1c_3b10_11eb_b959_acde48001122row7_col1\" class=\"data row7 col1\" >0.134570</td>\n",
       "                        <td id=\"T_10d1fb1c_3b10_11eb_b959_acde48001122row7_col2\" class=\"data row7 col2\" >0.720107</td>\n",
       "                        <td id=\"T_10d1fb1c_3b10_11eb_b959_acde48001122row7_col3\" class=\"data row7 col3\" >0.082548</td>\n",
       "                        <td id=\"T_10d1fb1c_3b10_11eb_b959_acde48001122row7_col4\" class=\"data row7 col4\" >0.236258</td>\n",
       "                        <td id=\"T_10d1fb1c_3b10_11eb_b959_acde48001122row7_col5\" class=\"data row7 col5\" >0.850474</td>\n",
       "            </tr>\n",
       "    </tbody></table>"
      ],
      "text/plain": [
       "<pandas.io.formats.style.Styler at 0x1473a82e0>"
      ]
     },
     "execution_count": 13,
     "metadata": {},
     "output_type": "execute_result"
    }
   ],
   "source": [
    "group_stats.style.apply(highlight_max, axis=0)# % 'bold')"
   ]
  },
  {
   "cell_type": "markdown",
   "metadata": {},
   "source": [
    "## Showing some of the tweets"
   ]
  },
  {
   "cell_type": "code",
   "execution_count": 14,
   "metadata": {},
   "outputs": [],
   "source": [
    "def sample_tweets(cat, N=10, seed=None, min_rt=0):\n",
    "    df_w = (df[(df['category']==cat) & (df['retweet_count'] > min_rt)]\n",
    "            [['retweet_count', 'favorite_count', 'text', 'user_name']]\n",
    "           )\n",
    "    for rt, fav, tweet, user in df_w.sample(n=min(N, len(df_w)), random_state=None).values:\n",
    "        print(f\"RTs: {str(rt).ljust(4)}\\tFavs: {str(fav).ljust(4)}\\tUser: {user.ljust(15)} Tweet: {tweet}\")"
   ]
  },
  {
   "cell_type": "code",
   "execution_count": 20,
   "metadata": {},
   "outputs": [
    {
     "name": "stdout",
     "output_type": "stream",
     "text": [
      "RTs: 41  \tFavs: 33  \tUser: Grace + Grit    Tweet: Y'all worship Beyonce but won't worship God\n",
      "RTs: 12  \tFavs: 7   \tUser: Grace + Grit    Tweet: No sin is worth going to hell for\n",
      "RTs: 55  \tFavs: 29  \tUser: Carl Sagan      Tweet: \"For a long time the human instinct to understand was thwarted by facile religious explanations.\"\n",
      "RTs: 21  \tFavs: 13  \tUser: SEBTS           Tweet: If you are able to attend church but do not, then you are living in sin. @MarkDever #9MarksSE\n",
      "RTs: 27  \tFavs: 1   \tUser: sagittarius's   Tweet: many others are far below us.. come to pray and give thanks!! #SAGITARIUS\n",
      "RTs: 12  \tFavs: 3   \tUser: ▲ ada aku kesah ▲ Tweet: I'm sorry Palestina. I'm here watching your bloods flow, tears drop, broken hearts thru pictures/news. All I can do is pray for u I'm sorry\n",
      "RTs: 18  \tFavs: 5   \tUser: Cherry Deeky    Tweet: I'm a FIRM believer in Karma. What you do to someone will come back and attack you 500 times worse. Be careful how you treat people.\n",
      "RTs: 15  \tFavs: 9   \tUser: SEBTS           Tweet: I am thrilled with President @ronniefloyd's call to prayer &amp; spiritual awakening among Southern Baptist. @DannyAkin http://t.co/eMiw58RlPB\n",
      "RTs: 15  \tFavs: 19  \tUser: Grace + Grit    Tweet: Temptation is not a sin; temptation is an\n",
      "opportunity to sin OR to worship God!”\n",
      "RTs: 13  \tFavs: 13  \tUser: Grace + Grit    Tweet: IM not perfect isn't an excuse to stay in your sin\n"
     ]
    }
   ],
   "source": [
    "sample_tweets('religion', min_rt=10)"
   ]
  },
  {
   "cell_type": "markdown",
   "metadata": {},
   "source": [
    "> Pre-processing to remove repeated tweets. Cameron? Consistency with the other parts of the project"
   ]
  },
  {
   "cell_type": "markdown",
   "metadata": {},
   "source": [
    "## Statistical Evaluation"
   ]
  },
  {
   "cell_type": "markdown",
   "metadata": {},
   "source": [
    "We look at the statistics of `retweet_count`and `favorite_count`:\n",
    "1. **mean value** with its bootstrap confidence intervals.\n",
    "2. **Expected log value** with its bootstrap confidence intervals too.\n",
    "\n",
    "The second statistic is related to the fact that the distributions are similar to the power law distribution, and the expected log value is a sufficient statistic for the power law (Idea from [stats.stackexchange](https://stats.stackexchange.com/questions/121925/intuitive-descriptive-statistics-for-power-law-distributions))."
   ]
  },
  {
   "cell_type": "code",
   "execution_count": 16,
   "metadata": {},
   "outputs": [],
   "source": [
    "def bootstrap_stat_ci(array, statistic, repetitions=10000, alpha=0.05, resampling_size=None):\n",
    "    if resampling_size is None:\n",
    "        resampling_size = int(len(array))\n",
    "    \n",
    "    # For reproducibility\n",
    "    np.random.seed(seed=0)\n",
    "    \n",
    "    bootstrap_distribution = []\n",
    "    for i in range(repetitions):\n",
    "        # resampled data\n",
    "        bootstrap_sample = np.random.choice(array, size=resampling_size, replace=True)\n",
    "        # computing the mean\n",
    "        stat_sample = statistic(bootstrap_sample)\n",
    "        # saving the statistic into the bootstrap distribution\n",
    "        bootstrap_distribution.append(stat_sample)\n",
    "\n",
    "    # Computing the bootstrap confidence interval\n",
    "    mean = np.mean(bootstrap_distribution)\n",
    "    left = np.percentile(bootstrap_distribution, alpha/2*100)\n",
    "    right = np.percentile(bootstrap_distribution, (1-alpha/2)*100)\n",
    "    \n",
    "    return bootstrap_distribution, mean, (left, right)\n",
    "\n",
    "def compute_statistic(statistic, categories, feature='retweet_count'):\n",
    "    # Choosing statistic\n",
    "    if statistic == 'mean':\n",
    "        stat_func = lambda x: np.mean(x)\n",
    "    elif statistic == 'mean_log':\n",
    "        stat_func = lambda x: np.mean(np.log10(x))\n",
    "    \n",
    "    # Computing bootstrap ci per category\n",
    "    x, l_err, r_err = [], [], []\n",
    "    for cat in categories:\n",
    "        values = df[df['category']==cat][feature][df[feature]>0].values\n",
    "        _, mean, (l_ci, r_ci) = bootstrap_stat_ci(values, statistic=stat_func)\n",
    "        x.append(mean)\n",
    "        l_err.append(mean-l_ci)\n",
    "        r_err.append(r_ci-mean)\n",
    "    err = [l_err, r_err]\n",
    "    return x, err\n",
    "\n",
    "def plot_error_bar(x, err, categories, statistic_name=''):\n",
    "    y = np.linspace(1, 2*len(x)-1, len(x))\n",
    "    plt.figure(figsize=(10,5))\n",
    "    plt.errorbar(x, y, xerr=err, fmt = 'o', color = 'k')\n",
    "    plt.yticks(tuple([0] + list(y) + [y[-1]+1]), tuple([''] + categories + ['']))\n",
    "    plt.title(statistic_name + ' per Category')\n",
    "    plt.ylabel('Categories')\n",
    "    plt.xlabel(statistic_name)\n",
    "    plt.show()\n",
    "    \n",
    "def show(statistic, feature, categories):\n",
    "    x, err = compute_statistic(statistic, categories, feature)\n",
    "    plot_error_bar(x, err, categories, statistic_name=' '.join([x.replace('_', ' ').title() for x in [statistic, feature]]))"
   ]
  },
  {
   "cell_type": "code",
   "execution_count": 17,
   "metadata": {},
   "outputs": [
    {
     "data": {
      "image/png": "[encoded data removed]",
      "text/plain": [
       "<Figure size 720x360 with 1 Axes>"
      ]
     },
     "metadata": {
      "needs_background": "light"
     },
     "output_type": "display_data"
    }
   ],
   "source": [
    "show('mean', 'retweet_count', CATEGORIES)"
   ]
  },
  {
   "cell_type": "code",
   "execution_count": 18,
   "metadata": {},
   "outputs": [
    {
     "data": {
      "image/png": "[encoded data removed]",
      "text/plain": [
       "<Figure size 720x360 with 1 Axes>"
      ]
     },
     "metadata": {
      "needs_background": "light"
     },
     "output_type": "display_data"
    }
   ],
   "source": [
    "show('mean_log', 'retweet_count', CATEGORIES)"
   ]
  },
  {
   "cell_type": "code",
   "execution_count": 19,
   "metadata": {},
   "outputs": [
    {
     "data": {
      "image/png": "[encoded data removed]",
      "text/plain": [
       "<Figure size 720x360 with 1 Axes>"
      ]
     },
     "metadata": {
      "needs_background": "light"
     },
     "output_type": "display_data"
    }
   ],
   "source": [
    "show('mean', 'favorite_count', CATEGORIES)"
   ]
  },
  {
   "cell_type": "code",
   "execution_count": 26,
   "metadata": {},
   "outputs": [
    {
     "data": {
      "image/png": "[encoded data removed]",
      "text/plain": [
       "<Figure size 720x360 with 1 Axes>"
      ]
     },
     "metadata": {
      "needs_background": "light"
     },
     "output_type": "display_data"
    }
   ],
   "source": [
    "show('mean_log', 'favorite_count', CATEGORIES)"
   ]
  },
  {
   "cell_type": "markdown",
   "metadata": {},
   "source": [
    "---------------\n",
    "# EXTRA CODE"
   ]
  },
  {
   "cell_type": "markdown",
   "metadata": {},
   "source": [
    "## Plotting retweet and favorite distributions"
   ]
  },
  {
   "cell_type": "code",
   "execution_count": 13,
   "metadata": {},
   "outputs": [
    {
     "data": {
      "image/png": "[encoded data removed]",
      "text/plain": [
       "<Figure size 432x288 with 1 Axes>"
      ]
     },
     "metadata": {
      "needs_background": "light"
     },
     "output_type": "display_data"
    }
   ],
   "source": [
    "ax = sns.boxplot(x=\"category\", y=\"retweet_count\", data=df)"
   ]
  },
  {
   "cell_type": "code",
   "execution_count": 21,
   "metadata": {},
   "outputs": [
    {
     "data": {
      "image/png": "[encoded data removed]",
      "text/plain": [
       "<Figure size 864x432 with 1 Axes>"
      ]
     },
     "metadata": {
      "needs_background": "light"
     },
     "output_type": "display_data"
    }
   ],
   "source": [
    "categories = CATEGORIES[:3]\n",
    "\n",
    "plt.figure(figsize=(12,6))\n",
    "for cat in categories:\n",
    "    plt.hist(df[df['category']==cat]['retweet_count'][df['retweet_count']>0].values, bins=50, alpha=0.3, density=True)\n",
    "plt.legend(categories)\n",
    "plt.yscale('log')\n",
    "plt.xscale('log')\n",
    "plt.xlabel('Retweets')\n",
    "plt.ylabel('Frequency')\n",
    "plt.show()"
   ]
  },
  {
   "cell_type": "markdown",
   "metadata": {},
   "source": [
    "**Fitting a power law**\n",
    "\n",
    "Its pdf is \\\\( f(x,a) = ax^{a-1} \\\\)"
   ]
  },
  {
   "cell_type": "code",
   "execution_count": 76,
   "metadata": {},
   "outputs": [
    {
     "data": {
      "image/png": "[encoded data removed]",
      "text/plain": [
       "<Figure size 720x360 with 1 Axes>"
      ]
     },
     "metadata": {
      "needs_background": "light"
     },
     "output_type": "display_data"
    }
   ],
   "source": [
    "plot_error_bar(x, err, statistic_name='Mean retweets')"
   ]
  },
  {
   "cell_type": "code",
   "execution_count": 64,
   "metadata": {},
   "outputs": [
    {
     "data": {
      "image/png": "[encoded data removed]",
      "text/plain": [
       "<Figure size 432x288 with 1 Axes>"
      ]
     },
     "metadata": {
      "needs_background": "light"
     },
     "output_type": "display_data"
    }
   ],
   "source": [
    "x = [2, 4, 3]\n",
    "y = np.linspace(1, 2*len(x)-1, len(x))\n",
    "errors = [0.5, 0.25, 0.75]\n",
    "\n",
    "plt.figure()\n",
    "plt.errorbar(x, y, xerr=errors, fmt = 'o', color = 'k')\n",
    "#plt.yticks((0, 1, 3, 5, 6), ('', 'x3', 'x2', 'x1',''))\n",
    "plt.show()"
   ]
  },
  {
   "cell_type": "code",
   "execution_count": 47,
   "metadata": {},
   "outputs": [
    {
     "data": {
      "text/plain": [
       "{'whiskers': [<matplotlib.lines.Line2D at 0x1309f04c0>,\n",
       "  <matplotlib.lines.Line2D at 0x1309f0820>],\n",
       " 'caps': [<matplotlib.lines.Line2D at 0x1309f0b80>,\n",
       "  <matplotlib.lines.Line2D at 0x1309f0ee0>],\n",
       " 'boxes': [<matplotlib.lines.Line2D at 0x1309f0160>],\n",
       " 'medians': [<matplotlib.lines.Line2D at 0x1309f2280>],\n",
       " 'fliers': [<matplotlib.lines.Line2D at 0x1309f2580>],\n",
       " 'means': []}"
      ]
     },
     "execution_count": 47,
     "metadata": {},
     "output_type": "execute_result"
    },
    {
     "data": {
      "image/png": "[encoded data removed]",
      "text/plain": [
       "<Figure size 432x288 with 1 Axes>"
      ]
     },
     "metadata": {
      "needs_background": "light"
     },
     "output_type": "display_data"
    }
   ],
   "source": [
    "plt.boxplot(mean, conf_intervals=[[l_ci, r_ci])"
   ]
  },
  {
   "cell_type": "code",
   "execution_count": 42,
   "metadata": {},
   "outputs": [
    {
     "data": {
      "text/plain": [
       "{'whiskers': [<matplotlib.lines.Line2D at 0x13bb46b80>,\n",
       "  <matplotlib.lines.Line2D at 0x13bb46ee0>],\n",
       " 'caps': [<matplotlib.lines.Line2D at 0x137feb2e0>,\n",
       "  <matplotlib.lines.Line2D at 0x137feb580>],\n",
       " 'boxes': [<matplotlib.lines.Line2D at 0x13bb46820>],\n",
       " 'medians': [<matplotlib.lines.Line2D at 0x137feb9a0>],\n",
       " 'fliers': [<matplotlib.lines.Line2D at 0x137febca0>],\n",
       " 'means': []}"
      ]
     },
     "execution_count": 42,
     "metadata": {},
     "output_type": "execute_result"
    },
    {
     "data": {
      "image/png": "[encoded data removed]",
      "text/plain": [
       "<Figure size 432x288 with 1 Axes>"
      ]
     },
     "metadata": {
      "needs_background": "light"
     },
     "output_type": "display_data"
    }
   ],
   "source": [
    "plt.boxplot(rt_sports, bootstrap=10000)"
   ]
  },
  {
   "cell_type": "code",
   "execution_count": 61,
   "metadata": {},
   "outputs": [
    {
     "data": {
      "image/png": "[encoded data removed]",
      "text/plain": [
       "<Figure size 720x360 with 1 Axes>"
      ]
     },
     "metadata": {
      "needs_background": "light"
     },
     "output_type": "display_data"
    }
   ],
   "source": [
    "# Plotting the bootstrap distribution\n",
    "\n",
    "plt.figure(figsize=(10,5))\n",
    "plt.hist(bootstrap_distribution, bins=45)\n",
    "plt.title('Bootstrap distribution')\n",
    "plt.ylabel('Counts')\n",
    "plt.xlabel('Probability for a prediction being off by more than 2 points')\n",
    "plt.axvline(x=left, color='red')\n",
    "plt.legend(['Confidence Interval', 'Distribution'])\n",
    "plt.axvline(x=right, color='red')\n",
    "plt.show()"
   ]
  },
  {
   "cell_type": "code",
   "execution_count": 26,
   "metadata": {},
   "outputs": [
    {
     "data": {
      "text/plain": [
       "(0.20062570982506292, 0.9999999999999998, 107.3392646686593)"
      ]
     },
     "execution_count": 26,
     "metadata": {},
     "output_type": "execute_result"
    }
   ],
   "source": [
    "scipy.stats.powerlaw.fit(rt_sports)"
   ]
  },
  {
   "cell_type": "code",
   "execution_count": 20,
   "metadata": {},
   "outputs": [
    {
     "data": {
      "image/png": "[encoded data removed]",
      "text/plain": [
       "<Figure size 864x432 with 1 Axes>"
      ]
     },
     "metadata": {
      "needs_background": "light"
     },
     "output_type": "display_data"
    }
   ],
   "source": [
    "categories = CATEGORIES\n",
    "\n",
    "plt.figure(figsize=(12,6))\n",
    "for cat in categories:\n",
    "    plt.hist(df[df['category']==cat]['favorite_count'].values, bins=50, alpha=0.3, density=True)\n",
    "plt.legend(categories)\n",
    "plt.yscale('log')\n",
    "plt.xlabel('Favorites')\n",
    "plt.ylabel('Frequency')\n",
    "plt.show()"
   ]
  },
  {
   "cell_type": "markdown",
   "metadata": {},
   "source": [
    "# Ideas\n",
    "- fitting exponentials and plotting lines"
   ]
  },
  {
   "cell_type": "markdown",
   "metadata": {},
   "source": [
    "-----------\n",
    "# EXTRA CODE"
   ]
  },
  {
   "cell_type": "code",
   "execution_count": 4,
   "metadata": {},
   "outputs": [
    {
     "data": {
      "text/html": [
       "<div>\n",
       "<style scoped>\n",
       "    .dataframe tbody tr th:only-of-type {\n",
       "        vertical-align: middle;\n",
       "    }\n",
       "\n",
       "    .dataframe tbody tr th {\n",
       "        vertical-align: top;\n",
       "    }\n",
       "\n",
       "    .dataframe thead th {\n",
       "        text-align: right;\n",
       "    }\n",
       "</style>\n",
       "<table border=\"1\" class=\"dataframe\">\n",
       "  <thead>\n",
       "    <tr style=\"text-align: right;\">\n",
       "      <th></th>\n",
       "      <th>retweet_count</th>\n",
       "      <th>favorite_count</th>\n",
       "      <th>user_followers_count</th>\n",
       "      <th>user_friends_count</th>\n",
       "    </tr>\n",
       "    <tr>\n",
       "      <th>user_verified</th>\n",
       "      <th></th>\n",
       "      <th></th>\n",
       "      <th></th>\n",
       "      <th></th>\n",
       "    </tr>\n",
       "  </thead>\n",
       "  <tbody>\n",
       "    <tr>\n",
       "      <th>False</th>\n",
       "      <td>435.566874</td>\n",
       "      <td>0.203092</td>\n",
       "      <td>1009.317117</td>\n",
       "      <td>556.171973</td>\n",
       "    </tr>\n",
       "    <tr>\n",
       "      <th>True</th>\n",
       "      <td>48.289281</td>\n",
       "      <td>0.236034</td>\n",
       "      <td>2406.748778</td>\n",
       "      <td>548.869239</td>\n",
       "    </tr>\n",
       "  </tbody>\n",
       "</table>\n",
       "</div>"
      ],
      "text/plain": [
       "               retweet_count  favorite_count  user_followers_count  \\\n",
       "user_verified                                                        \n",
       "False             435.566874        0.203092           1009.317117   \n",
       "True               48.289281        0.236034           2406.748778   \n",
       "\n",
       "               user_friends_count  \n",
       "user_verified                      \n",
       "False                  556.171973  \n",
       "True                   548.869239  "
      ]
     },
     "execution_count": 4,
     "metadata": {},
     "output_type": "execute_result"
    }
   ],
   "source": [
    "df[['user_verified', 'retweet_count', 'favorite_count', 'user_followers_count', 'user_friends_count', 'possibly_sensitive']].groupby('user_verified').mean()"
   ]
  },
  {
   "cell_type": "markdown",
   "metadata": {},
   "source": [
    "`Time zone` is useless"
   ]
  },
  {
   "cell_type": "code",
   "execution_count": 5,
   "metadata": {},
   "outputs": [
    {
     "data": {
      "text/plain": [
       "NaN    1093122\n",
       "Name: user_time_zone, dtype: int64"
      ]
     },
     "execution_count": 5,
     "metadata": {},
     "output_type": "execute_result"
    }
   ],
   "source": [
    "df['user_time_zone'].value_counts(dropna=False)"
   ]
  },
  {
   "cell_type": "markdown",
   "metadata": {},
   "source": [
    "Retweets are the ones without NaN values in `retweet_id`"
   ]
  },
  {
   "cell_type": "code",
   "execution_count": 6,
   "metadata": {},
   "outputs": [
    {
     "data": {
      "text/plain": [
       "NaN             918368\n",
       "4.403222e+17        39\n",
       "4.862558e+17         6\n",
       "4.412701e+17         5\n",
       "4.630483e+17         5\n",
       "                 ...  \n",
       "4.456096e+17         1\n",
       "3.375582e+17         1\n",
       "4.097441e+17         1\n",
       "5.210981e+17         1\n",
       "5.170017e+17         1\n",
       "Name: retweet_id, Length: 173495, dtype: int64"
      ]
     },
     "execution_count": 6,
     "metadata": {},
     "output_type": "execute_result"
    }
   ],
   "source": [
    "df['retweet_id'].value_counts(dropna=False)"
   ]
  },
  {
   "cell_type": "code",
   "execution_count": 7,
   "metadata": {},
   "outputs": [
    {
     "data": {
      "text/plain": [
       "129        RT @GabSoLicious07: @lennymacdog um,  and you ...\n",
       "180              RT @IAmEricVincent: Hardens gotta get going\n",
       "223        RT @IAmEricVincent: Glover Quin knocking out e...\n",
       "244        RT @IAmEricVincent: New look in the @Channel95...\n",
       "246        RT @SuccessAndBlack: You better check yourself...\n",
       "                                 ...                        \n",
       "1608855    RT @justinbieber: check out my new video for #...\n",
       "1608857              RT @BorisLaursen: RT for a follow! :) x\n",
       "1609266    RT @naija_sugarmomz: : , For rich Sugar moms a...\n",
       "1609319    RT @raee_henriquez: Watching the town, then na...\n",
       "1609385    RT @_mariangelsofia: Hi lovely 💕 @Real_Liam_Pa...\n",
       "Name: text, Length: 174754, dtype: object"
      ]
     },
     "execution_count": 7,
     "metadata": {},
     "output_type": "execute_result"
    }
   ],
   "source": [
    "df[df['retweet_id'].replace(np.nan, False).astype('bool')]['text']"
   ]
  },
  {
   "cell_type": "code",
   "execution_count": 8,
   "metadata": {},
   "outputs": [
    {
     "data": {
      "text/plain": [
       "1228          @kd2578 makes the block AND the dunk? #sctop10\n",
       "1229                @DeionGottaSTFU @ItsHumbleRob damn...lol\n",
       "1232       will be me #oneday RT“@digg: This man built hi...\n",
       "1233       RIP he's the man “@MLive: Report: Detroit's 'E...\n",
       "1235                             @MBannigan stupid adulthood\n",
       "                                 ...                        \n",
       "1609295                              @BorisLaursen pleeeaase\n",
       "1609333                        @BorisLaursen please boris?!!\n",
       "1609339                              @icoolselly follow back\n",
       "1609354                              @BorisLaursen pleaseeee\n",
       "1609368    @ConnorMalachiim Anna has tweezers from the sc...\n",
       "Name: text, Length: 189833, dtype: object"
      ]
     },
     "execution_count": 8,
     "metadata": {},
     "output_type": "execute_result"
    }
   ],
   "source": [
    "df[df['in_reply_to_status_id'].replace(np.nan, False).astype('bool')]['text']"
   ]
  },
  {
   "cell_type": "markdown",
   "metadata": {},
   "source": [
    "Hashtags"
   ]
  },
  {
   "cell_type": "code",
   "execution_count": 9,
   "metadata": {},
   "outputs": [],
   "source": [
    "kk = df[df['hashtags'].isna() & df.apply(lambda x: '#' in x.text, axis=1)]"
   ]
  },
  {
   "cell_type": "markdown",
   "metadata": {},
   "source": [
    "df = df.astype({'retweetability': 'bool', 'favorite_count': 'float64'})\n",
    "df.dropna(axis=0, subset=['category', 'text', 'retweet_count', 'retweetability', 'favorite_count'], inplace=True)\n",
    "df[['category', 'text', 'retweet_count', 'retweetability', 'favorite_count']].info()"
   ]
  },
  {
   "cell_type": "markdown",
   "metadata": {},
   "source": [
    "## WONDERS\n",
    "- Time of the day depends on time zone?\n",
    "- Cleaning repeated tweets??"
   ]
  },
  {
   "cell_type": "markdown",
   "metadata": {},
   "source": [
    "TODO:\n",
    "- Model to predict retweetability (boolean) given a set of features\n",
    "    - features: num of followers, etc\n",
    "    - features: same as before + sentiment"
   ]
  },
  {
   "cell_type": "code",
   "execution_count": null,
   "metadata": {},
   "outputs": [],
   "source": []
  }
 ],
 "metadata": {
  "kernelspec": {
   "display_name": "Python 3",
   "language": "python",
   "name": "python3"
  },
  "language_info": {
   "codemirror_mode": {
    "name": "ipython",
    "version": 3
   },
   "file_extension": ".py",
   "mimetype": "text/x-python",
   "name": "python",
   "nbconvert_exporter": "python",
   "pygments_lexer": "ipython3",
   "version": "3.8.5"
  }
 },
 "nbformat": 4,
 "nbformat_minor": 4
}
