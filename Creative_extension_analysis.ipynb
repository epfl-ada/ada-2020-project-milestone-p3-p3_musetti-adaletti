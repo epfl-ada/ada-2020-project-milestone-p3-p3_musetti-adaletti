{
 "cells": [
  {
   "cell_type": "markdown",
   "metadata": {},
   "source": [
    "# Creative Extension Analysis\n",
    "\n",
    "---\n",
    "\n",
    "**** Explain how we get the dataset"
   ]
  },
  {
   "cell_type": "code",
   "execution_count": 1,
   "metadata": {},
   "outputs": [],
   "source": [
    "# Importing the libraries\n",
    "import pandas as pd\n",
    "import numpy as np\n",
    "import matplotlib.pyplot as plt\n",
    "import seaborn as sns\n",
    "\n",
    "# Hiding the warnings\n",
    "import warnings; warnings.simplefilter('ignore') # can we add this one to not see the warnings every time?\n",
    "\n",
    "# Set random seed for consistency \n",
    "import random\n",
    "from numpy.random import seed as random_seed\n",
    "from numpy.random import shuffle as random_shuffle\n",
    "seed = 42\n",
    "random.seed(seed)\n",
    "np.random.seed(seed)\n",
    "\n",
    "# Vader \n",
    "import vaderSentiment\n",
    "from vaderSentiment.vaderSentiment import SentimentIntensityAnalyzer\n",
    "\n",
    "#Bert sa-pipeline\n",
    "from transformers import pipeline\n",
    "\n",
    "from scipy import stats\n",
    "from datetime import datetime, date, time"
   ]
  },
  {
   "cell_type": "markdown",
   "metadata": {},
   "source": [
    "## Loading in the necessary datasets"
   ]
  },
  {
   "cell_type": "code",
   "execution_count": 2,
   "metadata": {},
   "outputs": [
    {
     "data": {
      "text/html": [
       "<div>\n",
       "<style scoped>\n",
       "    .dataframe tbody tr th:only-of-type {\n",
       "        vertical-align: middle;\n",
       "    }\n",
       "\n",
       "    .dataframe tbody tr th {\n",
       "        vertical-align: top;\n",
       "    }\n",
       "\n",
       "    .dataframe thead th {\n",
       "        text-align: right;\n",
       "    }\n",
       "</style>\n",
       "<table border=\"1\" class=\"dataframe\">\n",
       "  <thead>\n",
       "    <tr style=\"text-align: right;\">\n",
       "      <th></th>\n",
       "      <th>coordinates</th>\n",
       "      <th>created_at</th>\n",
       "      <th>hashtags</th>\n",
       "      <th>media</th>\n",
       "      <th>urls</th>\n",
       "      <th>favorite_count</th>\n",
       "      <th>id</th>\n",
       "      <th>in_reply_to_screen_name</th>\n",
       "      <th>in_reply_to_status_id</th>\n",
       "      <th>in_reply_to_user_id</th>\n",
       "      <th>...</th>\n",
       "      <th>user_followers_count</th>\n",
       "      <th>user_friends_count</th>\n",
       "      <th>user_listed_count</th>\n",
       "      <th>user_location</th>\n",
       "      <th>user_name</th>\n",
       "      <th>user_screen_name.1</th>\n",
       "      <th>user_statuses_count</th>\n",
       "      <th>user_time_zone</th>\n",
       "      <th>user_urls</th>\n",
       "      <th>user_verified</th>\n",
       "    </tr>\n",
       "  </thead>\n",
       "  <tbody>\n",
       "    <tr>\n",
       "      <th>0</th>\n",
       "      <td>NaN</td>\n",
       "      <td>Sun Feb 14 23:29:33 +0000 2010</td>\n",
       "      <td>NaN</td>\n",
       "      <td>NaN</td>\n",
       "      <td>NaN</td>\n",
       "      <td>0</td>\n",
       "      <td>9116606357</td>\n",
       "      <td>NaN</td>\n",
       "      <td>NaN</td>\n",
       "      <td>NaN</td>\n",
       "      <td>...</td>\n",
       "      <td>29</td>\n",
       "      <td>17</td>\n",
       "      <td>0</td>\n",
       "      <td>Sofia, Bulgaria</td>\n",
       "      <td>Ina Gerdjikova</td>\n",
       "      <td>InaGerdjikova</td>\n",
       "      <td>6</td>\n",
       "      <td>NaN</td>\n",
       "      <td>http://kutiazamisli.blogspot.com/</td>\n",
       "      <td>False</td>\n",
       "    </tr>\n",
       "    <tr>\n",
       "      <th>1</th>\n",
       "      <td>NaN</td>\n",
       "      <td>Fri Sep 24 20:40:25 +0000 2010</td>\n",
       "      <td>NaN</td>\n",
       "      <td>NaN</td>\n",
       "      <td>NaN</td>\n",
       "      <td>0</td>\n",
       "      <td>25437022568</td>\n",
       "      <td>NaN</td>\n",
       "      <td>NaN</td>\n",
       "      <td>NaN</td>\n",
       "      <td>...</td>\n",
       "      <td>12</td>\n",
       "      <td>9</td>\n",
       "      <td>0</td>\n",
       "      <td>NaN</td>\n",
       "      <td>Ana Paula Ribeiro</td>\n",
       "      <td>anadadal</td>\n",
       "      <td>7</td>\n",
       "      <td>NaN</td>\n",
       "      <td>NaN</td>\n",
       "      <td>False</td>\n",
       "    </tr>\n",
       "    <tr>\n",
       "      <th>2</th>\n",
       "      <td>NaN</td>\n",
       "      <td>Tue Jun 14 07:54:35 +0000 2011</td>\n",
       "      <td>NaN</td>\n",
       "      <td>NaN</td>\n",
       "      <td>http://kutiazamisli.blogspot.com/2011/06/blog-...</td>\n",
       "      <td>0</td>\n",
       "      <td>80543642816757761</td>\n",
       "      <td>NaN</td>\n",
       "      <td>NaN</td>\n",
       "      <td>NaN</td>\n",
       "      <td>...</td>\n",
       "      <td>29</td>\n",
       "      <td>17</td>\n",
       "      <td>0</td>\n",
       "      <td>Sofia, Bulgaria</td>\n",
       "      <td>Ina Gerdjikova</td>\n",
       "      <td>InaGerdjikova</td>\n",
       "      <td>6</td>\n",
       "      <td>NaN</td>\n",
       "      <td>http://kutiazamisli.blogspot.com/</td>\n",
       "      <td>False</td>\n",
       "    </tr>\n",
       "    <tr>\n",
       "      <th>3</th>\n",
       "      <td>NaN</td>\n",
       "      <td>Tue Aug 12 17:51:37 +0000 2014</td>\n",
       "      <td>NaN</td>\n",
       "      <td>NaN</td>\n",
       "      <td>http://twitcam.livestream.com/g7hpe</td>\n",
       "      <td>0</td>\n",
       "      <td>499251874256920577</td>\n",
       "      <td>NaN</td>\n",
       "      <td>NaN</td>\n",
       "      <td>NaN</td>\n",
       "      <td>...</td>\n",
       "      <td>12</td>\n",
       "      <td>9</td>\n",
       "      <td>0</td>\n",
       "      <td>NaN</td>\n",
       "      <td>Ana Paula Ribeiro</td>\n",
       "      <td>anadadal</td>\n",
       "      <td>7</td>\n",
       "      <td>NaN</td>\n",
       "      <td>NaN</td>\n",
       "      <td>False</td>\n",
       "    </tr>\n",
       "    <tr>\n",
       "      <th>4</th>\n",
       "      <td>NaN</td>\n",
       "      <td>Fri Oct 25 11:38:21 +0000 2013</td>\n",
       "      <td>SmurfsVillage</td>\n",
       "      <td>NaN</td>\n",
       "      <td>http://bit.ly/Smurf47</td>\n",
       "      <td>0</td>\n",
       "      <td>393703073228808192</td>\n",
       "      <td>NaN</td>\n",
       "      <td>NaN</td>\n",
       "      <td>NaN</td>\n",
       "      <td>...</td>\n",
       "      <td>6</td>\n",
       "      <td>17</td>\n",
       "      <td>0</td>\n",
       "      <td>Land of the happily single</td>\n",
       "      <td>sheena c wallace</td>\n",
       "      <td>sheasofly</td>\n",
       "      <td>268</td>\n",
       "      <td>NaN</td>\n",
       "      <td>NaN</td>\n",
       "      <td>False</td>\n",
       "    </tr>\n",
       "  </tbody>\n",
       "</table>\n",
       "<p>5 rows × 34 columns</p>\n",
       "</div>"
      ],
      "text/plain": [
       "  coordinates                      created_at       hashtags media  \\\n",
       "0         NaN  Sun Feb 14 23:29:33 +0000 2010            NaN   NaN   \n",
       "1         NaN  Fri Sep 24 20:40:25 +0000 2010            NaN   NaN   \n",
       "2         NaN  Tue Jun 14 07:54:35 +0000 2011            NaN   NaN   \n",
       "3         NaN  Tue Aug 12 17:51:37 +0000 2014            NaN   NaN   \n",
       "4         NaN  Fri Oct 25 11:38:21 +0000 2013  SmurfsVillage   NaN   \n",
       "\n",
       "                                                urls  favorite_count  \\\n",
       "0                                                NaN               0   \n",
       "1                                                NaN               0   \n",
       "2  http://kutiazamisli.blogspot.com/2011/06/blog-...               0   \n",
       "3                http://twitcam.livestream.com/g7hpe               0   \n",
       "4                              http://bit.ly/Smurf47               0   \n",
       "\n",
       "                   id in_reply_to_screen_name  in_reply_to_status_id  \\\n",
       "0          9116606357                     NaN                    NaN   \n",
       "1         25437022568                     NaN                    NaN   \n",
       "2   80543642816757761                     NaN                    NaN   \n",
       "3  499251874256920577                     NaN                    NaN   \n",
       "4  393703073228808192                     NaN                    NaN   \n",
       "\n",
       "   in_reply_to_user_id  ... user_followers_count user_friends_count  \\\n",
       "0                  NaN  ...                   29                 17   \n",
       "1                  NaN  ...                   12                  9   \n",
       "2                  NaN  ...                   29                 17   \n",
       "3                  NaN  ...                   12                  9   \n",
       "4                  NaN  ...                    6                 17   \n",
       "\n",
       "  user_listed_count               user_location          user_name  \\\n",
       "0                 0             Sofia, Bulgaria     Ina Gerdjikova   \n",
       "1                 0                         NaN  Ana Paula Ribeiro   \n",
       "2                 0             Sofia, Bulgaria     Ina Gerdjikova   \n",
       "3                 0                         NaN  Ana Paula Ribeiro   \n",
       "4                 0  Land of the happily single   sheena c wallace   \n",
       "\n",
       "  user_screen_name.1 user_statuses_count user_time_zone  \\\n",
       "0      InaGerdjikova                   6            NaN   \n",
       "1           anadadal                   7            NaN   \n",
       "2      InaGerdjikova                   6            NaN   \n",
       "3           anadadal                   7            NaN   \n",
       "4          sheasofly                 268            NaN   \n",
       "\n",
       "                           user_urls user_verified  \n",
       "0  http://kutiazamisli.blogspot.com/         False  \n",
       "1                                NaN         False  \n",
       "2  http://kutiazamisli.blogspot.com/         False  \n",
       "3                                NaN         False  \n",
       "4                                NaN         False  \n",
       "\n",
       "[5 rows x 34 columns]"
      ]
     },
     "execution_count": 2,
     "metadata": {},
     "output_type": "execute_result"
    }
   ],
   "source": [
    "# Loading the dataset\n",
    "\n",
    "tweets = pd.read_csv('./Data/tweets',low_memory=False)\n",
    "tweets.head()"
   ]
  },
  {
   "cell_type": "code",
   "execution_count": 3,
   "metadata": {},
   "outputs": [
    {
     "data": {
      "text/html": [
       "<div>\n",
       "<style scoped>\n",
       "    .dataframe tbody tr th:only-of-type {\n",
       "        vertical-align: middle;\n",
       "    }\n",
       "\n",
       "    .dataframe tbody tr th {\n",
       "        vertical-align: top;\n",
       "    }\n",
       "\n",
       "    .dataframe thead th {\n",
       "        text-align: right;\n",
       "    }\n",
       "</style>\n",
       "<table border=\"1\" class=\"dataframe\">\n",
       "  <thead>\n",
       "    <tr style=\"text-align: right;\">\n",
       "      <th></th>\n",
       "      <th>IsEgo</th>\n",
       "      <th>followers_count</th>\n",
       "      <th>friends_count</th>\n",
       "      <th>statuses_count</th>\n",
       "      <th>utc_offset</th>\n",
       "      <th>lang</th>\n",
       "      <th>created_at</th>\n",
       "      <th>protected</th>\n",
       "    </tr>\n",
       "    <tr>\n",
       "      <th>ID</th>\n",
       "      <th></th>\n",
       "      <th></th>\n",
       "      <th></th>\n",
       "      <th></th>\n",
       "      <th></th>\n",
       "      <th></th>\n",
       "      <th></th>\n",
       "      <th></th>\n",
       "    </tr>\n",
       "  </thead>\n",
       "  <tbody>\n",
       "    <tr>\n",
       "      <th>1</th>\n",
       "      <td>True</td>\n",
       "      <td>30.0</td>\n",
       "      <td>28</td>\n",
       "      <td>9.0</td>\n",
       "      <td>NaN</td>\n",
       "      <td>en</td>\n",
       "      <td>Wed Oct 26 03:30:32 +0000 2011</td>\n",
       "      <td>False</td>\n",
       "    </tr>\n",
       "    <tr>\n",
       "      <th>2</th>\n",
       "      <td>True</td>\n",
       "      <td>2.0</td>\n",
       "      <td>8</td>\n",
       "      <td>7.0</td>\n",
       "      <td>-14400.0</td>\n",
       "      <td>en</td>\n",
       "      <td>Mon Jul 27 20:46:32 +0000 2009</td>\n",
       "      <td>False</td>\n",
       "    </tr>\n",
       "    <tr>\n",
       "      <th>3</th>\n",
       "      <td>True</td>\n",
       "      <td>1.0</td>\n",
       "      <td>0</td>\n",
       "      <td>0.0</td>\n",
       "      <td>NaN</td>\n",
       "      <td>fr</td>\n",
       "      <td>Mon Apr 23 20:57:26 +0000 2012</td>\n",
       "      <td>False</td>\n",
       "    </tr>\n",
       "  </tbody>\n",
       "</table>\n",
       "</div>"
      ],
      "text/plain": [
       "    IsEgo  followers_count  friends_count  statuses_count  utc_offset lang  \\\n",
       "ID                                                                           \n",
       "1    True             30.0             28             9.0         NaN   en   \n",
       "2    True              2.0              8             7.0    -14400.0   en   \n",
       "3    True              1.0              0             0.0         NaN   fr   \n",
       "\n",
       "                        created_at  protected  \n",
       "ID                                             \n",
       "1   Wed Oct 26 03:30:32 +0000 2011      False  \n",
       "2   Mon Jul 27 20:46:32 +0000 2009      False  \n",
       "3   Mon Apr 23 20:57:26 +0000 2012      False  "
      ]
     },
     "execution_count": 3,
     "metadata": {},
     "output_type": "execute_result"
    }
   ],
   "source": [
    "#reading in the dataframe\n",
    "ego_alt_prof = pd.read_csv('./Data/EgoAlterProfiles.txt', delimiter = \"\\t\").set_index('ID')\n",
    "#visualize that the dataframe was imported correctly\n",
    "ego_alt_prof.head(3)"
   ]
  },
  {
   "cell_type": "code",
   "execution_count": 4,
   "metadata": {},
   "outputs": [
    {
     "data": {
      "text/html": [
       "<div>\n",
       "<style scoped>\n",
       "    .dataframe tbody tr th:only-of-type {\n",
       "        vertical-align: middle;\n",
       "    }\n",
       "\n",
       "    .dataframe tbody tr th {\n",
       "        vertical-align: top;\n",
       "    }\n",
       "\n",
       "    .dataframe thead th {\n",
       "        text-align: right;\n",
       "    }\n",
       "</style>\n",
       "<table border=\"1\" class=\"dataframe\">\n",
       "  <thead>\n",
       "    <tr style=\"text-align: right;\">\n",
       "      <th></th>\n",
       "      <th>replyto_userid</th>\n",
       "      <th>retweeted_userid</th>\n",
       "      <th>id</th>\n",
       "      <th>tweetid</th>\n",
       "      <th>created_at</th>\n",
       "      <th>hashtags</th>\n",
       "      <th>urls</th>\n",
       "      <th>mentions_ids</th>\n",
       "      <th>retweet_count</th>\n",
       "      <th>egoID</th>\n",
       "      <th>retweetedUserID</th>\n",
       "      <th>replytoUserID</th>\n",
       "      <th>metionID</th>\n",
       "    </tr>\n",
       "  </thead>\n",
       "  <tbody>\n",
       "    <tr>\n",
       "      <th>0</th>\n",
       "      <td>NaN</td>\n",
       "      <td>NaN</td>\n",
       "      <td>398477318</td>\n",
       "      <td>249552537051598848</td>\n",
       "      <td>Sat Sep 22 16:55:35 +0000 2012</td>\n",
       "      <td>NaN</td>\n",
       "      <td>NaN</td>\n",
       "      <td>2810549959</td>\n",
       "      <td>0</td>\n",
       "      <td>1</td>\n",
       "      <td>NaN</td>\n",
       "      <td>NaN</td>\n",
       "      <td>NaN</td>\n",
       "    </tr>\n",
       "    <tr>\n",
       "      <th>1</th>\n",
       "      <td>NaN</td>\n",
       "      <td>NaN</td>\n",
       "      <td>398477318</td>\n",
       "      <td>249537963145433088</td>\n",
       "      <td>Sat Sep 22 15:57:41 +0000 2012</td>\n",
       "      <td>NaN</td>\n",
       "      <td>NaN</td>\n",
       "      <td>2810549959</td>\n",
       "      <td>0</td>\n",
       "      <td>1</td>\n",
       "      <td>NaN</td>\n",
       "      <td>NaN</td>\n",
       "      <td>NaN</td>\n",
       "    </tr>\n",
       "    <tr>\n",
       "      <th>2</th>\n",
       "      <td>NaN</td>\n",
       "      <td>NaN</td>\n",
       "      <td>398477318</td>\n",
       "      <td>129377372209299456</td>\n",
       "      <td>Thu Oct 27 02:02:23 +0000 2011</td>\n",
       "      <td>NaN</td>\n",
       "      <td>NaN</td>\n",
       "      <td>NaN</td>\n",
       "      <td>0</td>\n",
       "      <td>1</td>\n",
       "      <td>NaN</td>\n",
       "      <td>NaN</td>\n",
       "      <td>NaN</td>\n",
       "    </tr>\n",
       "  </tbody>\n",
       "</table>\n",
       "</div>"
      ],
      "text/plain": [
       "   replyto_userid  retweeted_userid         id             tweetid  \\\n",
       "0             NaN               NaN  398477318  249552537051598848   \n",
       "1             NaN               NaN  398477318  249537963145433088   \n",
       "2             NaN               NaN  398477318  129377372209299456   \n",
       "\n",
       "                       created_at hashtags urls mentions_ids  retweet_count  \\\n",
       "0  Sat Sep 22 16:55:35 +0000 2012      NaN  NaN   2810549959              0   \n",
       "1  Sat Sep 22 15:57:41 +0000 2012      NaN  NaN   2810549959              0   \n",
       "2  Thu Oct 27 02:02:23 +0000 2011      NaN  NaN          NaN              0   \n",
       "\n",
       "   egoID  retweetedUserID  replytoUserID metionID  \n",
       "0      1              NaN            NaN      NaN  \n",
       "1      1              NaN            NaN      NaN  \n",
       "2      1              NaN            NaN      NaN  "
      ]
     },
     "execution_count": 4,
     "metadata": {},
     "output_type": "execute_result"
    }
   ],
   "source": [
    "#reading in the dataframe using the encoding found in the previous cell\n",
    "ego_timelines = pd.read_csv('./Data/EgoTimelines.txt', encoding = \"ISO-8859-1\",delimiter = \"\\t\")\n",
    "#visualize that the dataframe was imported correctly\n",
    "ego_timelines.head(3)"
   ]
  },
  {
   "cell_type": "code",
   "execution_count": 5,
   "metadata": {},
   "outputs": [
    {
     "data": {
      "text/html": [
       "<div>\n",
       "<style scoped>\n",
       "    .dataframe tbody tr th:only-of-type {\n",
       "        vertical-align: middle;\n",
       "    }\n",
       "\n",
       "    .dataframe tbody tr th {\n",
       "        vertical-align: top;\n",
       "    }\n",
       "\n",
       "    .dataframe thead th {\n",
       "        text-align: right;\n",
       "    }\n",
       "</style>\n",
       "<table border=\"1\" class=\"dataframe\">\n",
       "  <thead>\n",
       "    <tr style=\"text-align: right;\">\n",
       "      <th></th>\n",
       "      <th>tweetid</th>\n",
       "      <th>utc_offset</th>\n",
       "    </tr>\n",
       "  </thead>\n",
       "  <tbody>\n",
       "    <tr>\n",
       "      <th>0</th>\n",
       "      <td>249552537051598848</td>\n",
       "      <td>NaN</td>\n",
       "    </tr>\n",
       "    <tr>\n",
       "      <th>1</th>\n",
       "      <td>249537963145433088</td>\n",
       "      <td>NaN</td>\n",
       "    </tr>\n",
       "    <tr>\n",
       "      <th>2</th>\n",
       "      <td>129377372209299456</td>\n",
       "      <td>NaN</td>\n",
       "    </tr>\n",
       "  </tbody>\n",
       "</table>\n",
       "</div>"
      ],
      "text/plain": [
       "              tweetid  utc_offset\n",
       "0  249552537051598848         NaN\n",
       "1  249537963145433088         NaN\n",
       "2  129377372209299456         NaN"
      ]
     },
     "execution_count": 5,
     "metadata": {},
     "output_type": "execute_result"
    }
   ],
   "source": [
    "#merging dataframes to add utc_offset column\n",
    "ego_merge = pd.merge(ego_timelines,ego_alt_prof['utc_offset'], how='inner', left_on='egoID', right_on=ego_alt_prof.index)\n",
    "#only keep columns useful to the replciation\n",
    "ego_merge = ego_merge[['tweetid', 'utc_offset']]\n",
    "#visualize resulting dataframe\n",
    "ego_merge.head(3)"
   ]
  },
  {
   "cell_type": "markdown",
   "metadata": {},
   "source": [
    "## Data preprocessing \n",
    "\n",
    "---"
   ]
  },
  {
   "cell_type": "code",
   "execution_count": 6,
   "metadata": {},
   "outputs": [
    {
     "name": "stdout",
     "output_type": "stream",
     "text": [
      "In total there are 1609389 tweets.\n"
     ]
    }
   ],
   "source": [
    "# Exploring the dataset\n",
    "\n",
    "print(f\"In total there are {len(tweets)} tweets.\")"
   ]
  },
  {
   "cell_type": "code",
   "execution_count": 7,
   "metadata": {},
   "outputs": [
    {
     "data": {
      "text/plain": [
       "Index(['coordinates', 'created_at', 'hashtags', 'media', 'urls',\n",
       "       'favorite_count', 'id', 'in_reply_to_screen_name',\n",
       "       'in_reply_to_status_id', 'in_reply_to_user_id', 'lang', 'place',\n",
       "       'possibly_sensitive', 'retweet_count', 'retweet_id',\n",
       "       'retweet_screen_name', 'source', 'text', 'tweet_url', 'user_created_at',\n",
       "       'user_screen_name', 'user_default_profile_image', 'user_description',\n",
       "       'user_favourites_count', 'user_followers_count', 'user_friends_count',\n",
       "       'user_listed_count', 'user_location', 'user_name', 'user_screen_name.1',\n",
       "       'user_statuses_count', 'user_time_zone', 'user_urls', 'user_verified'],\n",
       "      dtype='object')"
      ]
     },
     "execution_count": 7,
     "metadata": {},
     "output_type": "execute_result"
    }
   ],
   "source": [
    "tweets.columns"
   ]
  },
  {
   "cell_type": "markdown",
   "metadata": {},
   "source": [
    "> For this analysis we are only concerned with english tweets, so we need to filter the data using the language information"
   ]
  },
  {
   "cell_type": "code",
   "execution_count": 8,
   "metadata": {},
   "outputs": [
    {
     "name": "stdout",
     "output_type": "stream",
     "text": [
      "In total there are 1093122 english tweets.\n"
     ]
    }
   ],
   "source": [
    "# Selecting only english tweets\n",
    "\n",
    "en_tweets = tweets.loc[tweets['lang']=='en']\n",
    "print(f\"In total there are {len(en_tweets)} english tweets.\")"
   ]
  },
  {
   "cell_type": "markdown",
   "metadata": {},
   "source": [
    "> We also want to drop duplicate tweets. The reason for this is because if a tweet is repeated many times, then it is most likely due to a bot account. With this analysis we are concern with the sentiment of real users, so data from bot accounts could disrupt the results"
   ]
  },
  {
   "cell_type": "code",
   "execution_count": 9,
   "metadata": {},
   "outputs": [
    {
     "data": {
      "text/plain": [
       "text\n",
       "IF U HAVE A FACEBOOK ACCOUNT,PLZ TELL ME UR ACCOUNTNAME&lt;333 U U TELL ME IT WHEN I TELL U MINE:)    2738\n",
       "Here is a neat little package to create banners  http://perfecttrafficstorm.com/links/19768            171\n",
       "Check this Out  http://perfecttrafficstorm.com/links/19778                                             170\n",
       "Grab this package of articles    http://perfecttrafficstorm.com/links/19769                            169\n",
       "Check out the PLR CHEATER http://perfecttrafficstorm.com/links/19773                                   169\n",
       "dtype: int64"
      ]
     },
     "execution_count": 9,
     "metadata": {},
     "output_type": "execute_result"
    }
   ],
   "source": [
    "# Demonstrating examples of duplicate tweets\n",
    "en_tweets.value_counts(subset = 'text', sort = True)[0:5]\n"
   ]
  },
  {
   "cell_type": "code",
   "execution_count": 10,
   "metadata": {},
   "outputs": [
    {
     "name": "stdout",
     "output_type": "stream",
     "text": [
      "After dropping the duplicates, there are 1054619 english tweets.\n"
     ]
    }
   ],
   "source": [
    "# Dropping all duplicates tweets\n",
    "en_tweets.drop_duplicates(subset=['text'], keep = False, inplace = True)\n",
    "print(f\"After dropping the duplicates, there are {len(en_tweets)} english tweets.\")\n"
   ]
  },
  {
   "cell_type": "code",
   "execution_count": 11,
   "metadata": {},
   "outputs": [
    {
     "name": "stdout",
     "output_type": "stream",
     "text": [
      "There are a total of 6167 users which posted 1054619 english tweets.\n"
     ]
    },
    {
     "data": {
      "text/plain": [
       "user_name\n",
       "michelle              3906\n",
       "Austin Health Jobs    3197\n",
       "Mark Whittington      3189\n",
       "Games For Pro         3188\n",
       "BELIVE ADULT          3162\n",
       "dtype: int64"
      ]
     },
     "execution_count": 11,
     "metadata": {},
     "output_type": "execute_result"
    }
   ],
   "source": [
    "# Checking how many users we have \n",
    "usernames = en_tweets.value_counts(subset = 'user_name', sort = True)\n",
    "print(f\"There are a total of {len(usernames)} users which posted {len(en_tweets)} english tweets.\")\n",
    "usernames.head(5)\n"
   ]
  },
  {
   "cell_type": "code",
   "execution_count": 12,
   "metadata": {},
   "outputs": [
    {
     "name": "stdout",
     "output_type": "stream",
     "text": [
      "Will try to live for a week offline... wish me luck! :D\n",
      "Boa tarde..\n",
      " (@shekinahbiscuit live on http://t.co/nU1N0NJJIJ)\n"
     ]
    },
    {
     "data": {
      "text/plain": [
       "0     Will try to live for a week offline... wish me...\n",
       "3     Boa tarde..\\n (@shekinahbiscuit live on http:/...\n",
       "8     Phew... Valentine's day will be finally over i...\n",
       "9     up\\n (@deiabiscuit32 live on http://t.co/J8uYV...\n",
       "11    simmm\\n (@deiabiscuit32 live on http://t.co/J8...\n",
       "Name: text, dtype: object"
      ]
     },
     "execution_count": 12,
     "metadata": {},
     "output_type": "execute_result"
    }
   ],
   "source": [
    "# Giving a look to some tweet texts\n",
    "# it is not printing all of it\n",
    "\n",
    "print(en_tweets.text.iloc[0])\n",
    "print(en_tweets.text.iloc[1])\n",
    "\n",
    "en_tweets.text.head(5)"
   ]
  },
  {
   "cell_type": "code",
   "execution_count": 13,
   "metadata": {},
   "outputs": [
    {
     "data": {
      "text/plain": [
       "str"
      ]
     },
     "execution_count": 13,
     "metadata": {},
     "output_type": "execute_result"
    }
   ],
   "source": [
    "# The tweets texts are in string format\n",
    "type(en_tweets.text.iloc[0])"
   ]
  },
  {
   "cell_type": "markdown",
   "metadata": {},
   "source": [
    "> Before going on with the sentiment analysis task, there is the need to preprocess the data set. Indeed, from the previous tweets texts we can see that there are many links, stops words which does not add any value to the sentiment classifier. Need to get rid of them "
   ]
  },
  {
   "cell_type": "markdown",
   "metadata": {},
   "source": [
    "## Real PREPROCESSING\n",
    "\n",
    "---\n",
    "Preprocessing id one of the essential steps in any natural language processing (NLP) task. Common preprocessing techniques are:\n",
    "\n",
    "- **Letter casing**, that is converting all letters either upper or lower case. However, in text such as tweets often the upper case is used to emphatise a concept. For example, in the case of Sentiment Analysis, great and GREAT have a different sentiment intensity. Therefore, we will not include this step in our pipeline. In addition to that, casefolding could great confusion between words such as apple and Apple. When the dataset is large it is recommended not ot do it. \n",
    "\n",
    "- **Noise Removal**, that is eliminating unwanted characters such as URLs, user mentions @ and hashtags symbols #.([Shihab Elbagir and Jing Yang](http://www.iaeng.org/publication/IMECS2019/IMECS2019_pp12-16.pdf))\n",
    "([Toni Pano and Rasha Kashef](https://www.mdpi.com/2504-2289/4/4/33))\n",
    "\n",
    "- **Tokenizing**, convert character string into sequence of tokens, that is words separated by white spaces. Tokenicazion in text such as tweets is or crucial importance. Indeed, we can find punctuation marks such as *!?* or *:-)* that we will like tokeep together because they have a intrinsic meaning. We do not want to separe them. Tokenization in twitter is quite straithforward, and on Python it can be implemented with the nltk library.\n",
    "\n",
    "- **Stemming**\n",
    "\n",
    "- **Lemmatization**"
   ]
  },
  {
   "cell_type": "markdown",
   "metadata": {},
   "source": [
    "### Removing special characters from the tweew such as URLs (“http://url”), user mention (@), and the symbol of hashtags (#) to improve the classification"
   ]
  },
  {
   "cell_type": "code",
   "execution_count": 14,
   "metadata": {},
   "outputs": [],
   "source": [
    "# Importing RE (regular expression) module to replace the http with empty string. \n",
    "import re\n",
    "\n",
    "### need to be better explained .\n",
    "\n",
    "# 'r' added to not handle backslashes in any special way in the following string\n",
    "# https? will match either ‘http’ or ‘https’\n",
    "# https?:\\/\\/ will match any \"http://\" and \"https://\" in the following string\n",
    "# \\S Returns a match where the string does not contain a white space character inside. \n",
    "    # Indeed, we want to keep the test that follows the URL.\n",
    "    \n",
    "# * Zero or more occurrences --> I think we can delete the *, i dont see any case where it could be useful\n",
    "\n",
    "\n",
    "\n",
    "clean_tweets = [] \n",
    "for i in range(len(en_tweets)):\n",
    "    \n",
    "    # Selecting one tweet\n",
    "    text_i = en_tweets.text.iloc[i]\n",
    "    \n",
    "    # Making the tweet in lower case --> no need it\n",
    "    # text_i = text_i.lower() \n",
    "    \n",
    "    # Deleting the URL only\n",
    "    text_i = re.sub(r'https?:\\/\\/\\S*', '', text_i, flags = re.MULTILINE)\n",
    "    \n",
    "    # Deleting the user mention @username\n",
    "    text_i = re.sub(r'@\\S*', '', text_i, flags = re.MULTILINE)\n",
    "    \n",
    "    # Deleting the hashtag symbol #\n",
    "    text_i = text_i.replace(\"#\", \"\")\n",
    "    \n",
    "    # append the cleaned tweet to the list previously initialized\n",
    "    clean_tweets.append(text_i) \n",
    "    "
   ]
  },
  {
   "cell_type": "code",
   "execution_count": 15,
   "metadata": {},
   "outputs": [],
   "source": [
    "### WHAT \\n MEANS IN SOME TWEETS???? I HAVE NO IDEA... I WOULD DELETE IT BUT IT COULD BE IMORTANT I DUNNO"
   ]
  },
  {
   "cell_type": "code",
   "execution_count": 16,
   "metadata": {},
   "outputs": [
    {
     "name": "stdout",
     "output_type": "stream",
     "text": [
      "Have you been to the mountain? Reach new heights on the #SmurfVillage mountain! http://t.co/d9BVrqiU82 @BeelineGames\n"
     ]
    },
    {
     "data": {
      "text/plain": [
       "'Have you been to the mountain? Reach new heights on the SmurfVillage mountain!  '"
      ]
     },
     "execution_count": 16,
     "metadata": {},
     "output_type": "execute_result"
    }
   ],
   "source": [
    "# compare before and after preprocessing with a tweet that contains all of them.\n",
    "print(en_tweets.text.iloc[8])\n",
    "clean_tweets[8]"
   ]
  },
  {
   "cell_type": "code",
   "execution_count": 17,
   "metadata": {},
   "outputs": [
    {
     "data": {
      "text/html": [
       "<div>\n",
       "<style scoped>\n",
       "    .dataframe tbody tr th:only-of-type {\n",
       "        vertical-align: middle;\n",
       "    }\n",
       "\n",
       "    .dataframe tbody tr th {\n",
       "        vertical-align: top;\n",
       "    }\n",
       "\n",
       "    .dataframe thead th {\n",
       "        text-align: right;\n",
       "    }\n",
       "</style>\n",
       "<table border=\"1\" class=\"dataframe\">\n",
       "  <thead>\n",
       "    <tr style=\"text-align: right;\">\n",
       "      <th></th>\n",
       "      <th>coordinates</th>\n",
       "      <th>created_at</th>\n",
       "      <th>hashtags</th>\n",
       "      <th>media</th>\n",
       "      <th>urls</th>\n",
       "      <th>favorite_count</th>\n",
       "      <th>id</th>\n",
       "      <th>in_reply_to_screen_name</th>\n",
       "      <th>in_reply_to_status_id</th>\n",
       "      <th>in_reply_to_user_id</th>\n",
       "      <th>...</th>\n",
       "      <th>user_friends_count</th>\n",
       "      <th>user_listed_count</th>\n",
       "      <th>user_location</th>\n",
       "      <th>user_name</th>\n",
       "      <th>user_screen_name.1</th>\n",
       "      <th>user_statuses_count</th>\n",
       "      <th>user_time_zone</th>\n",
       "      <th>user_urls</th>\n",
       "      <th>user_verified</th>\n",
       "      <th>clean_tweets</th>\n",
       "    </tr>\n",
       "  </thead>\n",
       "  <tbody>\n",
       "    <tr>\n",
       "      <th>0</th>\n",
       "      <td>NaN</td>\n",
       "      <td>Sun Feb 14 23:29:33 +0000 2010</td>\n",
       "      <td>NaN</td>\n",
       "      <td>NaN</td>\n",
       "      <td>NaN</td>\n",
       "      <td>0</td>\n",
       "      <td>9116606357</td>\n",
       "      <td>NaN</td>\n",
       "      <td>NaN</td>\n",
       "      <td>NaN</td>\n",
       "      <td>...</td>\n",
       "      <td>17</td>\n",
       "      <td>0</td>\n",
       "      <td>Sofia, Bulgaria</td>\n",
       "      <td>Ina Gerdjikova</td>\n",
       "      <td>InaGerdjikova</td>\n",
       "      <td>6</td>\n",
       "      <td>NaN</td>\n",
       "      <td>http://kutiazamisli.blogspot.com/</td>\n",
       "      <td>False</td>\n",
       "      <td>Will try to live for a week offline... wish me...</td>\n",
       "    </tr>\n",
       "    <tr>\n",
       "      <th>3</th>\n",
       "      <td>NaN</td>\n",
       "      <td>Tue Aug 12 17:51:37 +0000 2014</td>\n",
       "      <td>NaN</td>\n",
       "      <td>NaN</td>\n",
       "      <td>http://twitcam.livestream.com/g7hpe</td>\n",
       "      <td>0</td>\n",
       "      <td>499251874256920577</td>\n",
       "      <td>NaN</td>\n",
       "      <td>NaN</td>\n",
       "      <td>NaN</td>\n",
       "      <td>...</td>\n",
       "      <td>9</td>\n",
       "      <td>0</td>\n",
       "      <td>NaN</td>\n",
       "      <td>Ana Paula Ribeiro</td>\n",
       "      <td>anadadal</td>\n",
       "      <td>7</td>\n",
       "      <td>NaN</td>\n",
       "      <td>NaN</td>\n",
       "      <td>False</td>\n",
       "      <td>Boa tarde..\\n ( live on</td>\n",
       "    </tr>\n",
       "    <tr>\n",
       "      <th>8</th>\n",
       "      <td>NaN</td>\n",
       "      <td>Sun Feb 14 18:46:26 +0000 2010</td>\n",
       "      <td>NaN</td>\n",
       "      <td>NaN</td>\n",
       "      <td>NaN</td>\n",
       "      <td>0</td>\n",
       "      <td>9107804301</td>\n",
       "      <td>NaN</td>\n",
       "      <td>NaN</td>\n",
       "      <td>NaN</td>\n",
       "      <td>...</td>\n",
       "      <td>17</td>\n",
       "      <td>0</td>\n",
       "      <td>Sofia, Bulgaria</td>\n",
       "      <td>Ina Gerdjikova</td>\n",
       "      <td>InaGerdjikova</td>\n",
       "      <td>6</td>\n",
       "      <td>NaN</td>\n",
       "      <td>http://kutiazamisli.blogspot.com/</td>\n",
       "      <td>False</td>\n",
       "      <td>Phew... Valentine's day will be finally over i...</td>\n",
       "    </tr>\n",
       "  </tbody>\n",
       "</table>\n",
       "<p>3 rows × 35 columns</p>\n",
       "</div>"
      ],
      "text/plain": [
       "  coordinates                      created_at hashtags media  \\\n",
       "0         NaN  Sun Feb 14 23:29:33 +0000 2010      NaN   NaN   \n",
       "3         NaN  Tue Aug 12 17:51:37 +0000 2014      NaN   NaN   \n",
       "8         NaN  Sun Feb 14 18:46:26 +0000 2010      NaN   NaN   \n",
       "\n",
       "                                  urls  favorite_count                  id  \\\n",
       "0                                  NaN               0          9116606357   \n",
       "3  http://twitcam.livestream.com/g7hpe               0  499251874256920577   \n",
       "8                                  NaN               0          9107804301   \n",
       "\n",
       "  in_reply_to_screen_name  in_reply_to_status_id  in_reply_to_user_id  ...  \\\n",
       "0                     NaN                    NaN                  NaN  ...   \n",
       "3                     NaN                    NaN                  NaN  ...   \n",
       "8                     NaN                    NaN                  NaN  ...   \n",
       "\n",
       "  user_friends_count user_listed_count    user_location          user_name  \\\n",
       "0                 17                 0  Sofia, Bulgaria     Ina Gerdjikova   \n",
       "3                  9                 0              NaN  Ana Paula Ribeiro   \n",
       "8                 17                 0  Sofia, Bulgaria     Ina Gerdjikova   \n",
       "\n",
       "   user_screen_name.1 user_statuses_count user_time_zone  \\\n",
       "0       InaGerdjikova                   6            NaN   \n",
       "3            anadadal                   7            NaN   \n",
       "8       InaGerdjikova                   6            NaN   \n",
       "\n",
       "                           user_urls user_verified  \\\n",
       "0  http://kutiazamisli.blogspot.com/         False   \n",
       "3                                NaN         False   \n",
       "8  http://kutiazamisli.blogspot.com/         False   \n",
       "\n",
       "                                        clean_tweets  \n",
       "0  Will try to live for a week offline... wish me...  \n",
       "3                           Boa tarde..\\n ( live on   \n",
       "8  Phew... Valentine's day will be finally over i...  \n",
       "\n",
       "[3 rows x 35 columns]"
      ]
     },
     "execution_count": 17,
     "metadata": {},
     "output_type": "execute_result"
    }
   ],
   "source": [
    "# Add the new column to the original df\n",
    "\n",
    "en_tweets['clean_tweets'] = clean_tweets\n",
    "en_tweets.head(3)"
   ]
  },
  {
   "cell_type": "markdown",
   "metadata": {},
   "source": [
    "## Processing the data for analysis of day/hour "
   ]
  },
  {
   "cell_type": "code",
   "execution_count": 18,
   "metadata": {},
   "outputs": [
    {
     "data": {
      "text/plain": [
       "Index(['coordinates', 'created_at', 'hashtags', 'media', 'urls',\n",
       "       'favorite_count', 'id', 'in_reply_to_screen_name',\n",
       "       'in_reply_to_status_id', 'in_reply_to_user_id', 'lang', 'place',\n",
       "       'possibly_sensitive', 'retweet_count', 'retweet_id',\n",
       "       'retweet_screen_name', 'source', 'text', 'tweet_url', 'user_created_at',\n",
       "       'user_screen_name', 'user_default_profile_image', 'user_description',\n",
       "       'user_favourites_count', 'user_followers_count', 'user_friends_count',\n",
       "       'user_listed_count', 'user_location', 'user_name', 'user_screen_name.1',\n",
       "       'user_statuses_count', 'user_time_zone', 'user_urls', 'user_verified',\n",
       "       'clean_tweets', 'tweetid', 'utc_offset'],\n",
       "      dtype='object')"
      ]
     },
     "execution_count": 18,
     "metadata": {},
     "output_type": "execute_result"
    }
   ],
   "source": [
    "#merging dataframes to add utc_offset column\n",
    "en_tweets = pd.merge(en_tweets,ego_merge, how='inner', left_on='id', right_on = 'tweetid')\n",
    "\n",
    "en_tweets.columns"
   ]
  },
  {
   "cell_type": "code",
   "execution_count": 19,
   "metadata": {},
   "outputs": [],
   "source": [
    "en_tweets['date'] = en_tweets.created_at.apply(lambda d: datetime.strptime(d, '%a %b %d %H:%M:%S +0000 %Y'))"
   ]
  },
  {
   "cell_type": "code",
   "execution_count": 20,
   "metadata": {},
   "outputs": [],
   "source": [
    "def get_seconds(date):\n",
    "    seconds = (date.hour*3600) + (date.minute*60) + date.second\n",
    "    return seconds\n",
    "\n",
    "def day_change(time):\n",
    "    return 1 if time > 86400 else -1 if time < 0 else 0\n",
    "\n",
    "def fix_time(time):\n",
    "    return time - 86400 if time > 86400 else time + 86400 if time < 0 else time\n"
   ]
  },
  {
   "cell_type": "code",
   "execution_count": 21,
   "metadata": {},
   "outputs": [],
   "source": [
    "en_tweets['day_seconds'] = en_tweets.date.apply(lambda x: get_seconds(x)) + en_tweets['utc_offset']"
   ]
  },
  {
   "cell_type": "code",
   "execution_count": 22,
   "metadata": {},
   "outputs": [],
   "source": [
    "en_tweets['day_number'] = en_tweets.date.apply(lambda x: x.weekday())"
   ]
  },
  {
   "cell_type": "code",
   "execution_count": 23,
   "metadata": {},
   "outputs": [],
   "source": [
    "en_tweets['norm_day'] = en_tweets.day_seconds.apply(lambda x: day_change(x)) + en_tweets.day_number\n",
    "days=[\"Mon\",\"Tue\",\"Wed\",\"Thur\",\"Fri\",\"Sat\",\"Sun\"]\n",
    "en_tweets['day'] =  en_tweets.norm_day.apply(lambda x: days[x%7])"
   ]
  },
  {
   "cell_type": "code",
   "execution_count": 24,
   "metadata": {},
   "outputs": [
    {
     "data": {
      "text/plain": [
       "Index(['coordinates', 'created_at', 'hashtags', 'media', 'urls',\n",
       "       'favorite_count', 'id', 'in_reply_to_screen_name',\n",
       "       'in_reply_to_status_id', 'in_reply_to_user_id', 'lang', 'place',\n",
       "       'possibly_sensitive', 'retweet_count', 'retweet_id',\n",
       "       'retweet_screen_name', 'source', 'text', 'tweet_url', 'user_created_at',\n",
       "       'user_screen_name', 'user_default_profile_image', 'user_description',\n",
       "       'user_favourites_count', 'user_followers_count', 'user_friends_count',\n",
       "       'user_listed_count', 'user_location', 'user_name', 'user_screen_name.1',\n",
       "       'user_statuses_count', 'user_time_zone', 'user_urls', 'user_verified',\n",
       "       'clean_tweets', 'tweetid', 'utc_offset', 'date', 'day_seconds',\n",
       "       'day_number', 'norm_day', 'day', 'hour'],\n",
       "      dtype='object')"
      ]
     },
     "execution_count": 24,
     "metadata": {},
     "output_type": "execute_result"
    }
   ],
   "source": [
    "en_tweets['day_seconds'] = (en_tweets.day_seconds.apply(lambda x: fix_time(x)))\n",
    "en_tweets['hour'] = en_tweets['day_seconds']//3600\n",
    "en_tweets.hour.replace(24,0, inplace=True)\n",
    "\n",
    "en_tweets.columns"
   ]
  },
  {
   "cell_type": "markdown",
   "metadata": {},
   "source": [
    "Only keep columns we are interested in"
   ]
  },
  {
   "cell_type": "code",
   "execution_count": 25,
   "metadata": {},
   "outputs": [
    {
     "data": {
      "text/html": [
       "<div>\n",
       "<style scoped>\n",
       "    .dataframe tbody tr th:only-of-type {\n",
       "        vertical-align: middle;\n",
       "    }\n",
       "\n",
       "    .dataframe tbody tr th {\n",
       "        vertical-align: top;\n",
       "    }\n",
       "\n",
       "    .dataframe thead th {\n",
       "        text-align: right;\n",
       "    }\n",
       "</style>\n",
       "<table border=\"1\" class=\"dataframe\">\n",
       "  <thead>\n",
       "    <tr style=\"text-align: right;\">\n",
       "      <th></th>\n",
       "      <th>hashtags</th>\n",
       "      <th>media</th>\n",
       "      <th>urls</th>\n",
       "      <th>id</th>\n",
       "      <th>place</th>\n",
       "      <th>retweet_count</th>\n",
       "      <th>text</th>\n",
       "      <th>user_followers_count</th>\n",
       "      <th>user_friends_count</th>\n",
       "      <th>user_location</th>\n",
       "      <th>user_name</th>\n",
       "      <th>user_screen_name.1</th>\n",
       "      <th>user_statuses_count</th>\n",
       "      <th>user_verified</th>\n",
       "      <th>clean_tweets</th>\n",
       "      <th>tweetid</th>\n",
       "      <th>utc_offset</th>\n",
       "      <th>date</th>\n",
       "      <th>day</th>\n",
       "      <th>hour</th>\n",
       "    </tr>\n",
       "  </thead>\n",
       "  <tbody>\n",
       "    <tr>\n",
       "      <th>0</th>\n",
       "      <td>NaN</td>\n",
       "      <td>NaN</td>\n",
       "      <td>NaN</td>\n",
       "      <td>9116606357</td>\n",
       "      <td>NaN</td>\n",
       "      <td>0</td>\n",
       "      <td>Will try to live for a week offline... wish me...</td>\n",
       "      <td>29</td>\n",
       "      <td>17</td>\n",
       "      <td>Sofia, Bulgaria</td>\n",
       "      <td>Ina Gerdjikova</td>\n",
       "      <td>InaGerdjikova</td>\n",
       "      <td>6</td>\n",
       "      <td>False</td>\n",
       "      <td>Will try to live for a week offline... wish me...</td>\n",
       "      <td>9116606357</td>\n",
       "      <td>-10800.0</td>\n",
       "      <td>2010-02-14 23:29:33</td>\n",
       "      <td>Sun</td>\n",
       "      <td>20.0</td>\n",
       "    </tr>\n",
       "    <tr>\n",
       "      <th>1</th>\n",
       "      <td>NaN</td>\n",
       "      <td>NaN</td>\n",
       "      <td>http://twitcam.livestream.com/g7hpe</td>\n",
       "      <td>499251874256920577</td>\n",
       "      <td>NaN</td>\n",
       "      <td>0</td>\n",
       "      <td>Boa tarde..\\n (@shekinahbiscuit live on http:/...</td>\n",
       "      <td>12</td>\n",
       "      <td>9</td>\n",
       "      <td>NaN</td>\n",
       "      <td>Ana Paula Ribeiro</td>\n",
       "      <td>anadadal</td>\n",
       "      <td>7</td>\n",
       "      <td>False</td>\n",
       "      <td>Boa tarde..\\n ( live on</td>\n",
       "      <td>499251874256920577</td>\n",
       "      <td>NaN</td>\n",
       "      <td>2014-08-12 17:51:37</td>\n",
       "      <td>Tue</td>\n",
       "      <td>NaN</td>\n",
       "    </tr>\n",
       "    <tr>\n",
       "      <th>2</th>\n",
       "      <td>NaN</td>\n",
       "      <td>NaN</td>\n",
       "      <td>NaN</td>\n",
       "      <td>9107804301</td>\n",
       "      <td>NaN</td>\n",
       "      <td>0</td>\n",
       "      <td>Phew... Valentine's day will be finally over i...</td>\n",
       "      <td>29</td>\n",
       "      <td>17</td>\n",
       "      <td>Sofia, Bulgaria</td>\n",
       "      <td>Ina Gerdjikova</td>\n",
       "      <td>InaGerdjikova</td>\n",
       "      <td>6</td>\n",
       "      <td>False</td>\n",
       "      <td>Phew... Valentine's day will be finally over i...</td>\n",
       "      <td>9107804301</td>\n",
       "      <td>-10800.0</td>\n",
       "      <td>2010-02-14 18:46:26</td>\n",
       "      <td>Sun</td>\n",
       "      <td>15.0</td>\n",
       "    </tr>\n",
       "  </tbody>\n",
       "</table>\n",
       "</div>"
      ],
      "text/plain": [
       "  hashtags media                                 urls                  id  \\\n",
       "0      NaN   NaN                                  NaN          9116606357   \n",
       "1      NaN   NaN  http://twitcam.livestream.com/g7hpe  499251874256920577   \n",
       "2      NaN   NaN                                  NaN          9107804301   \n",
       "\n",
       "  place  retweet_count                                               text  \\\n",
       "0   NaN              0  Will try to live for a week offline... wish me...   \n",
       "1   NaN              0  Boa tarde..\\n (@shekinahbiscuit live on http:/...   \n",
       "2   NaN              0  Phew... Valentine's day will be finally over i...   \n",
       "\n",
       "   user_followers_count  user_friends_count    user_location  \\\n",
       "0                    29                  17  Sofia, Bulgaria   \n",
       "1                    12                   9              NaN   \n",
       "2                    29                  17  Sofia, Bulgaria   \n",
       "\n",
       "           user_name user_screen_name.1  user_statuses_count  user_verified  \\\n",
       "0     Ina Gerdjikova      InaGerdjikova                    6          False   \n",
       "1  Ana Paula Ribeiro           anadadal                    7          False   \n",
       "2     Ina Gerdjikova      InaGerdjikova                    6          False   \n",
       "\n",
       "                                        clean_tweets             tweetid  \\\n",
       "0  Will try to live for a week offline... wish me...          9116606357   \n",
       "1                           Boa tarde..\\n ( live on   499251874256920577   \n",
       "2  Phew... Valentine's day will be finally over i...          9107804301   \n",
       "\n",
       "   utc_offset                date  day  hour  \n",
       "0    -10800.0 2010-02-14 23:29:33  Sun  20.0  \n",
       "1         NaN 2014-08-12 17:51:37  Tue   NaN  \n",
       "2    -10800.0 2010-02-14 18:46:26  Sun  15.0  "
      ]
     },
     "execution_count": 25,
     "metadata": {},
     "output_type": "execute_result"
    }
   ],
   "source": [
    "en_tweets =  en_tweets[['hashtags', 'media', 'urls', 'id', 'place', 'retweet_count', 'text', 'user_followers_count', 'user_friends_count',\n",
    "                       'user_location', 'user_name', 'user_screen_name.1', 'user_statuses_count', 'user_verified', 'clean_tweets', \n",
    "                       'tweetid', 'utc_offset', 'date', 'day', 'hour']]\n",
    "en_tweets.head(3)"
   ]
  },
  {
   "cell_type": "markdown",
   "metadata": {},
   "source": [
    "## Rule-based sentiment analysis - VADER\n",
    "\n",
    "---\n",
    "\n",
    "The VADER (Valence Aware Dictionary and sEntiment Reasoner) sentiment analysis consists of 4 columns: positive, neutral, negative, and compound polarity scores. For our case, we are only interested in the compound polarity score to determine the sentiment of the tweets"
   ]
  },
  {
   "cell_type": "markdown",
   "metadata": {},
   "source": [
    "## Results with the cleaned tweets"
   ]
  },
  {
   "cell_type": "code",
   "execution_count": 26,
   "metadata": {},
   "outputs": [],
   "source": [
    "#Initializing the Rule-based sentiment analyzer \n",
    "analyzer = SentimentIntensityAnalyzer()"
   ]
  },
  {
   "cell_type": "code",
   "execution_count": 27,
   "metadata": {},
   "outputs": [],
   "source": [
    "en_tweets['sent_score'] = [analyzer.polarity_scores(x)['compound'] for x in en_tweets['clean_tweets']]"
   ]
  },
  {
   "cell_type": "code",
   "execution_count": 28,
   "metadata": {},
   "outputs": [],
   "source": [
    "def sentiment(scores):\n",
    "    sents = []\n",
    "    for score in scores:\n",
    "        if score >= 0.05:\n",
    "            sent = 'pos'\n",
    "        elif score <= -0.05:\n",
    "            sent = 'neg'\n",
    "        elif abs(score) <0.05:\n",
    "            sent = 'neu'\n",
    "        sents.append(sent)\n",
    "    return sents"
   ]
  },
  {
   "cell_type": "code",
   "execution_count": 29,
   "metadata": {},
   "outputs": [],
   "source": [
    "en_tweets['sentiment'] = sentiment(en_tweets.sent_score)"
   ]
  },
  {
   "cell_type": "code",
   "execution_count": 30,
   "metadata": {},
   "outputs": [],
   "source": [
    "grouped_sents = en_tweets.groupby(by='sentiment')"
   ]
  },
  {
   "cell_type": "code",
   "execution_count": 31,
   "metadata": {},
   "outputs": [
    {
     "name": "stdout",
     "output_type": "stream",
     "text": [
      "Number of positive sentences: 486486\n",
      "Number of negative sentences: 210066\n",
      "Number of neutral sentences: 358067\n"
     ]
    }
   ],
   "source": [
    "print('Number of positive sentences:',sum(np.array(en_tweets['sent_score'])>=0.05))\n",
    "print('Number of negative sentences:',sum(np.array(en_tweets['sent_score'])<=-0.05))\n",
    "print('Number of neutral sentences:',sum(np.abs(np.array(en_tweets['sent_score']))<0.05))"
   ]
  },
  {
   "cell_type": "code",
   "execution_count": 32,
   "metadata": {},
   "outputs": [
    {
     "data": {
      "image/png": "[encoded data removed]",
      "text/plain": [
       "<Figure size 432x432 with 1 Axes>"
      ]
     },
     "metadata": {
      "needs_background": "light"
     },
     "output_type": "display_data"
    }
   ],
   "source": [
    "plt.figure(figsize=(6,6))\n",
    "plt.bar(grouped_sents.size().index, grouped_sents.size().values, width=0.8)\n",
    "plt.xlabel('Sentiment')\n",
    "plt.ylabel('Number of Tweets')\n",
    "plt.show()"
   ]
  },
  {
   "cell_type": "code",
   "execution_count": 34,
   "metadata": {},
   "outputs": [
    {
     "data": {
      "image/png": "[encoded data removed]",
      "text/plain": [
       "<Figure size 432x432 with 1 Axes>"
      ]
     },
     "metadata": {
      "needs_background": "light"
     },
     "output_type": "display_data"
    }
   ],
   "source": [
    "# Threshold as in the other paper \n",
    "def sentiment(scores):\n",
    "    sents = []\n",
    "    for score in scores:\n",
    "        if score >= 0.001:\n",
    "            sent = 'pos'\n",
    "        elif score <= -0.001:\n",
    "            sent = 'neg'\n",
    "        elif abs(score) <0.001:\n",
    "            sent = 'neu'\n",
    "        sents.append(sent)\n",
    "    return sents\n",
    "\n",
    "en_tweets['sentiment'] = sentiment(en_tweets.sent_score)\n",
    "grouped_sents2 = en_tweets.groupby(by='sentiment')\n",
    "\n",
    "plt.figure(figsize=(6,6))\n",
    "plt.bar(grouped_sents2.size().index, grouped_sents2.size().values, width=0.8)\n",
    "plt.xlabel('Sentiment')\n",
    "plt.ylabel('Number of Tweets')\n",
    "plt.show()"
   ]
  },
  {
   "cell_type": "markdown",
   "metadata": {},
   "source": [
    "### We first look if sentiment changes based on hour of the day or day of the week"
   ]
  },
  {
   "cell_type": "code",
   "execution_count": 43,
   "metadata": {},
   "outputs": [],
   "source": [
    "en_tweets_time = en_tweets.dropna(subset=['utc_offset'])\n",
    "pos_sents_time = en_tweets_time.loc[en_tweets_time['sentiment'] == 'pos']\n",
    "neg_sents_time = en_tweets_time.loc[en_tweets_time['sentiment'] == 'neg']"
   ]
  },
  {
   "cell_type": "code",
   "execution_count": 44,
   "metadata": {},
   "outputs": [],
   "source": [
    "tweet_per_h = en_tweets_time.groupby(['day','hour']).size().unstack()\n",
    "pos_tweet_per_h = pos_sents_time.groupby(['day','hour']).size().unstack()\n",
    "neg_tweet_per_h = neg_sents_time.groupby(['day','hour']).size().unstack()"
   ]
  },
  {
   "cell_type": "code",
   "execution_count": 45,
   "metadata": {},
   "outputs": [],
   "source": [
    "new_index = ['Sun', 'Mon', 'Tue', 'Wed', 'Thur', 'Fri', 'Sat']\n",
    "tweet_per_h = tweet_per_h.reindex(new_index)\n",
    "pos_tweet_per_h = pos_tweet_per_h.reindex(new_index)\n",
    "neg_tweet_per_h = neg_tweet_per_h.reindex(new_index)"
   ]
  },
  {
   "cell_type": "code",
   "execution_count": 46,
   "metadata": {},
   "outputs": [],
   "source": [
    "colors = ['tomato', 'darkgoldenrod', 'limegreen', 'lightseagreen', 'deepskyblue', 'slateblue','magenta']"
   ]
  },
  {
   "cell_type": "code",
   "execution_count": 48,
   "metadata": {},
   "outputs": [
    {
     "data": {
      "image/png": "[encoded data removed]",
      "text/plain": [
       "<Figure size 1440x576 with 3 Axes>"
      ]
     },
     "metadata": {
      "needs_background": "light"
     },
     "output_type": "display_data"
    }
   ],
   "source": [
    "plt.figure(figsize=(20,8))\n",
    "plt.suptitle('Figure 2 Replication')\n",
    "\n",
    "plt.subplot(1, 3, 1)\n",
    "plt.xlim(-0.5, 24)\n",
    "plt.xticks(np.arange(0, 24, step=1))\n",
    "plt.xlabel('Hour')\n",
    "plt.ylabel('Number of tweets')\n",
    "plt.title('All Tweets')\n",
    "\n",
    "\n",
    "for i in range(7):\n",
    "    plt.plot(tweet_per_h.iloc[i],c=colors[i])\n",
    "\n",
    "plt.subplot(1, 3, 2)\n",
    "plt.xlim(-0.5, 24)\n",
    "plt.xticks(np.arange(0, 24, step=1))\n",
    "plt.xlabel('Hour')\n",
    "plt.ylabel('Number of tweets')\n",
    "plt.title('Postive Tweets')\n",
    "\n",
    "\n",
    "for i in range(7):\n",
    "    plt.plot(pos_tweet_per_h.iloc[i],c=colors[i])\n",
    "\n",
    "#plotting the reputation distribution for treated and not treated patients matched\n",
    "plt.subplot(1, 3, 3)\n",
    "plt.xlim(-0.5, 24)\n",
    "plt.xticks(np.arange(0, 24, step=1))\n",
    "plt.xlabel('Hour')\n",
    "plt.ylabel('Number of tweets')\n",
    "plt.title('Negative Tweets')\n",
    "\n",
    "\n",
    "for i in range(7):\n",
    "    plt.plot(neg_tweet_per_h.iloc[i],c=colors[i])\n",
    "    plt.legend(new_index, loc='lower right')\n",
    "\n",
    "plt.show()"
   ]
  },
  {
   "cell_type": "markdown",
   "metadata": {},
   "source": [
    "We see that the positive and negative sentiment tweets have the same trend as all the tweets, so we can conclude that the day of the week or hour of the day does not have an affect on the sentiment"
   ]
  },
  {
   "cell_type": "markdown",
   "metadata": {},
   "source": [
    "### Analysis of tweet sentiment on retweet count"
   ]
  },
  {
   "cell_type": "code",
   "execution_count": 49,
   "metadata": {},
   "outputs": [],
   "source": [
    "pos_sents = en_tweets.loc[en_tweets['sentiment'] == 'pos']\n",
    "neg_sents = en_tweets.loc[en_tweets['sentiment'] == 'neg']"
   ]
  },
  {
   "cell_type": "markdown",
   "metadata": {},
   "source": [
    "Niave analysis on affect of sentiment on retweet count "
   ]
  },
  {
   "cell_type": "code",
   "execution_count": 50,
   "metadata": {},
   "outputs": [
    {
     "name": "stdout",
     "output_type": "stream",
     "text": [
      "The average number of retweets for positive tweets is 264.72\n",
      "The average number of retweets for negative tweets is 177.06\n"
     ]
    }
   ],
   "source": [
    "print(\"The average number of retweets for positive tweets is {:.2f}\".format(pos_sents.retweet_count.mean()))\n",
    "print(\"The average number of retweets for negative tweets is {:.2f}\".format(neg_sents.retweet_count.mean()))"
   ]
  },
  {
   "cell_type": "code",
   "execution_count": 51,
   "metadata": {},
   "outputs": [
    {
     "data": {
      "text/plain": [
       "Ttest_indResult(statistic=8.836427150120006, pvalue=9.904772347653067e-19)"
      ]
     },
     "execution_count": 51,
     "metadata": {},
     "output_type": "execute_result"
    }
   ],
   "source": [
    "stats.ttest_ind(pos_sents.retweet_count, neg_sents.retweet_count)"
   ]
  },
  {
   "cell_type": "code",
   "execution_count": 52,
   "metadata": {},
   "outputs": [
    {
     "data": {
      "text/plain": [
       "MannwhitneyuResult(statistic=52208762073.5, pvalue=2.6556701047976775e-08)"
      ]
     },
     "execution_count": 52,
     "metadata": {},
     "output_type": "execute_result"
    }
   ],
   "source": [
    "stats.mannwhitneyu(pos_sents.retweet_count, neg_sents.retweet_count)"
   ]
  },
  {
   "cell_type": "markdown",
   "metadata": {},
   "source": [
    "## Not sure if the statistical tests above make sense"
   ]
  },
  {
   "cell_type": "code",
   "execution_count": 53,
   "metadata": {},
   "outputs": [
    {
     "data": {
      "text/plain": [
       "count    491006.000000\n",
       "mean        264.721500\n",
       "std        4156.538755\n",
       "min           0.000000\n",
       "25%           0.000000\n",
       "50%           0.000000\n",
       "75%           0.000000\n",
       "max      551788.000000\n",
       "Name: retweet_count, dtype: float64"
      ]
     },
     "execution_count": 53,
     "metadata": {},
     "output_type": "execute_result"
    }
   ],
   "source": [
    "pos_sents['retweet_count'].describe()"
   ]
  },
  {
   "cell_type": "code",
   "execution_count": 54,
   "metadata": {},
   "outputs": [
    {
     "data": {
      "text/plain": [
       "count    213963.000000\n",
       "mean        177.060295\n",
       "std        2945.373605\n",
       "min           0.000000\n",
       "25%           0.000000\n",
       "50%           0.000000\n",
       "75%           0.000000\n",
       "max      426173.000000\n",
       "Name: retweet_count, dtype: float64"
      ]
     },
     "execution_count": 54,
     "metadata": {},
     "output_type": "execute_result"
    }
   ],
   "source": [
    "neg_sents['retweet_count'].describe()"
   ]
  },
  {
   "cell_type": "code",
   "execution_count": 55,
   "metadata": {},
   "outputs": [
    {
     "data": {
      "text/plain": [
       "296296    551788\n",
       "635279    548016\n",
       "911841    473644\n",
       "391055    337006\n",
       "491567    322409\n",
       "712406    309553\n",
       "960803    298331\n",
       "249349    297234\n",
       "121048    284859\n",
       "324354    274359\n",
       "Name: retweet_count, dtype: int64"
      ]
     },
     "execution_count": 55,
     "metadata": {},
     "output_type": "execute_result"
    }
   ],
   "source": [
    "pos_sents.sort_values(by=['retweet_count'], ascending = False)['retweet_count'].head(10)"
   ]
  },
  {
   "cell_type": "code",
   "execution_count": 75,
   "metadata": {},
   "outputs": [
    {
     "data": {
      "text/plain": [
       "516541    426173\n",
       "635441    290667\n",
       "635199    237713\n",
       "282273    226724\n",
       "635294    201765\n",
       "281781    196806\n",
       "120998    181591\n",
       "324272    178398\n",
       "326273    169294\n",
       "424413    167615\n",
       "Name: retweet_count, dtype: int64"
      ]
     },
     "execution_count": 75,
     "metadata": {},
     "output_type": "execute_result"
    }
   ],
   "source": [
    "neg_sents.sort_values(by=['retweet_count'], ascending = False)['retweet_count'].head(10)"
   ]
  },
  {
   "cell_type": "markdown",
   "metadata": {},
   "source": [
    "When looking at simple statistics, we see that positive sentiment tweets have a much larger standard deviation, so there is more likely a significantly larger number of tweets with large retweet counts. Also, looking at the top 10 highest retweeted tweets for positive tweets we find that positive tweets have higher max retween count. So, we need to try and filter the data to avoid effects of these very popular tweets"
   ]
  },
  {
   "cell_type": "code",
   "execution_count": 57,
   "metadata": {},
   "outputs": [],
   "source": [
    "pos_sents_filtered = pos_sents.loc[pos_sents['retweet_count']<1000]\n",
    "neg_sents_filtered = neg_sents.loc[neg_sents['retweet_count']<1000]"
   ]
  },
  {
   "cell_type": "code",
   "execution_count": 58,
   "metadata": {},
   "outputs": [
    {
     "data": {
      "text/plain": [
       "209532"
      ]
     },
     "execution_count": 58,
     "metadata": {},
     "output_type": "execute_result"
    }
   ],
   "source": [
    "len(neg_sents_filtered)"
   ]
  },
  {
   "cell_type": "code",
   "execution_count": 59,
   "metadata": {},
   "outputs": [
    {
     "name": "stdout",
     "output_type": "stream",
     "text": [
      "The average number of retweets for positive tweets is 12.98\n",
      "The average number of retweets for negative tweets is 14.46\n"
     ]
    }
   ],
   "source": [
    "print(\"The average number of retweets for positive tweets is {:.2f}\".format(pos_sents_filtered.retweet_count.mean()))\n",
    "print(\"The average number of retweets for negative tweets is {:.2f}\".format(neg_sents_filtered.retweet_count.mean()))"
   ]
  },
  {
   "cell_type": "code",
   "execution_count": 60,
   "metadata": {},
   "outputs": [
    {
     "data": {
      "text/plain": [
       "Ttest_indResult(statistic=-7.0892444652205, pvalue=1.3497451930110384e-12)"
      ]
     },
     "execution_count": 60,
     "metadata": {},
     "output_type": "execute_result"
    }
   ],
   "source": [
    "stats.ttest_ind(pos_sents_filtered.retweet_count, neg_sents_filtered.retweet_count)"
   ]
  },
  {
   "cell_type": "code",
   "execution_count": 61,
   "metadata": {},
   "outputs": [
    {
     "data": {
      "text/plain": [
       "MannwhitneyuResult(statistic=49916930617.5, pvalue=7.984214306830045e-13)"
      ]
     },
     "execution_count": 61,
     "metadata": {},
     "output_type": "execute_result"
    }
   ],
   "source": [
    "stats.mannwhitneyu(pos_sents_filtered.retweet_count, neg_sents_filtered.retweet_count)"
   ]
  },
  {
   "cell_type": "markdown",
   "metadata": {},
   "source": [
    "However, we may find that the tweets with 0 retweets affect the data. Let's look at tweets with at least one retweet"
   ]
  },
  {
   "cell_type": "code",
   "execution_count": 62,
   "metadata": {},
   "outputs": [],
   "source": [
    "pos_sents_filtered = pos_sents.loc[(pos_sents['retweet_count']<1000) & (pos_sents['retweet_count'])>0]\n",
    "neg_sents_filtered = neg_sents.loc[(neg_sents['retweet_count']<1000) & (neg_sents['retweet_count']>0)]"
   ]
  },
  {
   "cell_type": "code",
   "execution_count": 63,
   "metadata": {},
   "outputs": [
    {
     "name": "stdout",
     "output_type": "stream",
     "text": [
      "The average number of retweets for positive tweets is 44.40\n",
      "The average number of retweets for negative tweets is 63.40\n"
     ]
    }
   ],
   "source": [
    "print(\"The average number of retweets for positive tweets is {:.2f}\".format(pos_sents_filtered.retweet_count.mean()))\n",
    "print(\"The average number of retweets for negative tweets is {:.2f}\".format(neg_sents_filtered.retweet_count.mean()))"
   ]
  },
  {
   "cell_type": "code",
   "execution_count": 64,
   "metadata": {},
   "outputs": [
    {
     "data": {
      "text/plain": [
       "Ttest_indResult(statistic=-21.31152110906824, pvalue=1.3722038280667173e-100)"
      ]
     },
     "execution_count": 64,
     "metadata": {},
     "output_type": "execute_result"
    }
   ],
   "source": [
    "stats.ttest_ind(pos_sents_filtered.retweet_count, neg_sents_filtered.retweet_count)"
   ]
  },
  {
   "cell_type": "code",
   "execution_count": 65,
   "metadata": {},
   "outputs": [
    {
     "data": {
      "text/plain": [
       "MannwhitneyuResult(statistic=1382395296.5, pvalue=0.0)"
      ]
     },
     "execution_count": 65,
     "metadata": {},
     "output_type": "execute_result"
    }
   ],
   "source": [
    "stats.mannwhitneyu(pos_sents_filtered.retweet_count, neg_sents_filtered.retweet_count)"
   ]
  },
  {
   "cell_type": "code",
   "execution_count": 66,
   "metadata": {},
   "outputs": [
    {
     "data": {
      "image/png": "[encoded data removed]",
      "text/plain": [
       "<Figure size 576x432 with 1 Axes>"
      ]
     },
     "metadata": {
      "needs_background": "light"
     },
     "output_type": "display_data"
    }
   ],
   "source": [
    "plt.figure(figsize=(8,6))\n",
    "\n",
    "plt.hist([pos_sents_filtered.retweet_count, neg_sents_filtered.retweet_count], bins=50, label=['Positive Sentiment', 'Negative Sentiment'])\n",
    "plt.legend(loc = 'upper right')\n",
    "plt.title('Retweet count for positive and negative sentiment tweets')\n",
    "plt.xlabel('Retweet Count')\n",
    "plt.ylabel('Number of Tweets')\n",
    "plt.yscale('log')\n",
    "plt.xlim([0, 1000])\n",
    "plt.show()"
   ]
  },
  {
   "cell_type": "markdown",
   "metadata": {},
   "source": [
    "It looks like the distribution of retweet count is very similar for both positive and negative tweets. However, there is a much larger set of positive tweets. Let's look at set of the same size"
   ]
  },
  {
   "cell_type": "code",
   "execution_count": 68,
   "metadata": {},
   "outputs": [
    {
     "name": "stdout",
     "output_type": "stream",
     "text": [
      "Now we look at 47787 postive tweets and 47787 negative tweets\n"
     ]
    }
   ],
   "source": [
    "pos_same_size = pos_sents_filtered.sample(len(neg_sents_filtered))\n",
    "\n",
    "print(\"Now we look at {} postive tweets and {} negative tweets\".format(len(pos_same_size),len(neg_sents_filtered)))"
   ]
  },
  {
   "cell_type": "code",
   "execution_count": 69,
   "metadata": {},
   "outputs": [
    {
     "data": {
      "image/png": "[encoded data removed]",
      "text/plain": [
       "<Figure size 576x432 with 1 Axes>"
      ]
     },
     "metadata": {
      "needs_background": "light"
     },
     "output_type": "display_data"
    }
   ],
   "source": [
    "plt.figure(figsize=(8,6))\n",
    "\n",
    "plt.hist([pos_same_size.retweet_count, neg_sents_filtered.retweet_count], bins=50, label=['Positive Sentiment', 'Negative Sentiment'])\n",
    "plt.legend(loc = 'upper right')\n",
    "plt.title('Retweet count for positive and negative sentiment tweets')\n",
    "plt.xlabel('Retweet Count')\n",
    "plt.ylabel('Number of Tweets')\n",
    "plt.yscale('log')\n",
    "plt.xlim([0, 1000])\n",
    "plt.show()"
   ]
  },
  {
   "cell_type": "markdown",
   "metadata": {},
   "source": [
    "From this distribution, we start to see that negative tweets tend to perform better in terms of retweet count."
   ]
  },
  {
   "cell_type": "markdown",
   "metadata": {},
   "source": [
    "## A look into retweetability "
   ]
  },
  {
   "cell_type": "code",
   "execution_count": 78,
   "metadata": {},
   "outputs": [
    {
     "name": "stdout",
     "output_type": "stream",
     "text": [
      "23.79% of positive tweets were retweeted and 24.41% of negative tweets were retweeted\n"
     ]
    }
   ],
   "source": [
    "perc_neg_ret = (len(neg_sents.loc[neg_sents['retweet_count']>0])/len(neg_sents))* 100\n",
    "perc_pos_ret = (len(pos_sents.loc[pos_sents['retweet_count']>0])/len(pos_sents))* 100\n",
    "\n",
    "print(\"{:.2f}% of positive tweets were retweeted and {:.2f}% of negative tweets were retweeted\".format(perc_pos_ret,perc_neg_ret))"
   ]
  },
  {
   "cell_type": "markdown",
   "metadata": {},
   "source": [
    "# Bert SA-pipeline"
   ]
  },
  {
   "cell_type": "code",
   "execution_count": 70,
   "metadata": {},
   "outputs": [],
   "source": [
    "sa_pipeline = pipeline('sentiment-analysis')"
   ]
  },
  {
   "cell_type": "code",
   "execution_count": 71,
   "metadata": {},
   "outputs": [
    {
     "name": "stdout",
     "output_type": "stream",
     "text": [
      "Will try to live for a week offline... wish me luck! :D\n",
      "[{'label': 'POSITIVE', 'score': 0.866500198841095}]\n",
      "\n",
      "Boa tarde..\n",
      " (@shekinahbiscuit live on http://t.co/nU1N0NJJIJ)\n",
      "[{'label': 'NEGATIVE', 'score': 0.9955581426620483}]\n",
      "\n",
      "Phew... Valentine's day will be finally over in few hours\n",
      "[{'label': 'NEGATIVE', 'score': 0.9857021570205688}]\n",
      "\n",
      "up\n",
      " (@deiabiscuit32 live on http://t.co/J8uYVfLR)\n",
      "[{'label': 'NEGATIVE', 'score': 0.9937337636947632}]\n",
      "\n",
      "simmm\n",
      " (@deiabiscuit32 live on http://t.co/J8uYVfLR)\n",
      "[{'label': 'NEGATIVE', 'score': 0.9974138140678406}]\n",
      "\n",
      "ski everybody! (rock)\n",
      "[{'label': 'POSITIVE', 'score': 0.9946964383125305}]\n",
      "\n",
      "Wonders why there are so many ugly fat women on maury with sexy whores of men... How did that happen?!\n",
      "[{'label': 'NEGATIVE', 'score': 0.9961680769920349}]\n",
      "\n",
      "A new iOS version of #SmurfLife has arrived with new trainers &amp; quests! Update now to join the fun! @BeelineGames http://t.co/H2ugkjbBwZ\n",
      "[{'label': 'POSITIVE', 'score': 0.9560735821723938}]\n",
      "\n",
      "Have you been to the mountain? Reach new heights on the #SmurfVillage mountain! http://t.co/d9BVrqiU82 @BeelineGames\n",
      "[{'label': 'NEGATIVE', 'score': 0.8024985194206238}]\n",
      "\n",
      "Plant &amp; harvest all your space crops at once with Farmer Smurfs Moon Buggy tractor, coming soon to #SmurfsVillage! http://t.co/wPV94GMKx1\n",
      "[{'label': 'NEGATIVE', 'score': 0.9945492148399353}]\n",
      "\n"
     ]
    }
   ],
   "source": [
    "for i in range(10):\n",
    "    text = en_tweets['text'].iloc[i]\n",
    "    print(text)\n",
    "    prediction = sa_pipeline(text)\n",
    "    print(prediction)\n",
    "    print()"
   ]
  },
  {
   "cell_type": "markdown",
   "metadata": {},
   "source": [
    "----------------\n",
    "# Extra code\n",
    "\n",
    "-------------"
   ]
  },
  {
   "cell_type": "markdown",
   "metadata": {},
   "source": [
    "## Results with the raw tweets"
   ]
  },
  {
   "cell_type": "code",
   "execution_count": null,
   "metadata": {},
   "outputs": [],
   "source": [
    "#Initializing the Rule-based sentiment analyzer \n",
    "analyzer = SentimentIntensityAnalyzer()"
   ]
  },
  {
   "cell_type": "code",
   "execution_count": null,
   "metadata": {},
   "outputs": [],
   "source": [
    "en_tweets['sent_score'] = [analyzer.polarity_scores(x)['compound'] for x in en_tweets['text']]"
   ]
  },
  {
   "cell_type": "code",
   "execution_count": null,
   "metadata": {},
   "outputs": [],
   "source": [
    "def sentiment(scores):\n",
    "    sents = []\n",
    "    for score in scores:\n",
    "        if score >=0.05:\n",
    "            sent = 'pos'\n",
    "        elif score <=-0.05:\n",
    "            sent = 'neg'\n",
    "        elif abs(score) <0.05:\n",
    "            sent = 'neu'\n",
    "        sents.append(sent)\n",
    "    return sents"
   ]
  },
  {
   "cell_type": "code",
   "execution_count": null,
   "metadata": {},
   "outputs": [],
   "source": [
    "en_tweets['sentiment'] = sentiment(en_tweets.sent_score)"
   ]
  },
  {
   "cell_type": "code",
   "execution_count": null,
   "metadata": {},
   "outputs": [],
   "source": [
    "grouped_sents = en_tweets.groupby(by='sentiment')"
   ]
  },
  {
   "cell_type": "code",
   "execution_count": null,
   "metadata": {},
   "outputs": [],
   "source": [
    "print('Number of positive sentences:',sum(np.array(en_tweets['sent_score'])>=0.05))\n",
    "print('Number of negative sentences:',sum(np.array(en_tweets['sent_score'])<=-0.05))\n",
    "print('Number of neutral sentences:',sum(np.abs(np.array(en_tweets['sent_score']))<0.05))"
   ]
  },
  {
   "cell_type": "code",
   "execution_count": null,
   "metadata": {},
   "outputs": [],
   "source": [
    "plt.figure(figsize=(6,6))\n",
    "plt.bar(grouped_sents.size().index, grouped_sents.size().values, width=0.8)\n",
    "plt.xlabel('Sentiment')\n",
    "plt.ylabel('Number of Tweets')\n",
    "plt.show()"
   ]
  }
 ],
 "metadata": {
  "kernelspec": {
   "display_name": "Python 3",
   "language": "python",
   "name": "python3"
  },
  "language_info": {
   "codemirror_mode": {
    "name": "ipython",
    "version": 3
   },
   "file_extension": ".py",
   "mimetype": "text/x-python",
   "name": "python",
   "nbconvert_exporter": "python",
   "pygments_lexer": "ipython3",
   "version": "3.8.5"
  }
 },
 "nbformat": 4,
 "nbformat_minor": 4
}
