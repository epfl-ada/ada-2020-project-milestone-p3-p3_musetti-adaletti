{
 "cells": [
  {
   "cell_type": "markdown",
   "metadata": {},
   "source": [
    "# Creative Extension Analysis\n",
    "\n",
    "---\n"
   ]
  },
  {
   "cell_type": "code",
   "execution_count": 1,
   "metadata": {},
   "outputs": [],
   "source": [
    "# Importing the libraries\n",
    "import pandas as pd\n",
    "import numpy as np\n",
    "import matplotlib.pyplot as plt\n",
    "import seaborn as sns\n",
    "\n",
    "# Hiding the warnings\n",
    "import warnings; warnings.simplefilter('ignore')\n",
    "\n",
    "# Set random seed for consistency \n",
    "import random\n",
    "from numpy.random import seed as random_seed\n",
    "from numpy.random import shuffle as random_shuffle\n",
    "seed = 42\n",
    "random.seed(seed)\n",
    "np.random.seed(seed)\n",
    "\n",
    "# Importing RE (regular expression) module for preprocessing step\n",
    "import re\n",
    "\n",
    "# Natural Language Toolkits\n",
    "import nltk\n",
    "\n",
    "# Vader \n",
    "import vaderSentiment\n",
    "from vaderSentiment.vaderSentiment import SentimentIntensityAnalyzer\n",
    "\n",
    "#Bert sa-pipeline\n",
    "from transformers import pipeline\n",
    "\n",
    "#topic\n",
    "from empath import Empath\n",
    "import os.path\n",
    "\n",
    "from scipy import stats\n",
    "from datetime import datetime, date, time"
   ]
  },
  {
   "cell_type": "markdown",
   "metadata": {},
   "source": [
    "## Step 1. Data Collection\n",
    "___\n",
    "\n",
    "How we collected the data\n",
    "\n",
    "**DID YOU COLLECT ONLY DATA COMING FROM REAL USERS FROM THE DATASET IN THE ORIGINAL PAPER? IMPORTANT IF WE NEED TO REMOVE THEM**"
   ]
  },
  {
   "cell_type": "markdown",
   "metadata": {},
   "source": [
    "## Step 2. Data Loading & Data Organization\n",
    "___"
   ]
  },
  {
   "cell_type": "code",
   "execution_count": 2,
   "metadata": {},
   "outputs": [
    {
     "data": {
      "text/html": [
       "<div>\n",
       "<style scoped>\n",
       "    .dataframe tbody tr th:only-of-type {\n",
       "        vertical-align: middle;\n",
       "    }\n",
       "\n",
       "    .dataframe tbody tr th {\n",
       "        vertical-align: top;\n",
       "    }\n",
       "\n",
       "    .dataframe thead th {\n",
       "        text-align: right;\n",
       "    }\n",
       "</style>\n",
       "<table border=\"1\" class=\"dataframe\">\n",
       "  <thead>\n",
       "    <tr style=\"text-align: right;\">\n",
       "      <th></th>\n",
       "      <th>coordinates</th>\n",
       "      <th>created_at</th>\n",
       "      <th>hashtags</th>\n",
       "      <th>media</th>\n",
       "      <th>urls</th>\n",
       "      <th>favorite_count</th>\n",
       "      <th>id</th>\n",
       "      <th>in_reply_to_screen_name</th>\n",
       "      <th>in_reply_to_status_id</th>\n",
       "      <th>in_reply_to_user_id</th>\n",
       "      <th>...</th>\n",
       "      <th>user_followers_count</th>\n",
       "      <th>user_friends_count</th>\n",
       "      <th>user_listed_count</th>\n",
       "      <th>user_location</th>\n",
       "      <th>user_name</th>\n",
       "      <th>user_screen_name.1</th>\n",
       "      <th>user_statuses_count</th>\n",
       "      <th>user_time_zone</th>\n",
       "      <th>user_urls</th>\n",
       "      <th>user_verified</th>\n",
       "    </tr>\n",
       "  </thead>\n",
       "  <tbody>\n",
       "    <tr>\n",
       "      <th>0</th>\n",
       "      <td>NaN</td>\n",
       "      <td>Sun Feb 14 23:29:33 +0000 2010</td>\n",
       "      <td>NaN</td>\n",
       "      <td>NaN</td>\n",
       "      <td>NaN</td>\n",
       "      <td>0</td>\n",
       "      <td>9116606357</td>\n",
       "      <td>NaN</td>\n",
       "      <td>NaN</td>\n",
       "      <td>NaN</td>\n",
       "      <td>...</td>\n",
       "      <td>29</td>\n",
       "      <td>17</td>\n",
       "      <td>0</td>\n",
       "      <td>Sofia, Bulgaria</td>\n",
       "      <td>Ina Gerdjikova</td>\n",
       "      <td>InaGerdjikova</td>\n",
       "      <td>6</td>\n",
       "      <td>NaN</td>\n",
       "      <td>http://kutiazamisli.blogspot.com/</td>\n",
       "      <td>False</td>\n",
       "    </tr>\n",
       "    <tr>\n",
       "      <th>1</th>\n",
       "      <td>NaN</td>\n",
       "      <td>Fri Sep 24 20:40:25 +0000 2010</td>\n",
       "      <td>NaN</td>\n",
       "      <td>NaN</td>\n",
       "      <td>NaN</td>\n",
       "      <td>0</td>\n",
       "      <td>25437022568</td>\n",
       "      <td>NaN</td>\n",
       "      <td>NaN</td>\n",
       "      <td>NaN</td>\n",
       "      <td>...</td>\n",
       "      <td>12</td>\n",
       "      <td>9</td>\n",
       "      <td>0</td>\n",
       "      <td>NaN</td>\n",
       "      <td>Ana Paula Ribeiro</td>\n",
       "      <td>anadadal</td>\n",
       "      <td>7</td>\n",
       "      <td>NaN</td>\n",
       "      <td>NaN</td>\n",
       "      <td>False</td>\n",
       "    </tr>\n",
       "    <tr>\n",
       "      <th>2</th>\n",
       "      <td>NaN</td>\n",
       "      <td>Tue Jun 14 07:54:35 +0000 2011</td>\n",
       "      <td>NaN</td>\n",
       "      <td>NaN</td>\n",
       "      <td>http://kutiazamisli.blogspot.com/2011/06/blog-...</td>\n",
       "      <td>0</td>\n",
       "      <td>80543642816757761</td>\n",
       "      <td>NaN</td>\n",
       "      <td>NaN</td>\n",
       "      <td>NaN</td>\n",
       "      <td>...</td>\n",
       "      <td>29</td>\n",
       "      <td>17</td>\n",
       "      <td>0</td>\n",
       "      <td>Sofia, Bulgaria</td>\n",
       "      <td>Ina Gerdjikova</td>\n",
       "      <td>InaGerdjikova</td>\n",
       "      <td>6</td>\n",
       "      <td>NaN</td>\n",
       "      <td>http://kutiazamisli.blogspot.com/</td>\n",
       "      <td>False</td>\n",
       "    </tr>\n",
       "    <tr>\n",
       "      <th>3</th>\n",
       "      <td>NaN</td>\n",
       "      <td>Tue Aug 12 17:51:37 +0000 2014</td>\n",
       "      <td>NaN</td>\n",
       "      <td>NaN</td>\n",
       "      <td>http://twitcam.livestream.com/g7hpe</td>\n",
       "      <td>0</td>\n",
       "      <td>499251874256920577</td>\n",
       "      <td>NaN</td>\n",
       "      <td>NaN</td>\n",
       "      <td>NaN</td>\n",
       "      <td>...</td>\n",
       "      <td>12</td>\n",
       "      <td>9</td>\n",
       "      <td>0</td>\n",
       "      <td>NaN</td>\n",
       "      <td>Ana Paula Ribeiro</td>\n",
       "      <td>anadadal</td>\n",
       "      <td>7</td>\n",
       "      <td>NaN</td>\n",
       "      <td>NaN</td>\n",
       "      <td>False</td>\n",
       "    </tr>\n",
       "    <tr>\n",
       "      <th>4</th>\n",
       "      <td>NaN</td>\n",
       "      <td>Fri Oct 25 11:38:21 +0000 2013</td>\n",
       "      <td>SmurfsVillage</td>\n",
       "      <td>NaN</td>\n",
       "      <td>http://bit.ly/Smurf47</td>\n",
       "      <td>0</td>\n",
       "      <td>393703073228808192</td>\n",
       "      <td>NaN</td>\n",
       "      <td>NaN</td>\n",
       "      <td>NaN</td>\n",
       "      <td>...</td>\n",
       "      <td>6</td>\n",
       "      <td>17</td>\n",
       "      <td>0</td>\n",
       "      <td>Land of the happily single</td>\n",
       "      <td>sheena c wallace</td>\n",
       "      <td>sheasofly</td>\n",
       "      <td>268</td>\n",
       "      <td>NaN</td>\n",
       "      <td>NaN</td>\n",
       "      <td>False</td>\n",
       "    </tr>\n",
       "  </tbody>\n",
       "</table>\n",
       "<p>5 rows × 34 columns</p>\n",
       "</div>"
      ],
      "text/plain": [
       "  coordinates                      created_at       hashtags media  \\\n",
       "0         NaN  Sun Feb 14 23:29:33 +0000 2010            NaN   NaN   \n",
       "1         NaN  Fri Sep 24 20:40:25 +0000 2010            NaN   NaN   \n",
       "2         NaN  Tue Jun 14 07:54:35 +0000 2011            NaN   NaN   \n",
       "3         NaN  Tue Aug 12 17:51:37 +0000 2014            NaN   NaN   \n",
       "4         NaN  Fri Oct 25 11:38:21 +0000 2013  SmurfsVillage   NaN   \n",
       "\n",
       "                                                urls  favorite_count  \\\n",
       "0                                                NaN               0   \n",
       "1                                                NaN               0   \n",
       "2  http://kutiazamisli.blogspot.com/2011/06/blog-...               0   \n",
       "3                http://twitcam.livestream.com/g7hpe               0   \n",
       "4                              http://bit.ly/Smurf47               0   \n",
       "\n",
       "                   id in_reply_to_screen_name  in_reply_to_status_id  \\\n",
       "0          9116606357                     NaN                    NaN   \n",
       "1         25437022568                     NaN                    NaN   \n",
       "2   80543642816757761                     NaN                    NaN   \n",
       "3  499251874256920577                     NaN                    NaN   \n",
       "4  393703073228808192                     NaN                    NaN   \n",
       "\n",
       "   in_reply_to_user_id  ... user_followers_count user_friends_count  \\\n",
       "0                  NaN  ...                   29                 17   \n",
       "1                  NaN  ...                   12                  9   \n",
       "2                  NaN  ...                   29                 17   \n",
       "3                  NaN  ...                   12                  9   \n",
       "4                  NaN  ...                    6                 17   \n",
       "\n",
       "  user_listed_count               user_location          user_name  \\\n",
       "0                 0             Sofia, Bulgaria     Ina Gerdjikova   \n",
       "1                 0                         NaN  Ana Paula Ribeiro   \n",
       "2                 0             Sofia, Bulgaria     Ina Gerdjikova   \n",
       "3                 0                         NaN  Ana Paula Ribeiro   \n",
       "4                 0  Land of the happily single   sheena c wallace   \n",
       "\n",
       "  user_screen_name.1 user_statuses_count user_time_zone  \\\n",
       "0      InaGerdjikova                   6            NaN   \n",
       "1           anadadal                   7            NaN   \n",
       "2      InaGerdjikova                   6            NaN   \n",
       "3           anadadal                   7            NaN   \n",
       "4          sheasofly                 268            NaN   \n",
       "\n",
       "                           user_urls user_verified  \n",
       "0  http://kutiazamisli.blogspot.com/         False  \n",
       "1                                NaN         False  \n",
       "2  http://kutiazamisli.blogspot.com/         False  \n",
       "3                                NaN         False  \n",
       "4                                NaN         False  \n",
       "\n",
       "[5 rows x 34 columns]"
      ]
     },
     "execution_count": 2,
     "metadata": {},
     "output_type": "execute_result"
    }
   ],
   "source": [
    "# Loading the dataset\n",
    "\n",
    "tweets = pd.read_csv('./Data/tweets',low_memory=False)\n",
    "tweets.head()"
   ]
  },
  {
   "cell_type": "code",
   "execution_count": 3,
   "metadata": {},
   "outputs": [
    {
     "data": {
      "text/html": [
       "<div>\n",
       "<style scoped>\n",
       "    .dataframe tbody tr th:only-of-type {\n",
       "        vertical-align: middle;\n",
       "    }\n",
       "\n",
       "    .dataframe tbody tr th {\n",
       "        vertical-align: top;\n",
       "    }\n",
       "\n",
       "    .dataframe thead th {\n",
       "        text-align: right;\n",
       "    }\n",
       "</style>\n",
       "<table border=\"1\" class=\"dataframe\">\n",
       "  <thead>\n",
       "    <tr style=\"text-align: right;\">\n",
       "      <th></th>\n",
       "      <th>IsEgo</th>\n",
       "      <th>followers_count</th>\n",
       "      <th>friends_count</th>\n",
       "      <th>statuses_count</th>\n",
       "      <th>utc_offset</th>\n",
       "      <th>lang</th>\n",
       "      <th>created_at</th>\n",
       "      <th>protected</th>\n",
       "    </tr>\n",
       "    <tr>\n",
       "      <th>ID</th>\n",
       "      <th></th>\n",
       "      <th></th>\n",
       "      <th></th>\n",
       "      <th></th>\n",
       "      <th></th>\n",
       "      <th></th>\n",
       "      <th></th>\n",
       "      <th></th>\n",
       "    </tr>\n",
       "  </thead>\n",
       "  <tbody>\n",
       "    <tr>\n",
       "      <th>1</th>\n",
       "      <td>True</td>\n",
       "      <td>30.0</td>\n",
       "      <td>28</td>\n",
       "      <td>9.0</td>\n",
       "      <td>NaN</td>\n",
       "      <td>en</td>\n",
       "      <td>Wed Oct 26 03:30:32 +0000 2011</td>\n",
       "      <td>False</td>\n",
       "    </tr>\n",
       "    <tr>\n",
       "      <th>2</th>\n",
       "      <td>True</td>\n",
       "      <td>2.0</td>\n",
       "      <td>8</td>\n",
       "      <td>7.0</td>\n",
       "      <td>-14400.0</td>\n",
       "      <td>en</td>\n",
       "      <td>Mon Jul 27 20:46:32 +0000 2009</td>\n",
       "      <td>False</td>\n",
       "    </tr>\n",
       "    <tr>\n",
       "      <th>3</th>\n",
       "      <td>True</td>\n",
       "      <td>1.0</td>\n",
       "      <td>0</td>\n",
       "      <td>0.0</td>\n",
       "      <td>NaN</td>\n",
       "      <td>fr</td>\n",
       "      <td>Mon Apr 23 20:57:26 +0000 2012</td>\n",
       "      <td>False</td>\n",
       "    </tr>\n",
       "  </tbody>\n",
       "</table>\n",
       "</div>"
      ],
      "text/plain": [
       "    IsEgo  followers_count  friends_count  statuses_count  utc_offset lang  \\\n",
       "ID                                                                           \n",
       "1    True             30.0             28             9.0         NaN   en   \n",
       "2    True              2.0              8             7.0    -14400.0   en   \n",
       "3    True              1.0              0             0.0         NaN   fr   \n",
       "\n",
       "                        created_at  protected  \n",
       "ID                                             \n",
       "1   Wed Oct 26 03:30:32 +0000 2011      False  \n",
       "2   Mon Jul 27 20:46:32 +0000 2009      False  \n",
       "3   Mon Apr 23 20:57:26 +0000 2012      False  "
      ]
     },
     "execution_count": 3,
     "metadata": {},
     "output_type": "execute_result"
    }
   ],
   "source": [
    "#reading in the dataframe\n",
    "ego_alt_prof = pd.read_csv('./Data/EgoAlterProfiles.txt', delimiter = \"\\t\").set_index('ID')\n",
    "\n",
    "#visualize that the dataframe was imported correctly\n",
    "ego_alt_prof.head(3)"
   ]
  },
  {
   "cell_type": "code",
   "execution_count": 4,
   "metadata": {},
   "outputs": [
    {
     "data": {
      "text/html": [
       "<div>\n",
       "<style scoped>\n",
       "    .dataframe tbody tr th:only-of-type {\n",
       "        vertical-align: middle;\n",
       "    }\n",
       "\n",
       "    .dataframe tbody tr th {\n",
       "        vertical-align: top;\n",
       "    }\n",
       "\n",
       "    .dataframe thead th {\n",
       "        text-align: right;\n",
       "    }\n",
       "</style>\n",
       "<table border=\"1\" class=\"dataframe\">\n",
       "  <thead>\n",
       "    <tr style=\"text-align: right;\">\n",
       "      <th></th>\n",
       "      <th>replyto_userid</th>\n",
       "      <th>retweeted_userid</th>\n",
       "      <th>id</th>\n",
       "      <th>tweetid</th>\n",
       "      <th>created_at</th>\n",
       "      <th>hashtags</th>\n",
       "      <th>urls</th>\n",
       "      <th>mentions_ids</th>\n",
       "      <th>retweet_count</th>\n",
       "      <th>egoID</th>\n",
       "      <th>retweetedUserID</th>\n",
       "      <th>replytoUserID</th>\n",
       "      <th>metionID</th>\n",
       "    </tr>\n",
       "  </thead>\n",
       "  <tbody>\n",
       "    <tr>\n",
       "      <th>0</th>\n",
       "      <td>NaN</td>\n",
       "      <td>NaN</td>\n",
       "      <td>398477318</td>\n",
       "      <td>249552537051598848</td>\n",
       "      <td>Sat Sep 22 16:55:35 +0000 2012</td>\n",
       "      <td>NaN</td>\n",
       "      <td>NaN</td>\n",
       "      <td>2810549959</td>\n",
       "      <td>0</td>\n",
       "      <td>1</td>\n",
       "      <td>NaN</td>\n",
       "      <td>NaN</td>\n",
       "      <td>NaN</td>\n",
       "    </tr>\n",
       "    <tr>\n",
       "      <th>1</th>\n",
       "      <td>NaN</td>\n",
       "      <td>NaN</td>\n",
       "      <td>398477318</td>\n",
       "      <td>249537963145433088</td>\n",
       "      <td>Sat Sep 22 15:57:41 +0000 2012</td>\n",
       "      <td>NaN</td>\n",
       "      <td>NaN</td>\n",
       "      <td>2810549959</td>\n",
       "      <td>0</td>\n",
       "      <td>1</td>\n",
       "      <td>NaN</td>\n",
       "      <td>NaN</td>\n",
       "      <td>NaN</td>\n",
       "    </tr>\n",
       "    <tr>\n",
       "      <th>2</th>\n",
       "      <td>NaN</td>\n",
       "      <td>NaN</td>\n",
       "      <td>398477318</td>\n",
       "      <td>129377372209299456</td>\n",
       "      <td>Thu Oct 27 02:02:23 +0000 2011</td>\n",
       "      <td>NaN</td>\n",
       "      <td>NaN</td>\n",
       "      <td>NaN</td>\n",
       "      <td>0</td>\n",
       "      <td>1</td>\n",
       "      <td>NaN</td>\n",
       "      <td>NaN</td>\n",
       "      <td>NaN</td>\n",
       "    </tr>\n",
       "  </tbody>\n",
       "</table>\n",
       "</div>"
      ],
      "text/plain": [
       "   replyto_userid  retweeted_userid         id             tweetid  \\\n",
       "0             NaN               NaN  398477318  249552537051598848   \n",
       "1             NaN               NaN  398477318  249537963145433088   \n",
       "2             NaN               NaN  398477318  129377372209299456   \n",
       "\n",
       "                       created_at hashtags urls mentions_ids  retweet_count  \\\n",
       "0  Sat Sep 22 16:55:35 +0000 2012      NaN  NaN   2810549959              0   \n",
       "1  Sat Sep 22 15:57:41 +0000 2012      NaN  NaN   2810549959              0   \n",
       "2  Thu Oct 27 02:02:23 +0000 2011      NaN  NaN          NaN              0   \n",
       "\n",
       "   egoID  retweetedUserID  replytoUserID metionID  \n",
       "0      1              NaN            NaN      NaN  \n",
       "1      1              NaN            NaN      NaN  \n",
       "2      1              NaN            NaN      NaN  "
      ]
     },
     "execution_count": 4,
     "metadata": {},
     "output_type": "execute_result"
    }
   ],
   "source": [
    "#reading in the dataframe using the encoding found in the previous cell\n",
    "ego_timelines = pd.read_csv('./Data/EgoTimelines.txt', encoding = \"ISO-8859-1\",delimiter = \"\\t\")\n",
    "\n",
    "#visualize that the dataframe was imported correctly\n",
    "ego_timelines.head(3)"
   ]
  },
  {
   "cell_type": "code",
   "execution_count": 5,
   "metadata": {},
   "outputs": [
    {
     "data": {
      "text/html": [
       "<div>\n",
       "<style scoped>\n",
       "    .dataframe tbody tr th:only-of-type {\n",
       "        vertical-align: middle;\n",
       "    }\n",
       "\n",
       "    .dataframe tbody tr th {\n",
       "        vertical-align: top;\n",
       "    }\n",
       "\n",
       "    .dataframe thead th {\n",
       "        text-align: right;\n",
       "    }\n",
       "</style>\n",
       "<table border=\"1\" class=\"dataframe\">\n",
       "  <thead>\n",
       "    <tr style=\"text-align: right;\">\n",
       "      <th></th>\n",
       "      <th>tweetid</th>\n",
       "      <th>utc_offset</th>\n",
       "    </tr>\n",
       "  </thead>\n",
       "  <tbody>\n",
       "    <tr>\n",
       "      <th>0</th>\n",
       "      <td>249552537051598848</td>\n",
       "      <td>NaN</td>\n",
       "    </tr>\n",
       "    <tr>\n",
       "      <th>1</th>\n",
       "      <td>249537963145433088</td>\n",
       "      <td>NaN</td>\n",
       "    </tr>\n",
       "    <tr>\n",
       "      <th>2</th>\n",
       "      <td>129377372209299456</td>\n",
       "      <td>NaN</td>\n",
       "    </tr>\n",
       "    <tr>\n",
       "      <th>3</th>\n",
       "      <td>302401054690140160</td>\n",
       "      <td>NaN</td>\n",
       "    </tr>\n",
       "    <tr>\n",
       "      <th>4</th>\n",
       "      <td>249538739611787264</td>\n",
       "      <td>NaN</td>\n",
       "    </tr>\n",
       "  </tbody>\n",
       "</table>\n",
       "</div>"
      ],
      "text/plain": [
       "              tweetid  utc_offset\n",
       "0  249552537051598848         NaN\n",
       "1  249537963145433088         NaN\n",
       "2  129377372209299456         NaN\n",
       "3  302401054690140160         NaN\n",
       "4  249538739611787264         NaN"
      ]
     },
     "execution_count": 5,
     "metadata": {},
     "output_type": "execute_result"
    }
   ],
   "source": [
    "#merging dataframes to add utc_offset column\n",
    "ego_merge = pd.merge(ego_timelines,ego_alt_prof['utc_offset'], how='inner', left_on='egoID',\\\n",
    "                     right_on=ego_alt_prof.index)\n",
    "\n",
    "#only keep columns useful to the replciation\n",
    "ego_merge = ego_merge[['tweetid', 'utc_offset']]\n",
    "\n",
    "#visualize resulting dataframe\n",
    "ego_merge.head(5)"
   ]
  },
  {
   "cell_type": "markdown",
   "metadata": {},
   "source": [
    "\n",
    "## Step 3. Data Preprocessing\n",
    "\n",
    "\n",
    "---\n",
    "\n",
    "First, we are going to select only english tweets and delete repetitive tweets.\n",
    "\n",
    "Then, we are going to apply some essential steps useful in any natural language processing (NLP) task.\n",
    "\n",
    "- **Tokenizing**, convert character string into sequence of tokens, that is words separated by white spaces. Tokenicazion in text such as tweets is or crucial importance. Indeed, we can find punctuation marks such as *!?* or *:-)* that we will like tokeep together because they have a intrinsic meaning. We do not want to separe them. Tokenization in twitter is quite straithforward, and on Python it can be implemented with the nltk library.\n",
    "\n",
    "- The dedicated toolkits will be used as a part of the preprocessing process [TweetNLP](https://www.cs.cmu.edu/~ark/TweetNLP/#pos_down). In social media it is common to find mispelled words, the repetition of letters or syllabes (\"lololol\", \"ahahahah\", \"yeaahhhh\") and abbreviation and slang (\"idk\" for I don't know, or \"imo\" for in my opinion). To deal with this variabilities we need packages created only for social media.\n"
   ]
  },
  {
   "cell_type": "markdown",
   "metadata": {},
   "source": [
    "### Step 3.1: Tweets Cleaning Step\n",
    "Filtering out the inadequate tweets for the analysis.\n",
    "___"
   ]
  },
  {
   "cell_type": "code",
   "execution_count": 6,
   "metadata": {},
   "outputs": [
    {
     "name": "stdout",
     "output_type": "stream",
     "text": [
      "In total there are 1609389 tweets.\n"
     ]
    }
   ],
   "source": [
    "# Exploring the dataset\n",
    "\n",
    "print(f\"In total there are {len(tweets)} tweets.\")"
   ]
  },
  {
   "cell_type": "markdown",
   "metadata": {},
   "source": [
    "For this analysis we are only concerned with english tweets, so we need to filter the data using the language information"
   ]
  },
  {
   "cell_type": "code",
   "execution_count": 7,
   "metadata": {},
   "outputs": [
    {
     "name": "stdout",
     "output_type": "stream",
     "text": [
      "In total there are 1093122 english tweets.\n"
     ]
    }
   ],
   "source": [
    "# Selecting only english tweets\n",
    "\n",
    "en_tweets = tweets.loc[tweets['lang']=='en']\n",
    "print(f\"In total there are {len(en_tweets)} english tweets.\")"
   ]
  },
  {
   "cell_type": "markdown",
   "metadata": {},
   "source": [
    "We also want to drop duplicate tweets. The reason for this is because if a tweet is repeated many times, then it is most likely due to a bot account. With this analysis we are concern with the sentiment of real users, so data from bot accounts could disrupt the results"
   ]
  },
  {
   "cell_type": "code",
   "execution_count": 8,
   "metadata": {},
   "outputs": [
    {
     "data": {
      "text/plain": [
       "text\n",
       "IF U HAVE A FACEBOOK ACCOUNT,PLZ TELL ME UR ACCOUNTNAME&lt;333 U U TELL ME IT WHEN I TELL U MINE:)    2738\n",
       "Here is a neat little package to create banners  http://perfecttrafficstorm.com/links/19768            171\n",
       "Check this Out  http://perfecttrafficstorm.com/links/19778                                             170\n",
       "Grab this package of articles    http://perfecttrafficstorm.com/links/19769                            169\n",
       "Check out the PLR CHEATER http://perfecttrafficstorm.com/links/19773                                   169\n",
       "dtype: int64"
      ]
     },
     "execution_count": 8,
     "metadata": {},
     "output_type": "execute_result"
    }
   ],
   "source": [
    "# Demonstrating examples of duplicate tweets\n",
    "en_tweets.value_counts(subset = 'text', sort = True)[0:5]\n"
   ]
  },
  {
   "cell_type": "code",
   "execution_count": 9,
   "metadata": {},
   "outputs": [
    {
     "name": "stdout",
     "output_type": "stream",
     "text": [
      "After dropping the duplicates, there are 1054619 english tweets.\n"
     ]
    }
   ],
   "source": [
    "# Dropping all duplicates tweets\n",
    "en_tweets.drop_duplicates(subset=['text'], keep = False, inplace = True)\n",
    "print(f\"After dropping the duplicates, there are {len(en_tweets)} english tweets.\")\n"
   ]
  },
  {
   "cell_type": "code",
   "execution_count": 10,
   "metadata": {},
   "outputs": [
    {
     "name": "stdout",
     "output_type": "stream",
     "text": [
      "There are a total of 6167 users which posted 1054619 english tweets.\n"
     ]
    },
    {
     "data": {
      "text/plain": [
       "user_name\n",
       "michelle              3906\n",
       "Austin Health Jobs    3197\n",
       "Mark Whittington      3189\n",
       "Games For Pro         3188\n",
       "BELIVE ADULT          3162\n",
       "dtype: int64"
      ]
     },
     "execution_count": 10,
     "metadata": {},
     "output_type": "execute_result"
    }
   ],
   "source": [
    "# Checking how many users we have \n",
    "usernames = en_tweets.value_counts(subset = 'user_name', sort = True)\n",
    "print(f\"There are a total of {len(usernames)} users which posted {len(en_tweets)} english tweets.\")\n",
    "usernames.head(5)\n"
   ]
  },
  {
   "cell_type": "code",
   "execution_count": 11,
   "metadata": {},
   "outputs": [
    {
     "name": "stdout",
     "output_type": "stream",
     "text": [
      "Will try to live for a week offline... wish me luck! :D\n",
      "Boa tarde..\n",
      " (@shekinahbiscuit live on http://t.co/nU1N0NJJIJ)\n"
     ]
    }
   ],
   "source": [
    "# Giving a look to some tweet texts\n",
    "\n",
    "print(en_tweets.text.iloc[0])\n",
    "print(en_tweets.text.iloc[1])\n"
   ]
  },
  {
   "cell_type": "markdown",
   "metadata": {},
   "source": [
    "### Step 3.2:  Noise Removal Step\n",
    "We will remove special characters from the tweets that could affect the VADER analyser but being careful to not remove any important feature which can help in understanding better the sentiment of the tweets. \n",
    "\n",
    "For example, we will not perform  **letter casing**, that is converting all letters in lower case. Indeed, in text such as tweets often the upper case is used to emphatise a concept: great and GREAT have a different sentiment intensity. In addition to that, as we have seen in class, casefolding could create confusion between words such as apple and Apple.  \n",
    "\n",
    "\n",
    "On the contrary, we will remove unwanted characters such as URLs (“http://url”), user mentions @ (\"@username\") and hashtags symbols # (we will keep however the word of the hashtag because it might contain useful information). To do that, we follow the steps of [Shihab Elbagir and Jing Yang](http://www.iaeng.org/publication/IMECS2019/IMECS2019_pp12-16.pdf) and \n",
    "[Toni Pano and Rasha Kashef](https://www.mdpi.com/2504-2289/4/4/33).\n",
    "\n",
    "We will also keep the \"...\" because they can give some insights of the tweet.\n",
    "\n",
    "**In the paper they also remove “RT @username.”. I would do the same bacause we are extrapolating the RT from the relative columns but i want to ask you before. ALso they removed numbers, but i don't think it is a big deal having them**\n",
    "___"
   ]
  },
  {
   "cell_type": "code",
   "execution_count": 12,
   "metadata": {},
   "outputs": [],
   "source": [
    "## Noise Removal \n",
    "\n",
    "# Using the RE (regular expression) module and the replace function to remove the unwanted characters.\n",
    "\n",
    "# Parameters for re.sub function:\n",
    "# 'r' added to not handle backslashes in any special way in the following string\n",
    "# https? will match either ‘http’ or ‘https’\n",
    "# https?:\\/\\/ will match any \"http://\" and \"https://\" in the following string\n",
    "# \\S Returns a match when the string does not contain a white space character inside. \n",
    "    # Indeed, we want to keep the test that follows the URL.\n",
    "# * Needed to select the whole text when no white spaces in the middle\n",
    "\n",
    "\n",
    "\n",
    "clean_tweets = [] \n",
    "for i in range(len(en_tweets)):\n",
    "    \n",
    "    # Selecting one tweet\n",
    "    text_i = en_tweets.text.iloc[i]\n",
    "        \n",
    "    # Replacing the URL with a white space\n",
    "    text_i = re.sub(r'https?:\\/\\/\\S*', '', text_i, flags = re.MULTILINE)\n",
    "    \n",
    "    # Replacing the www. with a white space\n",
    "    text_i = re.sub(r'www.\\S*', '', text_i, flags = re.MULTILINE)\n",
    "    \n",
    "    # Replacing the RT retweet RT @username with a white space\n",
    "    text_i = re.sub(r'RT @\\S*', '', text_i, flags = re.MULTILINE)\n",
    "    \n",
    "    # Replacing the user mention @username with a white space\n",
    "    # This needs to go after the \"RT @username\" removal\n",
    "    text_i = re.sub(r'@\\S*', '', text_i, flags = re.MULTILINE)\n",
    "    \n",
    "    # Replacing the hashtag symbol # with a white space\n",
    "    text_i = text_i.replace(\"#\", \"\")\n",
    "    \n",
    "    # Replacing the \\n (new line) with a white space\n",
    "    text_i = text_i.replace(\"\\n\", \"\")\n",
    "    \n",
    "    # append the cleaned tweet to the list previously initialized\n",
    "    clean_tweets.append(text_i) \n",
    "\n",
    "    \n",
    "# Add the new column to the original df\n",
    "en_tweets['clean_tweets'] = clean_tweets"
   ]
  },
  {
   "cell_type": "code",
   "execution_count": 13,
   "metadata": {},
   "outputs": [
    {
     "name": "stdout",
     "output_type": "stream",
     "text": [
      " Sometimes you gotta accept the fact that certain things will never go back to how they use to be.\n",
      "@nmabadeje abi, sha nw even jst boxers no de allowed \n",
      "\n",
      " Hi lovely 💕  You are my world, my life, my love.  I'm so proud of you,You follow me please? don't ign…\n",
      "RT @ofcourseimjk: it's the weekend http://t.co/GciT2IGvSW\n"
     ]
    }
   ],
   "source": [
    "print(clean_tweets[55656])\n",
    "print(en_tweets.text[55656],'\\n')\n",
    "\n",
    "print(clean_tweets[1054615])\n",
    "print(en_tweets.text[1054615])"
   ]
  },
  {
   "cell_type": "code",
   "execution_count": 14,
   "metadata": {},
   "outputs": [
    {
     "name": "stdout",
     "output_type": "stream",
     "text": [
      "Have you been to the mountain? Reach new heights on the #SmurfVillage mountain! http://t.co/d9BVrqiU82 @BeelineGames\n",
      "Have you been to the mountain? Reach new heights on the SmurfVillage mountain!   \n",
      "\n",
      "Boa tarde.. ( live on \n"
     ]
    },
    {
     "data": {
      "text/plain": [
       "'Boa tarde..\\n (@shekinahbiscuit live on http://t.co/nU1N0NJJIJ)'"
      ]
     },
     "execution_count": 14,
     "metadata": {},
     "output_type": "execute_result"
    }
   ],
   "source": [
    "# compare before and after preprocessing with a tweet that contains all of them.\n",
    "print(en_tweets.text.iloc[8])\n",
    "print(clean_tweets[8],'\\n')\n",
    "\n",
    "print(clean_tweets[1])\n",
    "en_tweets.text.iloc[1] # to see the \\n, if we print do not see it"
   ]
  },
  {
   "cell_type": "markdown",
   "metadata": {},
   "source": [
    "### Step 3.3:  Tokenization and stop words removal\n",
    "___\n",
    "\n",
    "The removal of stop words requires before the tokenzation. We want to remove any stop word that the VADER's dictionary does not use ([Toni Pano and Rasha Kashef](https://www.mdpi.com/2504-2289/4/4/33)). Indeed, we need to be careful when deleting stop word from a text that will be analysed by pre-computed sentiment analysis libraries. It can be detrimental for the sentiment scores."
   ]
  },
  {
   "cell_type": "code",
   "execution_count": 15,
   "metadata": {},
   "outputs": [],
   "source": [
    "import typing # maybe find a better way for it"
   ]
  },
  {
   "cell_type": "code",
   "execution_count": 16,
   "metadata": {},
   "outputs": [
    {
     "name": "stdout",
     "output_type": "stream",
     "text": [
      "['i', 'me', 'my', 'myself', 'we', 'our', 'ours', 'ourselves', 'you', \"you're\", \"you've\", \"you'll\", \"you'd\", 'your', 'yours', 'yourself', 'yourselves', 'he', 'him', 'his', 'himself', 'she', \"she's\", 'her', 'hers', 'herself', 'it', \"it's\", 'its', 'itself', 'they', 'them', 'their', 'theirs', 'themselves', 'what', 'which', 'who', 'whom', 'this', 'that', \"that'll\", 'these', 'those', 'am', 'is', 'are', 'was', 'were', 'be', 'been', 'being', 'have', 'has', 'had', 'having', 'do', 'does', 'did', 'doing', 'a', 'an', 'the', 'and', 'but', 'if', 'or', 'because', 'as', 'until', 'while', 'of', 'at', 'by', 'for', 'with', 'about', 'against', 'between', 'into', 'through', 'during', 'before', 'after', 'above', 'below', 'to', 'from', 'up', 'down', 'in', 'out', 'on', 'off', 'over', 'under', 'again', 'further', 'then', 'once', 'here', 'there', 'when', 'where', 'why', 'how', 'all', 'any', 'both', 'each', 'few', 'more', 'most', 'other', 'some', 'such', 'no', 'nor', 'not', 'only', 'own', 'same', 'so', 'than', 'too', 'very', 's', 't', 'can', 'will', 'just', 'don', \"don't\", 'should', \"should've\", 'now', 'd', 'll', 'm', 'o', 're', 've', 'y', 'ain', 'aren', \"aren't\", 'couldn', \"couldn't\", 'didn', \"didn't\", 'doesn', \"doesn't\", 'hadn', \"hadn't\", 'hasn', \"hasn't\", 'haven', \"haven't\", 'isn', \"isn't\", 'ma', 'mightn', \"mightn't\", 'mustn', \"mustn't\", 'needn', \"needn't\", 'shan', \"shan't\", 'shouldn', \"shouldn't\", 'wasn', \"wasn't\", 'weren', \"weren't\", 'won', \"won't\", 'wouldn', \"wouldn't\"]\n"
     ]
    }
   ],
   "source": [
    "# Classical english stop words\n",
    "\n",
    "from nltk.corpus import stopwords\n",
    "stopcorpus: typing.List = stopwords.words('english')\n",
    "print(stopcorpus)\n"
   ]
  },
  {
   "cell_type": "markdown",
   "metadata": {},
   "source": [
    "As you can see, between these stop words there are some which are actually useful for our goal. For example \"very\" and \"most\" can increase the tweet sentiment intensity. Therefore, we need to define a custom list of stopwords. "
   ]
  },
  {
   "cell_type": "code",
   "execution_count": 17,
   "metadata": {},
   "outputs": [],
   "source": [
    "# Selecting the customed list of stopwords\n",
    "\n",
    "with open(\"helpers/stopwords.txt\") as f:\n",
    "    customed_stop_words = list(map(lambda x: x[:-1], f.readlines()))"
   ]
  },
  {
   "cell_type": "code",
   "execution_count": 18,
   "metadata": {},
   "outputs": [],
   "source": [
    "# function to remove the stop words\n",
    "\n",
    "def remove_words(text_data: str, words_to_remove: typing.List):\n",
    "    return [item for item in text_data if item not in words_to_remove]"
   ]
  },
  {
   "cell_type": "code",
   "execution_count": 19,
   "metadata": {},
   "outputs": [
    {
     "data": {
      "text/plain": [
       "0          [Will, try, live, week, offline..., wish, luck...\n",
       "3                                    [Boa, tarde.., (, live]\n",
       "8                [Phew..., Valentine's, day, finally, hours]\n",
       "9                                                  [(, live]\n",
       "11                                          [simmm, (, live]\n",
       "                                 ...                        \n",
       "1609378                            [carry, fantasy, victory]\n",
       "1609385    [Hi, lovely, 💕, You, world,, life,, love., I'm...\n",
       "1609386    [\"Many, things, Satanism, offensive.\", -, Thin...\n",
       "1609387                    [Smite, ArtemisStalkerSkin, Free]\n",
       "1609388    [New, Ministry, of, Magic, song!, :D, &lt;3, I...\n",
       "Name: clean_tweets, Length: 1054619, dtype: object"
      ]
     },
     "execution_count": 19,
     "metadata": {},
     "output_type": "execute_result"
    }
   ],
   "source": [
    "# Applying filter for stop words and visualizing them \n",
    "\n",
    "tweets_no_sw = en_tweets.clean_tweets.astype(str).apply(lambda x: remove_words(x.split(),customed_stop_words))\n",
    "tweets_no_sw"
   ]
  },
  {
   "cell_type": "code",
   "execution_count": 20,
   "metadata": {},
   "outputs": [
    {
     "name": "stdout",
     "output_type": "stream",
     "text": [
      "Seafood salad and fried chicken and sweet tea I'm hype. Now to cook it!!!\n",
      "['Seafood', 'salad', 'fried', 'chicken', 'sweet', 'tea', \"I'm\", 'hype.', 'Now', 'cook', 'it!!!']\n"
     ]
    }
   ],
   "source": [
    "# Removing the stop words already does toketization... but the !!! stays with it,\n",
    "# it shouldnt be this way i guess\n",
    "\n",
    "print(en_tweets.clean_tweets.iloc[14])\n",
    "print(tweets_no_sw.iloc[14])"
   ]
  },
  {
   "cell_type": "markdown",
   "metadata": {},
   "source": [
    "Now we have a series of list. To use the Sentiment Analyzer VADER we need to convert it to a string."
   ]
  },
  {
   "cell_type": "code",
   "execution_count": 21,
   "metadata": {},
   "outputs": [],
   "source": [
    "# From list to string\n",
    "\n",
    "def listToString(tweet_list):  \n",
    "    # initialize an empty string \n",
    "    str1 = \" \" \n",
    "    # return string   \n",
    "    return (str1.join(tweet_list)) \n",
    "\n",
    "tweets_no_sw_string = []\n",
    "for i in tweets_no_sw:\n",
    "    no_sw = listToString(i)\n",
    "    tweets_no_sw_string.append(no_sw)"
   ]
  },
  {
   "cell_type": "code",
   "execution_count": 22,
   "metadata": {},
   "outputs": [
    {
     "data": {
      "text/html": [
       "<div>\n",
       "<style scoped>\n",
       "    .dataframe tbody tr th:only-of-type {\n",
       "        vertical-align: middle;\n",
       "    }\n",
       "\n",
       "    .dataframe tbody tr th {\n",
       "        vertical-align: top;\n",
       "    }\n",
       "\n",
       "    .dataframe thead th {\n",
       "        text-align: right;\n",
       "    }\n",
       "</style>\n",
       "<table border=\"1\" class=\"dataframe\">\n",
       "  <thead>\n",
       "    <tr style=\"text-align: right;\">\n",
       "      <th></th>\n",
       "      <th>coordinates</th>\n",
       "      <th>created_at</th>\n",
       "      <th>hashtags</th>\n",
       "      <th>media</th>\n",
       "      <th>urls</th>\n",
       "      <th>favorite_count</th>\n",
       "      <th>id</th>\n",
       "      <th>in_reply_to_screen_name</th>\n",
       "      <th>in_reply_to_status_id</th>\n",
       "      <th>in_reply_to_user_id</th>\n",
       "      <th>...</th>\n",
       "      <th>user_listed_count</th>\n",
       "      <th>user_location</th>\n",
       "      <th>user_name</th>\n",
       "      <th>user_screen_name.1</th>\n",
       "      <th>user_statuses_count</th>\n",
       "      <th>user_time_zone</th>\n",
       "      <th>user_urls</th>\n",
       "      <th>user_verified</th>\n",
       "      <th>clean_tweets</th>\n",
       "      <th>no_sw_tweets</th>\n",
       "    </tr>\n",
       "  </thead>\n",
       "  <tbody>\n",
       "    <tr>\n",
       "      <th>0</th>\n",
       "      <td>NaN</td>\n",
       "      <td>Sun Feb 14 23:29:33 +0000 2010</td>\n",
       "      <td>NaN</td>\n",
       "      <td>NaN</td>\n",
       "      <td>NaN</td>\n",
       "      <td>0</td>\n",
       "      <td>9116606357</td>\n",
       "      <td>NaN</td>\n",
       "      <td>NaN</td>\n",
       "      <td>NaN</td>\n",
       "      <td>...</td>\n",
       "      <td>0</td>\n",
       "      <td>Sofia, Bulgaria</td>\n",
       "      <td>Ina Gerdjikova</td>\n",
       "      <td>InaGerdjikova</td>\n",
       "      <td>6</td>\n",
       "      <td>NaN</td>\n",
       "      <td>http://kutiazamisli.blogspot.com/</td>\n",
       "      <td>False</td>\n",
       "      <td>Will try to live for a week offline... wish me...</td>\n",
       "      <td>Will try live week offline... wish luck! :D</td>\n",
       "    </tr>\n",
       "    <tr>\n",
       "      <th>3</th>\n",
       "      <td>NaN</td>\n",
       "      <td>Tue Aug 12 17:51:37 +0000 2014</td>\n",
       "      <td>NaN</td>\n",
       "      <td>NaN</td>\n",
       "      <td>http://twitcam.livestream.com/g7hpe</td>\n",
       "      <td>0</td>\n",
       "      <td>499251874256920577</td>\n",
       "      <td>NaN</td>\n",
       "      <td>NaN</td>\n",
       "      <td>NaN</td>\n",
       "      <td>...</td>\n",
       "      <td>0</td>\n",
       "      <td>NaN</td>\n",
       "      <td>Ana Paula Ribeiro</td>\n",
       "      <td>anadadal</td>\n",
       "      <td>7</td>\n",
       "      <td>NaN</td>\n",
       "      <td>NaN</td>\n",
       "      <td>False</td>\n",
       "      <td>Boa tarde.. ( live on</td>\n",
       "      <td>Boa tarde.. ( live</td>\n",
       "    </tr>\n",
       "    <tr>\n",
       "      <th>8</th>\n",
       "      <td>NaN</td>\n",
       "      <td>Sun Feb 14 18:46:26 +0000 2010</td>\n",
       "      <td>NaN</td>\n",
       "      <td>NaN</td>\n",
       "      <td>NaN</td>\n",
       "      <td>0</td>\n",
       "      <td>9107804301</td>\n",
       "      <td>NaN</td>\n",
       "      <td>NaN</td>\n",
       "      <td>NaN</td>\n",
       "      <td>...</td>\n",
       "      <td>0</td>\n",
       "      <td>Sofia, Bulgaria</td>\n",
       "      <td>Ina Gerdjikova</td>\n",
       "      <td>InaGerdjikova</td>\n",
       "      <td>6</td>\n",
       "      <td>NaN</td>\n",
       "      <td>http://kutiazamisli.blogspot.com/</td>\n",
       "      <td>False</td>\n",
       "      <td>Phew... Valentine's day will be finally over i...</td>\n",
       "      <td>Phew... Valentine's day finally hours</td>\n",
       "    </tr>\n",
       "    <tr>\n",
       "      <th>9</th>\n",
       "      <td>NaN</td>\n",
       "      <td>Fri Sep 28 19:07:04 +0000 2012</td>\n",
       "      <td>NaN</td>\n",
       "      <td>NaN</td>\n",
       "      <td>http://twitcam.livestream.com/c7fe0</td>\n",
       "      <td>0</td>\n",
       "      <td>251759950655791105</td>\n",
       "      <td>NaN</td>\n",
       "      <td>NaN</td>\n",
       "      <td>NaN</td>\n",
       "      <td>...</td>\n",
       "      <td>0</td>\n",
       "      <td>NaN</td>\n",
       "      <td>Ana Paula Ribeiro</td>\n",
       "      <td>anadadal</td>\n",
       "      <td>7</td>\n",
       "      <td>NaN</td>\n",
       "      <td>NaN</td>\n",
       "      <td>False</td>\n",
       "      <td>up ( live on</td>\n",
       "      <td>( live</td>\n",
       "    </tr>\n",
       "    <tr>\n",
       "      <th>11</th>\n",
       "      <td>NaN</td>\n",
       "      <td>Fri Sep 28 19:05:53 +0000 2012</td>\n",
       "      <td>NaN</td>\n",
       "      <td>NaN</td>\n",
       "      <td>http://twitcam.livestream.com/c7fe0</td>\n",
       "      <td>0</td>\n",
       "      <td>251759653464199168</td>\n",
       "      <td>NaN</td>\n",
       "      <td>NaN</td>\n",
       "      <td>NaN</td>\n",
       "      <td>...</td>\n",
       "      <td>0</td>\n",
       "      <td>NaN</td>\n",
       "      <td>Ana Paula Ribeiro</td>\n",
       "      <td>anadadal</td>\n",
       "      <td>7</td>\n",
       "      <td>NaN</td>\n",
       "      <td>NaN</td>\n",
       "      <td>False</td>\n",
       "      <td>simmm ( live on</td>\n",
       "      <td>simmm ( live</td>\n",
       "    </tr>\n",
       "  </tbody>\n",
       "</table>\n",
       "<p>5 rows × 36 columns</p>\n",
       "</div>"
      ],
      "text/plain": [
       "   coordinates                      created_at hashtags media  \\\n",
       "0          NaN  Sun Feb 14 23:29:33 +0000 2010      NaN   NaN   \n",
       "3          NaN  Tue Aug 12 17:51:37 +0000 2014      NaN   NaN   \n",
       "8          NaN  Sun Feb 14 18:46:26 +0000 2010      NaN   NaN   \n",
       "9          NaN  Fri Sep 28 19:07:04 +0000 2012      NaN   NaN   \n",
       "11         NaN  Fri Sep 28 19:05:53 +0000 2012      NaN   NaN   \n",
       "\n",
       "                                   urls  favorite_count                  id  \\\n",
       "0                                   NaN               0          9116606357   \n",
       "3   http://twitcam.livestream.com/g7hpe               0  499251874256920577   \n",
       "8                                   NaN               0          9107804301   \n",
       "9   http://twitcam.livestream.com/c7fe0               0  251759950655791105   \n",
       "11  http://twitcam.livestream.com/c7fe0               0  251759653464199168   \n",
       "\n",
       "   in_reply_to_screen_name  in_reply_to_status_id  in_reply_to_user_id  ...  \\\n",
       "0                      NaN                    NaN                  NaN  ...   \n",
       "3                      NaN                    NaN                  NaN  ...   \n",
       "8                      NaN                    NaN                  NaN  ...   \n",
       "9                      NaN                    NaN                  NaN  ...   \n",
       "11                     NaN                    NaN                  NaN  ...   \n",
       "\n",
       "   user_listed_count    user_location          user_name  user_screen_name.1  \\\n",
       "0                  0  Sofia, Bulgaria     Ina Gerdjikova       InaGerdjikova   \n",
       "3                  0              NaN  Ana Paula Ribeiro            anadadal   \n",
       "8                  0  Sofia, Bulgaria     Ina Gerdjikova       InaGerdjikova   \n",
       "9                  0              NaN  Ana Paula Ribeiro            anadadal   \n",
       "11                 0              NaN  Ana Paula Ribeiro            anadadal   \n",
       "\n",
       "    user_statuses_count user_time_zone                          user_urls  \\\n",
       "0                     6            NaN  http://kutiazamisli.blogspot.com/   \n",
       "3                     7            NaN                                NaN   \n",
       "8                     6            NaN  http://kutiazamisli.blogspot.com/   \n",
       "9                     7            NaN                                NaN   \n",
       "11                    7            NaN                                NaN   \n",
       "\n",
       "   user_verified                                       clean_tweets  \\\n",
       "0          False  Will try to live for a week offline... wish me...   \n",
       "3          False                             Boa tarde.. ( live on    \n",
       "8          False  Phew... Valentine's day will be finally over i...   \n",
       "9          False                                      up ( live on    \n",
       "11         False                                   simmm ( live on    \n",
       "\n",
       "                                   no_sw_tweets  \n",
       "0   Will try live week offline... wish luck! :D  \n",
       "3                            Boa tarde.. ( live  \n",
       "8         Phew... Valentine's day finally hours  \n",
       "9                                        ( live  \n",
       "11                                 simmm ( live  \n",
       "\n",
       "[5 rows x 36 columns]"
      ]
     },
     "execution_count": 22,
     "metadata": {},
     "output_type": "execute_result"
    }
   ],
   "source": [
    "# Add the new feature to the original df\n",
    "\n",
    "en_tweets['no_sw_tweets'] = tweets_no_sw_string\n",
    "en_tweets.head()"
   ]
  },
  {
   "cell_type": "code",
   "execution_count": 23,
   "metadata": {},
   "outputs": [
    {
     "name": "stdout",
     "output_type": "stream",
     "text": [
      "Smurfette spaces out in the SmurfsVillage. She makes Smurfs and Swoofs swoon and awards XP!  \n",
      "\n",
      "Negative sentiment: 0.0\n",
      "Neutral sentiment: 0.81\n",
      "Positive sentiment: 0.19\n",
      "Compound sentiment: 0.5093 \n",
      "\n",
      "Smurfette spaces SmurfsVillage. She makes Smurfs Swoofs swoon awards XP! \n",
      "\n",
      "Negative sentiment: 0.0\n",
      "Neutral sentiment: 0.732\n",
      "Positive sentiment: 0.268\n",
      "Compound sentiment: 0.5093\n"
     ]
    }
   ],
   "source": [
    "# comparison between with and without stop words\n",
    "\n",
    "example1 = en_tweets.clean_tweets.iloc[17]\n",
    "example2 = en_tweets.no_sw_tweets.iloc[17]\n",
    "\n",
    "analyzer = SentimentIntensityAnalyzer()\n",
    "vs = analyzer.polarity_scores(example1)\n",
    "\n",
    "print(example1, '\\n')\n",
    "print('Negative sentiment:',vs['neg'])\n",
    "print('Neutral sentiment:',vs['neu'])\n",
    "print('Positive sentiment:',vs['pos'])\n",
    "print('Compound sentiment:',vs['compound'],'\\n')\n",
    "\n",
    "vs = analyzer.polarity_scores(example2)\n",
    "\n",
    "print(example2, '\\n')\n",
    "print('Negative sentiment:',vs['neg'])\n",
    "print('Neutral sentiment:',vs['neu'])\n",
    "print('Positive sentiment:',vs['pos'])\n",
    "print('Compound sentiment:',vs['compound'])"
   ]
  },
  {
   "cell_type": "code",
   "execution_count": null,
   "metadata": {},
   "outputs": [],
   "source": [
    "# Here I am trying to do the tokenization we saw in class, but it divides the three !!!, this is not rigth\n",
    "\n",
    "import spacy, nltk, sklearn\n",
    "nlp = spacy.load('en')\n",
    "\n",
    "\n",
    "example = en_tweets.clean_tweets.iloc[14]\n",
    "#example = en_tweets.text[55656]\n",
    "doc = nlp(example)\n",
    "tokens = [token.text for token in doc]\n",
    "\n",
    "print(example,'\\n')\n",
    "print(tokens)\n",
    "\n",
    "#example = en_tweets.clean_tweets[6] and [11]\n",
    "#Here ?! and !!! separated with token, not good"
   ]
  },
  {
   "cell_type": "markdown",
   "metadata": {},
   "source": [
    "### Step 3.4:  Processing the data for analysis of day/hour \n",
    "___\n",
    "\n",
    "Part of our analysis, is to understand if the moment of the day of the week can somehow influences the tweet sentiment and its retweetability. To do that, we need before to include in out dataframe the information regarding the utc_offset data and convert the time of posting in local time."
   ]
  },
  {
   "cell_type": "code",
   "execution_count": null,
   "metadata": {},
   "outputs": [],
   "source": [
    "#merging dataframes to add utc_offset column\n",
    "en_tweets = pd.merge(en_tweets,ego_merge, how = 'inner', left_on = 'id', right_on = 'tweetid')\n",
    "\n",
    "en_tweets.columns"
   ]
  },
  {
   "cell_type": "code",
   "execution_count": null,
   "metadata": {},
   "outputs": [],
   "source": [
    "en_tweets['date'] = en_tweets.created_at.apply(lambda d: datetime.strptime(d, '%a %b %d %H:%M:%S +0000 %Y'))"
   ]
  },
  {
   "cell_type": "code",
   "execution_count": null,
   "metadata": {},
   "outputs": [],
   "source": [
    "def get_seconds(date):\n",
    "    seconds = (date.hour*3600) + (date.minute*60) + date.second\n",
    "    return seconds\n",
    "\n",
    "def day_change(time):\n",
    "    return 1 if time > 86400 else -1 if time < 0 else 0\n",
    "\n",
    "def fix_time(time):\n",
    "    return time - 86400 if time > 86400 else time + 86400 if time < 0 else time\n"
   ]
  },
  {
   "cell_type": "code",
   "execution_count": null,
   "metadata": {},
   "outputs": [],
   "source": [
    "en_tweets['day_seconds'] = en_tweets.date.apply(lambda x: get_seconds(x)) + en_tweets['utc_offset']"
   ]
  },
  {
   "cell_type": "code",
   "execution_count": null,
   "metadata": {},
   "outputs": [],
   "source": [
    "en_tweets['day_number'] = en_tweets.date.apply(lambda x: x.weekday())"
   ]
  },
  {
   "cell_type": "code",
   "execution_count": null,
   "metadata": {},
   "outputs": [],
   "source": [
    "en_tweets['norm_day'] = en_tweets.day_seconds.apply(lambda x: day_change(x)) + en_tweets.day_number\n",
    "days=[\"Mon\",\"Tue\",\"Wed\",\"Thur\",\"Fri\",\"Sat\",\"Sun\"]\n",
    "en_tweets['day'] =  en_tweets.norm_day.apply(lambda x: days[x%7])"
   ]
  },
  {
   "cell_type": "code",
   "execution_count": null,
   "metadata": {},
   "outputs": [],
   "source": [
    "en_tweets['day_seconds'] = (en_tweets.day_seconds.apply(lambda x: fix_time(x)))\n",
    "en_tweets['hour'] = en_tweets['day_seconds']//3600\n",
    "en_tweets.hour.replace(24,0, inplace=True)\n",
    "\n",
    "en_tweets.columns"
   ]
  },
  {
   "cell_type": "markdown",
   "metadata": {},
   "source": [
    "Let's only keep columns we are interested in"
   ]
  },
  {
   "cell_type": "code",
   "execution_count": null,
   "metadata": {},
   "outputs": [],
   "source": [
    "# I prefer to keep all the columns\n",
    "\n",
    "#en_tweets =  en_tweets[['hashtags', 'media', 'urls', 'id', 'place', 'retweet_count', 'text', 'user_followers_count', 'user_friends_count',\n",
    "#                       'user_location', 'user_name', 'user_screen_name.1', 'user_statuses_count', 'user_verified', 'clean_tweets', \n",
    "#                       'tweetid', 'utc_offset', 'date', 'day', 'hour']]\n",
    "#en_tweets.head(3)"
   ]
  },
  {
   "cell_type": "markdown",
   "metadata": {},
   "source": [
    "## Step 4. Rule-based sentiment analysis - VADER\n",
    "\n",
    "---\n",
    "\n",
    "VADER (Valence Aware Dictionary and sEntiment Reasoner) is a lexicon- and rule-based sentiment analyser that can deal with words, abbreviations, slang, emoticons, and emojis commonly found in social media ([Toni Pano and Rasha Kashef](https://www.mdpi.com/2504-2289/4/4/33)). Every text produces four sentiments scores: positive, neutral, negative and the compound polarity. The first three features describe how much the particular tweet is positive, neutral or neutral in a range between 0 and 1. On the contrary, the compound polarity score can be seen as an aggregate measure of the sentiment of the tweets, indeed it goes from - 1 (negative) and 1 (positive). In our case, we will use this polarity score to determine the sentiment of the tweets applying a threshold. From the literature, we found several threshoulds and here we try with **blablabla**"
   ]
  },
  {
   "cell_type": "markdown",
   "metadata": {},
   "source": [
    "### Step 4.1: Results with the cleaned tweets and threshold equals to 0.05\n",
    "___"
   ]
  },
  {
   "cell_type": "code",
   "execution_count": 25,
   "metadata": {},
   "outputs": [],
   "source": [
    "#Initializing the Rule-based sentiment analyzer \n",
    "analyzer1 = SentimentIntensityAnalyzer()"
   ]
  },
  {
   "cell_type": "code",
   "execution_count": 26,
   "metadata": {},
   "outputs": [],
   "source": [
    "en_tweets['sent_score'] = [analyzer1.polarity_scores(x)['compound'] for x in en_tweets['clean_tweets']]"
   ]
  },
  {
   "cell_type": "code",
   "execution_count": 27,
   "metadata": {},
   "outputs": [],
   "source": [
    "def sentiment_05(scores):\n",
    "    sents = []\n",
    "    for score in scores:\n",
    "        if score >= 0.05:\n",
    "            sent = 'pos'\n",
    "        elif score <= -0.05:\n",
    "            sent = 'neg'\n",
    "        elif abs(score) <0.05:\n",
    "            sent = 'neu'\n",
    "        sents.append(sent)\n",
    "    return sents"
   ]
  },
  {
   "cell_type": "code",
   "execution_count": 28,
   "metadata": {},
   "outputs": [],
   "source": [
    "en_tweets['sentiment'] = sentiment_05(en_tweets.sent_score)"
   ]
  },
  {
   "cell_type": "code",
   "execution_count": 29,
   "metadata": {},
   "outputs": [],
   "source": [
    "grouped_sents = en_tweets.groupby(by='sentiment')"
   ]
  },
  {
   "cell_type": "code",
   "execution_count": 30,
   "metadata": {},
   "outputs": [
    {
     "name": "stdout",
     "output_type": "stream",
     "text": [
      "Number of positive sentences: 484802\n",
      "Number of negative sentences: 209729\n",
      "Number of neutral sentences: 360088\n"
     ]
    }
   ],
   "source": [
    "print('Number of positive sentences:',sum(np.array(en_tweets['sent_score'])>=0.05))\n",
    "print('Number of negative sentences:',sum(np.array(en_tweets['sent_score'])<=-0.05))\n",
    "print('Number of neutral sentences:',sum(np.abs(np.array(en_tweets['sent_score']))<0.05))"
   ]
  },
  {
   "cell_type": "code",
   "execution_count": 31,
   "metadata": {},
   "outputs": [
    {
     "data": {
      "image/png": "[encoded data removed]",
      "text/plain": [
       "<Figure size 432x432 with 1 Axes>"
      ]
     },
     "metadata": {
      "needs_background": "light"
     },
     "output_type": "display_data"
    }
   ],
   "source": [
    "plt.figure(figsize=(6,6))\n",
    "plt.bar(grouped_sents.size().index, grouped_sents.size().values, width=0.8)\n",
    "plt.xlabel('Sentiment')\n",
    "plt.ylabel('Number of Tweets')\n",
    "plt.show()"
   ]
  },
  {
   "cell_type": "markdown",
   "metadata": {},
   "source": [
    "### Step 4.2: Results with the cleaned tweets and threshold equals to 0.001\n",
    "___"
   ]
  },
  {
   "cell_type": "code",
   "execution_count": null,
   "metadata": {},
   "outputs": [],
   "source": [
    "# Threshold as in the other paper \n",
    "\n",
    "def sentiment_001(scores):\n",
    "    sents = []\n",
    "    for score in scores:\n",
    "        if score >= 0.001:\n",
    "            sent = 'pos'\n",
    "        elif score <= -0.001:\n",
    "            sent = 'neg'\n",
    "        elif abs(score) <0.001:\n",
    "            sent = 'neu'\n",
    "        sents.append(sent)\n",
    "    return sents\n",
    "\n",
    "en_tweets['sentiment'] = sentiment_001(en_tweets.sent_score)\n",
    "grouped_sents2 = en_tweets.groupby(by='sentiment')\n",
    "\n",
    "plt.figure(figsize=(6,6))\n",
    "plt.bar(grouped_sents2.size().index, grouped_sents2.size().values, width=0.8)\n",
    "plt.xlabel('Sentiment')\n",
    "plt.ylabel('Number of Tweets')\n",
    "plt.show()"
   ]
  },
  {
   "cell_type": "markdown",
   "metadata": {},
   "source": [
    "### Step 4.3 Results with the cleaned tweets without stop words\n",
    "___"
   ]
  },
  {
   "cell_type": "code",
   "execution_count": null,
   "metadata": {
    "scrolled": true
   },
   "outputs": [],
   "source": [
    "analyzer_no_sw = SentimentIntensityAnalyzer()\n",
    "en_tweets['sent_score_no_sw'] = [analyzer_no_sw.polarity_scores(x)['compound'] for x in en_tweets['no_sw_tweets']]\n",
    "\n",
    "en_tweets['sentiment_no_sw'] = sentiment_05(en_tweets.sent_score_no_sw)\n",
    "grouped_sents = en_tweets.groupby(by='sentiment_no_sw')\n",
    "\n",
    "plt.figure(figsize=(6,6))\n",
    "plt.bar(grouped_sents.size().index, grouped_sents.size().values, width=0.8)\n",
    "plt.xlabel('Sentiment_no_sw')\n",
    "plt.ylabel('Number of Tweets')\n",
    "plt.show()"
   ]
  },
  {
   "cell_type": "markdown",
   "metadata": {},
   "source": [
    "### Step 4.4 Results with the raw tweets\n",
    "___"
   ]
  },
  {
   "cell_type": "code",
   "execution_count": null,
   "metadata": {},
   "outputs": [],
   "source": [
    "analyzer_raw = SentimentIntensityAnalyzer()\n",
    "en_tweets['sent_score_raw'] = [analyzer_raw.polarity_scores(x)['compound'] for x in en_tweets['text']]\n",
    "\n",
    "en_tweets['sentiment_raw'] = sentiment_05(en_tweets.sent_score_no_sw)\n",
    "grouped_sents = en_tweets.groupby(by='sentiment_raw')\n",
    "\n",
    "plt.figure(figsize=(6,6))\n",
    "plt.bar(grouped_sents.size().index, grouped_sents.size().values, width=0.8)\n",
    "plt.xlabel('Sentiment_raw')\n",
    "plt.ylabel('Number of Tweets')\n",
    "plt.show()"
   ]
  },
  {
   "cell_type": "markdown",
   "metadata": {},
   "source": [
    "It seems a bit weird, but neither changing the threshould or including/removing the stop words or using the raw data  make the analysis different. \n",
    "**VERY WEIRD NEED TO DOUBLE CHECK**"
   ]
  },
  {
   "cell_type": "markdown",
   "metadata": {},
   "source": [
    "## Step 5. Bert SA-pipeline\n",
    "___"
   ]
  },
  {
   "cell_type": "code",
   "execution_count": null,
   "metadata": {},
   "outputs": [],
   "source": [
    "sa_pipeline = pipeline('sentiment-analysis')"
   ]
  },
  {
   "cell_type": "code",
   "execution_count": null,
   "metadata": {},
   "outputs": [],
   "source": [
    "for i in range(10):\n",
    "    text = en_tweets['text'].iloc[i]\n",
    "    print(text)\n",
    "    prediction = sa_pipeline(text)\n",
    "    print(prediction)\n",
    "    print()"
   ]
  },
  {
   "cell_type": "markdown",
   "metadata": {},
   "source": [
    "## Step 6: Sentiment VS time\n",
    "___\n",
    "\n",
    "For the following analysis we will focus only on subjective (positive and negative tweets)."
   ]
  },
  {
   "cell_type": "code",
   "execution_count": null,
   "metadata": {},
   "outputs": [],
   "source": [
    "# removing tweets without utc_offset information\n",
    "en_tweets_time = en_tweets.dropna(subset=['utc_offset'])\n",
    "\n",
    "pos_sents_time = en_tweets_time.loc[en_tweets_time['sentiment'] == 'pos']\n",
    "neg_sents_time = en_tweets_time.loc[en_tweets_time['sentiment'] == 'neg']"
   ]
  },
  {
   "cell_type": "code",
   "execution_count": null,
   "metadata": {},
   "outputs": [],
   "source": [
    "tweet_per_h = en_tweets_time.groupby(['day','hour']).size().unstack()\n",
    "pos_tweet_per_h = pos_sents_time.groupby(['day','hour']).size().unstack()\n",
    "neg_tweet_per_h = neg_sents_time.groupby(['day','hour']).size().unstack()"
   ]
  },
  {
   "cell_type": "code",
   "execution_count": null,
   "metadata": {},
   "outputs": [],
   "source": [
    "new_index = ['Sun', 'Mon', 'Tue', 'Wed', 'Thur', 'Fri', 'Sat']\n",
    "tweet_per_h = tweet_per_h.reindex(new_index)\n",
    "pos_tweet_per_h = pos_tweet_per_h.reindex(new_index)\n",
    "neg_tweet_per_h = neg_tweet_per_h.reindex(new_index)"
   ]
  },
  {
   "cell_type": "code",
   "execution_count": null,
   "metadata": {},
   "outputs": [],
   "source": [
    "# Defining colors\n",
    "# are this for color blinded people????????\n",
    "\n",
    "colors = ['tomato', 'darkgoldenrod', 'limegreen', 'lightseagreen', 'deepskyblue', 'slateblue','magenta']"
   ]
  },
  {
   "cell_type": "code",
   "execution_count": null,
   "metadata": {},
   "outputs": [],
   "source": [
    "plt.figure(figsize=(20,8))\n",
    "plt.suptitle('Sentiment Analysis during the day and during the week')\n",
    "\n",
    "plt.subplot(1, 3, 1)\n",
    "plt.xlim(-0.5, 24)\n",
    "plt.xticks(np.arange(0, 24, step=1))\n",
    "plt.xlabel('Hour')\n",
    "plt.ylabel('Number of tweets')\n",
    "plt.title('All Tweets')\n",
    "\n",
    "\n",
    "for i in range(7):\n",
    "    plt.plot(tweet_per_h.iloc[i],c=colors[i])\n",
    "\n",
    "plt.subplot(1, 3, 2)\n",
    "plt.xlim(-0.5, 24)\n",
    "plt.xticks(np.arange(0, 24, step=1))\n",
    "plt.xlabel('Hour')\n",
    "plt.ylabel('Number of tweets')\n",
    "plt.title('Postive Tweets')\n",
    "\n",
    "\n",
    "for i in range(7):\n",
    "    plt.plot(pos_tweet_per_h.iloc[i],c=colors[i])\n",
    "\n",
    "plt.subplot(1, 3, 3)\n",
    "plt.xlim(-0.5, 24)\n",
    "plt.xticks(np.arange(0, 24, step=1))\n",
    "plt.xlabel('Hour')\n",
    "plt.ylabel('Number of tweets')\n",
    "plt.title('Negative Tweets')\n",
    "\n",
    "\n",
    "for i in range(7):\n",
    "    plt.plot(neg_tweet_per_h.iloc[i],c=colors[i])\n",
    "    plt.legend(new_index, loc='lower right')\n",
    "\n",
    "plt.show()"
   ]
  },
  {
   "cell_type": "markdown",
   "metadata": {},
   "source": [
    "We see that the positive and negative sentiment tweets have the same trend as all the tweets, so we can conclude that the day of the week or hour of the day does not have an affect on the sentiment"
   ]
  },
  {
   "cell_type": "markdown",
   "metadata": {},
   "source": [
    "## Step 7: Retweetability VS time\n",
    "___\n",
    "We will perform the same analysis of before but this time considering the total (???) number of retweets per our. We want to understand if the time of posting a tweets has some effect in how many time it is retweeted."
   ]
  },
  {
   "cell_type": "code",
   "execution_count": null,
   "metadata": {},
   "outputs": [],
   "source": [
    "retweet_per_h = en_tweets_time.groupby(['day','hour'])['retweet_count'].agg('sum').unstack()\n",
    "pos_retweet_per_h = pos_sents_time.groupby(['day','hour'])['retweet_count'].agg('sum').unstack()\n",
    "neg_retweet_per_h = neg_sents_time.groupby(['day','hour'])['retweet_count'].agg('sum').unstack()"
   ]
  },
  {
   "cell_type": "code",
   "execution_count": null,
   "metadata": {},
   "outputs": [],
   "source": [
    "retweet_per_h = retweet_per_h.reindex(new_index)\n",
    "pos_retweet_per_h = pos_retweet_per_h.reindex(new_index)\n",
    "neg_retweet_per_h = neg_retweet_per_h.reindex(new_index)\n",
    "\n",
    "# Applying a rolling mean to smooth the plots\n",
    "average_h = 3\n",
    "retweet_per_h_mean = np.transpose(retweet_per_h).rolling(average_h, center=True).mean().dropna()\n",
    "pos_retweet_per_h_mean = np.transpose(pos_retweet_per_h).rolling(average_h, center=True).mean().dropna()\n",
    "neg_retweet_per_h_mean  = np.transpose(neg_retweet_per_h).rolling(average_h, center=True).mean().dropna()\n"
   ]
  },
  {
   "cell_type": "code",
   "execution_count": null,
   "metadata": {},
   "outputs": [],
   "source": [
    "# go back to iriginal shape\n",
    "retweet_per_h_mean = np.transpose(retweet_per_h_mean)\n",
    "pos_retweet_per_h_mean = np.transpose(pos_retweet_per_h_mean)\n",
    "neg_retweet_per_h_mean = np.transpose(neg_retweet_per_h_mean)"
   ]
  },
  {
   "cell_type": "code",
   "execution_count": null,
   "metadata": {},
   "outputs": [],
   "source": [
    "# without moving average filter\n",
    "plt.figure(figsize=(20,8))\n",
    "plt.suptitle('Retweetability vs time - Before Moving Average Filtering')\n",
    "\n",
    "plt.subplot(1, 3, 1)\n",
    "plt.xlim(-0.5, 24)\n",
    "plt.xticks(np.arange(0, 24, step=1))\n",
    "plt.xlabel('Hour')\n",
    "plt.ylabel('Number of retweets')\n",
    "plt.title('All Tweets')\n",
    "\n",
    "\n",
    "for i in range(7):\n",
    "    plt.plot(retweet_per_h.iloc[i],c=colors[i])\n",
    "\n",
    "plt.subplot(1, 3, 2)\n",
    "plt.xlim(-0.5, 24)\n",
    "plt.xticks(np.arange(0, 24, step=1))\n",
    "plt.xlabel('Hour')\n",
    "plt.ylabel('Number of retweets')\n",
    "plt.title('Postive Tweets')\n",
    "\n",
    "\n",
    "for i in range(7):\n",
    "    plt.plot(pos_retweet_per_h.iloc[i],c=colors[i])\n",
    "\n",
    "plt.subplot(1, 3, 3)\n",
    "plt.xlim(-0.5, 24)\n",
    "plt.xticks(np.arange(0, 24, step=1))\n",
    "plt.xlabel('Hour')\n",
    "plt.ylabel('Number of retweets')\n",
    "plt.title('Negative Tweets')\n",
    "\n",
    "\n",
    "for i in range(7):\n",
    "    plt.plot(neg_retweet_per_h.iloc[i],c=colors[i])\n",
    "    plt.legend(new_index, loc='lower right')\n",
    "\n",
    "plt.show()\n",
    "\n",
    "\n",
    "\n",
    "######\n",
    "# with moving average\n",
    "\n",
    "plt.figure(figsize=(20,8))\n",
    "plt.suptitle('Retweetability vs time - After Moving Average Filtering')\n",
    "\n",
    "plt.subplot(1, 3, 1)\n",
    "plt.xlim(-0.5, 24)\n",
    "plt.xticks(np.arange(0, 24, step=1))\n",
    "plt.xlabel('Hour')\n",
    "plt.ylabel('Number of retweets')\n",
    "plt.title('All Tweets')\n",
    "\n",
    "\n",
    "for i in range(7):\n",
    "    plt.plot(retweet_per_h_mean.iloc[i],c=colors[i])\n",
    "\n",
    "plt.subplot(1, 3, 2)\n",
    "plt.xlim(-0.5, 24)\n",
    "plt.xticks(np.arange(0, 24, step=1))\n",
    "plt.xlabel('Hour')\n",
    "plt.ylabel('Number of retweets')\n",
    "plt.title('Postive Tweets')\n",
    "\n",
    "\n",
    "for i in range(7):\n",
    "    plt.plot(pos_retweet_per_h_mean.iloc[i],c=colors[i])\n",
    "\n",
    "plt.subplot(1, 3, 3)\n",
    "plt.xlim(-0.5, 24)\n",
    "plt.xticks(np.arange(0, 24, step=1))\n",
    "plt.xlabel('Hour')\n",
    "plt.ylabel('Number of retweets')\n",
    "plt.title('Negative Tweets')\n",
    "\n",
    "\n",
    "for i in range(7):\n",
    "    plt.plot(neg_retweet_per_h_mean.iloc[i],c=colors[i])\n",
    "    plt.legend(new_index, loc='lower right')\n",
    "\n",
    "plt.show()"
   ]
  },
  {
   "cell_type": "markdown",
   "metadata": {},
   "source": [
    "It seems that tweets posted on sunday evening are more likely to be rewreeted more frequenly, either if they are positive or negative tweets. We can also see a burst Sunday at lunch time."
   ]
  },
  {
   "cell_type": "markdown",
   "metadata": {},
   "source": [
    "### Analysis of tweet sentiment on retweet count"
   ]
  },
  {
   "cell_type": "code",
   "execution_count": 32,
   "metadata": {},
   "outputs": [],
   "source": [
    "# creating two df for positive and negative tweets\n",
    "\n",
    "pos_sents = en_tweets.loc[en_tweets['sentiment'] == 'pos']\n",
    "neg_sents = en_tweets.loc[en_tweets['sentiment'] == 'neg']"
   ]
  },
  {
   "cell_type": "markdown",
   "metadata": {},
   "source": [
    "NaIve analysis on affect of sentiment on retweet count "
   ]
  },
  {
   "cell_type": "code",
   "execution_count": 33,
   "metadata": {},
   "outputs": [
    {
     "data": {
      "text/plain": [
       "MannwhitneyuResult(statistic=50524111785.5, pvalue=2.102632605681035e-08)"
      ]
     },
     "execution_count": 33,
     "metadata": {},
     "output_type": "execute_result"
    }
   ],
   "source": [
    "# Is this for exponential distribution?? Yes, just explai the results\n",
    "\n",
    "stats.mannwhitneyu(pos_sents.retweet_count, neg_sents.retweet_count)"
   ]
  },
  {
   "cell_type": "code",
   "execution_count": 139,
   "metadata": {},
   "outputs": [
    {
     "data": {
      "image/png": "[encoded data removed]",
      "text/plain": [
       "<Figure size 720x360 with 1 Axes>"
      ]
     },
     "metadata": {
      "needs_background": "light"
     },
     "output_type": "display_data"
    },
    {
     "data": {
      "image/png": "[encoded data removed]",
      "text/plain": [
       "<Figure size 720x360 with 1 Axes>"
      ]
     },
     "metadata": {
      "needs_background": "light"
     },
     "output_type": "display_data"
    }
   ],
   "source": [
    "# Distribution of tweets over the sentiment score\n",
    "\n",
    "plt.figure(figsize=(10,5))\n",
    "plt.hist([pos_sents.sent_score, neg_sents.sent_score], bins=10, label=['Positive', 'Negative'])\n",
    "plt.legend(loc = 'upper left')\n",
    "plt.title('Distribution of tweets over the sentiment score')\n",
    "plt.xlabel('Score')\n",
    "plt.ylabel('Number of tweets')\n",
    "plt.show()\n",
    "\n",
    "\n",
    "plt.figure(figsize=(10,5))\n",
    "plt.hist(pos_sents.sent_score, bins=25, alpha=0.5, label=\"Positive\")\n",
    "plt.hist(neg_sents.sent_score, bins=25, alpha=0.5, label=\"Negative\")\n",
    "\n",
    "plt.legend(loc = 'upper left')\n",
    "plt.title('Distribution of tweets over the sentiment score')\n",
    "plt.xlabel('Score')\n",
    "plt.ylabel('Number of tweets')\n",
    "plt.show()\n",
    "\n",
    "# which nicer?"
   ]
  },
  {
   "cell_type": "code",
   "execution_count": 35,
   "metadata": {
    "scrolled": false
   },
   "outputs": [
    {
     "data": {
      "text/plain": [
       "<matplotlib.legend.Legend at 0x7f8eaa2ca7c0>"
      ]
     },
     "execution_count": 35,
     "metadata": {},
     "output_type": "execute_result"
    },
    {
     "data": {
      "image/png": "[encoded data removed]",
      "text/plain": [
       "<Figure size 576x432 with 1 Axes>"
      ]
     },
     "metadata": {
      "needs_background": "light"
     },
     "output_type": "display_data"
    }
   ],
   "source": [
    "# Destribution of retweets in linear scale, considering the tweets with no retweets\n",
    "\n",
    "plt.figure(figsize=(8,6))\n",
    "plt.hist(pos_sents.retweet_count, bins=10000, alpha=0.5, label=\"Positive\")\n",
    "plt.hist(neg_sents.retweet_count, bins=10000, alpha=0.5, label=\"Negative\")\n",
    "\n",
    "plt.xlabel(\"Retweets\", size=14)\n",
    "plt.ylabel(\"Count\", size=14)\n",
    "plt.xlim(0, 2000)\n",
    "plt.title(\"Distribution of Retweets\")\n",
    "plt.legend(loc='upper right')"
   ]
  },
  {
   "cell_type": "markdown",
   "metadata": {},
   "source": [
    "The data seems to follow a power law with an heavy-tailed distribution, in the following graph we plot the data in a log-log scale. However, to do so, we need to remove the data with retweets recont equals to 0."
   ]
  },
  {
   "cell_type": "code",
   "execution_count": 36,
   "metadata": {},
   "outputs": [],
   "source": [
    "# only tweets which have been retweeted\n",
    "\n",
    "pos_retweeted = pos_sents.loc[pos_sents['retweet_count'] > 0]\n",
    "neg_retweeted = neg_sents.loc[neg_sents['retweet_count'] > 0]"
   ]
  },
  {
   "cell_type": "code",
   "execution_count": null,
   "metadata": {},
   "outputs": [],
   "source": [
    "plt.figure(figsize=(20,8))\n",
    "plt.suptitle('Distribution for retweet_count > 0')\n",
    "\n",
    "\n",
    "# Distribution of tweets actually retweeted in linear scale\n",
    "plt.subplot(1, 2, 1)\n",
    "plt.hist(pos_retweeted.retweet_count, bins=10000, alpha=0.5, label=\"Positive\")\n",
    "plt.hist(neg_retweeted.retweet_count, bins=10000, alpha=0.5, label=\"Negative\")\n",
    "\n",
    "plt.xlabel(\"Retweets - Linear Scale\", size=14)\n",
    "plt.ylabel(\"Count - Linear Scale\", size=14)\n",
    "plt.xlim(0, 2000)\n",
    "plt.title(\"Distribution of Retweets in linear scale\")\n",
    "plt.legend(loc='upper right')          \n",
    " \n",
    "    \n",
    "    \n",
    "# Distribution of retweets in log log scale\n",
    "plt.subplot(1, 2, 2)\n",
    "plt.hist(pos_retweeted.retweet_count.apply(np.log), bins=100, alpha=0.5, label=\"Positive\")\n",
    "plt.hist(neg_retweeted.retweet_count.apply(np.log), bins=100, alpha=0.5, label=\"Negative\")\n",
    "\n",
    "plt.xlabel(\"Retweets - Log Scale\", size=14)\n",
    "plt.ylabel(\"Count - Log Scale\", size=14)\n",
    "plt.title(\"Distribution of Retweets in log-log scale\")\n",
    "plt.legend(loc='upper right')\n",
    "\n",
    "\n"
   ]
  },
  {
   "cell_type": "markdown",
   "metadata": {},
   "source": [
    "The distribution of retweets seems even more skewed than a power law distribution. This means that we must not use statistics such as the mean value because they are highly unstable and misleadinhin this type of distribution."
   ]
  },
  {
   "cell_type": "code",
   "execution_count": 37,
   "metadata": {},
   "outputs": [
    {
     "data": {
      "text/plain": [
       "count    484802.000000\n",
       "mean        265.132048\n",
       "std        4166.262361\n",
       "min           0.000000\n",
       "25%           0.000000\n",
       "50%           0.000000\n",
       "75%           0.000000\n",
       "max      551788.000000\n",
       "Name: retweet_count, dtype: float64"
      ]
     },
     "execution_count": 37,
     "metadata": {},
     "output_type": "execute_result"
    }
   ],
   "source": [
    "pos_sents['retweet_count'].describe()"
   ]
  },
  {
   "cell_type": "code",
   "execution_count": 38,
   "metadata": {
    "scrolled": true
   },
   "outputs": [
    {
     "data": {
      "text/plain": [
       "count    209729.000000\n",
       "mean        178.306386\n",
       "std        2980.425162\n",
       "min           0.000000\n",
       "25%           0.000000\n",
       "50%           0.000000\n",
       "75%           0.000000\n",
       "max      426173.000000\n",
       "Name: retweet_count, dtype: float64"
      ]
     },
     "execution_count": 38,
     "metadata": {},
     "output_type": "execute_result"
    }
   ],
   "source": [
    "neg_sents['retweet_count'].describe()"
   ]
  },
  {
   "cell_type": "markdown",
   "metadata": {},
   "source": [
    "Also from this simple description of the data we can see that they are highly skewed. There are almost no data under the 75% quartile both for negative and positive tweets. \n",
    "\n",
    "\n",
    "\n",
    "When looking at simple statistics, we see that positive sentiment tweets have a much larger standard deviation, so there is more likely a significantly larger number of tweets with large retweet counts. "
   ]
  },
  {
   "cell_type": "code",
   "execution_count": 39,
   "metadata": {},
   "outputs": [
    {
     "name": "stdout",
     "output_type": "stream",
     "text": [
      "The average number of retweets for positive tweets is 265.13\n",
      "The average number of retweets for negative tweets is 178.31\n"
     ]
    }
   ],
   "source": [
    "# average of retweets in original df\n",
    "\n",
    "print(\"The average number of retweets for positive tweets is {:.2f}\".format(pos_sents.retweet_count.mean()))\n",
    "print(\"The average number of retweets for negative tweets is {:.2f}\".format(neg_sents.retweet_count.mean()))"
   ]
  },
  {
   "cell_type": "code",
   "execution_count": 40,
   "metadata": {},
   "outputs": [
    {
     "name": "stdout",
     "output_type": "stream",
     "text": [
      "The average number of retweets for positive tweets is 1116.98\n",
      "The average number of retweets for negative tweets is 731.85\n"
     ]
    }
   ],
   "source": [
    "# average of retweets for tweets that have been retweeted at least once\n",
    "\n",
    "print(\"The average number of retweets for positive tweets is {:.2f}\".format(pos_retweeted.retweet_count.mean()))\n",
    "print(\"The average number of retweets for negative tweets is {:.2f}\".format(neg_retweeted.retweet_count.mean()))"
   ]
  },
  {
   "cell_type": "code",
   "execution_count": 41,
   "metadata": {},
   "outputs": [
    {
     "data": {
      "text/plain": [
       "453405     551788\n",
       "971070     548016\n",
       "1382810    473644\n",
       "601483     337006\n",
       "756569     322409\n",
       "1097164    309553\n",
       "1466955    298331\n",
       "384720     297234\n",
       "173075     284859\n",
       "489620     274359\n",
       "Name: retweet_count, dtype: int64"
      ]
     },
     "execution_count": 41,
     "metadata": {},
     "output_type": "execute_result"
    }
   ],
   "source": [
    "pos_sents.sort_values(by=['retweet_count'], ascending = False)['retweet_count'].head(10)"
   ]
  },
  {
   "cell_type": "code",
   "execution_count": 42,
   "metadata": {},
   "outputs": [
    {
     "data": {
      "text/plain": [
       "791467    426173\n",
       "971292    290667\n",
       "970966    237713\n",
       "431728    226724\n",
       "971090    201765\n",
       "431141    196806\n",
       "173016    181591\n",
       "489521    178398\n",
       "491761    169294\n",
       "651023    167615\n",
       "Name: retweet_count, dtype: int64"
      ]
     },
     "execution_count": 42,
     "metadata": {},
     "output_type": "execute_result"
    }
   ],
   "source": [
    "neg_sents.sort_values(by=['retweet_count'], ascending = False)['retweet_count'].head(10)"
   ]
  },
  {
   "cell_type": "markdown",
   "metadata": {},
   "source": [
    "Also, looking at the top 10 highest retweeted tweets for positive tweets we find that positive tweets have higher max retween count. So, we need to try and filter the data to avoid effects of these very popular tweets.\n",
    "\n",
    "**Given that our goal is to adress normal people so we could consider people with less that 1000 retweets. NOT SURE OF THAT**"
   ]
  },
  {
   "cell_type": "code",
   "execution_count": 43,
   "metadata": {},
   "outputs": [
    {
     "name": "stdout",
     "output_type": "stream",
     "text": [
      "The average number of retweets for positive tweets is 58.42\n",
      "The average number of retweets for negative tweets is 63.06\n"
     ]
    }
   ],
   "source": [
    "# Creating a df with tweets retweeted at least once and less than 1000\n",
    "pos_retweeted_filtered = pos_retweeted.loc[pos_retweeted['retweet_count'] < 1000]\n",
    "neg_retweeted_filtered = neg_retweeted.loc[neg_retweeted['retweet_count'] < 1000]\n",
    "\n",
    "print(\"The average number of retweets for positive tweets is {:.2f}\".format(pos_retweeted_filtered.retweet_count.mean()))\n",
    "print(\"The average number of retweets for negative tweets is {:.2f}\".format(neg_retweeted_filtered.retweet_count.mean()))"
   ]
  },
  {
   "cell_type": "code",
   "execution_count": 44,
   "metadata": {},
   "outputs": [
    {
     "data": {
      "text/plain": [
       "MannwhitneyuResult(statistic=2420987179.5, pvalue=0.0018021856744640191)"
      ]
     },
     "execution_count": 44,
     "metadata": {},
     "output_type": "execute_result"
    }
   ],
   "source": [
    "stats.mannwhitneyu(pos_retweeted_filtered.retweet_count, neg_retweeted_filtered.retweet_count)"
   ]
  },
  {
   "cell_type": "code",
   "execution_count": 45,
   "metadata": {},
   "outputs": [
    {
     "name": "stdout",
     "output_type": "stream",
     "text": [
      "The average number of retweets for positive tweets is 12.87\n",
      "The average number of retweets for negative tweets is 14.36\n"
     ]
    }
   ],
   "source": [
    "# If we consider in the mean also people who never got retweeted\n",
    "pos_sents_filtered = pos_sents.loc[pos_sents['retweet_count'] < 1000]\n",
    "neg_sents_filtered = neg_sents.loc[neg_sents['retweet_count'] < 1000]\n",
    "\n",
    "print(\"The average number of retweets for positive tweets is {:.2f}\".format(pos_sents_filtered.retweet_count.mean()))\n",
    "print(\"The average number of retweets for negative tweets is {:.2f}\".format(neg_sents_filtered.retweet_count.mean()))"
   ]
  },
  {
   "cell_type": "code",
   "execution_count": 46,
   "metadata": {},
   "outputs": [
    {
     "data": {
      "text/plain": [
       "MannwhitneyuResult(statistic=48311587116.0, pvalue=3.263232738805855e-13)"
      ]
     },
     "execution_count": 46,
     "metadata": {},
     "output_type": "execute_result"
    }
   ],
   "source": [
    "# Describe what it does\n",
    "stats.mannwhitneyu(pos_sents_filtered.retweet_count, neg_sents_filtered.retweet_count)"
   ]
  },
  {
   "cell_type": "code",
   "execution_count": 70,
   "metadata": {},
   "outputs": [
    {
     "name": "stdout",
     "output_type": "stream",
     "text": [
      "There are 474155 positive tweets retweeted less than 1000 times andamong these only 104428 were retweeted at least once. \n",
      "\n",
      "There are 205418 negative tweets retweeted less than 1000 times andamong these only 46787 were retweeted at  least once. \n",
      "\n"
     ]
    }
   ],
   "source": [
    "print(f\"There are {len(pos_sents_filtered.retweet_count)} positive tweets retweeted less than 1000 times and\"\n",
    "      f\"among these only {len(pos_retweeted_filtered.retweet_count)} were retweeted at least once.\", '\\n')\n",
    "print(f\"There are {len(neg_sents_filtered.retweet_count)} negative tweets retweeted less than 1000 times and\"\n",
    "      f\"among these only {len(neg_retweeted_filtered.retweet_count)} were retweeted at  least once.\", '\\n')"
   ]
  },
  {
   "cell_type": "code",
   "execution_count": 61,
   "metadata": {},
   "outputs": [
    {
     "data": {
      "text/plain": [
       "1      44039\n",
       "2      12544\n",
       "3       6114\n",
       "4       3770\n",
       "5       2637\n",
       "       ...  \n",
       "856        2\n",
       "948        2\n",
       "898        1\n",
       "816        1\n",
       "995        1\n",
       "Name: retweet_count, Length: 999, dtype: int64"
      ]
     },
     "execution_count": 61,
     "metadata": {},
     "output_type": "execute_result"
    }
   ],
   "source": [
    "pos_retweeted_filtered.retweet_count.value_counts()"
   ]
  },
  {
   "cell_type": "code",
   "execution_count": 62,
   "metadata": {},
   "outputs": [
    {
     "data": {
      "text/plain": [
       "0      369727\n",
       "1       44039\n",
       "2       12544\n",
       "3        6114\n",
       "4        3770\n",
       "        ...  \n",
       "860         2\n",
       "751         2\n",
       "816         1\n",
       "995         1\n",
       "898         1\n",
       "Name: retweet_count, Length: 1000, dtype: int64"
      ]
     },
     "execution_count": 62,
     "metadata": {},
     "output_type": "execute_result"
    }
   ],
   "source": [
    "pos_sents_filtered.retweet_count.value_counts()"
   ]
  },
  {
   "cell_type": "markdown",
   "metadata": {},
   "source": [
    "## Let's try some plots"
   ]
  },
  {
   "cell_type": "code",
   "execution_count": 67,
   "metadata": {
    "scrolled": false
   },
   "outputs": [
    {
     "data": {
      "image/png": "[encoded data removed]",
      "text/plain": [
       "<Figure size 576x432 with 1 Axes>"
      ]
     },
     "metadata": {
      "needs_background": "light"
     },
     "output_type": "display_data"
    }
   ],
   "source": [
    "# with retweet < 1000\n",
    "# I don't think we really care about these\n",
    "plt.figure(figsize=(8,6))\n",
    "\n",
    "plt.hist([pos_sents_filtered.retweet_count, neg_sents_filtered.retweet_count], bins=50, label=['Positive Sentiment', 'Negative Sentiment'])\n",
    "plt.legend(loc = 'upper right')\n",
    "plt.title('Retweet count for positive and negative sentiment tweets')\n",
    "plt.xlabel('Retweet Count')\n",
    "plt.ylabel('Number of Tweets - log sclae')\n",
    "plt.yscale('log')\n",
    "plt.xlim([0, 1000])\n",
    "plt.show()"
   ]
  },
  {
   "cell_type": "markdown",
   "metadata": {},
   "source": [
    "> Here I am trying to generate a percentage of retweeted filter. Using only tweets retweeted more than 1 and less than 1000."
   ]
  },
  {
   "cell_type": "code",
   "execution_count": 114,
   "metadata": {},
   "outputs": [],
   "source": [
    "tot_retw_pos = pos_retweeted_filtered.retweet_count.value_counts().sum()\n",
    "tot_retw_neg = neg_retweeted_filtered.retweet_count.value_counts().sum()"
   ]
  },
  {
   "cell_type": "code",
   "execution_count": 115,
   "metadata": {},
   "outputs": [],
   "source": [
    "pos_percent = pos_retweeted_filtered.retweet_count.value_counts()/tot_retw_pos\n",
    "neg_percent = neg_retweeted_filtered.retweet_count.value_counts()/tot_retw_neg "
   ]
  },
  {
   "cell_type": "code",
   "execution_count": 140,
   "metadata": {},
   "outputs": [
    {
     "data": {
      "text/plain": [
       "1      0.418599\n",
       "2      0.120739\n",
       "3      0.056041\n",
       "4      0.034176\n",
       "5      0.025306\n",
       "         ...   \n",
       "984    0.000021\n",
       "569    0.000021\n",
       "729    0.000021\n",
       "590    0.000021\n",
       "837    0.000021\n",
       "Name: retweet_count, Length: 982, dtype: float64"
      ]
     },
     "execution_count": 140,
     "metadata": {},
     "output_type": "execute_result"
    }
   ],
   "source": [
    "neg_percent # retweeted 1 time --> 42% of the total"
   ]
  },
  {
   "cell_type": "code",
   "execution_count": 119,
   "metadata": {},
   "outputs": [
    {
     "data": {
      "image/png": "[encoded data removed]",
      "text/plain": [
       "<Figure size 576x432 with 1 Axes>"
      ]
     },
     "metadata": {
      "needs_background": "light"
     },
     "output_type": "display_data"
    }
   ],
   "source": [
    "# trying with percentage\n",
    "# with retweet > 0 ^ < 1000\n",
    "plt.figure(figsize=(8,6))\n",
    "\n",
    "plt.hist([pos_percent, neg_percent], bins=50, label=['Positive Sentiment', 'Negative Sentiment'])\n",
    "plt.legend(loc = 'upper right')\n",
    "plt.title('Percent - Retweet count for positive and negative sentiment tweets')\n",
    "plt.xlabel('Retweet Count')\n",
    "plt.ylabel('Number of Tweets - log scale')\n",
    "plt.yscale('log')\n",
    "plt.show()"
   ]
  },
  {
   "cell_type": "code",
   "execution_count": 88,
   "metadata": {},
   "outputs": [
    {
     "data": {
      "image/png": "[encoded data removed]",
      "text/plain": [
       "<Figure size 576x432 with 1 Axes>"
      ]
     },
     "metadata": {
      "needs_background": "light"
     },
     "output_type": "display_data"
    }
   ],
   "source": [
    "# with retweet > 0 ^ < 1000\n",
    "plt.figure(figsize=(8,6))\n",
    "\n",
    "plt.hist([pos_retweeted_filtered.retweet_count, neg_retweeted_filtered.retweet_count], bins=50, label=['Positive Sentiment', 'Negative Sentiment'])\n",
    "plt.legend(loc = 'upper right')\n",
    "plt.title('Retweet count for positive and negative sentiment tweets')\n",
    "plt.xlabel('Retweet Count')\n",
    "plt.ylabel('Number of Tweets - log scale')\n",
    "plt.yscale('log')\n",
    "plt.xlim([0, 1000])\n",
    "plt.show()\n",
    "# but yeah here we are calculating the total number of retweets, of course positive\n",
    "# better because they are way more"
   ]
  },
  {
   "cell_type": "markdown",
   "metadata": {},
   "source": [
    "**NOW THE PLOT IS DIFFERENT FROM WHAT CAMERON GOT WHYYYY**"
   ]
  },
  {
   "cell_type": "markdown",
   "metadata": {},
   "source": [
    "It looks like the distribution of retweet count is very similar for both positive and negative tweets. However, there is a much larger set of positive tweets. Let's look at set of the same size"
   ]
  },
  {
   "cell_type": "code",
   "execution_count": 65,
   "metadata": {},
   "outputs": [
    {
     "name": "stdout",
     "output_type": "stream",
     "text": [
      "Now we look at 205418 postive tweets and 205418 negative tweets\n"
     ]
    }
   ],
   "source": [
    "pos_same_size = pos_sents_filtered.sample(len(neg_sents_filtered))\n",
    "\n",
    "print(\"Now we look at {} postive tweets and {} negative tweets\".format(len(pos_same_size),len(neg_sents_filtered)))"
   ]
  },
  {
   "cell_type": "code",
   "execution_count": 66,
   "metadata": {},
   "outputs": [
    {
     "data": {
      "image/png": "[encoded data removed]",
      "text/plain": [
       "<Figure size 576x432 with 1 Axes>"
      ]
     },
     "metadata": {
      "needs_background": "light"
     },
     "output_type": "display_data"
    }
   ],
   "source": [
    "plt.figure(figsize=(8,6))\n",
    "\n",
    "plt.hist([pos_same_size.retweet_count, neg_sents_filtered.retweet_count], bins=50, label=['Positive Sentiment', 'Negative Sentiment'])\n",
    "plt.legend(loc = 'upper right')\n",
    "plt.title('Retweet count for positive and negative sentiment tweets')\n",
    "plt.xlabel('Retweet Count')\n",
    "plt.ylabel('Number of Tweets')\n",
    "plt.yscale('log')\n",
    "plt.xlim([0, 1000])\n",
    "plt.show()"
   ]
  },
  {
   "cell_type": "markdown",
   "metadata": {},
   "source": [
    "From this distribution, we start to see that negative tweets tend to perform better in terms of retweet count. **NOW different from Cameron, why?**"
   ]
  },
  {
   "cell_type": "markdown",
   "metadata": {},
   "source": [
    "## Step 8. Twitter Users Analysis"
   ]
  },
  {
   "cell_type": "markdown",
   "metadata": {},
   "source": [
    "Here counting all tweets, no upper limit"
   ]
  },
  {
   "cell_type": "code",
   "execution_count": 120,
   "metadata": {},
   "outputs": [
    {
     "name": "stdout",
     "output_type": "stream",
     "text": [
      "23.74% of positive tweets were retweeted and 24.36% of negative tweets were retweeted\n"
     ]
    }
   ],
   "source": [
    "perc_neg_ret = (len(neg_sents.loc[neg_sents['retweet_count']>0])/len(neg_sents))* 100\n",
    "perc_pos_ret = (len(pos_sents.loc[pos_sents['retweet_count']>0])/len(pos_sents))* 100\n",
    "\n",
    "print(\"{:.2f}% of positive tweets were retweeted and {:.2f}% of negative tweets were retweeted\".format(perc_pos_ret,perc_neg_ret))"
   ]
  },
  {
   "cell_type": "code",
   "execution_count": 121,
   "metadata": {},
   "outputs": [
    {
     "data": {
      "text/plain": [
       "user_name\n",
       "  ♥ AaLiYaH ♥       82\n",
       " almer               2\n",
       " angieespino         2\n",
       " niallcumming        4\n",
       " العابرون            7\n",
       "                  ... \n",
       "🕊                 2101\n",
       "🗝                 1661\n",
       "🦇 Trîstãn 🦇          1\n",
       "🦊🐥🐰🐶🐱🐹              29\n",
       "🧍‍♀️              2740\n",
       "Name: clean_tweets, Length: 6167, dtype: int64"
      ]
     },
     "execution_count": 121,
     "metadata": {},
     "output_type": "execute_result"
    }
   ],
   "source": [
    "en_tweets.groupby([\"user_name\"]).count()['clean_tweets']"
   ]
  },
  {
   "cell_type": "markdown",
   "metadata": {},
   "source": []
  },
  {
   "cell_type": "code",
   "execution_count": 188,
   "metadata": {},
   "outputs": [
    {
     "data": {
      "text/html": [
       "<div>\n",
       "<style scoped>\n",
       "    .dataframe tbody tr th:only-of-type {\n",
       "        vertical-align: middle;\n",
       "    }\n",
       "\n",
       "    .dataframe tbody tr th {\n",
       "        vertical-align: top;\n",
       "    }\n",
       "\n",
       "    .dataframe thead th {\n",
       "        text-align: right;\n",
       "    }\n",
       "</style>\n",
       "<table border=\"1\" class=\"dataframe\">\n",
       "  <thead>\n",
       "    <tr style=\"text-align: right;\">\n",
       "      <th></th>\n",
       "      <th>coordinates</th>\n",
       "      <th>created_at</th>\n",
       "      <th>hashtags</th>\n",
       "      <th>media</th>\n",
       "      <th>urls</th>\n",
       "      <th>favorite_count</th>\n",
       "      <th>id</th>\n",
       "      <th>in_reply_to_screen_name</th>\n",
       "      <th>in_reply_to_status_id</th>\n",
       "      <th>in_reply_to_user_id</th>\n",
       "      <th>...</th>\n",
       "      <th>user_name</th>\n",
       "      <th>user_screen_name.1</th>\n",
       "      <th>user_statuses_count</th>\n",
       "      <th>user_time_zone</th>\n",
       "      <th>user_urls</th>\n",
       "      <th>user_verified</th>\n",
       "      <th>clean_tweets</th>\n",
       "      <th>no_sw_tweets</th>\n",
       "      <th>sent_score</th>\n",
       "      <th>sentiment</th>\n",
       "    </tr>\n",
       "  </thead>\n",
       "  <tbody>\n",
       "  </tbody>\n",
       "</table>\n",
       "<p>0 rows × 38 columns</p>\n",
       "</div>"
      ],
      "text/plain": [
       "Empty DataFrame\n",
       "Columns: [coordinates, created_at, hashtags, media, urls, favorite_count, id, in_reply_to_screen_name, in_reply_to_status_id, in_reply_to_user_id, lang, place, possibly_sensitive, retweet_count, retweet_id, retweet_screen_name, source, text, tweet_url, user_created_at, user_screen_name, user_default_profile_image, user_description, user_favourites_count, user_followers_count, user_friends_count, user_listed_count, user_location, user_name, user_screen_name.1, user_statuses_count, user_time_zone, user_urls, user_verified, clean_tweets, no_sw_tweets, sent_score, sentiment]\n",
       "Index: []\n",
       "\n",
       "[0 rows x 38 columns]"
      ]
     },
     "execution_count": 188,
     "metadata": {},
     "output_type": "execute_result"
    }
   ],
   "source": [
    "en_tweets.loc[en_tweets['user_name'] == 'almer'] #weird some people found above not here"
   ]
  },
  {
   "cell_type": "code",
   "execution_count": 171,
   "metadata": {},
   "outputs": [
    {
     "data": {
      "text/html": [
       "<div>\n",
       "<style scoped>\n",
       "    .dataframe tbody tr th:only-of-type {\n",
       "        vertical-align: middle;\n",
       "    }\n",
       "\n",
       "    .dataframe tbody tr th {\n",
       "        vertical-align: top;\n",
       "    }\n",
       "\n",
       "    .dataframe thead th {\n",
       "        text-align: right;\n",
       "    }\n",
       "</style>\n",
       "<table border=\"1\" class=\"dataframe\">\n",
       "  <thead>\n",
       "    <tr style=\"text-align: right;\">\n",
       "      <th></th>\n",
       "      <th>coordinates</th>\n",
       "      <th>created_at</th>\n",
       "      <th>hashtags</th>\n",
       "      <th>media</th>\n",
       "      <th>urls</th>\n",
       "      <th>favorite_count</th>\n",
       "      <th>id</th>\n",
       "      <th>in_reply_to_screen_name</th>\n",
       "      <th>in_reply_to_status_id</th>\n",
       "      <th>in_reply_to_user_id</th>\n",
       "      <th>...</th>\n",
       "      <th>user_name</th>\n",
       "      <th>user_screen_name.1</th>\n",
       "      <th>user_statuses_count</th>\n",
       "      <th>user_time_zone</th>\n",
       "      <th>user_urls</th>\n",
       "      <th>user_verified</th>\n",
       "      <th>clean_tweets</th>\n",
       "      <th>no_sw_tweets</th>\n",
       "      <th>sent_score</th>\n",
       "      <th>sentiment</th>\n",
       "    </tr>\n",
       "  </thead>\n",
       "  <tbody>\n",
       "    <tr>\n",
       "      <th>624941</th>\n",
       "      <td>NaN</td>\n",
       "      <td>Tue Jul 31 19:23:27 +0000 2012</td>\n",
       "      <td>NaN</td>\n",
       "      <td>NaN</td>\n",
       "      <td>http://instagr.am/p/Nwb_y3TXpR/</td>\n",
       "      <td>0</td>\n",
       "      <td>230383188730580992</td>\n",
       "      <td>NaN</td>\n",
       "      <td>NaN</td>\n",
       "      <td>NaN</td>\n",
       "      <td>...</td>\n",
       "      <td>!KING!</td>\n",
       "      <td>3King3Slim3</td>\n",
       "      <td>406</td>\n",
       "      <td>NaN</td>\n",
       "      <td>NaN</td>\n",
       "      <td>False</td>\n",
       "      <td>Us again....</td>\n",
       "      <td>Us again....</td>\n",
       "      <td>0.0000</td>\n",
       "      <td>neu</td>\n",
       "    </tr>\n",
       "    <tr>\n",
       "      <th>624949</th>\n",
       "      <td>NaN</td>\n",
       "      <td>Sun Jul 29 12:45:19 +0000 2012</td>\n",
       "      <td>NaN</td>\n",
       "      <td>NaN</td>\n",
       "      <td>http://instagr.am/p/NqkwGQTXjn/</td>\n",
       "      <td>0</td>\n",
       "      <td>229558220270743552</td>\n",
       "      <td>NaN</td>\n",
       "      <td>NaN</td>\n",
       "      <td>NaN</td>\n",
       "      <td>...</td>\n",
       "      <td>!KING!</td>\n",
       "      <td>3King3Slim3</td>\n",
       "      <td>406</td>\n",
       "      <td>NaN</td>\n",
       "      <td>NaN</td>\n",
       "      <td>False</td>\n",
       "      <td>Welcome 2 da fam</td>\n",
       "      <td>Welcome 2 da fam</td>\n",
       "      <td>0.4588</td>\n",
       "      <td>pos</td>\n",
       "    </tr>\n",
       "    <tr>\n",
       "      <th>624973</th>\n",
       "      <td>NaN</td>\n",
       "      <td>Wed Aug 15 05:11:56 +0000 2012</td>\n",
       "      <td>NaN</td>\n",
       "      <td>NaN</td>\n",
       "      <td>http://instagr.am/p/OVicsrTXiD/</td>\n",
       "      <td>0</td>\n",
       "      <td>235604716527169536</td>\n",
       "      <td>NaN</td>\n",
       "      <td>NaN</td>\n",
       "      <td>NaN</td>\n",
       "      <td>...</td>\n",
       "      <td>!KING!</td>\n",
       "      <td>3King3Slim3</td>\n",
       "      <td>406</td>\n",
       "      <td>NaN</td>\n",
       "      <td>NaN</td>\n",
       "      <td>False</td>\n",
       "      <td>Rest of Da Crew!</td>\n",
       "      <td>Rest of Da Crew!</td>\n",
       "      <td>0.0000</td>\n",
       "      <td>neu</td>\n",
       "    </tr>\n",
       "    <tr>\n",
       "      <th>624974</th>\n",
       "      <td>NaN</td>\n",
       "      <td>Mon Sep 10 14:40:29 +0000 2012</td>\n",
       "      <td>NaN</td>\n",
       "      <td>NaN</td>\n",
       "      <td>http://instagr.am/p/PZgIJmzXlc/</td>\n",
       "      <td>0</td>\n",
       "      <td>245169879920037888</td>\n",
       "      <td>NaN</td>\n",
       "      <td>NaN</td>\n",
       "      <td>NaN</td>\n",
       "      <td>...</td>\n",
       "      <td>!KING!</td>\n",
       "      <td>3King3Slim3</td>\n",
       "      <td>406</td>\n",
       "      <td>NaN</td>\n",
       "      <td>NaN</td>\n",
       "      <td>False</td>\n",
       "      <td>In Math class, the first class of the day 4 me...</td>\n",
       "      <td>In Math class, first class of day 4 me. I'm 2 ...</td>\n",
       "      <td>0.0000</td>\n",
       "      <td>neu</td>\n",
       "    </tr>\n",
       "    <tr>\n",
       "      <th>624975</th>\n",
       "      <td>NaN</td>\n",
       "      <td>Mon Aug 20 12:32:44 +0000 2012</td>\n",
       "      <td>NaN</td>\n",
       "      <td>NaN</td>\n",
       "      <td>http://instagr.am/p/OjMr3-zXrj/</td>\n",
       "      <td>0</td>\n",
       "      <td>237527589030342656</td>\n",
       "      <td>NaN</td>\n",
       "      <td>NaN</td>\n",
       "      <td>NaN</td>\n",
       "      <td>...</td>\n",
       "      <td>!KING!</td>\n",
       "      <td>3King3Slim3</td>\n",
       "      <td>406</td>\n",
       "      <td>NaN</td>\n",
       "      <td>NaN</td>\n",
       "      <td>False</td>\n",
       "      <td>Dis time around I want all the Money!</td>\n",
       "      <td>Dis time around I want Money!</td>\n",
       "      <td>0.1511</td>\n",
       "      <td>pos</td>\n",
       "    </tr>\n",
       "    <tr>\n",
       "      <th>...</th>\n",
       "      <td>...</td>\n",
       "      <td>...</td>\n",
       "      <td>...</td>\n",
       "      <td>...</td>\n",
       "      <td>...</td>\n",
       "      <td>...</td>\n",
       "      <td>...</td>\n",
       "      <td>...</td>\n",
       "      <td>...</td>\n",
       "      <td>...</td>\n",
       "      <td>...</td>\n",
       "      <td>...</td>\n",
       "      <td>...</td>\n",
       "      <td>...</td>\n",
       "      <td>...</td>\n",
       "      <td>...</td>\n",
       "      <td>...</td>\n",
       "      <td>...</td>\n",
       "      <td>...</td>\n",
       "      <td>...</td>\n",
       "      <td>...</td>\n",
       "    </tr>\n",
       "    <tr>\n",
       "      <th>625363</th>\n",
       "      <td>NaN</td>\n",
       "      <td>Wed Mar 28 22:16:46 +0000 2012</td>\n",
       "      <td>NaN</td>\n",
       "      <td>NaN</td>\n",
       "      <td>NaN</td>\n",
       "      <td>0</td>\n",
       "      <td>185128323607834625</td>\n",
       "      <td>NaN</td>\n",
       "      <td>NaN</td>\n",
       "      <td>NaN</td>\n",
       "      <td>...</td>\n",
       "      <td>!KING!</td>\n",
       "      <td>3King3Slim3</td>\n",
       "      <td>406</td>\n",
       "      <td>NaN</td>\n",
       "      <td>NaN</td>\n",
       "      <td>False</td>\n",
       "      <td>So i finally took up a offer...... Ill be per...</td>\n",
       "      <td>So finally took offer...... Ill performing The...</td>\n",
       "      <td>0.0516</td>\n",
       "      <td>pos</td>\n",
       "    </tr>\n",
       "    <tr>\n",
       "      <th>625365</th>\n",
       "      <td>NaN</td>\n",
       "      <td>Tue Apr 03 00:30:18 +0000 2012</td>\n",
       "      <td>NaN</td>\n",
       "      <td>NaN</td>\n",
       "      <td>NaN</td>\n",
       "      <td>0</td>\n",
       "      <td>186973869326860288</td>\n",
       "      <td>AyoLilZo</td>\n",
       "      <td>1.869727e+17</td>\n",
       "      <td>45646000.0</td>\n",
       "      <td>...</td>\n",
       "      <td>!KING!</td>\n",
       "      <td>3King3Slim3</td>\n",
       "      <td>406</td>\n",
       "      <td>NaN</td>\n",
       "      <td>NaN</td>\n",
       "      <td>False</td>\n",
       "      <td>LMAO NOOOOOO MAN YOU TRIPPIN! LOL</td>\n",
       "      <td>LMAO NOOOOOO MAN YOU TRIPPIN! LOL</td>\n",
       "      <td>0.7901</td>\n",
       "      <td>pos</td>\n",
       "    </tr>\n",
       "    <tr>\n",
       "      <th>625366</th>\n",
       "      <td>NaN</td>\n",
       "      <td>Thu May 31 01:54:43 +0000 2012</td>\n",
       "      <td>NaN</td>\n",
       "      <td>NaN</td>\n",
       "      <td>NaN</td>\n",
       "      <td>0</td>\n",
       "      <td>208013607382953984</td>\n",
       "      <td>iLive_Dance</td>\n",
       "      <td>2.080103e+17</td>\n",
       "      <td>348235719.0</td>\n",
       "      <td>...</td>\n",
       "      <td>!KING!</td>\n",
       "      <td>3King3Slim3</td>\n",
       "      <td>406</td>\n",
       "      <td>NaN</td>\n",
       "      <td>NaN</td>\n",
       "      <td>False</td>\n",
       "      <td>that you are</td>\n",
       "      <td></td>\n",
       "      <td>0.0000</td>\n",
       "      <td>neu</td>\n",
       "    </tr>\n",
       "    <tr>\n",
       "      <th>625368</th>\n",
       "      <td>NaN</td>\n",
       "      <td>Tue Mar 27 16:35:21 +0000 2012</td>\n",
       "      <td>cancer</td>\n",
       "      <td>NaN</td>\n",
       "      <td>NaN</td>\n",
       "      <td>0</td>\n",
       "      <td>184680013688340481</td>\n",
       "      <td>NaN</td>\n",
       "      <td>NaN</td>\n",
       "      <td>NaN</td>\n",
       "      <td>...</td>\n",
       "      <td>!KING!</td>\n",
       "      <td>3King3Slim3</td>\n",
       "      <td>406</td>\n",
       "      <td>NaN</td>\n",
       "      <td>NaN</td>\n",
       "      <td>False</td>\n",
       "      <td>You haven't experienced love until you have b...</td>\n",
       "      <td>You haven't experienced love cancer.. Very emo...</td>\n",
       "      <td>-0.7439</td>\n",
       "      <td>neg</td>\n",
       "    </tr>\n",
       "    <tr>\n",
       "      <th>625369</th>\n",
       "      <td>NaN</td>\n",
       "      <td>Wed May 16 18:32:02 +0000 2012</td>\n",
       "      <td>NaN</td>\n",
       "      <td>NaN</td>\n",
       "      <td>NaN</td>\n",
       "      <td>0</td>\n",
       "      <td>202828773010309121</td>\n",
       "      <td>NaN</td>\n",
       "      <td>NaN</td>\n",
       "      <td>NaN</td>\n",
       "      <td>...</td>\n",
       "      <td>!KING!</td>\n",
       "      <td>3King3Slim3</td>\n",
       "      <td>406</td>\n",
       "      <td>NaN</td>\n",
       "      <td>NaN</td>\n",
       "      <td>False</td>\n",
       "      <td>I get mad fast</td>\n",
       "      <td>I get mad fast</td>\n",
       "      <td>-0.4939</td>\n",
       "      <td>neg</td>\n",
       "    </tr>\n",
       "  </tbody>\n",
       "</table>\n",
       "<p>304 rows × 38 columns</p>\n",
       "</div>"
      ],
      "text/plain": [
       "       coordinates                      created_at hashtags media  \\\n",
       "624941         NaN  Tue Jul 31 19:23:27 +0000 2012      NaN   NaN   \n",
       "624949         NaN  Sun Jul 29 12:45:19 +0000 2012      NaN   NaN   \n",
       "624973         NaN  Wed Aug 15 05:11:56 +0000 2012      NaN   NaN   \n",
       "624974         NaN  Mon Sep 10 14:40:29 +0000 2012      NaN   NaN   \n",
       "624975         NaN  Mon Aug 20 12:32:44 +0000 2012      NaN   NaN   \n",
       "...            ...                             ...      ...   ...   \n",
       "625363         NaN  Wed Mar 28 22:16:46 +0000 2012      NaN   NaN   \n",
       "625365         NaN  Tue Apr 03 00:30:18 +0000 2012      NaN   NaN   \n",
       "625366         NaN  Thu May 31 01:54:43 +0000 2012      NaN   NaN   \n",
       "625368         NaN  Tue Mar 27 16:35:21 +0000 2012   cancer   NaN   \n",
       "625369         NaN  Wed May 16 18:32:02 +0000 2012      NaN   NaN   \n",
       "\n",
       "                                   urls  favorite_count                  id  \\\n",
       "624941  http://instagr.am/p/Nwb_y3TXpR/               0  230383188730580992   \n",
       "624949  http://instagr.am/p/NqkwGQTXjn/               0  229558220270743552   \n",
       "624973  http://instagr.am/p/OVicsrTXiD/               0  235604716527169536   \n",
       "624974  http://instagr.am/p/PZgIJmzXlc/               0  245169879920037888   \n",
       "624975  http://instagr.am/p/OjMr3-zXrj/               0  237527589030342656   \n",
       "...                                 ...             ...                 ...   \n",
       "625363                              NaN               0  185128323607834625   \n",
       "625365                              NaN               0  186973869326860288   \n",
       "625366                              NaN               0  208013607382953984   \n",
       "625368                              NaN               0  184680013688340481   \n",
       "625369                              NaN               0  202828773010309121   \n",
       "\n",
       "       in_reply_to_screen_name  in_reply_to_status_id  in_reply_to_user_id  \\\n",
       "624941                     NaN                    NaN                  NaN   \n",
       "624949                     NaN                    NaN                  NaN   \n",
       "624973                     NaN                    NaN                  NaN   \n",
       "624974                     NaN                    NaN                  NaN   \n",
       "624975                     NaN                    NaN                  NaN   \n",
       "...                        ...                    ...                  ...   \n",
       "625363                     NaN                    NaN                  NaN   \n",
       "625365                AyoLilZo           1.869727e+17           45646000.0   \n",
       "625366             iLive_Dance           2.080103e+17          348235719.0   \n",
       "625368                     NaN                    NaN                  NaN   \n",
       "625369                     NaN                    NaN                  NaN   \n",
       "\n",
       "        ... user_name user_screen_name.1 user_statuses_count  user_time_zone  \\\n",
       "624941  ...    !KING!        3King3Slim3                 406             NaN   \n",
       "624949  ...    !KING!        3King3Slim3                 406             NaN   \n",
       "624973  ...    !KING!        3King3Slim3                 406             NaN   \n",
       "624974  ...    !KING!        3King3Slim3                 406             NaN   \n",
       "624975  ...    !KING!        3King3Slim3                 406             NaN   \n",
       "...     ...       ...                ...                 ...             ...   \n",
       "625363  ...    !KING!        3King3Slim3                 406             NaN   \n",
       "625365  ...    !KING!        3King3Slim3                 406             NaN   \n",
       "625366  ...    !KING!        3King3Slim3                 406             NaN   \n",
       "625368  ...    !KING!        3King3Slim3                 406             NaN   \n",
       "625369  ...    !KING!        3King3Slim3                 406             NaN   \n",
       "\n",
       "        user_urls user_verified  \\\n",
       "624941        NaN         False   \n",
       "624949        NaN         False   \n",
       "624973        NaN         False   \n",
       "624974        NaN         False   \n",
       "624975        NaN         False   \n",
       "...           ...           ...   \n",
       "625363        NaN         False   \n",
       "625365        NaN         False   \n",
       "625366        NaN         False   \n",
       "625368        NaN         False   \n",
       "625369        NaN         False   \n",
       "\n",
       "                                             clean_tweets  \\\n",
       "624941                                      Us again....    \n",
       "624949                                  Welcome 2 da fam    \n",
       "624973                                  Rest of Da Crew!    \n",
       "624974  In Math class, the first class of the day 4 me...   \n",
       "624975             Dis time around I want all the Money!    \n",
       "...                                                   ...   \n",
       "625363   So i finally took up a offer...... Ill be per...   \n",
       "625365                  LMAO NOOOOOO MAN YOU TRIPPIN! LOL   \n",
       "625366                                       that you are   \n",
       "625368   You haven't experienced love until you have b...   \n",
       "625369                                     I get mad fast   \n",
       "\n",
       "                                             no_sw_tweets sent_score sentiment  \n",
       "624941                                       Us again....     0.0000       neu  \n",
       "624949                                   Welcome 2 da fam     0.4588       pos  \n",
       "624973                                   Rest of Da Crew!     0.0000       neu  \n",
       "624974  In Math class, first class of day 4 me. I'm 2 ...     0.0000       neu  \n",
       "624975                      Dis time around I want Money!     0.1511       pos  \n",
       "...                                                   ...        ...       ...  \n",
       "625363  So finally took offer...... Ill performing The...     0.0516       pos  \n",
       "625365                  LMAO NOOOOOO MAN YOU TRIPPIN! LOL     0.7901       pos  \n",
       "625366                                                        0.0000       neu  \n",
       "625368  You haven't experienced love cancer.. Very emo...    -0.7439       neg  \n",
       "625369                                     I get mad fast    -0.4939       neg  \n",
       "\n",
       "[304 rows x 38 columns]"
      ]
     },
     "execution_count": 171,
     "metadata": {},
     "output_type": "execute_result"
    }
   ],
   "source": [
    "en_tweets.loc[en_tweets['user_name'] == '!KING!'] \n"
   ]
  },
  {
   "cell_type": "code",
   "execution_count": 174,
   "metadata": {},
   "outputs": [
    {
     "name": "stdout",
     "output_type": "stream",
     "text": [
      "624941      0\n",
      "624949      0\n",
      "624973      0\n",
      "624974      0\n",
      "624975      0\n",
      "         ... \n",
      "625363      1\n",
      "625365      0\n",
      "625366      0\n",
      "625368    909\n",
      "625369      1\n",
      "Name: retweet_count, Length: 304, dtype: int64\n",
      "25944\n"
     ]
    }
   ],
   "source": [
    "print(en_tweets.loc[en_tweets['user_name'] == '!KING!'].retweet_count)\n",
    "print(en_tweets.loc[en_tweets['user_name'] == '!KING!'].retweet_count.sum())"
   ]
  },
  {
   "cell_type": "markdown",
   "metadata": {},
   "source": [
    ">In the case of this user, the majority of his tweets were not retweeted a lot but some of them very popular. \n",
    "We should somehow understand what is different in this tweet compared to the others"
   ]
  },
  {
   "cell_type": "code",
   "execution_count": 187,
   "metadata": {},
   "outputs": [
    {
     "data": {
      "text/html": [
       "<div>\n",
       "<style scoped>\n",
       "    .dataframe tbody tr th:only-of-type {\n",
       "        vertical-align: middle;\n",
       "    }\n",
       "\n",
       "    .dataframe tbody tr th {\n",
       "        vertical-align: top;\n",
       "    }\n",
       "\n",
       "    .dataframe thead th {\n",
       "        text-align: right;\n",
       "    }\n",
       "</style>\n",
       "<table border=\"1\" class=\"dataframe\">\n",
       "  <thead>\n",
       "    <tr style=\"text-align: right;\">\n",
       "      <th></th>\n",
       "      <th>coordinates</th>\n",
       "      <th>created_at</th>\n",
       "      <th>hashtags</th>\n",
       "      <th>media</th>\n",
       "      <th>urls</th>\n",
       "      <th>favorite_count</th>\n",
       "      <th>id</th>\n",
       "      <th>in_reply_to_screen_name</th>\n",
       "      <th>in_reply_to_status_id</th>\n",
       "      <th>in_reply_to_user_id</th>\n",
       "      <th>...</th>\n",
       "      <th>user_name</th>\n",
       "      <th>user_screen_name.1</th>\n",
       "      <th>user_statuses_count</th>\n",
       "      <th>user_time_zone</th>\n",
       "      <th>user_urls</th>\n",
       "      <th>user_verified</th>\n",
       "      <th>clean_tweets</th>\n",
       "      <th>no_sw_tweets</th>\n",
       "      <th>sent_score</th>\n",
       "      <th>sentiment</th>\n",
       "    </tr>\n",
       "  </thead>\n",
       "  <tbody>\n",
       "    <tr>\n",
       "      <th>625368</th>\n",
       "      <td>NaN</td>\n",
       "      <td>Tue Mar 27 16:35:21 +0000 2012</td>\n",
       "      <td>cancer</td>\n",
       "      <td>NaN</td>\n",
       "      <td>NaN</td>\n",
       "      <td>0</td>\n",
       "      <td>184680013688340481</td>\n",
       "      <td>NaN</td>\n",
       "      <td>NaN</td>\n",
       "      <td>NaN</td>\n",
       "      <td>...</td>\n",
       "      <td>!KING!</td>\n",
       "      <td>3King3Slim3</td>\n",
       "      <td>406</td>\n",
       "      <td>NaN</td>\n",
       "      <td>NaN</td>\n",
       "      <td>False</td>\n",
       "      <td>You haven't experienced love until you have b...</td>\n",
       "      <td>You haven't experienced love cancer.. Very emo...</td>\n",
       "      <td>-0.7439</td>\n",
       "      <td>neg</td>\n",
       "    </tr>\n",
       "  </tbody>\n",
       "</table>\n",
       "<p>1 rows × 38 columns</p>\n",
       "</div>"
      ],
      "text/plain": [
       "       coordinates                      created_at hashtags media urls  \\\n",
       "625368         NaN  Tue Mar 27 16:35:21 +0000 2012   cancer   NaN  NaN   \n",
       "\n",
       "        favorite_count                  id in_reply_to_screen_name  \\\n",
       "625368               0  184680013688340481                     NaN   \n",
       "\n",
       "        in_reply_to_status_id  in_reply_to_user_id  ... user_name  \\\n",
       "625368                    NaN                  NaN  ...    !KING!   \n",
       "\n",
       "       user_screen_name.1 user_statuses_count  user_time_zone  user_urls  \\\n",
       "625368        3King3Slim3                 406             NaN        NaN   \n",
       "\n",
       "       user_verified                                       clean_tweets  \\\n",
       "625368         False   You haven't experienced love until you have b...   \n",
       "\n",
       "                                             no_sw_tweets sent_score sentiment  \n",
       "625368  You haven't experienced love cancer.. Very emo...    -0.7439       neg  \n",
       "\n",
       "[1 rows x 38 columns]"
      ]
     },
     "execution_count": 187,
     "metadata": {},
     "output_type": "execute_result"
    }
   ],
   "source": [
    "#Let's see some tweets from !KING!\n",
    "en_tweets.loc[en_tweets.index == 625368]\n",
    "\n",
    "# i dont manage to print it all why "
   ]
  },
  {
   "cell_type": "code",
   "execution_count": 189,
   "metadata": {},
   "outputs": [
    {
     "data": {
      "text/html": [
       "<div>\n",
       "<style scoped>\n",
       "    .dataframe tbody tr th:only-of-type {\n",
       "        vertical-align: middle;\n",
       "    }\n",
       "\n",
       "    .dataframe tbody tr th {\n",
       "        vertical-align: top;\n",
       "    }\n",
       "\n",
       "    .dataframe thead th {\n",
       "        text-align: right;\n",
       "    }\n",
       "</style>\n",
       "<table border=\"1\" class=\"dataframe\">\n",
       "  <thead>\n",
       "    <tr style=\"text-align: right;\">\n",
       "      <th></th>\n",
       "      <th>total_tweets</th>\n",
       "      <th>pos_tweets</th>\n",
       "      <th>neu_tweets</th>\n",
       "      <th>neg_tweets</th>\n",
       "      <th>num_followers</th>\n",
       "      <th>num_friends</th>\n",
       "      <th>num_retweet</th>\n",
       "    </tr>\n",
       "    <tr>\n",
       "      <th>user_name</th>\n",
       "      <th></th>\n",
       "      <th></th>\n",
       "      <th></th>\n",
       "      <th></th>\n",
       "      <th></th>\n",
       "      <th></th>\n",
       "      <th></th>\n",
       "    </tr>\n",
       "  </thead>\n",
       "  <tbody>\n",
       "    <tr>\n",
       "      <th>♥ AaLiYaH ♥</th>\n",
       "      <td>82</td>\n",
       "      <td>42</td>\n",
       "      <td>19</td>\n",
       "      <td>21</td>\n",
       "      <td>4</td>\n",
       "      <td>70</td>\n",
       "      <td>0</td>\n",
       "    </tr>\n",
       "    <tr>\n",
       "      <th>almer</th>\n",
       "      <td>2</td>\n",
       "      <td>1</td>\n",
       "      <td>1</td>\n",
       "      <td>0</td>\n",
       "      <td>3</td>\n",
       "      <td>26</td>\n",
       "      <td>9</td>\n",
       "    </tr>\n",
       "    <tr>\n",
       "      <th>angieespino</th>\n",
       "      <td>2</td>\n",
       "      <td>2</td>\n",
       "      <td>0</td>\n",
       "      <td>0</td>\n",
       "      <td>0</td>\n",
       "      <td>2</td>\n",
       "      <td>0</td>\n",
       "    </tr>\n",
       "    <tr>\n",
       "      <th>niallcumming</th>\n",
       "      <td>4</td>\n",
       "      <td>4</td>\n",
       "      <td>0</td>\n",
       "      <td>0</td>\n",
       "      <td>1</td>\n",
       "      <td>95</td>\n",
       "      <td>30</td>\n",
       "    </tr>\n",
       "    <tr>\n",
       "      <th>العابرون</th>\n",
       "      <td>7</td>\n",
       "      <td>6</td>\n",
       "      <td>1</td>\n",
       "      <td>0</td>\n",
       "      <td>55</td>\n",
       "      <td>136</td>\n",
       "      <td>13</td>\n",
       "    </tr>\n",
       "    <tr>\n",
       "      <th>! طــايــش بـــس عـا</th>\n",
       "      <td>1</td>\n",
       "      <td>1</td>\n",
       "      <td>0</td>\n",
       "      <td>0</td>\n",
       "      <td>8</td>\n",
       "      <td>217</td>\n",
       "      <td>0</td>\n",
       "    </tr>\n",
       "    <tr>\n",
       "      <th>!KING!</th>\n",
       "      <td>304</td>\n",
       "      <td>91</td>\n",
       "      <td>149</td>\n",
       "      <td>64</td>\n",
       "      <td>48</td>\n",
       "      <td>234</td>\n",
       "      <td>25944</td>\n",
       "    </tr>\n",
       "    <tr>\n",
       "      <th>#EndSARS</th>\n",
       "      <td>181</td>\n",
       "      <td>96</td>\n",
       "      <td>43</td>\n",
       "      <td>42</td>\n",
       "      <td>134</td>\n",
       "      <td>158</td>\n",
       "      <td>19082</td>\n",
       "    </tr>\n",
       "  </tbody>\n",
       "</table>\n",
       "</div>"
      ],
      "text/plain": [
       "                      total_tweets  pos_tweets  neu_tweets  neg_tweets  \\\n",
       "user_name                                                                \n",
       "  ♥ AaLiYaH ♥                   82          42          19          21   \n",
       " almer                           2           1           1           0   \n",
       " angieespino                     2           2           0           0   \n",
       " niallcumming                    4           4           0           0   \n",
       " العابرون                        7           6           1           0   \n",
       "! طــايــش بـــس عـا             1           1           0           0   \n",
       "!KING!                         304          91         149          64   \n",
       "#EndSARS                       181          96          43          42   \n",
       "\n",
       "                      num_followers  num_friends  num_retweet  \n",
       "user_name                                                      \n",
       "  ♥ AaLiYaH ♥                     4           70            0  \n",
       " almer                            3           26            9  \n",
       " angieespino                      0            2            0  \n",
       " niallcumming                     1           95           30  \n",
       " العابرون                        55          136           13  \n",
       "! طــايــش بـــس عـا              8          217            0  \n",
       "!KING!                           48          234        25944  \n",
       "#EndSARS                        134          158        19082  "
      ]
     },
     "execution_count": 189,
     "metadata": {},
     "output_type": "execute_result"
    }
   ],
   "source": [
    "\n",
    "sent_follow = en_tweets.groupby([\"user_name\"]).apply(lambda x:  pd.Series({\n",
    "        'total_tweets': x['clean_tweets'].count(),\n",
    "        'pos_tweets': len(x.loc[x['sentiment'] == 'pos']),\n",
    "        'neu_tweets': len(x.loc[x['sentiment'] == 'neu']),\n",
    "        'neg_tweets': len(x.loc[x['sentiment'] == 'neg']),\n",
    "        'num_followers': x['user_followers_count'].max(),\n",
    "        'num_friends': x['user_friends_count'].max(),\n",
    "        'num_retweet': x['retweet_count'].sum()\n",
    "    }))\n",
    "\n",
    "sent_follow.head(8)"
   ]
  },
  {
   "cell_type": "code",
   "execution_count": 190,
   "metadata": {},
   "outputs": [
    {
     "name": "stdout",
     "output_type": "stream",
     "text": [
      "Before filtering we have 6167 users to compare\n"
     ]
    }
   ],
   "source": [
    "print(\"Before filtering we have {} users to compare\".format(len(sent_follow)))"
   ]
  },
  {
   "cell_type": "code",
   "execution_count": 191,
   "metadata": {},
   "outputs": [],
   "source": [
    "sent_follow_filtered = sent_follow.loc[(sent_follow['total_tweets'] > 20) &\n",
    "                                       (sent_follow['pos_tweets'] > 1) &\n",
    "                                       (sent_follow['neg_tweets'] >1)]"
   ]
  },
  {
   "cell_type": "code",
   "execution_count": 192,
   "metadata": {},
   "outputs": [
    {
     "name": "stdout",
     "output_type": "stream",
     "text": [
      "After filtering we have 1835 users to compare\n"
     ]
    }
   ],
   "source": [
    "print(\"After filtering we have {} users to compare\".format(len(sent_follow_filtered)))"
   ]
  },
  {
   "cell_type": "code",
   "execution_count": 193,
   "metadata": {},
   "outputs": [],
   "source": [
    "sent_follow_filtered['pos_perc'] = (sent_follow_filtered['pos_tweets']/sent_follow_filtered['total_tweets'])*100\n",
    "sent_follow_filtered['neg_perc'] = (sent_follow_filtered['neg_tweets']/sent_follow_filtered['total_tweets'])*100"
   ]
  },
  {
   "cell_type": "code",
   "execution_count": 194,
   "metadata": {},
   "outputs": [
    {
     "data": {
      "text/html": [
       "<div>\n",
       "<style scoped>\n",
       "    .dataframe tbody tr th:only-of-type {\n",
       "        vertical-align: middle;\n",
       "    }\n",
       "\n",
       "    .dataframe tbody tr th {\n",
       "        vertical-align: top;\n",
       "    }\n",
       "\n",
       "    .dataframe thead th {\n",
       "        text-align: right;\n",
       "    }\n",
       "</style>\n",
       "<table border=\"1\" class=\"dataframe\">\n",
       "  <thead>\n",
       "    <tr style=\"text-align: right;\">\n",
       "      <th></th>\n",
       "      <th>total_tweets</th>\n",
       "      <th>pos_tweets</th>\n",
       "      <th>neu_tweets</th>\n",
       "      <th>neg_tweets</th>\n",
       "      <th>num_followers</th>\n",
       "      <th>num_friends</th>\n",
       "      <th>num_retweet</th>\n",
       "      <th>pos_perc</th>\n",
       "      <th>neg_perc</th>\n",
       "    </tr>\n",
       "    <tr>\n",
       "      <th>user_name</th>\n",
       "      <th></th>\n",
       "      <th></th>\n",
       "      <th></th>\n",
       "      <th></th>\n",
       "      <th></th>\n",
       "      <th></th>\n",
       "      <th></th>\n",
       "      <th></th>\n",
       "      <th></th>\n",
       "    </tr>\n",
       "  </thead>\n",
       "  <tbody>\n",
       "    <tr>\n",
       "      <th>♥ AaLiYaH ♥</th>\n",
       "      <td>82</td>\n",
       "      <td>42</td>\n",
       "      <td>19</td>\n",
       "      <td>21</td>\n",
       "      <td>4</td>\n",
       "      <td>70</td>\n",
       "      <td>0</td>\n",
       "      <td>51.219512</td>\n",
       "      <td>25.609756</td>\n",
       "    </tr>\n",
       "    <tr>\n",
       "      <th>!KING!</th>\n",
       "      <td>304</td>\n",
       "      <td>91</td>\n",
       "      <td>149</td>\n",
       "      <td>64</td>\n",
       "      <td>48</td>\n",
       "      <td>234</td>\n",
       "      <td>25944</td>\n",
       "      <td>29.934211</td>\n",
       "      <td>21.052632</td>\n",
       "    </tr>\n",
       "    <tr>\n",
       "      <th>#EndSARS</th>\n",
       "      <td>181</td>\n",
       "      <td>96</td>\n",
       "      <td>43</td>\n",
       "      <td>42</td>\n",
       "      <td>134</td>\n",
       "      <td>158</td>\n",
       "      <td>19082</td>\n",
       "      <td>53.038674</td>\n",
       "      <td>23.204420</td>\n",
       "    </tr>\n",
       "    <tr>\n",
       "      <th>#GLAZERSOUT</th>\n",
       "      <td>331</td>\n",
       "      <td>170</td>\n",
       "      <td>116</td>\n",
       "      <td>45</td>\n",
       "      <td>43</td>\n",
       "      <td>358</td>\n",
       "      <td>152352</td>\n",
       "      <td>51.359517</td>\n",
       "      <td>13.595166</td>\n",
       "    </tr>\n",
       "    <tr>\n",
       "      <th>#Lucky#</th>\n",
       "      <td>177</td>\n",
       "      <td>78</td>\n",
       "      <td>54</td>\n",
       "      <td>45</td>\n",
       "      <td>15</td>\n",
       "      <td>51</td>\n",
       "      <td>1</td>\n",
       "      <td>44.067797</td>\n",
       "      <td>25.423729</td>\n",
       "    </tr>\n",
       "  </tbody>\n",
       "</table>\n",
       "</div>"
      ],
      "text/plain": [
       "                total_tweets  pos_tweets  neu_tweets  neg_tweets  \\\n",
       "user_name                                                          \n",
       "  ♥ AaLiYaH ♥             82          42          19          21   \n",
       "!KING!                   304          91         149          64   \n",
       "#EndSARS                 181          96          43          42   \n",
       "#GLAZERSOUT              331         170         116          45   \n",
       "#Lucky#                  177          78          54          45   \n",
       "\n",
       "                num_followers  num_friends  num_retweet   pos_perc   neg_perc  \n",
       "user_name                                                                      \n",
       "  ♥ AaLiYaH ♥               4           70            0  51.219512  25.609756  \n",
       "!KING!                     48          234        25944  29.934211  21.052632  \n",
       "#EndSARS                  134          158        19082  53.038674  23.204420  \n",
       "#GLAZERSOUT                43          358       152352  51.359517  13.595166  \n",
       "#Lucky#                    15           51            1  44.067797  25.423729  "
      ]
     },
     "execution_count": 194,
     "metadata": {},
     "output_type": "execute_result"
    }
   ],
   "source": [
    "sent_follow_filtered.head(5)"
   ]
  },
  {
   "cell_type": "code",
   "execution_count": 196,
   "metadata": {},
   "outputs": [],
   "source": [
    "kk = sent_follow_filtered.groupby('num_followers').agg({\"neg_perc\":\"mean\", \"pos_perc\":\"mean\"})\n"
   ]
  },
  {
   "cell_type": "code",
   "execution_count": 197,
   "metadata": {},
   "outputs": [
    {
     "data": {
      "image/png": "[encoded data removed]",
      "text/plain": [
       "<Figure size 432x288 with 1 Axes>"
      ]
     },
     "metadata": {
      "needs_background": "light"
     },
     "output_type": "display_data"
    }
   ],
   "source": [
    "plt.plot(kk.index,kk.neg_perc)\n",
    "plt.plot(kk.index,kk.pos_perc)\n",
    "plt.xscale('log')"
   ]
  },
  {
   "cell_type": "code",
   "execution_count": 130,
   "metadata": {},
   "outputs": [
    {
     "data": {
      "text/plain": [
       "(0.0, 5000.0)"
      ]
     },
     "execution_count": 130,
     "metadata": {},
     "output_type": "execute_result"
    },
    {
     "data": {
      "image/png": "[encoded data removed]",
      "text/plain": [
       "<Figure size 432x432 with 3 Axes>"
      ]
     },
     "metadata": {
      "needs_background": "light"
     },
     "output_type": "display_data"
    }
   ],
   "source": [
    "\n",
    "sns.jointplot(sent_follow_filtered['neg_perc'], sent_follow_filtered['num_followers'], kind=\"hex\")\n",
    "plt.ylim(0,5000)\n",
    "\n"
   ]
  },
  {
   "cell_type": "code",
   "execution_count": 131,
   "metadata": {},
   "outputs": [
    {
     "data": {
      "text/plain": [
       "(0.0, 2500.0)"
      ]
     },
     "execution_count": 131,
     "metadata": {},
     "output_type": "execute_result"
    },
    {
     "data": {
      "image/png": "[encoded data removed]",
      "text/plain": [
       "<Figure size 432x432 with 3 Axes>"
      ]
     },
     "metadata": {
      "needs_background": "light"
     },
     "output_type": "display_data"
    }
   ],
   "source": [
    "sns.jointplot(sent_follow_filtered['neg_perc'], sent_follow_filtered['num_friends'], kind=\"hex\")\n",
    "plt.ylim(0,2500)\n"
   ]
  },
  {
   "cell_type": "code",
   "execution_count": 132,
   "metadata": {},
   "outputs": [
    {
     "data": {
      "text/plain": [
       "(0.0, 5000.0)"
      ]
     },
     "execution_count": 132,
     "metadata": {},
     "output_type": "execute_result"
    },
    {
     "data": {
      "image/png": "[encoded data removed]",
      "text/plain": [
       "<Figure size 432x432 with 3 Axes>"
      ]
     },
     "metadata": {
      "needs_background": "light"
     },
     "output_type": "display_data"
    }
   ],
   "source": [
    "sns.jointplot(sent_follow_filtered['pos_perc'], sent_follow_filtered['num_followers'], kind=\"hex\")\n",
    "plt.ylim(0,5000)"
   ]
  },
  {
   "cell_type": "code",
   "execution_count": 133,
   "metadata": {
    "scrolled": true
   },
   "outputs": [
    {
     "data": {
      "text/plain": [
       "(0.0, 2500.0)"
      ]
     },
     "execution_count": 133,
     "metadata": {},
     "output_type": "execute_result"
    },
    {
     "data": {
      "image/png": "[encoded data removed]",
      "text/plain": [
       "<Figure size 432x432 with 3 Axes>"
      ]
     },
     "metadata": {
      "needs_background": "light"
     },
     "output_type": "display_data"
    }
   ],
   "source": [
    "sns.jointplot(sent_follow_filtered['pos_perc'], sent_follow_filtered['num_friends'], kind=\"hex\")\n",
    "plt.ylim(0,2500)"
   ]
  },
  {
   "cell_type": "markdown",
   "metadata": {},
   "source": [
    "## Step 6. Logistic Regression to see if retweetability linked to sentiments\n",
    "___"
   ]
  },
  {
   "cell_type": "code",
   "execution_count": null,
   "metadata": {},
   "outputs": [],
   "source": []
  },
  {
   "cell_type": "code",
   "execution_count": null,
   "metadata": {},
   "outputs": [],
   "source": []
  },
  {
   "cell_type": "code",
   "execution_count": null,
   "metadata": {},
   "outputs": [],
   "source": []
  },
  {
   "cell_type": "code",
   "execution_count": null,
   "metadata": {},
   "outputs": [],
   "source": []
  },
  {
   "cell_type": "code",
   "execution_count": null,
   "metadata": {},
   "outputs": [],
   "source": []
  },
  {
   "cell_type": "code",
   "execution_count": null,
   "metadata": {},
   "outputs": [],
   "source": []
  },
  {
   "cell_type": "markdown",
   "metadata": {},
   "source": [
    "## Step 7. Topic Analysis \n",
    "___\n",
    "\n",
    "**Empath lexicon**\n",
    "\n",
    "We are going to use [*Empath*](https://github.com/Ejhfast/empath-client), a tool for analyzing text across lexical categories. It will be used to extract tweets that can be related to a certain topic."
   ]
  },
  {
   "cell_type": "code",
   "execution_count": 135,
   "metadata": {},
   "outputs": [],
   "source": [
    "lexicon = Empath()"
   ]
  },
  {
   "cell_type": "markdown",
   "metadata": {},
   "source": [
    "We show an example of usage for two different sentences"
   ]
  },
  {
   "cell_type": "code",
   "execution_count": 136,
   "metadata": {},
   "outputs": [
    {
     "name": "stdout",
     "output_type": "stream",
     "text": [
      "Sentence:\tWe love playing basketball\n",
      "Result:\t\t{'sports': 2.0, 'music': 0.0}\n",
      "Normalized result:\t{'sports': 0.5, 'music': 0.0}\n",
      "\n",
      "Sentence:\tWe love playing the guitar\n",
      "Result:\t\t{'sports': 1.0, 'music': 1.0}\n",
      "Normalized result:\t{'sports': 0.2, 'music': 0.2}\n",
      "\n",
      "Explanation: 'playing' and 'basketball' are in the sports keyword set, whereas 'guitar' falls into the music keywords set.\n"
     ]
    }
   ],
   "source": [
    "example_1 = \"We love playing basketball\"\n",
    "example_2 = \"We love playing the guitar\"\n",
    "for ex in [example_1, example_2]:\n",
    "    print(f\"Sentence:\\t{ex}\")\n",
    "    print(f\"Result:\\t\\t{lexicon.analyze(ex, categories = ['sports', 'music'])}\")\n",
    "    print(f\"Normalized result:\\t{lexicon.analyze(ex, categories = ['sports', 'music'], normalize = True)}\\n\")\n",
    "    \n",
    "print(\"Explanation: 'playing' and 'basketball' are in the sports keyword set,\"\n",
    "      \" whereas 'guitar' falls into the music keywords set.\")"
   ]
  },
  {
   "cell_type": "markdown",
   "metadata": {},
   "source": [
    "**Lexical Categories**"
   ]
  },
  {
   "cell_type": "code",
   "execution_count": null,
   "metadata": {},
   "outputs": [],
   "source": [
    "categories = list(lexicon.cats.keys())\n",
    "categories.sort()\n",
    "print(f\"There are {len(categories)} predefined categories.\\nSome of the categories are: {categories[:20] + ['...']}\")\n",
    "print(f\"\\nEach category contains a set of keywords:\\nsports: {lexicon.cats['sports'][:20] + ['...']}\")"
   ]
  },
  {
   "cell_type": "markdown",
   "metadata": {},
   "source": [
    "We will select 8 of these categories:<br>*sports, politics, music, religion, health, cooking, fashion, and family*"
   ]
  },
  {
   "cell_type": "code",
   "execution_count": null,
   "metadata": {},
   "outputs": [],
   "source": [
    "CATEGORIES = [\"sports\", \"politics\", \"music\", \"religion\", \"health\", \"cooking\", \"fashion\", \"family\"]"
   ]
  },
  {
   "cell_type": "markdown",
   "metadata": {},
   "source": [
    "**Computing topic extraction**\n",
    "\n",
    "Let's compute the category scores for each tweet, and then select the most probable category if any detected. Or load the already computed dataset (saving time)."
   ]
  },
  {
   "cell_type": "code",
   "execution_count": null,
   "metadata": {},
   "outputs": [],
   "source": [
    "%%time\n",
    "categorized_dataset = 'Data/categorized_tweets.csv'\n",
    "load_df = False\n",
    "\n",
    "if not os.path.isfile(categorized_dataset) or not load_df:\n",
    "    \n",
    "    def score_categories(x, cats=CATEGORIES):\n",
    "        cat_scores = lexicon.analyze(x.text, categories = cats)\n",
    "        return [int(x) for x in list(cat_scores.values())]\n",
    "\n",
    "    df_cats = en_tweets.apply(score_categories, axis=1)\n",
    "    df_cats = pd.DataFrame(df_cats.to_list(), index=df_cats.index, columns=CATEGORIES)\n",
    "    en_tweets = en_tweets.join(df_cats)\n",
    "\n",
    "    # Extracting the category with the maximum number of occurrences\n",
    "    def max_category(x, cats=CATEGORIES):\n",
    "        array = [x[cat] for cat in cats]\n",
    "        if np.sum(array) == 0:\n",
    "            res = np.nan\n",
    "        elif array.count(max(array)) > 1:\n",
    "            res = np.nan\n",
    "        else:\n",
    "            res = cats[np.argmax(array)]\n",
    "        return res\n",
    "\n",
    "    en_tweets['category'] = en_tweets[CATEGORIES].apply(max_category, axis=1)\n",
    "    \n",
    "    # Write dataset\n",
    "    en_tweets.to_csv(categorized_dataset, index=False)\n",
    "    \n",
    "# Read already created dataset\n",
    "elif os.path.isfile(categorized_dataset) and 'category' not in en_tweets.columns and load_df:\n",
    "    en_tweets = pd.read_csv(categorized_dataset)"
   ]
  },
  {
   "cell_type": "markdown",
   "metadata": {},
   "source": [
    "For each category, we have counted the number of keywords present in the text. Then, the category with more keywords is considered the actual category of the tweet."
   ]
  },
  {
   "cell_type": "code",
   "execution_count": null,
   "metadata": {},
   "outputs": [],
   "source": [
    "print(f\"{en_tweets['category'].isna().value_counts()[False]} tweets were categorized;\"\n",
    "      f\" {en_tweets['category'].isna().value_counts()[False]/len(en_tweets)*100:.2f}% of the total {len(en_tweets)} tweets.\")"
   ]
  },
  {
   "cell_type": "markdown",
   "metadata": {},
   "source": [
    "Categorized tweets keyword count:"
   ]
  },
  {
   "cell_type": "code",
   "execution_count": null,
   "metadata": {},
   "outputs": [],
   "source": [
    "en_tweets[en_tweets.columns[-(len(CATEGORIES)+1):]][~en_tweets['category'].isna()].sample(n=4, random_state=0)"
   ]
  },
  {
   "cell_type": "code",
   "execution_count": null,
   "metadata": {},
   "outputs": [],
   "source": [
    "counts_series = en_tweets['category'].value_counts()\n",
    "\n",
    "plt.figure(figsize=(12,6))\n",
    "ax = plt.bar(counts_series.index, counts_series.values)\n",
    "plt.grid(axis='y')\n",
    "plt.title('Amount of tweets per category')\n",
    "plt.ylabel('Number of tweets')\n",
    "plt.xlabel('Category')\n",
    "\n",
    "# Showing labels\n",
    "for rect, label in zip(ax.patches, counts_series.values):\n",
    "    height = rect.get_height()\n",
    "    plt.text(rect.get_x() + rect.get_width() / 2, height + 5, label,\n",
    "            ha='center', va='bottom')\n",
    "\n",
    "plt.show()"
   ]
  },
  {
   "cell_type": "markdown",
   "metadata": {},
   "source": [
    "## Group statistics"
   ]
  },
  {
   "cell_type": "code",
   "execution_count": null,
   "metadata": {},
   "outputs": [],
   "source": [
    "group_stats =   (en_tweets[['category', 'text', 'retweet_count', 'favorite_count', 'retweetability']]\n",
    "                 .groupby('category')\n",
    "                 .agg({'text':'count', 'retweet_count':['mean', 'std'], 'retweetability':'mean', 'favorite_count':['mean', 'std']})\n",
    "                 .sort_values(('retweet_count', 'mean'), ascending=False)\n",
    "                )"
   ]
  },
  {
   "cell_type": "code",
   "execution_count": null,
   "metadata": {},
   "outputs": [],
   "source": [
    "def highlight_max(data): #, color='yellow'):\n",
    "    '''\n",
    "    highlight the maximum in a Series or DataFrame\n",
    "    '''\n",
    "    attr = 'font-weight: bold'\n",
    "    #attr = 'background-color: {}'.format(color)\n",
    "    if data.ndim == 1:  # Series from .apply(axis=0) or axis=1\n",
    "        is_max = data == data.max()\n",
    "        return [attr if v else '' for v in is_max]\n",
    "    else:  # from .apply(axis=None)\n",
    "        is_max = data == data.max().max()\n",
    "        return pd.DataFrame(np.where(is_max, attr, ''),\n",
    "                            index=data.index, columns=data.columns)"
   ]
  },
  {
   "cell_type": "code",
   "execution_count": null,
   "metadata": {},
   "outputs": [],
   "source": [
    "group_stats.style.apply(highlight_max, axis=0)# % 'bold')"
   ]
  },
  {
   "cell_type": "markdown",
   "metadata": {},
   "source": [
    "## Showing some of the tweets"
   ]
  },
  {
   "cell_type": "code",
   "execution_count": null,
   "metadata": {},
   "outputs": [],
   "source": [
    "def sample_tweets(cat, N=10, seed=None, min_rt=0):\n",
    "    df_w = (en_tweets[(en_tweets['category']==cat) & (en_tweets['retweet_count'] > min_rt)]\n",
    "            [['retweet_count', 'favorite_count', 'text', 'user_name']]\n",
    "           )\n",
    "    for rt, fav, tweet, user in df_w.sample(n=min(N, len(df_w)), random_state=None).values:\n",
    "        print(f\"RTs: {str(rt).ljust(4)}\\tFavs: {str(fav).ljust(4)}\\tUser: {user.ljust(15)} Tweet: {tweet}\")"
   ]
  },
  {
   "cell_type": "code",
   "execution_count": null,
   "metadata": {},
   "outputs": [],
   "source": [
    "sample_tweets('religion', min_rt=10)"
   ]
  },
  {
   "cell_type": "markdown",
   "metadata": {},
   "source": [
    "> Pre-processing to remove repeated tweets. Cameron? Consistency with the other parts of the project\n",
    "\n",
    "## Statistical Evaluation"
   ]
  },
  {
   "cell_type": "code",
   "execution_count": null,
   "metadata": {},
   "outputs": [],
   "source": [
    "def bootstrap_stat_ci(array, statistic, repetitions=10000, alpha=0.05, resampling_size=None):\n",
    "    if resampling_size is None:\n",
    "        resampling_size = int(len(array))\n",
    "    \n",
    "    # For reproducibility\n",
    "    np.random.seed(seed=0)\n",
    "    \n",
    "    bootstrap_distribution = []\n",
    "    for i in range(repetitions):\n",
    "        # resampled data\n",
    "        bootstrap_sample = np.random.choice(array, size=resampling_size, replace=True)\n",
    "        # computing the mean\n",
    "        stat_sample = statistic(bootstrap_sample)\n",
    "        # saving the statistic into the bootstrap distribution\n",
    "        bootstrap_distribution.append(stat_sample)\n",
    "\n",
    "    # Computing the bootstrap confidence interval\n",
    "    mean = np.mean(bootstrap_distribution)\n",
    "    left = np.percentile(bootstrap_distribution, alpha/2*100)\n",
    "    right = np.percentile(bootstrap_distribution, (1-alpha/2)*100)\n",
    "    \n",
    "    return bootstrap_distribution, mean, (left, right)\n",
    "\n",
    "def compute_statistic(statistic, categories, feature='retweet_count'):\n",
    "    # Choosing statistic\n",
    "    if statistic == 'mean':\n",
    "        stat_func = lambda x: np.mean(x)\n",
    "    elif statistic == 'mean_log':\n",
    "        stat_func = lambda x: np.mean(np.log10(x))\n",
    "    \n",
    "    # Computing bootstrap ci per category\n",
    "    x, l_err, r_err = [], [], []\n",
    "    for cat in categories:\n",
    "        values = en_tweets[en_tweets['category']==cat][feature][en_tweets[feature]>0].values\n",
    "        _, mean, (l_ci, r_ci) = bootstrap_stat_ci(values, statistic=stat_func)\n",
    "        x.append(mean)\n",
    "        l_err.append(mean-l_ci)\n",
    "        r_err.append(r_ci-mean)\n",
    "    err = [l_err, r_err]\n",
    "    return x, err\n",
    "\n",
    "def plot_error_bar(x, err, categories, statistic_name=''):\n",
    "    y = np.linspace(1, 2*len(x)-1, len(x))\n",
    "    plt.figure(figsize=(10,5))\n",
    "    plt.errorbar(x, y, xerr=err, fmt = 'o', color = 'k')\n",
    "    plt.yticks(tuple([0] + list(y) + [y[-1]+1]), tuple([''] + categories + ['']))\n",
    "    plt.title(statistic_name + ' per Category')\n",
    "    plt.ylabel('Categories')\n",
    "    plt.xlabel(statistic_name)\n",
    "    plt.show()\n",
    "    \n",
    "def show(statistic, feature, categories):\n",
    "    x, err = compute_statistic(statistic, categories, feature)\n",
    "    plot_error_bar(x, err, categories, statistic_name=' '.join([x.replace('_', ' ').title() for x in [statistic, feature]]))"
   ]
  },
  {
   "cell_type": "code",
   "execution_count": null,
   "metadata": {},
   "outputs": [],
   "source": [
    "show('mean', 'retweet_count', CATEGORIES)"
   ]
  },
  {
   "cell_type": "code",
   "execution_count": null,
   "metadata": {},
   "outputs": [],
   "source": [
    "show('mean_log', 'retweet_count', CATEGORIES)"
   ]
  },
  {
   "cell_type": "code",
   "execution_count": null,
   "metadata": {},
   "outputs": [],
   "source": [
    "show('mean', 'favorite_count', CATEGORIES)"
   ]
  },
  {
   "cell_type": "code",
   "execution_count": null,
   "metadata": {},
   "outputs": [],
   "source": [
    "show('mean_log', 'favorite_count', CATEGORIES)"
   ]
  },
  {
   "cell_type": "code",
   "execution_count": null,
   "metadata": {},
   "outputs": [],
   "source": [
    "is_neg = en_tweets['sentiment'] == 'neg'\n",
    "is_pos = en_tweets['sentiment'] == 'pos'\n",
    "cat_sent = en_tweets.loc[is_neg | is_pos]"
   ]
  },
  {
   "cell_type": "code",
   "execution_count": null,
   "metadata": {},
   "outputs": [],
   "source": [
    "grouped_cat_sent = (cat_sent[['category', 'sentiment', 'text', 'retweet_count', 'favorite_count', 'retweetability']]\n",
    "                 .groupby([\"category\", \"sentiment\"])\n",
    "                 .agg({'text':'count', 'retweet_count':['mean', 'std'], 'retweetability':'mean', 'favorite_count':['mean', 'std']})\n",
    "                 .sort_values(('retweet_count', 'mean'), ascending=False)\n",
    "                )"
   ]
  },
  {
   "cell_type": "code",
   "execution_count": null,
   "metadata": {},
   "outputs": [],
   "source": [
    "grouped_cat_sent.style.apply(highlight_max, axis=0)# % 'bold')"
   ]
  },
  {
   "cell_type": "markdown",
   "metadata": {},
   "source": [
    "---------------\n",
    "# EXTRA CODE\n",
    "\n",
    "## Plotting retweet and favorite distributions"
   ]
  },
  {
   "cell_type": "code",
   "execution_count": null,
   "metadata": {},
   "outputs": [],
   "source": [
    "ax = sns.boxplot(x=\"category\", y=\"retweet_count\", data=df)"
   ]
  },
  {
   "cell_type": "code",
   "execution_count": null,
   "metadata": {},
   "outputs": [],
   "source": [
    "categories = CATEGORIES[:3]\n",
    "\n",
    "plt.figure(figsize=(12,6))\n",
    "for cat in categories:\n",
    "    plt.hist(df[df['category']==cat]['retweet_count'][df['retweet_count']>0].values, bins=50, alpha=0.3, density=True)\n",
    "plt.legend(categories)\n",
    "plt.yscale('log')\n",
    "plt.xscale('log')\n",
    "plt.xlabel('Retweets')\n",
    "plt.ylabel('Frequency')\n",
    "plt.show()"
   ]
  },
  {
   "cell_type": "markdown",
   "metadata": {},
   "source": [
    "**Fitting a power law**\n",
    "\n",
    "Its pdf is \\\\( f(x,a) = ax^{a-1} \\\\)"
   ]
  },
  {
   "cell_type": "code",
   "execution_count": null,
   "metadata": {},
   "outputs": [],
   "source": [
    "plot_error_bar(x, err, statistic_name='Mean retweets')"
   ]
  },
  {
   "cell_type": "code",
   "execution_count": null,
   "metadata": {},
   "outputs": [],
   "source": [
    "x = [2, 4, 3]\n",
    "y = np.linspace(1, 2*len(x)-1, len(x))\n",
    "errors = [0.5, 0.25, 0.75]\n",
    "\n",
    "plt.figure()\n",
    "plt.errorbar(x, y, xerr=errors, fmt = 'o', color = 'k')\n",
    "#plt.yticks((0, 1, 3, 5, 6), ('', 'x3', 'x2', 'x1',''))\n",
    "plt.show()"
   ]
  },
  {
   "cell_type": "code",
   "execution_count": null,
   "metadata": {},
   "outputs": [],
   "source": [
    "plt.boxplot(mean, conf_intervals=[[l_ci, r_ci])"
   ]
  },
  {
   "cell_type": "code",
   "execution_count": null,
   "metadata": {},
   "outputs": [],
   "source": [
    "plt.boxplot(rt_sports, bootstrap=10000)"
   ]
  },
  {
   "cell_type": "code",
   "execution_count": null,
   "metadata": {},
   "outputs": [],
   "source": [
    "# Plotting the bootstrap distribution\n",
    "\n",
    "plt.figure(figsize=(10,5))\n",
    "plt.hist(bootstrap_distribution, bins=45)\n",
    "plt.title('Bootstrap distribution')\n",
    "plt.ylabel('Counts')\n",
    "plt.xlabel('Probability for a prediction being off by more than 2 points')\n",
    "plt.axvline(x=left, color='red')\n",
    "plt.legend(['Confidence Interval', 'Distribution'])\n",
    "plt.axvline(x=right, color='red')\n",
    "plt.show()"
   ]
  },
  {
   "cell_type": "code",
   "execution_count": null,
   "metadata": {},
   "outputs": [],
   "source": [
    "scipy.stats.powerlaw.fit(rt_sports)"
   ]
  },
  {
   "cell_type": "code",
   "execution_count": null,
   "metadata": {},
   "outputs": [],
   "source": [
    "categories = CATEGORIES\n",
    "\n",
    "plt.figure(figsize=(12,6))\n",
    "for cat in categories:\n",
    "    plt.hist(df[df['category']==cat]['favorite_count'].values, bins=50, alpha=0.3, density=True)\n",
    "plt.legend(categories)\n",
    "plt.yscale('log')\n",
    "plt.xlabel('Favorites')\n",
    "plt.ylabel('Frequency')\n",
    "plt.show()"
   ]
  },
  {
   "cell_type": "code",
   "execution_count": null,
   "metadata": {},
   "outputs": [],
   "source": []
  }
 ],
 "metadata": {
  "kernelspec": {
   "display_name": "Python 3",
   "language": "python",
   "name": "python3"
  },
  "language_info": {
   "codemirror_mode": {
    "name": "ipython",
    "version": 3
   },
   "file_extension": ".py",
   "mimetype": "text/x-python",
   "name": "python",
   "nbconvert_exporter": "python",
   "pygments_lexer": "ipython3",
   "version": "3.8.5"
  }
 },
 "nbformat": 4,
 "nbformat_minor": 4
}
