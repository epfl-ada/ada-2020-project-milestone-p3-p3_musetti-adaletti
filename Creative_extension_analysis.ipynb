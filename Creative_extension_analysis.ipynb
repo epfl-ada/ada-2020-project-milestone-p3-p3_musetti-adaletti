{
 "cells": [
  {
   "cell_type": "markdown",
   "metadata": {},
   "source": [
    "# Creative Extension Analysis\n",
    "\n",
    "---\n"
   ]
  },
  {
   "cell_type": "code",
   "execution_count": 1,
   "metadata": {},
   "outputs": [],
   "source": [
    "# Importing the libraries\n",
    "import pandas as pd\n",
    "import numpy as np\n",
    "import matplotlib.pyplot as plt\n",
    "import seaborn as sns\n",
    "\n",
    "# Hiding the warnings\n",
    "import warnings; warnings.simplefilter('ignore')\n",
    "\n",
    "# Set random seed for consistency \n",
    "import random\n",
    "from numpy.random import seed as random_seed\n",
    "from numpy.random import shuffle as random_shuffle\n",
    "seed = 42\n",
    "random.seed(seed)\n",
    "np.random.seed(seed)\n",
    "\n",
    "# Importing RE (regular expression) module for preprocessing step\n",
    "import re\n",
    "\n",
    "# Natural Language Toolkits\n",
    "import nltk\n",
    "\n",
    "# Vader \n",
    "import vaderSentiment\n",
    "from vaderSentiment.vaderSentiment import SentimentIntensityAnalyzer\n",
    "\n",
    "#Bert sa-pipeline\n",
    "from transformers import pipeline\n",
    "\n",
    "from scipy import stats\n",
    "from datetime import datetime, date, time"
   ]
  },
  {
   "cell_type": "markdown",
   "metadata": {},
   "source": [
    "## Step 1. Data Collection\n",
    "___\n",
    "\n",
    "How we collected the data\n",
    "\n",
    "**DID YOU COLLECT ONLY DATA COMING FROM REAL USERS FROM THE DATASET IN THE ORIGINAL PAPER? IMPORTANT IF WE NEED TO REMOVE THEM**"
   ]
  },
  {
   "cell_type": "markdown",
   "metadata": {},
   "source": [
    "## Step 2. Data Loading & Data Organization\n",
    "___"
   ]
  },
  {
   "cell_type": "code",
   "execution_count": 2,
   "metadata": {},
   "outputs": [
    {
     "data": {
      "text/html": [
       "<div>\n",
       "<style scoped>\n",
       "    .dataframe tbody tr th:only-of-type {\n",
       "        vertical-align: middle;\n",
       "    }\n",
       "\n",
       "    .dataframe tbody tr th {\n",
       "        vertical-align: top;\n",
       "    }\n",
       "\n",
       "    .dataframe thead th {\n",
       "        text-align: right;\n",
       "    }\n",
       "</style>\n",
       "<table border=\"1\" class=\"dataframe\">\n",
       "  <thead>\n",
       "    <tr style=\"text-align: right;\">\n",
       "      <th></th>\n",
       "      <th>coordinates</th>\n",
       "      <th>created_at</th>\n",
       "      <th>hashtags</th>\n",
       "      <th>media</th>\n",
       "      <th>urls</th>\n",
       "      <th>favorite_count</th>\n",
       "      <th>id</th>\n",
       "      <th>in_reply_to_screen_name</th>\n",
       "      <th>in_reply_to_status_id</th>\n",
       "      <th>in_reply_to_user_id</th>\n",
       "      <th>...</th>\n",
       "      <th>user_followers_count</th>\n",
       "      <th>user_friends_count</th>\n",
       "      <th>user_listed_count</th>\n",
       "      <th>user_location</th>\n",
       "      <th>user_name</th>\n",
       "      <th>user_screen_name.1</th>\n",
       "      <th>user_statuses_count</th>\n",
       "      <th>user_time_zone</th>\n",
       "      <th>user_urls</th>\n",
       "      <th>user_verified</th>\n",
       "    </tr>\n",
       "  </thead>\n",
       "  <tbody>\n",
       "    <tr>\n",
       "      <th>0</th>\n",
       "      <td>NaN</td>\n",
       "      <td>Sun Feb 14 23:29:33 +0000 2010</td>\n",
       "      <td>NaN</td>\n",
       "      <td>NaN</td>\n",
       "      <td>NaN</td>\n",
       "      <td>0</td>\n",
       "      <td>9116606357</td>\n",
       "      <td>NaN</td>\n",
       "      <td>NaN</td>\n",
       "      <td>NaN</td>\n",
       "      <td>...</td>\n",
       "      <td>29</td>\n",
       "      <td>17</td>\n",
       "      <td>0</td>\n",
       "      <td>Sofia, Bulgaria</td>\n",
       "      <td>Ina Gerdjikova</td>\n",
       "      <td>InaGerdjikova</td>\n",
       "      <td>6</td>\n",
       "      <td>NaN</td>\n",
       "      <td>http://kutiazamisli.blogspot.com/</td>\n",
       "      <td>False</td>\n",
       "    </tr>\n",
       "    <tr>\n",
       "      <th>1</th>\n",
       "      <td>NaN</td>\n",
       "      <td>Fri Sep 24 20:40:25 +0000 2010</td>\n",
       "      <td>NaN</td>\n",
       "      <td>NaN</td>\n",
       "      <td>NaN</td>\n",
       "      <td>0</td>\n",
       "      <td>25437022568</td>\n",
       "      <td>NaN</td>\n",
       "      <td>NaN</td>\n",
       "      <td>NaN</td>\n",
       "      <td>...</td>\n",
       "      <td>12</td>\n",
       "      <td>9</td>\n",
       "      <td>0</td>\n",
       "      <td>NaN</td>\n",
       "      <td>Ana Paula Ribeiro</td>\n",
       "      <td>anadadal</td>\n",
       "      <td>7</td>\n",
       "      <td>NaN</td>\n",
       "      <td>NaN</td>\n",
       "      <td>False</td>\n",
       "    </tr>\n",
       "    <tr>\n",
       "      <th>2</th>\n",
       "      <td>NaN</td>\n",
       "      <td>Tue Jun 14 07:54:35 +0000 2011</td>\n",
       "      <td>NaN</td>\n",
       "      <td>NaN</td>\n",
       "      <td>http://kutiazamisli.blogspot.com/2011/06/blog-...</td>\n",
       "      <td>0</td>\n",
       "      <td>80543642816757761</td>\n",
       "      <td>NaN</td>\n",
       "      <td>NaN</td>\n",
       "      <td>NaN</td>\n",
       "      <td>...</td>\n",
       "      <td>29</td>\n",
       "      <td>17</td>\n",
       "      <td>0</td>\n",
       "      <td>Sofia, Bulgaria</td>\n",
       "      <td>Ina Gerdjikova</td>\n",
       "      <td>InaGerdjikova</td>\n",
       "      <td>6</td>\n",
       "      <td>NaN</td>\n",
       "      <td>http://kutiazamisli.blogspot.com/</td>\n",
       "      <td>False</td>\n",
       "    </tr>\n",
       "    <tr>\n",
       "      <th>3</th>\n",
       "      <td>NaN</td>\n",
       "      <td>Tue Aug 12 17:51:37 +0000 2014</td>\n",
       "      <td>NaN</td>\n",
       "      <td>NaN</td>\n",
       "      <td>http://twitcam.livestream.com/g7hpe</td>\n",
       "      <td>0</td>\n",
       "      <td>499251874256920577</td>\n",
       "      <td>NaN</td>\n",
       "      <td>NaN</td>\n",
       "      <td>NaN</td>\n",
       "      <td>...</td>\n",
       "      <td>12</td>\n",
       "      <td>9</td>\n",
       "      <td>0</td>\n",
       "      <td>NaN</td>\n",
       "      <td>Ana Paula Ribeiro</td>\n",
       "      <td>anadadal</td>\n",
       "      <td>7</td>\n",
       "      <td>NaN</td>\n",
       "      <td>NaN</td>\n",
       "      <td>False</td>\n",
       "    </tr>\n",
       "    <tr>\n",
       "      <th>4</th>\n",
       "      <td>NaN</td>\n",
       "      <td>Fri Oct 25 11:38:21 +0000 2013</td>\n",
       "      <td>SmurfsVillage</td>\n",
       "      <td>NaN</td>\n",
       "      <td>http://bit.ly/Smurf47</td>\n",
       "      <td>0</td>\n",
       "      <td>393703073228808192</td>\n",
       "      <td>NaN</td>\n",
       "      <td>NaN</td>\n",
       "      <td>NaN</td>\n",
       "      <td>...</td>\n",
       "      <td>6</td>\n",
       "      <td>17</td>\n",
       "      <td>0</td>\n",
       "      <td>Land of the happily single</td>\n",
       "      <td>sheena c wallace</td>\n",
       "      <td>sheasofly</td>\n",
       "      <td>268</td>\n",
       "      <td>NaN</td>\n",
       "      <td>NaN</td>\n",
       "      <td>False</td>\n",
       "    </tr>\n",
       "  </tbody>\n",
       "</table>\n",
       "<p>5 rows × 34 columns</p>\n",
       "</div>"
      ],
      "text/plain": [
       "  coordinates                      created_at       hashtags media  \\\n",
       "0         NaN  Sun Feb 14 23:29:33 +0000 2010            NaN   NaN   \n",
       "1         NaN  Fri Sep 24 20:40:25 +0000 2010            NaN   NaN   \n",
       "2         NaN  Tue Jun 14 07:54:35 +0000 2011            NaN   NaN   \n",
       "3         NaN  Tue Aug 12 17:51:37 +0000 2014            NaN   NaN   \n",
       "4         NaN  Fri Oct 25 11:38:21 +0000 2013  SmurfsVillage   NaN   \n",
       "\n",
       "                                                urls  favorite_count  \\\n",
       "0                                                NaN               0   \n",
       "1                                                NaN               0   \n",
       "2  http://kutiazamisli.blogspot.com/2011/06/blog-...               0   \n",
       "3                http://twitcam.livestream.com/g7hpe               0   \n",
       "4                              http://bit.ly/Smurf47               0   \n",
       "\n",
       "                   id in_reply_to_screen_name  in_reply_to_status_id  \\\n",
       "0          9116606357                     NaN                    NaN   \n",
       "1         25437022568                     NaN                    NaN   \n",
       "2   80543642816757761                     NaN                    NaN   \n",
       "3  499251874256920577                     NaN                    NaN   \n",
       "4  393703073228808192                     NaN                    NaN   \n",
       "\n",
       "   in_reply_to_user_id  ... user_followers_count user_friends_count  \\\n",
       "0                  NaN  ...                   29                 17   \n",
       "1                  NaN  ...                   12                  9   \n",
       "2                  NaN  ...                   29                 17   \n",
       "3                  NaN  ...                   12                  9   \n",
       "4                  NaN  ...                    6                 17   \n",
       "\n",
       "  user_listed_count               user_location          user_name  \\\n",
       "0                 0             Sofia, Bulgaria     Ina Gerdjikova   \n",
       "1                 0                         NaN  Ana Paula Ribeiro   \n",
       "2                 0             Sofia, Bulgaria     Ina Gerdjikova   \n",
       "3                 0                         NaN  Ana Paula Ribeiro   \n",
       "4                 0  Land of the happily single   sheena c wallace   \n",
       "\n",
       "  user_screen_name.1 user_statuses_count user_time_zone  \\\n",
       "0      InaGerdjikova                   6            NaN   \n",
       "1           anadadal                   7            NaN   \n",
       "2      InaGerdjikova                   6            NaN   \n",
       "3           anadadal                   7            NaN   \n",
       "4          sheasofly                 268            NaN   \n",
       "\n",
       "                           user_urls user_verified  \n",
       "0  http://kutiazamisli.blogspot.com/         False  \n",
       "1                                NaN         False  \n",
       "2  http://kutiazamisli.blogspot.com/         False  \n",
       "3                                NaN         False  \n",
       "4                                NaN         False  \n",
       "\n",
       "[5 rows x 34 columns]"
      ]
     },
     "execution_count": 2,
     "metadata": {},
     "output_type": "execute_result"
    }
   ],
   "source": [
    "# Loading the dataset\n",
    "\n",
    "tweets = pd.read_csv('./Data/tweets',low_memory=False)\n",
    "tweets.head()"
   ]
  },
  {
   "cell_type": "code",
   "execution_count": 3,
   "metadata": {},
   "outputs": [
    {
     "data": {
      "text/html": [
       "<div>\n",
       "<style scoped>\n",
       "    .dataframe tbody tr th:only-of-type {\n",
       "        vertical-align: middle;\n",
       "    }\n",
       "\n",
       "    .dataframe tbody tr th {\n",
       "        vertical-align: top;\n",
       "    }\n",
       "\n",
       "    .dataframe thead th {\n",
       "        text-align: right;\n",
       "    }\n",
       "</style>\n",
       "<table border=\"1\" class=\"dataframe\">\n",
       "  <thead>\n",
       "    <tr style=\"text-align: right;\">\n",
       "      <th></th>\n",
       "      <th>IsEgo</th>\n",
       "      <th>followers_count</th>\n",
       "      <th>friends_count</th>\n",
       "      <th>statuses_count</th>\n",
       "      <th>utc_offset</th>\n",
       "      <th>lang</th>\n",
       "      <th>created_at</th>\n",
       "      <th>protected</th>\n",
       "    </tr>\n",
       "    <tr>\n",
       "      <th>ID</th>\n",
       "      <th></th>\n",
       "      <th></th>\n",
       "      <th></th>\n",
       "      <th></th>\n",
       "      <th></th>\n",
       "      <th></th>\n",
       "      <th></th>\n",
       "      <th></th>\n",
       "    </tr>\n",
       "  </thead>\n",
       "  <tbody>\n",
       "    <tr>\n",
       "      <th>1</th>\n",
       "      <td>True</td>\n",
       "      <td>30.0</td>\n",
       "      <td>28</td>\n",
       "      <td>9.0</td>\n",
       "      <td>NaN</td>\n",
       "      <td>en</td>\n",
       "      <td>Wed Oct 26 03:30:32 +0000 2011</td>\n",
       "      <td>False</td>\n",
       "    </tr>\n",
       "    <tr>\n",
       "      <th>2</th>\n",
       "      <td>True</td>\n",
       "      <td>2.0</td>\n",
       "      <td>8</td>\n",
       "      <td>7.0</td>\n",
       "      <td>-14400.0</td>\n",
       "      <td>en</td>\n",
       "      <td>Mon Jul 27 20:46:32 +0000 2009</td>\n",
       "      <td>False</td>\n",
       "    </tr>\n",
       "    <tr>\n",
       "      <th>3</th>\n",
       "      <td>True</td>\n",
       "      <td>1.0</td>\n",
       "      <td>0</td>\n",
       "      <td>0.0</td>\n",
       "      <td>NaN</td>\n",
       "      <td>fr</td>\n",
       "      <td>Mon Apr 23 20:57:26 +0000 2012</td>\n",
       "      <td>False</td>\n",
       "    </tr>\n",
       "  </tbody>\n",
       "</table>\n",
       "</div>"
      ],
      "text/plain": [
       "    IsEgo  followers_count  friends_count  statuses_count  utc_offset lang  \\\n",
       "ID                                                                           \n",
       "1    True             30.0             28             9.0         NaN   en   \n",
       "2    True              2.0              8             7.0    -14400.0   en   \n",
       "3    True              1.0              0             0.0         NaN   fr   \n",
       "\n",
       "                        created_at  protected  \n",
       "ID                                             \n",
       "1   Wed Oct 26 03:30:32 +0000 2011      False  \n",
       "2   Mon Jul 27 20:46:32 +0000 2009      False  \n",
       "3   Mon Apr 23 20:57:26 +0000 2012      False  "
      ]
     },
     "execution_count": 3,
     "metadata": {},
     "output_type": "execute_result"
    }
   ],
   "source": [
    "#reading in the dataframe\n",
    "ego_alt_prof = pd.read_csv('./Data/EgoAlterProfiles.txt', delimiter = \"\\t\").set_index('ID')\n",
    "\n",
    "#visualize that the dataframe was imported correctly\n",
    "ego_alt_prof.head(3)"
   ]
  },
  {
   "cell_type": "code",
   "execution_count": 4,
   "metadata": {},
   "outputs": [
    {
     "data": {
      "text/html": [
       "<div>\n",
       "<style scoped>\n",
       "    .dataframe tbody tr th:only-of-type {\n",
       "        vertical-align: middle;\n",
       "    }\n",
       "\n",
       "    .dataframe tbody tr th {\n",
       "        vertical-align: top;\n",
       "    }\n",
       "\n",
       "    .dataframe thead th {\n",
       "        text-align: right;\n",
       "    }\n",
       "</style>\n",
       "<table border=\"1\" class=\"dataframe\">\n",
       "  <thead>\n",
       "    <tr style=\"text-align: right;\">\n",
       "      <th></th>\n",
       "      <th>replyto_userid</th>\n",
       "      <th>retweeted_userid</th>\n",
       "      <th>id</th>\n",
       "      <th>tweetid</th>\n",
       "      <th>created_at</th>\n",
       "      <th>hashtags</th>\n",
       "      <th>urls</th>\n",
       "      <th>mentions_ids</th>\n",
       "      <th>retweet_count</th>\n",
       "      <th>egoID</th>\n",
       "      <th>retweetedUserID</th>\n",
       "      <th>replytoUserID</th>\n",
       "      <th>metionID</th>\n",
       "    </tr>\n",
       "  </thead>\n",
       "  <tbody>\n",
       "    <tr>\n",
       "      <th>0</th>\n",
       "      <td>NaN</td>\n",
       "      <td>NaN</td>\n",
       "      <td>398477318</td>\n",
       "      <td>249552537051598848</td>\n",
       "      <td>Sat Sep 22 16:55:35 +0000 2012</td>\n",
       "      <td>NaN</td>\n",
       "      <td>NaN</td>\n",
       "      <td>2810549959</td>\n",
       "      <td>0</td>\n",
       "      <td>1</td>\n",
       "      <td>NaN</td>\n",
       "      <td>NaN</td>\n",
       "      <td>NaN</td>\n",
       "    </tr>\n",
       "    <tr>\n",
       "      <th>1</th>\n",
       "      <td>NaN</td>\n",
       "      <td>NaN</td>\n",
       "      <td>398477318</td>\n",
       "      <td>249537963145433088</td>\n",
       "      <td>Sat Sep 22 15:57:41 +0000 2012</td>\n",
       "      <td>NaN</td>\n",
       "      <td>NaN</td>\n",
       "      <td>2810549959</td>\n",
       "      <td>0</td>\n",
       "      <td>1</td>\n",
       "      <td>NaN</td>\n",
       "      <td>NaN</td>\n",
       "      <td>NaN</td>\n",
       "    </tr>\n",
       "    <tr>\n",
       "      <th>2</th>\n",
       "      <td>NaN</td>\n",
       "      <td>NaN</td>\n",
       "      <td>398477318</td>\n",
       "      <td>129377372209299456</td>\n",
       "      <td>Thu Oct 27 02:02:23 +0000 2011</td>\n",
       "      <td>NaN</td>\n",
       "      <td>NaN</td>\n",
       "      <td>NaN</td>\n",
       "      <td>0</td>\n",
       "      <td>1</td>\n",
       "      <td>NaN</td>\n",
       "      <td>NaN</td>\n",
       "      <td>NaN</td>\n",
       "    </tr>\n",
       "  </tbody>\n",
       "</table>\n",
       "</div>"
      ],
      "text/plain": [
       "   replyto_userid  retweeted_userid         id             tweetid  \\\n",
       "0             NaN               NaN  398477318  249552537051598848   \n",
       "1             NaN               NaN  398477318  249537963145433088   \n",
       "2             NaN               NaN  398477318  129377372209299456   \n",
       "\n",
       "                       created_at hashtags urls mentions_ids  retweet_count  \\\n",
       "0  Sat Sep 22 16:55:35 +0000 2012      NaN  NaN   2810549959              0   \n",
       "1  Sat Sep 22 15:57:41 +0000 2012      NaN  NaN   2810549959              0   \n",
       "2  Thu Oct 27 02:02:23 +0000 2011      NaN  NaN          NaN              0   \n",
       "\n",
       "   egoID  retweetedUserID  replytoUserID metionID  \n",
       "0      1              NaN            NaN      NaN  \n",
       "1      1              NaN            NaN      NaN  \n",
       "2      1              NaN            NaN      NaN  "
      ]
     },
     "execution_count": 4,
     "metadata": {},
     "output_type": "execute_result"
    }
   ],
   "source": [
    "#reading in the dataframe using the encoding found in the previous cell\n",
    "ego_timelines = pd.read_csv('./Data/EgoTimelines.txt', encoding = \"ISO-8859-1\",delimiter = \"\\t\")\n",
    "\n",
    "#visualize that the dataframe was imported correctly\n",
    "ego_timelines.head(3)"
   ]
  },
  {
   "cell_type": "code",
   "execution_count": 5,
   "metadata": {},
   "outputs": [
    {
     "data": {
      "text/html": [
       "<div>\n",
       "<style scoped>\n",
       "    .dataframe tbody tr th:only-of-type {\n",
       "        vertical-align: middle;\n",
       "    }\n",
       "\n",
       "    .dataframe tbody tr th {\n",
       "        vertical-align: top;\n",
       "    }\n",
       "\n",
       "    .dataframe thead th {\n",
       "        text-align: right;\n",
       "    }\n",
       "</style>\n",
       "<table border=\"1\" class=\"dataframe\">\n",
       "  <thead>\n",
       "    <tr style=\"text-align: right;\">\n",
       "      <th></th>\n",
       "      <th>tweetid</th>\n",
       "      <th>utc_offset</th>\n",
       "    </tr>\n",
       "  </thead>\n",
       "  <tbody>\n",
       "    <tr>\n",
       "      <th>0</th>\n",
       "      <td>249552537051598848</td>\n",
       "      <td>NaN</td>\n",
       "    </tr>\n",
       "    <tr>\n",
       "      <th>1</th>\n",
       "      <td>249537963145433088</td>\n",
       "      <td>NaN</td>\n",
       "    </tr>\n",
       "    <tr>\n",
       "      <th>2</th>\n",
       "      <td>129377372209299456</td>\n",
       "      <td>NaN</td>\n",
       "    </tr>\n",
       "    <tr>\n",
       "      <th>3</th>\n",
       "      <td>302401054690140160</td>\n",
       "      <td>NaN</td>\n",
       "    </tr>\n",
       "    <tr>\n",
       "      <th>4</th>\n",
       "      <td>249538739611787264</td>\n",
       "      <td>NaN</td>\n",
       "    </tr>\n",
       "  </tbody>\n",
       "</table>\n",
       "</div>"
      ],
      "text/plain": [
       "              tweetid  utc_offset\n",
       "0  249552537051598848         NaN\n",
       "1  249537963145433088         NaN\n",
       "2  129377372209299456         NaN\n",
       "3  302401054690140160         NaN\n",
       "4  249538739611787264         NaN"
      ]
     },
     "execution_count": 5,
     "metadata": {},
     "output_type": "execute_result"
    }
   ],
   "source": [
    "#merging dataframes to add utc_offset column\n",
    "ego_merge = pd.merge(ego_timelines,ego_alt_prof['utc_offset'], how='inner', left_on='egoID',\\\n",
    "                     right_on=ego_alt_prof.index)\n",
    "\n",
    "#only keep columns useful to the replciation\n",
    "ego_merge = ego_merge[['tweetid', 'utc_offset']]\n",
    "\n",
    "#visualize resulting dataframe\n",
    "ego_merge.head(5)"
   ]
  },
  {
   "cell_type": "markdown",
   "metadata": {},
   "source": [
    "\n",
    "## Step 3. Data Preprocessing\n",
    "\n",
    "\n",
    "---\n",
    "\n",
    "First, we are going to select only english tweets and delete repetitive tweets.\n",
    "\n",
    "Then, we are going to apply some essential steps useful in any natural language processing (NLP) task.\n",
    "\n",
    "- **Tokenizing**, convert character string into sequence of tokens, that is words separated by white spaces. Tokenicazion in text such as tweets is or crucial importance. Indeed, we can find punctuation marks such as *!?* or *:-)* that we will like tokeep together because they have a intrinsic meaning. We do not want to separe them. Tokenization in twitter is quite straithforward, and on Python it can be implemented with the nltk library.\n",
    "\n",
    "- The dedicated toolkits will be used as a part of the preprocessing process [TweetNLP](https://www.cs.cmu.edu/~ark/TweetNLP/#pos_down). In social media it is common to find mispelled words, the repetition of letters or syllabes (\"lololol\", \"ahahahah\", \"yeaahhhh\") and abbreviation and slang (\"idk\" for I don't know, or \"imo\" for in my opinion). To deal with this variabilities we need packages created only for social media.\n"
   ]
  },
  {
   "cell_type": "markdown",
   "metadata": {},
   "source": [
    "### Step 3.1: Tweets Removal Step\n",
    "Filtering out the inadequate tweets for the analysis.\n",
    "___"
   ]
  },
  {
   "cell_type": "code",
   "execution_count": 6,
   "metadata": {},
   "outputs": [
    {
     "name": "stdout",
     "output_type": "stream",
     "text": [
      "In total there are 1609389 tweets.\n"
     ]
    }
   ],
   "source": [
    "# Exploring the dataset\n",
    "\n",
    "print(f\"In total there are {len(tweets)} tweets.\")"
   ]
  },
  {
   "cell_type": "markdown",
   "metadata": {},
   "source": [
    "For this analysis we are only concerned with english tweets, so we need to filter the data using the language information"
   ]
  },
  {
   "cell_type": "code",
   "execution_count": 7,
   "metadata": {},
   "outputs": [
    {
     "name": "stdout",
     "output_type": "stream",
     "text": [
      "In total there are 1093122 english tweets.\n"
     ]
    }
   ],
   "source": [
    "# Selecting only english tweets\n",
    "\n",
    "en_tweets = tweets.loc[tweets['lang']=='en']\n",
    "print(f\"In total there are {len(en_tweets)} english tweets.\")"
   ]
  },
  {
   "cell_type": "markdown",
   "metadata": {},
   "source": [
    "We also want to drop duplicate tweets. The reason for this is because if a tweet is repeated many times, then it is most likely due to a bot account. With this analysis we are concern with the sentiment of real users, so data from bot accounts could disrupt the results"
   ]
  },
  {
   "cell_type": "code",
   "execution_count": 8,
   "metadata": {},
   "outputs": [
    {
     "data": {
      "text/plain": [
       "text\n",
       "IF U HAVE A FACEBOOK ACCOUNT,PLZ TELL ME UR ACCOUNTNAME&lt;333 U U TELL ME IT WHEN I TELL U MINE:)    2738\n",
       "Here is a neat little package to create banners  http://perfecttrafficstorm.com/links/19768            171\n",
       "Check this Out  http://perfecttrafficstorm.com/links/19778                                             170\n",
       "Grab this package of articles    http://perfecttrafficstorm.com/links/19769                            169\n",
       "Check out the PLR CHEATER http://perfecttrafficstorm.com/links/19773                                   169\n",
       "dtype: int64"
      ]
     },
     "execution_count": 8,
     "metadata": {},
     "output_type": "execute_result"
    }
   ],
   "source": [
    "# Demonstrating examples of duplicate tweets\n",
    "en_tweets.value_counts(subset = 'text', sort = True)[0:5]\n"
   ]
  },
  {
   "cell_type": "code",
   "execution_count": 9,
   "metadata": {},
   "outputs": [
    {
     "name": "stdout",
     "output_type": "stream",
     "text": [
      "After dropping the duplicates, there are 1054619 english tweets.\n"
     ]
    }
   ],
   "source": [
    "# Dropping all duplicates tweets\n",
    "en_tweets.drop_duplicates(subset=['text'], keep = False, inplace = True)\n",
    "print(f\"After dropping the duplicates, there are {len(en_tweets)} english tweets.\")\n"
   ]
  },
  {
   "cell_type": "code",
   "execution_count": 10,
   "metadata": {},
   "outputs": [
    {
     "name": "stdout",
     "output_type": "stream",
     "text": [
      "There are a total of 6167 users which posted 1054619 english tweets.\n"
     ]
    },
    {
     "data": {
      "text/plain": [
       "user_name\n",
       "michelle              3906\n",
       "Austin Health Jobs    3197\n",
       "Mark Whittington      3189\n",
       "Games For Pro         3188\n",
       "BELIVE ADULT          3162\n",
       "dtype: int64"
      ]
     },
     "execution_count": 10,
     "metadata": {},
     "output_type": "execute_result"
    }
   ],
   "source": [
    "# Checking how many users we have \n",
    "usernames = en_tweets.value_counts(subset = 'user_name', sort = True)\n",
    "print(f\"There are a total of {len(usernames)} users which posted {len(en_tweets)} english tweets.\")\n",
    "usernames.head(5)\n"
   ]
  },
  {
   "cell_type": "code",
   "execution_count": 11,
   "metadata": {},
   "outputs": [
    {
     "name": "stdout",
     "output_type": "stream",
     "text": [
      "Will try to live for a week offline... wish me luck! :D\n",
      "Boa tarde..\n",
      " (@shekinahbiscuit live on http://t.co/nU1N0NJJIJ)\n"
     ]
    }
   ],
   "source": [
    "# Giving a look to some tweet texts\n",
    "\n",
    "print(en_tweets.text.iloc[0])\n",
    "print(en_tweets.text.iloc[1])\n"
   ]
  },
  {
   "cell_type": "markdown",
   "metadata": {},
   "source": [
    "### Step 3.2:  Noise Removal Step\n",
    "We will remove special characters from the tweets that could affect the VADER analyser but being careful to not remove any important feature which can help in understanding better the sentiment of the tweets. \n",
    "\n",
    "For example, we will not perform  **letter casing**, that is converting all letters in lower case. Indeed, in text such as tweets often the upper case is used to emphatise a concept: great and GREAT have a different sentiment intensity. In addition to that, as we have seen in class, casefolding could create confusion between words such as apple and Apple.  \n",
    "\n",
    "\n",
    "On the contrary, we will remove unwanted characters such as URLs (“http://url”), user mentions @ (\"@username\") and hashtags symbols # (we will keep however the word of the hashtag because it might contain useful information). To do that, we follow the steps of [Shihab Elbagir and Jing Yang](http://www.iaeng.org/publication/IMECS2019/IMECS2019_pp12-16.pdf) and \n",
    "[Toni Pano and Rasha Kashef](https://www.mdpi.com/2504-2289/4/4/33).\n",
    "\n",
    "We will also keep the \"...\" because they can give some insights of the tweet.\n",
    "\n",
    "**In the paper they also remove “RT @username.”. I would do the same bacause we are extrapolating the RT from the relative columns but i want to ask you before. ALso they removed numbers, but i don't think it is a big deal having them**\n",
    "___"
   ]
  },
  {
   "cell_type": "code",
   "execution_count": 12,
   "metadata": {},
   "outputs": [],
   "source": [
    "## Noise Removal \n",
    "\n",
    "# Using the RE (regular expression) module and the replace function to remove the unwanted characters.\n",
    "\n",
    "# Parameters for re.sub function:\n",
    "# 'r' added to not handle backslashes in any special way in the following string\n",
    "# https? will match either ‘http’ or ‘https’\n",
    "# https?:\\/\\/ will match any \"http://\" and \"https://\" in the following string\n",
    "# \\S Returns a match when the string does not contain a white space character inside. \n",
    "    # Indeed, we want to keep the test that follows the URL.\n",
    "# * Needed to select the whole text when no white spaces in the middle\n",
    "\n",
    "\n",
    "\n",
    "clean_tweets = [] \n",
    "for i in range(len(en_tweets)):\n",
    "    \n",
    "    # Selecting one tweet\n",
    "    text_i = en_tweets.text.iloc[i]\n",
    "        \n",
    "    # Replacing the URL with a white space\n",
    "    text_i = re.sub(r'https?:\\/\\/\\S*', '', text_i, flags = re.MULTILINE)\n",
    "    \n",
    "    # Replacing the www. with a white space\n",
    "    text_i = re.sub(r'www.\\S*', '', text_i, flags = re.MULTILINE)\n",
    "    \n",
    "    # Replacing the RT retweet RT @username with a white space\n",
    "    text_i = re.sub(r'RT @\\S*', '', text_i, flags = re.MULTILINE)\n",
    "    \n",
    "    # Replacing the user mention @username with a white space\n",
    "    # This needs to go after the \"RT @username\" removal\n",
    "    text_i = re.sub(r'@\\S*', '', text_i, flags = re.MULTILINE)\n",
    "    \n",
    "    # Replacing the hashtag symbol # with a white space\n",
    "    text_i = text_i.replace(\"#\", \"\")\n",
    "    \n",
    "    # Replacing the \\n (new line) with a white space\n",
    "    text_i = text_i.replace(\"\\n\", \"\")\n",
    "    \n",
    "    # append the cleaned tweet to the list previously initialized\n",
    "    clean_tweets.append(text_i) \n",
    "\n",
    "    \n",
    "# Add the new column to the original df\n",
    "en_tweets['clean_tweets'] = clean_tweets"
   ]
  },
  {
   "cell_type": "code",
   "execution_count": 13,
   "metadata": {},
   "outputs": [
    {
     "name": "stdout",
     "output_type": "stream",
     "text": [
      " Sometimes you gotta accept the fact that certain things will never go back to how they use to be.\n",
      "@nmabadeje abi, sha nw even jst boxers no de allowed \n",
      "\n",
      " Hi lovely 💕  You are my world, my life, my love.  I'm so proud of you,You follow me please? don't ign…\n",
      "RT @ofcourseimjk: it's the weekend http://t.co/GciT2IGvSW\n"
     ]
    }
   ],
   "source": [
    "print(clean_tweets[55656])\n",
    "print(en_tweets.text[55656],'\\n')\n",
    "\n",
    "print(clean_tweets[1054615])\n",
    "print(en_tweets.text[1054615])"
   ]
  },
  {
   "cell_type": "code",
   "execution_count": 14,
   "metadata": {},
   "outputs": [
    {
     "name": "stdout",
     "output_type": "stream",
     "text": [
      "Have you been to the mountain? Reach new heights on the #SmurfVillage mountain! http://t.co/d9BVrqiU82 @BeelineGames\n",
      "Have you been to the mountain? Reach new heights on the SmurfVillage mountain!   \n",
      "\n",
      "Boa tarde.. ( live on \n"
     ]
    },
    {
     "data": {
      "text/plain": [
       "'Boa tarde..\\n (@shekinahbiscuit live on http://t.co/nU1N0NJJIJ)'"
      ]
     },
     "execution_count": 14,
     "metadata": {},
     "output_type": "execute_result"
    }
   ],
   "source": [
    "# compare before and after preprocessing with a tweet that contains all of them.\n",
    "print(en_tweets.text.iloc[8])\n",
    "print(clean_tweets[8],'\\n')\n",
    "\n",
    "print(clean_tweets[1])\n",
    "en_tweets.text.iloc[1] # to see the \\n, if we print do not see it"
   ]
  },
  {
   "cell_type": "markdown",
   "metadata": {},
   "source": [
    "### Step 3.3:  Tokenization and stop words removal\n",
    "___\n",
    "\n",
    "The removal of stop words requires before the tokenzation. We want to remove any stop word that the VADER's dictionary does not use ([Toni Pano and Rasha Kashef](https://www.mdpi.com/2504-2289/4/4/33)). Indeed, we need to be careful when deleting stop word from a text that will be analysed by pre-computed sentiment analysis libraries. It can be detrimental for the sentiment scores."
   ]
  },
  {
   "cell_type": "code",
   "execution_count": 15,
   "metadata": {},
   "outputs": [],
   "source": [
    "import typing # maybe find a better way for it"
   ]
  },
  {
   "cell_type": "code",
   "execution_count": 16,
   "metadata": {},
   "outputs": [
    {
     "name": "stdout",
     "output_type": "stream",
     "text": [
      "['i', 'me', 'my', 'myself', 'we', 'our', 'ours', 'ourselves', 'you', \"you're\", \"you've\", \"you'll\", \"you'd\", 'your', 'yours', 'yourself', 'yourselves', 'he', 'him', 'his', 'himself', 'she', \"she's\", 'her', 'hers', 'herself', 'it', \"it's\", 'its', 'itself', 'they', 'them', 'their', 'theirs', 'themselves', 'what', 'which', 'who', 'whom', 'this', 'that', \"that'll\", 'these', 'those', 'am', 'is', 'are', 'was', 'were', 'be', 'been', 'being', 'have', 'has', 'had', 'having', 'do', 'does', 'did', 'doing', 'a', 'an', 'the', 'and', 'but', 'if', 'or', 'because', 'as', 'until', 'while', 'of', 'at', 'by', 'for', 'with', 'about', 'against', 'between', 'into', 'through', 'during', 'before', 'after', 'above', 'below', 'to', 'from', 'up', 'down', 'in', 'out', 'on', 'off', 'over', 'under', 'again', 'further', 'then', 'once', 'here', 'there', 'when', 'where', 'why', 'how', 'all', 'any', 'both', 'each', 'few', 'more', 'most', 'other', 'some', 'such', 'no', 'nor', 'not', 'only', 'own', 'same', 'so', 'than', 'too', 'very', 's', 't', 'can', 'will', 'just', 'don', \"don't\", 'should', \"should've\", 'now', 'd', 'll', 'm', 'o', 're', 've', 'y', 'ain', 'aren', \"aren't\", 'couldn', \"couldn't\", 'didn', \"didn't\", 'doesn', \"doesn't\", 'hadn', \"hadn't\", 'hasn', \"hasn't\", 'haven', \"haven't\", 'isn', \"isn't\", 'ma', 'mightn', \"mightn't\", 'mustn', \"mustn't\", 'needn', \"needn't\", 'shan', \"shan't\", 'shouldn', \"shouldn't\", 'wasn', \"wasn't\", 'weren', \"weren't\", 'won', \"won't\", 'wouldn', \"wouldn't\"]\n"
     ]
    }
   ],
   "source": [
    "# Classical english stop words\n",
    "\n",
    "from nltk.corpus import stopwords\n",
    "stopcorpus: typing.List = stopwords.words('english')\n",
    "print(stopcorpus)\n"
   ]
  },
  {
   "cell_type": "markdown",
   "metadata": {},
   "source": [
    "As you can see, between these stop words there are some which are actually useful for our goal. For example \"very\" and \"most\" can increase the tweet sentiment intensity. Therefore, we need to define a custom list of stopwords. "
   ]
  },
  {
   "cell_type": "code",
   "execution_count": 17,
   "metadata": {},
   "outputs": [],
   "source": [
    "# Selecting the customed list of stopwords\n",
    "\n",
    "with open(\"helpers/stopwords.txt\") as f:\n",
    "    customed_stop_words = list(map(lambda x: x[:-1], f.readlines()))"
   ]
  },
  {
   "cell_type": "code",
   "execution_count": 18,
   "metadata": {},
   "outputs": [],
   "source": [
    "# function to remove the stop words\n",
    "\n",
    "def remove_words(text_data: str, words_to_remove: typing.List):\n",
    "    return [item for item in text_data if item not in words_to_remove]"
   ]
  },
  {
   "cell_type": "code",
   "execution_count": 19,
   "metadata": {},
   "outputs": [
    {
     "data": {
      "text/plain": [
       "0          [Will, try, live, week, offline..., wish, luck...\n",
       "3                                    [Boa, tarde.., (, live]\n",
       "8                [Phew..., Valentine's, day, finally, hours]\n",
       "9                                                  [(, live]\n",
       "11                                          [simmm, (, live]\n",
       "                                 ...                        \n",
       "1609378                            [carry, fantasy, victory]\n",
       "1609385    [Hi, lovely, 💕, You, world,, life,, love., I'm...\n",
       "1609386    [\"Many, things, Satanism, offensive.\", -, Thin...\n",
       "1609387                    [Smite, ArtemisStalkerSkin, Free]\n",
       "1609388    [New, Ministry, of, Magic, song!, :D, &lt;3, I...\n",
       "Name: clean_tweets, Length: 1054619, dtype: object"
      ]
     },
     "execution_count": 19,
     "metadata": {},
     "output_type": "execute_result"
    }
   ],
   "source": [
    "# Applying filter for stop words and visualizing them \n",
    "\n",
    "tweets_no_sw = en_tweets.clean_tweets.astype(str).apply(lambda x: remove_words(x.split(),customed_stop_words))\n",
    "tweets_no_sw"
   ]
  },
  {
   "cell_type": "code",
   "execution_count": 20,
   "metadata": {},
   "outputs": [
    {
     "name": "stdout",
     "output_type": "stream",
     "text": [
      "Seafood salad and fried chicken and sweet tea I'm hype. Now to cook it!!!\n",
      "['Seafood', 'salad', 'fried', 'chicken', 'sweet', 'tea', \"I'm\", 'hype.', 'Now', 'cook', 'it!!!']\n"
     ]
    }
   ],
   "source": [
    "# Removing the stop words already does toketization... but the !!! stays with it,\n",
    "# it shouldnt be this way i guess\n",
    "\n",
    "print(en_tweets.clean_tweets.iloc[14])\n",
    "print(tweets_no_sw.iloc[14])"
   ]
  },
  {
   "cell_type": "markdown",
   "metadata": {},
   "source": [
    "Now we have a series of list. To use the Sentiment Analyzer VADER we need to convert it to a string."
   ]
  },
  {
   "cell_type": "code",
   "execution_count": 21,
   "metadata": {},
   "outputs": [
    {
     "data": {
      "text/plain": [
       "['Will try live week offline... wish luck! :D',\n",
       " 'Boa tarde.. ( live',\n",
       " \"Phew... Valentine's day finally hours\",\n",
       " '( live',\n",
       " 'simmm ( live',\n",
       " 'ski everybody! (rock)',\n",
       " 'Wonders so many ugly fat women maury sexy whores of men... How happen?!',\n",
       " 'A new iOS version of SmurfLife arrived new trainers &amp; quests! Update now join fun!',\n",
       " 'Have mountain? Reach new heights SmurfVillage mountain!',\n",
       " 'Plant &amp; harvest space crops Farmer Smurfs Moon Buggy tractor, coming soon SmurfsVillage!',\n",
       " \"LOST: Grouchy's sense of humor. If found, return frowny-faced Smurf immediately. SmurfsVillage\",\n",
       " 'My tummy hurts',\n",
       " 'Dig craters Swoof Planet uncover new Mystery Eggs Seeds SmurfsVillage',\n",
       " 'Build first-ever Smurfy Wonder space!!! The new space Terrarium coming soon SmurfsVillage.',\n",
       " \"Seafood salad fried chicken sweet tea I'm hype. Now cook it!!!\",\n",
       " 'Smurfy Tip: Use stardust clear new areas Swoof planet SmurfsVillage outer space.',\n",
       " 'Why I too early son wants sing wants join in... Help Me',\n",
       " 'Smurfette spaces SmurfsVillage. She makes Smurfs Swoofs swoon awards XP!',\n",
       " 'FOR SALE: Gardening gloves. Never used. Price negotiable. Contact Brainy details. SmurfsVillage',\n",
       " 'THIS JUST IN: Smurfs love love Smurfette! Tap Smurfette day earn extra XP. SmurfsVillage',\n",
       " \"Let's go lions onepride detroit\",\n",
       " 'Ice Cream Truck came by...Summer nostalgia BatPop',\n",
       " 'Defense wins championships. letsgodetroit',\n",
       " 'Happy birthday Danny Muggs cadieuxcafe detroit partylikearockstar',\n",
       " 'um, are?',\n",
       " 'Its always better man love more love him. Food thought',\n",
       " 'I ao happens thick cute too',\n",
       " \"Nobody likes you're 23. blink182 throwback\",\n",
       " 'Hiacing!!',\n",
       " 'tune yards',\n",
       " 'The music finale episode feels so intense Chopped',\n",
       " 'THIS JUST IN: Smurfs love love Smurfette! Tap Smurfette day earn extra XP. SmurfsVillage',\n",
       " 'Check I got... throwbackjams',\n",
       " 'Miner Smurfs says, -Have rich week!- Help Miner dig jewels smurfsvillage',\n",
       " 'Hardens gotta get going',\n",
       " 'Spaceband! DetroitVsEverybody',\n",
       " 'Wasup',\n",
       " 'In case you’re not watching, Megatron No. 3 NFLTop100!”',\n",
       " 'struggle real....YeezusTour bills paycheck2paycheck',\n",
       " \"If haven't Coney, missing\",\n",
       " 'Smurfy Tip: Use stardust clear new areas Swoof planet SmurfsVillage outer space.',\n",
       " \"So damn bored mom dukes. Its hot hell I should've stayed home central air\",\n",
       " 'I remembering us.... I remembering love',\n",
       " 'safety?',\n",
       " 'Help bring more music Michigan livemusic',\n",
       " \"LionsMobile let's go lions!!!!!!!!!!!! onepride\",\n",
       " 'yall see that? still so fast. OnePride letsgohonolulublue DefendTheDen',\n",
       " 'Happy Birthday Andy suprise LateVinepost',\n",
       " 'Glover Quin knocking everybody....damn Lions',\n",
       " \"Oh, shoot football fans. It's RGIII o'clock. NFL\",\n",
       " 'Mad proud of dude Listening broadcast via app. iknowthatguy finallyfamous',\n",
       " 'Grand Rapids. Breweries. Nuff Said',\n",
       " \"Let's get Cubs! SCtop10\",\n",
       " 'SO READY FOR WORK TO BE OVER',\n",
       " 'Just watched Uncle Phil Fresh Prince act Cyrano reference. theater RIPunclephil freshprince bestshowever',\n",
       " 'My table prom2013',\n",
       " 'Aveeno, official sponsor of birdmanhandrub',\n",
       " 'Totally forgot subtle racism Xmen 1st class beenslaved xmen firstclass smh',\n",
       " 'I wish 2 tickets lions game magically appeared...(rubs magic lamp)',\n",
       " 'Peyton using force w play calls. thisisnthecallyourelookingfor',\n",
       " 'SHOUTOUT fellow cub morganjordan letsgocubs',\n",
       " 'Payday getmoney cream dolladollabillsyall',\n",
       " 'Adam gets me.',\n",
       " \"It's snowing Kalamazoo April. thatspuremichigan\",\n",
       " 'True. RT\" Ebola migrating developed world mean much more funding media attention.',\n",
       " 'New look studio! Even smaller window logo (more selfie friendly 😉) lol rock 12-4! h…',\n",
       " 'so excited season start Lions DetroitPride',\n",
       " 'You better check yourself...once year testicular cancer.',\n",
       " 'Getting bucket list PriceIsRight beforeidie 24yrfan',\n",
       " 'Wow...is 3 turn overs past 3 min? wtf SFvsATL',\n",
       " \"Movies never thought you'd see television childhood... 3ninjas high noon mega mountain. hulkhogan\",\n",
       " 'This great. lastresort paparoach',\n",
       " 'never gangsta',\n",
       " 'Nothing like Drew Carey BEST game show Game day PriceIsRight',\n",
       " \"I guess I'm not funny...cricketcricket nobodylaughs momentsfromcartoons\",\n",
       " 'Going see thisistheend w/ stargratiot. Gonna great',\n",
       " 'THE BIG HOUSE best. RT\" Taking Spartan Big House first time GoBlue 💙 BeatUtah\"',\n",
       " \"'When last time someone asked wanted fresh slice of pig's ass' -T. Coyne sweetness uofd\",\n",
       " 'And Robin Williams died today? worst.day.ever.',\n",
       " \"one of I's favorite spots\",\n",
       " \"Alright Lets hear twitter. SuperBowl2013 sfvsbal y'all pickin?\",\n",
       " 'RealRickSanders',\n",
       " 'Am I last know Season 1 !?! score caboose theycantseemecauseicantseethem',\n",
       " \"There's couple wearing shirts front row of thepriceisright DetroitPride\",\n",
       " 'My 8th grade students born/close born 13 yrs ago. Time teach kids Why WeWillNeverForget GodBlessAmerica',\n",
       " \"Cat'n Solo fights empire starwarscats\",\n",
       " 'I wish I power absorb negativity turn positivity. counselorintraining feelings supercounselor IfOnly',\n",
       " \"'You here, aiint bout life'\",\n",
       " 'Ice cream truck detroit',\n",
       " 'Lol Frankfort dirty bird. Go 9rs. SFvsATL',\n",
       " 'Ay man. U Jacking swag?',\n",
       " 'What shot. redwings clutch',\n",
       " 'RIP Uncle Phil. One of best television fathers of time.',\n",
       " \"When I'm walkin, strutt stuff...blisterinthesun\",\n",
       " 'Cookin brunch Bae ( listenin man HappySundayDetroit DetroitVsEverybody',\n",
       " 'Just got home turned game...devinhester GreatestreturnerOAT',\n",
       " 'I got snow day, more excited teacher student lol',\n",
       " 'EVERYONE WATCH LOLz &gt;&gt;&gt;&gt;&gt;',\n",
       " '\"Cheer, Cheer old Notre dame...\" rip NDharperwoods',\n",
       " 'Great 3 ptr pull cubs within 9. Two good 1on1 free throws brings us 58-51 w/ 1:42 left. letsgocubs',\n",
       " 'Damnit jacquizz, I needed TD',\n",
       " 'I give D ...cuzthatswhereisbornandraisedin Detroit',\n",
       " \"One day, I'm Gonna one of boats.\",\n",
       " 'shooting hoops onetake nojoke superluckyshot',\n",
       " 'Arrested Development - Charlie Brown moments',\n",
       " 'Me dude Paws',\n",
       " 'Why delmas? Why?',\n",
       " 'Nephew Jude',\n",
       " 'The Famous Jett Jackson RIP',\n",
       " 'Lions fan. Til end. detroit',\n",
       " \"Damnit, they're onto RT “Osama BinLaden C.I.A asset U.S. He went name Tim Ossman.\",\n",
       " 'almost of Detroit flooded cant make home :/',\n",
       " \"It's birthday. turnup turndownforwhat 24 Ferndale theemory celebratingmylove\",\n",
       " \"O snap, it's free 7-11 day (right?)\",\n",
       " 'Won 2/3 of fantasy leagues nerd yessssss',\n",
       " \"And thought last week's win clutch onepride Detroit lionblood\",\n",
       " 'Goalllllllllllllll',\n",
       " \"Rappin' Jesus...thisisreal jesuschrist monica\",\n",
       " 'As say beyblade, I let rip.',\n",
       " 'Fire! Osaka',\n",
       " 'Avicii - Levels ( Extend Mix Reverse And Forward ) ( Moshi )',\n",
       " \"It's ridiculous joke GQ named Kim's dumb talent ass Woman of Year\",\n",
       " 'Pride of Detroit &gt;&gt; Tom Lewand makes clear: Lions win-now mode',\n",
       " 'All of sudden Michigan got real serious rebounds',\n",
       " 'Work day. Internship night. grownasf*ck',\n",
       " '“ Vote tag Madden25Barry. Let’s see Lions repeat 313',\n",
       " 'Yesssssssssssssssss. Go ravens. BALvsNE',\n",
       " 'So excited next Thursday. Thanks tickets. iamchannel955 radiogiveways yes',\n",
       " \"If can't balance reality social networking, you're idiot. Don't blame advancements stu ...\",\n",
       " 'My total collections today....gottobecareful itsasign omen',\n",
       " \"Let's go Ree Ree! Aretha Franklin Wants Be Next 'A.I.' Judge:\",\n",
       " '\"Do remember twerking last night?\"...oh man....tequila familyfunctions turnup',\n",
       " '\"Say name....\\'Heisenberg\\'....Your God Damn right is.\" BreakingBad SoGood',\n",
       " '\"He makes FOUR New England Patriots miss!\"Cam Cam.WATCH:',\n",
       " \"ICYMI: Richard Sherman mic'd Week 11. 'MUST-SEE' probably doesn't justice:\",\n",
       " 'Damn. Great season. So close.',\n",
       " 'reign over. flameoff kingflop',\n",
       " 'Anybody else excited mnf DetvsBal I am? lionnation DetroitPride',\n",
       " \"1st Lt. Kyle Love '05 &amp; dad climbing Mount Everest! Uof D Jesuit wishes good luck safe travels. htt ...\",\n",
       " 'Kanye feeds negative headlines...then auto tunes rants...',\n",
       " 'Bentley, season. Lawson, season. , Please sign solid CB free agency. ChampBailey Champ+Lions=Champions',\n",
       " 'Final score: 59, Renaissance 32. Go Cubs! On District Finals.',\n",
       " 'Stupid Calvin rule Calvin.',\n",
       " 'Happy Zombie Jesus day. Easter',\n",
       " 'howd get ann arbor? partybus birthdayparty',\n",
       " 'Manage fear, manage life.',\n",
       " 'Final: Michigan 78, VCU 53. Wolverines move Sweet 16 first time since 1994. fb',\n",
       " 'Get Reggie field, let Joique finish game Lions',\n",
       " \"Let's go cubs!!!!!!!!!! Finally I breathe.\",\n",
       " 'not jump bandwagon nonsense, song pretty dope',\n",
       " 'HAPPY BDAY everybody show love!!',\n",
       " 'Charles Woodson, ultimate playmaker',\n",
       " '&lt;&lt;&lt;&lt;&lt;meanest crossover game. uofd',\n",
       " 'line taking 4everrrrrrrrrrrrrrr',\n",
       " \"'You don't play hits, without little Chris Brown' -Deep Voice Guy ...WoW\",\n",
       " 'crazy seeing man makin first downs OnePride Cubpride DetroitVsEverybody',\n",
       " 'yeaaaaa ATL',\n",
       " 'Ok little excited playing awful. wings',\n",
       " 'Calvin Johnson No. 1 NFLrank of offensive players. See rest. »',\n",
       " \"That's I'm talking GoBlue\",\n",
       " 'Go Cubs!!',\n",
       " 'happy easter meat manfood',\n",
       " 'Game Day! UD Jesuit takes Groves Regional Semis Southfield HS. InItToWinIt CUBPRIDE',\n",
       " \"Flowers 28, make run him. You can't trot Bentley Slay No. 1 corner Lions\",\n",
       " 'Home sweet home detroitrockcity',\n",
       " 'Cable connected. Time football. GoLions DetroitPride lionpride',\n",
       " 'Happy anniversary ! BirdmanHandrub',\n",
       " 'obnoxious',\n",
       " 'HAPPY FOOTBALL SUNDAY, DETROIT. GoLions LionBlood TimeToEat',\n",
       " 'GOOD MORNING, DETROIT. WE NEED A PAIR OF WINS FROM THE LIONS AND TIGERS. DETROITPRIDE',\n",
       " 'yeah Peyton. Gettin On. Racking points. fantasybeast',\n",
       " '1:11 left game. Sr AJ hourde makes 1on1 free throws bring game 58-56. letsgocubs',\n",
       " \"I really hope Greg Jennings doesn't resign....and comes home Michigan :-3\",\n",
       " 'Real sh*t.',\n",
       " 'This EPIC game going overtime! Ray Allen, greatest 3-point shooter NBA history hit biggest 3 of l…',\n",
       " \"'If wanna somebody, wanna go somewhere. You better wake up, Pay Attention' -Sister Act 2 Abc Family.\",\n",
       " 'ICYMI: Jadeveon made another backfield go \"boom\" last night...Twice.',\n",
       " 'Watching Ghostbusters job w students. Life good. Happy Friday everyone.',\n",
       " 'Damn internet...\" WHO DID THIS',\n",
       " 'Kevin ware/fabfive drinking game... goodtimes',\n",
       " 'Lol dipset whistle song throwback',\n",
       " \"Did anyone else see hail? It's April. thatspuremichigan\",\n",
       " 'Incredible Detroit Lions',\n",
       " 'RT \"Lion king speaks truth',\n",
       " 'fireworks jokersbirthday summer bonfires',\n",
       " 'Please stop Batman. tuneyards',\n",
       " 'NWA Vinyl. Thank thuglyfe str8outtaDtroit',\n",
       " \"Everybody stop you're doing. It's not important. SpaceJam Vh1. classic MichaelJordan BillMurray IbelieveIcanfly\",\n",
       " \"Damian Lillard vs Tony Parker.....that'll fun watch\",\n",
       " 'TelltheTruthTuesday everyday...?',\n",
       " 'Batman theme song mnf mylifeisawesome',\n",
       " 'Tigggggggs DetroitPride',\n",
       " 'celebrity sighting kroger mackelmore',\n",
       " 'Led field trip without losing kid... BirdmanHandrub',\n",
       " 'The Headless Batman',\n",
       " 'THE PROFESSOR.',\n",
       " 'Hungry gargantuan jimmyjohns mhmmm',\n",
       " 'Final Marian: UofD 80 Divine Child 30. Cubs advance 2nd round of Catholic League Tournament.',\n",
       " \"Be grateful have, not bitter don't.\",\n",
       " 'Apparently Tim Ossman (Osama bin Laden) part of Taliban',\n",
       " 'Happy Birthday Hall of Fame RB NFLBirthdays',\n",
       " 'The Cool Ranch Doritos taco way folks.',\n",
       " 'Shrimp N Grits. southerncomfort soulfood',\n",
       " \"2nd of 3 job interviews I've got wk. wishmeluck HereWeGo\",\n",
       " '3 more weeeeeks',\n",
       " 'look u jet-setter. jealous',\n",
       " \"Why didn't Lebron change dollar? He didn't 4th quarter... NBAFINALS\",\n",
       " 'Oak-city trick, oak-oak-city trick. Du-rant-rant-rant n Russell it... Trick. censorship NBAFINALS',\n",
       " 'Go Cubs!!! “Cassius Winston takes 4th hoops, scoring 11 lead Cubs 67-57 win',\n",
       " '...About week ago!!...RT\" He killed',\n",
       " 'So stoked DetroitPride',\n",
       " \"That's High school/employer addressing 'Batman' Facebook. ilovemylife\",\n",
       " \"Stafford, there's 9 people team throw to.\",\n",
       " \"Can't.breathe. GoBlue\",\n",
       " 'Book club avclife',\n",
       " 'Me Dr. Bernice King (MLKJs daughter) freedomtour2013 atl mlkj',\n",
       " 'To class of 2013, us AVCs, congratulations',\n",
       " '...Brief case tacos?',\n",
       " 'Opening drive score. I see Lions',\n",
       " \"watching show called 'portlandia' remember thats ur living now. Just wanted say I'm glad I got see u left\",\n",
       " 'Finally listening new Jay Z Kanye albums. Good looks',\n",
       " 'About meet first nephew grown',\n",
       " \"Kmart's new sale!!! via\",\n",
       " \"46yrs ago today, Dr. King's life ended gun violence. Share violence impacted life &amp; RT chooseno…\",\n",
       " 'shout dude live drive home iknowthatguy',\n",
       " 'EsuranceSave30 pick me!!!',\n",
       " 'Always good time watchin football w/',\n",
       " \"'B*tches' love butterscotch. Fact. -Matt\",\n",
       " \"Megatron, Tate, Ebron, Pettigrew, Fauria, Bush, Bell. Matthew Stafford's got options...\",\n",
       " 'TDKR . Round 2. awhereitgoes',\n",
       " \"Hit em w/ throwback Mother's Day: Dear Mama - Tupac\",\n",
       " \"Someone's pretty crafty job today dashboardoven readytoeat ingenuity\",\n",
       " 'Poached eggs w/ ... kind of Sunday Morning.',\n",
       " 'Goodbye right nostril... damnit runnynose',\n",
       " \"Let's Go Blue!!!!\",\n",
       " 'The pan-view shots of NY more exciting MNF game',\n",
       " \"I love watching Chopped. I often pretend I'm Chopped I cook. Except normal ingredients.\",\n",
       " 'The people work today...smh letthebodieshitthefloor headbanging dreadhead',\n",
       " 'Great 3 pt shot steal AJ hourde pull cubs within 4 w/ 1:29 left. letsgocubs',\n",
       " 'Fans',\n",
       " 'High school group project videos..... boring sobad',\n",
       " \"Why 'take remix ft/ Christina Aguilera' anthem of NBAPlayoffs ??? confused...ps- stephcurry realtalk\",\n",
       " 'IF received DM today, DONT READ IT! spam. somehow got hacked today. stupid internet.',\n",
       " 'hill auditorium sheandhim',\n",
       " 'Avengers legit.',\n",
       " \"“ Drunk n high Time sipping champagne...”...Detroit's Finest?... smh\",\n",
       " 'Calvin Johnson madden cover? Ending curse realtalk',\n",
       " 'Self explanatory',\n",
       " \"I don't think San Diego pull\",\n",
       " 'lions w/ onepride letsgodetroit',\n",
       " 'Can trade Brandon Pettigrew now',\n",
       " 'congratulations!!!',\n",
       " 'Happy new year twitter fam',\n",
       " \"I'm tired of working blue collar company workers describe customers ethnicity totall ...\",\n",
       " 'Just heard someone jammin get lucky great f**king album',\n",
       " 'C2C - Down The Road (audio only) Thanks dopesong',\n",
       " 'Working live....hopefully soon living work.',\n",
       " 'scooter sunday',\n",
       " 'Anybody else yearning 2013-2014 nfl season? GoLions needfootball',\n",
       " 'Chad dolphin.....hmm I feel it. Give reason watch em now',\n",
       " 'bought open gates. electricforest',\n",
       " 'Thank sending two of these! Love it! NothingStopsDetroit',\n",
       " \"The people partridge creek look like I'm lost....\",\n",
       " '2000 tweets... smh technologyproblems',\n",
       " 'dude Now til 5. TUNEIN!!!!!! shady955',\n",
       " \"LionsMobile need score next drive. Let's Go!!!!!!!!!!!!!\",\n",
       " 'Whaaaaat? oldcereal swag',\n",
       " \"Is fucking mountain? I'm happy I didn't pay support ignorance lol Yeezus kanye smdh\",\n",
       " 'gobroncos “Former Western Michigan DE Freddie Bishop excited join Detroit Lions get chance play',\n",
       " 'Downtown NAIAS w pops. Gonna good day',\n",
       " 'I brought crack...ers cheese business meeting yesterday.',\n",
       " 'My commentary womens USA soccer game... bitchesbetrippin',\n",
       " \"Skrillex &amp; The Doors - Breakn' A sweat oldschoolmeetsnewschool\",\n",
       " 'So far, SuperBowl2013 commercials weird mouth noises. But dug Audi commercial.',\n",
       " 'No power? hurricanekatrinaproblems',\n",
       " \"I'm liking drive Lions 313\",\n",
       " \"'I'll share DNA, not bank account.' lastdayofschool lolz\",\n",
       " '&lt;&lt;lolz',\n",
       " 'One of coworkers bought weekend. Lovemyjob awesomecoworkers',\n",
       " 'locked wontletusout',\n",
       " 'Officially WMU graduate. Yessssssssssss',\n",
       " 'school wants go Marietta, so roughly 20 min north of big city',\n",
       " 'Best part of movie. yes,man',\n",
       " 'Nice form little rough On landing. He may settle bronze namethatmovie',\n",
       " 'powerrangers AND TMNT....awesome',\n",
       " 'champs lastday JearBear, hoseatheslayer',\n",
       " 'Ran 2 Cubs already today running errands. GoCubs',\n",
       " 'He broke plain, not call timeout',\n",
       " 'So close summer I taste Oberon',\n",
       " '106TheSearch bro would amazing host. Get',\n",
       " 'What Calvin. Great drive boys. Keep Detroit',\n",
       " 'So many exams study for, so many things watch Netflix internetproblems',\n",
       " \"The Browns traded best player, they're starting new qb weekend? whatareyoudoing\",\n",
       " 'Disking best lazy sport ever chillasf*ck',\n",
       " \"Don't think, feel. -Pharrel\",\n",
       " 'Its ok...your dad judges shake hair too. RealRickSanders Nephewlove gethyphy gostupid shak...',\n",
       " 'I(clap)spend(clap)way(clap)too(clap)much(clap)time(clap)around(clap)kids(clap)...lol',\n",
       " \"'I'm what's hot streets right now' ... tooloudcrew\",\n",
       " 'TDKR ...round 3 IMAX :) Batman youalreadyknow',\n",
       " 'DetroitVsEverybody 313 RT “Happy 313bday, Detroit! Download very Detroit flag',\n",
       " 'Nick Fairley. oohkillem',\n",
       " \"I'm bigger football fan tigers fan. I'm flipping though\",\n",
       " 'Thought everyone would work I went polls middle of day...Damn...forgot I live Detroit...',\n",
       " \"S/O boys break leg concert tonight guys. I know you're gonna kill em\",\n",
       " 'good. I know ur not cray',\n",
       " 'Finished season 2 of walkingdead today, neeeeeed season 3',\n",
       " 'Robin Williams marathon I try beat cold. takes best care of me. Id miserable w/o her.',\n",
       " 'tooloudcrew wildnout',\n",
       " 'wish $$ buy couple sets of tickets today. hey, thats got cable. Golions OnePride oneweektilfootball',\n",
       " 'Opening Day event school district I now work MISD Rockwell PARAPRO Newjobswag',\n",
       " \"'Is fair say scooby doo gang drug addicts? else ds find talking dog'...first q of academite today. smh\",\n",
       " 'This came mail today . , I love you. batman favorite yes',\n",
       " 'Wayne Brady finest. CountryHipHop freestyle',\n",
       " 'My bitches love me...I always give extra dog treats.',\n",
       " '\"9 starting African-American quarterbacks Week 1\" R.Cunningham would proud.GameChanger weshallovercome football',\n",
       " 'Today good day.',\n",
       " \"'We old' tacobell commercial? Nice.\",\n",
       " '90sareallthat...Fa real',\n",
       " \"'Braylon Edwards, former all-stater Bishop Gallagher'...alsoacub uofd ripbishopgallagher\",\n",
       " 'That KeyAndPeele though. realness',\n",
       " '3 missed field goals. Call Jason hanson',\n",
       " 'Going one day “The Batman Hotel ,Taiwan.',\n",
       " 'Blurred lines might one of new favorite jams.',\n",
       " 'Football... finally nfl',\n",
       " 'lol true that. Hpfly get good turnout.',\n",
       " \"35-6? Someone tell Brady It's Time gocubs\",\n",
       " 'The Universe side of Justice RT\" Just great human everything else work self out.\"',\n",
       " '7 free pizzas, 5 salads, 3 sandwiches job...BirdmanHandrub',\n",
       " 'johny footballs first nfl completion. hopehegetstrucked ohiosucks golions johnyfootball',\n",
       " 'thatsh*tcray',\n",
       " 'dubstep DANces With Wolves',\n",
       " \"Let's go...DetroitVsEverybody\",\n",
       " 'Part of well balanced breakfast',\n",
       " 'Forgetting Sarah Marshall AND Get Him Greek TV time...Aldis Snow MAN right now.',\n",
       " 'went catholic school whole life college iknowwhatyoumean',\n",
       " 'Great catch Julio jones. Wonder 9ers r gonna start playing... SFvsATL',\n",
       " 'I took TV...to repair shop get fixed.',\n",
       " \"Like I said yesterday, I'm actually excited watch Pistons basketball yr. Their 1st regular season game ...\",\n",
       " 'volkswagen commercial...hilarious... yah-man',\n",
       " 'AfricanAmericans topic jeopardy teens...&lt;.&lt;.....&gt;.&gt;..... happyblackhistorymonth',\n",
       " 'thatawkwardmoment see Rick-shaws Ohio...',\n",
       " 'Deer',\n",
       " 'Finally. Thank pash rush.',\n",
       " 'Not money sucks. Still job hunt unemployedproblems',\n",
       " 'Sooooo fast',\n",
       " 'Detroit Pistons game w/ tooloudcrew',\n",
       " 'Happy fathers day dads stay great role models. We kids love raising right respect',\n",
       " '313 westside Detroit adversiting',\n",
       " '5 months today, NFL returns!!',\n",
       " '\"Dont call \\'black mold\\'....that\\'s it\\'s slave name.\" -Kyle Harwood',\n",
       " 'Listening work. LETS GO CUBS!!!!!!!! S/O becoming next Dick Vitale',\n",
       " 'A facemask full of snow CJ now franchise leader receiving yards. Congratulations, MEGATRON! onepride',\n",
       " 'RIP MCA beastieboys',\n",
       " \"Congrats UD Jesuit's Cassius Winston AJ Horde earning BCAM's BEST honors. Well deserved! CUBPRIDE\",\n",
       " 'Saw dollar I got change. realtalk FreePalestine Awareness',\n",
       " 'I Night.....',\n",
       " 'Gma got ensures breakfast gmalove',\n",
       " 'This might big game Michigan wishes Mitch McGary. Getting absolutely murdered inside.',\n",
       " 'I\\'m announce \"Fab 5\" GameFace pictures Finals… whose ready?',\n",
       " \"It's time. CLEvsDET\",\n",
       " 'SCOTT TOLZIEN SPIN MOVE DOT GIF',\n",
       " 'Best.ending.ever',\n",
       " 'CommonWhitePeopleQuestions soulja boy tellem?',\n",
       " 'Low key...that anthem though...',\n",
       " \"On positive football note, least Lions can't lose today.\",\n",
       " \"Gene Kelly, famous dance sequence Singin' Rain, actually singin' milk! Details --&gt; http:/ ...\",\n",
       " 'Is ... ... 8:07 ... yet? cmonalready tigers2012',\n",
       " \"When someone calls 'shotgun', I yell 'rosa parks' sit seat refuse move.\",\n",
       " 'listening dude. SundayFunday notafathersday',\n",
       " 'Diabetes half-shell. -',\n",
       " 'Brandon Jennings &amp; Josh Smith. No passing. DetroitPistons',\n",
       " 'The guy white shirt back 😂😂',\n",
       " 'Our seats. sostoked jayzandjustin',\n",
       " 'That rebounding stat embarrassing. gohardinthepaint letsgoblue',\n",
       " \"If you're NOW putting World Series pics, get of Instagram\",\n",
       " '34-29 Mumford start second half. letsgocubs uofdjesuit',\n",
       " '...And Lions Win SuperBowl!!!!!!!!!! dreams reality lions14 onepride',\n",
       " 'Peppermint iced cap. soogood happyholidays timhortons',\n",
       " 'Where drugs going! ?!?!?!? Batman DarkKnightReturns',\n",
       " \"thatawkwardmoment ur boss calls 'bitch' face cause you've graduated got big boy job. classof2012 graduated\",\n",
       " '(baby back baby back) chillllllliiiiiiiis. Baby back ribs...barbecue sauce...',\n",
       " 'Beat student magicthegathering ...awesome',\n",
       " '\" Ok one more😂 That seriously soooo true!!! KissAsses SuckUps Annoying 😂😂😂',\n",
       " 'Things of nature: Getting Joique Bell back track Packers',\n",
       " 'Cassius Winston (2016 PG) picked UofM offer today',\n",
       " \"Detroit Elememtary School's 'Happy' Video Goes Viral And Gets TV shows' Attention\",\n",
       " \"Everyone's partying I'm like\",\n",
       " '2 Chainz: \"She got big booty so I call big booty\" Me: *wipes tear* That deep shit, man.',\n",
       " 'RT “ worst part spider man saves day 😷”',\n",
       " 'So ready watch lions game. DETvsPHI detroitvseverybody Lets Gooooooooo',\n",
       " \"I'm legit gonna ecstatic clock runs Ford Field\",\n",
       " \"'Yo, like kicks?' pickuplines c'monman dobetter\",\n",
       " 'Unbelievable trick... 😱',\n",
       " \"I don't know explain parts of YeezusTour people....\",\n",
       " 'lets go san antonio merica NBAFinals2014',\n",
       " 'All need love.',\n",
       " 'SportsCenter Should Really B Owned By Lebron. 😒',\n",
       " 'After school program...man I not miss student latchkeykid',\n",
       " 'One drop. killinem tacobell freebeanburrito',\n",
       " 'Another great around effort boys tonight! Really locked down defensively. On next one... RoadtotheB…',\n",
       " 'Suicides private jet...flytodeath',\n",
       " 'That PBA commercial w cookie/Mariah Carey song hilarious. advertising commercials',\n",
       " \"Not best way start second half . Let's go lions. detroitpride OnePride\",\n",
       " '\"...and people would come streets like sister act like, \\'what\\'s music?\\' \" ... golden',\n",
       " \"Someone clearly doesn't follow sports isthatgregjennings\",\n",
       " 'Liam Neeson trained Batman, Obi Wan, Darth Vader. He Aslan Zeus...and punches wolves. Why would ki ...',\n",
       " 'RIP Mrs. wolf UofD family knows one of most loving school secretaries ever lostbutnotfor…',\n",
       " \"Jesus walks... You can't see cause of holiness.\",\n",
       " 'The 2nd contestant comeondown caught Holy Spirit way stage. Lol gameshows grandmatime',\n",
       " 'Every day not crisis. If is, need make big changes.',\n",
       " 'I thankful friends, family, troops, city of Detroit, Detroit sports, alcohol. cheers Thanksgiving',\n",
       " 'I thought Kanye concert, not church service...Yeezus13',\n",
       " 'personal advancement extent become agents of change/role models necessary arenas',\n",
       " \"This wouldn't even necessary Henery makes least 1/3 FGs\",\n",
       " 'The news morning....everybodyintheclubgettingtipsy fox2news',\n",
       " 'first game of season, seats? thanks',\n",
       " 'Snow driving DetroitVsEverybody',\n",
       " 'Feeling Taco Bell today... noregrets fourthmeal',\n",
       " \"Fresh Prince of Bel Air Conditioner Settings: 1) Chillin' .. 2) Maxin' .. 3) Relaxin' .. 4) All Cool\",\n",
       " 'One week til tailgating, one week til football, cannot wait. GoBlue',\n",
       " \"Wow...I don't know say...\",\n",
       " 'THE DIA MILLAGE PASSED! YAAAAAAAAAAAAAAAAAAAAAAAAAAAAAAAAAAAAAAAAAAAAAAAAAAAAAAAAAAAAAAAAAAAAAAAAAAAAAAAAAAAAAAAAAA ...',\n",
       " \"thatawkwardmoment u realize you're older majority of kids college collegegradproblems\",\n",
       " 'I father...',\n",
       " 'Beautiful weather first day of spring! not',\n",
       " 'Happy thanksgiving twitter world. Be thankful, tell someone love them. blessed',\n",
       " 'Let every member of Human Family recognize today right everyone dignity, liberty &amp; peace. HumanRig…',\n",
       " 'not super soon. Got year Detroit, dirty south. :)',\n",
       " \"'now come baby tell what's word.' wordup\",\n",
       " \"Westbrook makes basket...then gets tech...it's NBAFINALS c'monman sportsmanship\",\n",
       " \"STAY AWAY FROM K-2, PLEASE! A DUDE IN WACO, TX WAS JUST ARRESTED FOR BEATING, STRANGLING AND EATING SOMEONE ELSE'S ...\",\n",
       " 'Thankful able wake morning grind day 🙏🙌🙏',\n",
       " 'Two lions row Madden cover. DetroitPride golions realdetroit',\n",
       " 'Golden Tate, welcome Lions',\n",
       " \"What's runner's....\",\n",
       " 'Heading NYC first time!',\n",
       " \"'Dying not afraid of; it's never lived first place' greenhornet randomtvwisdom\",\n",
       " 'historically, porgy bess first major afro-american opera. Therefore, more iconic.',\n",
       " \"To seriously wondered Kawhi Leonard's\",\n",
       " 'Checking trends Cleveland laugh fan base',\n",
       " 'Live look-in Kyle Orton, preparing new job Bills starting QB:',\n",
       " 'Bring football season. 81DaysToKickoff',\n",
       " 'Batman bustin moves D dancingguy detroit cadiuex harper eastside',\n",
       " 'first time ive ever twitter computer....smartphoneproblems',\n",
       " \"'Make sure mind engaged put mouth gear.' -Dr. Bernice King\",\n",
       " 'Chauncey Billups retired tonight. Thanks memories.And big shots.',\n",
       " 'Great night chillin w/ coolrunnins',\n",
       " 'Best lunch city ( Sherwood Forest Coney Island)',\n",
       " 'CUBS ARE REGIONAL CHAMPIONS!!! UofD defeats Troy 7-0 secure regional championship.',\n",
       " 'thatawkwardmoment Lebron discussion topic On television... Bring olympics2012',\n",
       " \"beginning. I start job year aug 20th. I'll keep u n fam posted\",\n",
       " \"Couldn't come better time 👍 CardsAgainstHumanity\",\n",
       " '😅So true',\n",
       " 'Quiz Bowl National Championship highlighted Free Press!',\n",
       " \"So that's feels like batman dkr\",\n",
       " \"I can't stand three kinda ppl world.....sensitive ppl, liars, racists\",\n",
       " 'Pride of Detroit &gt;&gt; Lions training camp: Watch Chris Houston try cover Calvin Johnson',\n",
       " '“ A List Of Why Batman Is Better Then Superman',\n",
       " 'Retweet MichiganFavorite MSU!! Go!',\n",
       " 'BALvsDEN Peyton killin',\n",
       " 'Touchdown Lions!George Winn brings scoreLions 13Jaguars 12',\n",
       " 'All baseball highlights making dread rest of summer',\n",
       " 'The Nebraska play won best play. faithinhumanity Beautiful godbless',\n",
       " 'WaysToPissBlackPeopleOff think know cause see I look like',\n",
       " 'clearing drain Whirpool afterthestorm',\n",
       " \"Just saw sign restaurant called 'Asian corned beef'... intrigued sweetandsourreuben\",\n",
       " 'New edition of MeanTweets &amp; more... http:…',\n",
       " 'lol crazy kids',\n",
       " 'New term dunecoonz thinkaboutit',\n",
       " 'Drake - Started From The Bottom (Explicit) ...welcome back. Happy Easter :)',\n",
       " \"Dear Mother Nature, I'm sorry everything I said winter. If summer weekends like this, I take b…\",\n",
       " 'kareemabduljabar christianlatneer marchmadness float. And sonic...I love parades',\n",
       " \"Breakin' Ankles - The Top 10 CROSSOVERS of March... lead going behind back!\",\n",
       " 'Lions Twitter blowing fury',\n",
       " \"haha heard that. Been busy. Graduating end of month. Tryin come see y'all August I start workin\",\n",
       " 'Max Scherzer throws gem Tigers beat Astros, 2-0.Scherzer: 8 IP, 3 H, BB, 9 KDetroit won 6 straight.',\n",
       " 'Captain leadbyexample RedWings',\n",
       " 'Cleaning trash',\n",
       " 'The jesuits intellects of Catholic Church. uofdjesuit educatedbyjesuits',\n",
       " \"BREAKING: The entire Falcons roster suspended 6 games NFL's new domestic violence policy …\",\n",
       " \"chili's fucking delicious... obvi\",\n",
       " 'What call yourself? batmanbeyond',\n",
       " 'anniversary suprise RealRickSanders',\n",
       " 'These people FB, Tampa Bay, talking shit Detroit. Can suck D...!',\n",
       " 'MISD student killing singing. BecauseImHappy MISD myjobiscoolerthanyours',\n",
       " 'The news morning... DetroitVsEverybody fox2news everybodyintheclubgettingtipsy thenine',\n",
       " \"STOOP KID'S AFRAID TO LEAVE HIS STOOP!\",\n",
       " 'Celtic night LetsGoBoston',\n",
       " 'Michael Jordan\\'s reaction Kobe\\'s comments year\\'s Olympic team could\\'ve beaten \\'92 Dream Team: \"I abso ...',\n",
       " \"GOOD MORNING! Know it's good morning? COLLEGE. FOOTBALL. IS. BACK.\",\n",
       " 'Peyton Manning vs. Andrew Luck \"The War of 18 12\" lol not bad Al Michaels',\n",
       " 'Vince Carter college. No words.',\n",
       " 'Freedomtour2013 starting Detroit see 17 hrs ATL',\n",
       " 'The more I think of Desean Jackson situation more disgusted I get. I hate ass backward logic of America',\n",
       " 'Watched full season of sonsofanarchy w/ hooked suchagoodshow',\n",
       " \"Someone tp'd house last night ... thismeanswar\",\n",
       " 's/o THE BUS holding down DetroitPride OGrunningback cantstopthebus',\n",
       " 'Kids concert??? notkidsbop',\n",
       " 'But thunderstorm though...',\n",
       " 'Official: Michigan playing 2013 Outback Bowl ( Opponent TBD.',\n",
       " \"'Hey...it's ok' ....thanks Rick\",\n",
       " 'About time',\n",
       " \"'Aight man, poops.'\",\n",
       " 'Success mother-f*cking option. failuresnot DetroitPride',\n",
       " 'TNGHT - Higher Ground turnup',\n",
       " 'Welcome back deliveringpizzas deliveringtds',\n",
       " 'You earned this, GoBlue',\n",
       " \"I'm crying\",\n",
       " \"Taking pics cap n gown today...wow I'm really graduating :D classof2012 WMU success\",\n",
       " 'My nephew :)',\n",
       " 'Whoever decision maker browns probably step down lol',\n",
       " 'I need find time relax, change....',\n",
       " 'How many of pray get up? Ever thought give God thanks giving another 24? 0_o',\n",
       " \"God good. Thank fam. I'm truly humbled mercy, grace favor I give glory. 2-1\",\n",
       " 'Even though tigers lost, great time w/ tooloudcrew',\n",
       " 'The conversation I heard\"\\'What word think of hear word \\'junglefever?\\'.....\\'cheese\\'\"...confused highschoolkids',\n",
       " 'Did anyone else see ball guy sidelines make one handed grab TNF ?',\n",
       " \"If y'all got Peyton manning one of fantasy teams say yeaaaaaaaah DENvsBAL nfl\",\n",
       " 'Three things cannot long hidden: sun, moon, truth BuddhaWisdom',\n",
       " 'Team president Tom Lewand: \"No owner loved team more Mr. Ford loved Lions.\" http:/…',\n",
       " 'I swear, If I ever meet Kevin conroy person, ill poop pants batman batmanbeyond onlyvoiceofbatman',\n",
       " 'Opener (who you) chenepark',\n",
       " \"I don't want get up!!!\",\n",
       " 'Hope crew G.O.O.D Day tooloudcrew',\n",
       " 'Bath time kitties aw CrayCrayAdorbz',\n",
       " 'mowin lawn listening boy app ftw.',\n",
       " 'RT FREE drink Create Your Plate order sushi roll',\n",
       " \"Oh lovely day sports 'D'\",\n",
       " 'Suck Chicago',\n",
       " 'Lions safety James Ihedigbo agreed terms two-year contract:',\n",
       " 'RT follow! kingbach bachto300K',\n",
       " 'RIP Brandon Spight NeverForget EverydayIsForYou',\n",
       " 'I wonder book Prince James reading today',\n",
       " \"Who's trying go discing??? It's beautiful outside\",\n",
       " 'Watchin football highlights....yearning fall nfl football Detroit',\n",
       " \"Tryin make ends meet, you're slave money die.\",\n",
       " \"Tony Parker's 3...clutch\",\n",
       " \"Dan Gilbert outlines vision livelier downtown Detroit including Papa Joe's, sidewalk cafes DanGi ...\",\n",
       " 'Y debt then? \"The U.S. passed Russia Saudi Arabia now produces more oil/natural gas country world.”',\n",
       " 'No man problem aggressive women. ..but choose aggressive difference',\n",
       " 'Real sh*T.',\n",
       " 'Saw license plate way work today USA Muricah vanityplates',\n",
       " 'Prince used image of Dave Chappelle playing Prince art of single \"Breakfast Can Wait\".',\n",
       " 'One hour kickoff. DETvsWAS OnePride',\n",
       " \"'I running B*tch... You dog walker' childish\",\n",
       " 'guy',\n",
       " 'Eating In presence of one of favorite lionpride GOBRONCOS',\n",
       " \"'Can force stop lightsabers? Think it. That's philosophy question right there'\",\n",
       " 'To person actually pays Netflix everyone uses account',\n",
       " 'Slept 10-7 last night. Woke morning, blessed another day. peace&amp;love',\n",
       " 'Even though I hated Lions pick, may most entertaining draft recent memory. Johnny Freefall! His agen…',\n",
       " 'now watching -- TCUvsOKLA .. Detroit UofD on! woah!',\n",
       " \"There's wifi bus...remember needed phone jack really slow Internet? technology aol youvegotmail kidsthesedays\",\n",
       " 'Reggie Bush not currently Lions offense going thru warmups. Joique Bell working No 1 offense',\n",
       " 'That lotta fun today. Thanks love lionfans best Is yet come. See ya ford field Sunday 😊!',\n",
       " 'On way Renaissance fair!!!! W/',\n",
       " 'dangles lets go Detroit letsgoredwings',\n",
       " 'This game going sooooooo well. B1G GoBlue',\n",
       " 'opening acts',\n",
       " 'Much love always reppin D. DetroitPride golions',\n",
       " 'New Spot The Dark Knight Rises -',\n",
       " '99probsbutab***haint1',\n",
       " \"LionsMobile I'm proud of defense that's holding packers 2 field goals. LionPride\",\n",
       " 'Shoutout lil bro clownin worldstarhiphop',\n",
       " 'This mall wifi...what?! whereami suburbs',\n",
       " \"The Saints plan another 'R.Bush' so didn't waste leftover jerseys...\",\n",
       " 'Are ready football! Lions',\n",
       " 'I see too many parents encourage kids idolize athletes parents shirk responsibility of ...',\n",
       " 'When gonna draft McCringelberry?',\n",
       " 'Yessssss “ back Lions year, extension.” OnePride DetroitVsEverybody',\n",
       " \"Common T.I's dad americangangster mindblown\",\n",
       " 'Chuck Norris knows Carmen Sandiego is.',\n",
       " 'spilled coffee subway rushing work cliché',\n",
       " \"Don't even get started Amish! What peaceful ideologies mastery of agriculture &amp; carpentry! keyand…\",\n",
       " 'Pershing wins buzzer beater. 62-60. Great game',\n",
       " 'Miami Heat fans heading Cleveland',\n",
       " 'chiropractors ? adjustment long night of raging would excellent. chiropractic ElectricForest',\n",
       " 'Holy Monsoon Weather Batman! PureMichigan',\n",
       " \"Retweet you're ready Anchorman 2\",\n",
       " \"Wow... Strong drive/dunk Lebron! Announcers didn't get nearly excited shouldve one. Gonna ...\",\n",
       " 'sooo gooood',\n",
       " 'Spongebob | ( • )( • ) | Patrick / ( • )( • ) \\\\ Squidward ( (•)(•) ) Plankton | (•) | Mr. Krabs |•||•| RT y…',\n",
       " \"This certainly less ideal. Let's Go, Blue\",\n",
       " 'Did vandenboesch discount double check? allstate',\n",
       " 'Cubs w well fought second half beat Mumford. Great game. letsgocubs',\n",
       " 'Happy birthday Detroit 313. So excited moving home',\n",
       " 'School tomorrow? Nah',\n",
       " 'First patient continuously says \"God bless, too kind\" one much pain godsstrength',\n",
       " 'Girls so quick upload half-naked pictures. Hoe, upload diploma. SheRatchet',\n",
       " \"Apple change Siri's voice Morgan Freeman.\",\n",
       " '90sareallthat hear goes. kenanandkel',\n",
       " 'Just sang backstage Thanks opportunity, guys killed tonight! See kzoo. ...',\n",
       " 'Hall road sounds like middle east w fireworks going off. suburbproblems',\n",
       " 'Here audio call go along video!',\n",
       " 'Driving down Tuesday (20th), staying Til Saturday mid-day.',\n",
       " 'w w w e e e r r r v v v e e e',\n",
       " 'Wakery bakery',\n",
       " 'Thurston HS students say I-96 closure outside school make crossing service roads like \"Frogger\"',\n",
       " 'To ppl RT someone elses entire timeline: HATE u.',\n",
       " 'mondaynightfootball WorldSeries ...decisions....',\n",
       " 'Is national fix streets day? orangebarrells',\n",
       " 'Said - “Much love Detroit fans. They chanting … stayed whole game.” ...',\n",
       " 'What April snow showers bring May?',\n",
       " '0 motivation get up.',\n",
       " 'Filppulla best season of anyone Wings last year, \"C\" go Zetterberg',\n",
       " 'Proctoring exam... feelsoold',\n",
       " 'def see here... midwestproblems',\n",
       " 'S/o fam doinwork concert. whatupcubs',\n",
       " 'Looking fishflies night freak out. somanybugs notinmyhair',\n",
       " \"Get friends together. We're going make fantasy Puppy Bowl teams.\",\n",
       " 'A man overcomes desires braver overcomes enemies.',\n",
       " 'Lions signed WR Golden Tate 5-year deal',\n",
       " 'Congrats CoachCaldwell - looking forward great things 2014! ROAR',\n",
       " 'strawberry lemonade best',\n",
       " 'Are ready Football?!?!MNFDetroit',\n",
       " 'Lazy sunday buddy baby girl livingthedream',\n",
       " \"Gotta root Kings so Devils don't tie Wings most cups since 90's. OneDynastyNotTwo\",\n",
       " 'nice job, Aaron Berry. really nice job. more embarrassment Lions. needed. smh',\n",
       " \"*smacks lips* c'mon man...\",\n",
       " 'RT miss someone longer earth',\n",
       " 'Ray Allen...wow',\n",
       " \"Tuesday 3-6, thursday 9-12. But I'm def gonna adding more shifts soon\",\n",
       " '76-76...goin ot...freakingout GoBlue',\n",
       " 'Joique Bell 11-yard run gets of bounds. 1st-and-10 25. MINvsDET',\n",
       " 'Catching twitter sitting construction. michiganprobz',\n",
       " 'Tweet voting...',\n",
       " 'Did anyone see powerrangers macysdayparade ? frickinawesome',\n",
       " 'Ben Affleck officially cast Batman Man of Steel sequel. For first time history, I kind of want superman …',\n",
       " 'Stafford sacked. Fumble. Green Bay recovers. This O-line, man...',\n",
       " \"'Peter, googled 'google.' smh\",\n",
       " \"When story's tell it?\",\n",
       " 'I gave D...because I could tell put effort writing essay.',\n",
       " \"Here go LIONSvsHOU let's go Detroit! Still rooting ya maryland GoLions\",\n",
       " 'Black Bane &amp; Batman therapy',\n",
       " 'Happy birthday cuz, oldasf*ck',\n",
       " 'Megatron, Megagrab. Watch second TD catch of 1st qtr: DefendTheDen NYGvsDET',\n",
       " '\"Success getting want ; Happiness wanting get\" FoodForThought',\n",
       " \"tell chaste Tyron's I say congratulations! Merry Xmas fam\",\n",
       " 'I would love vacation right now.. 😎💆👒👙☀🌴🍻✈🌅🌃',\n",
       " 'I wonder Big Sean ass man?',\n",
       " 'thatawkwardmoment see Disney channel original movie star law order svu... brink mindblown',\n",
       " 'aghettosantawould climbin yo window snatchin yo ppl so hide yo kids hide yo wife &amp; hide yo husbnd cuz th ...',\n",
       " \"Detroit Free Press &gt;&gt; Maize-N-Brew: Gallon more 'just 5th-round guy' U-M\",\n",
       " 'The man middle, measuring 6\\'8\", Detroit, No. 52,',\n",
       " \"ay, I'm coming down w girl thanksgiving lookin forward seein cliettes\",\n",
       " \"Long hair don't care? More like Ratchet weave I believe.\",\n",
       " \"Doesn't get old lmfao\",\n",
       " 'messin witching pimp. Lol',\n",
       " \"Teacher: Get sheet of paper. Student: LOOK AT ME NOW! Teacher: Excuse me? Student: IM GETTIN' PAPERRRR!!\",\n",
       " 'gross...',\n",
       " \"Gold Medal game Team USA Men's basketball. Go USA!! beatspain\",\n",
       " 'Back back CHSL champs! U of D wins 58-42! gocubs',\n",
       " 'Watching roommate play nhl13 Is so close watching real hockey.... lockoutproblems',\n",
       " 'Tweet so hard motha fuckas wanna follow thatshitcray',\n",
       " 'SO dope! This needs Be cover art sell trilogy whole. TheDarkKnight',\n",
       " '59-50 uofdjesuit w/ 3:57 left In regulation letsgocubs',\n",
       " 'Remember, remember 5th of November',\n",
       " 'Catch breath: Michigan 56 - Indiana 47 | 4Q: 6:01',\n",
       " \"Happy Birthday brother - you're more beautiful woman me. Love, Dave StamosDay\",\n",
       " 'HIP HOP HOOORAAAY HOOOO HEEEEEEY',\n",
       " 'I really hate fact I love Lions sometimes smh',\n",
       " \"I'm totally damn disgusted. How hell think I feel it.\",\n",
       " \"Ben Affleck Responds His Batman Haters - It's truthbomb deserve\",\n",
       " \"It's crazy think Lions 3-1. Just 2 weeks ago everyone saying they're old Lions... They we…\",\n",
       " \"Listening 'sherry' remembering angelic voice of\",\n",
       " 'This....',\n",
       " \"Detroit Free Press &gt;&gt; Nate Burleson released Lions: 'I can't blame them'\",\n",
       " \"LET'S GO TIGERS\",\n",
       " '2013 season countdown',\n",
       " 'Euthenics.',\n",
       " 'Closing 90,000 followers. Thanks of follow us. Go Pistons!',\n",
       " 'Someone send crazy block dunk GetNoahOnSportscenter SCtop10',\n",
       " 'RIPDonna Summer. \"Works hard Money\" record I often sing &amp; frequently use motivation respect',\n",
       " \"Missin D already. Never takes very long miss Detroit I'm away. DetroitPride\",\n",
       " 'Why everyone tryin fight? nfl preseason calmdown',\n",
       " \"Tyler Perry films lot like hip hop stations. Yes, you'll get something of it, short repit ...\",\n",
       " '14 catches. 329 yards. 1 TD.Megatron went OFF.Watch again.Cowboys. Lions. NOW! NFLReplayMarathon',\n",
       " 'ThatAwkwardMomentWhen Kristen Stewart Robert Pattinson still another movie shoot...',\n",
       " 'Cubs down 3 w ball. 31.3 secs left clock. 60-57. whatagame letsgocubs',\n",
       " 'Nothin like chronic jam I chores Cpt drdre',\n",
       " 'The D founded July 24, 1701. The 313 313 today... RT love Motor City!',\n",
       " \"This hot new rap track pretty much nails it's like 24 years old:\",\n",
       " 'Cubs win!!!',\n",
       " 'People taunt lose. No problem, comes territory. Wait till see store 2014-15. …',\n",
       " 'Netflix Small Soldiers. This pleases inner child.',\n",
       " \"There really chris brown song w/ lyric 'it's alright, I'm not dangerous...' boldfacedlie\",\n",
       " \"It's NationalDrinkWineDay. I've waited whole life moment.\",\n",
       " \"Congrats madden... let's make trifecta Datsyuk\",\n",
       " 'Thanking God another day. Blessed',\n",
       " 'Wow, I seriously cannot believe Michigan forced overtime. Talk never giving up. Incredible. GoBlue',\n",
       " 'CALVIN JOHNSON',\n",
       " 'MIGGY IS A TIGER FOR LIFE. CHEERS TO THAT.',\n",
       " 'Are ready tomorrow??? We are! Tune Cubs travel Breslin Center take Bloomfield MH…',\n",
       " \"Everyone photographic memory. Some people don't film.\",\n",
       " 'Catching kids twitter school... smh',\n",
       " 'NAME THE STUPID BABY “BATMAN”!!!',\n",
       " 'Snoop Lion created community gardening project provide fruits vegetables children worldwide --&gt;',\n",
       " \"Cassius Winston playing like 1 of nation's top Point Guards Team Scan!\",\n",
       " 'Picky people get damn nerves',\n",
       " 'great young man. Great cub family support menforothers',\n",
       " 'I went teaching money.',\n",
       " 'University of Detroit Jesuit defeats Detroit Renaissance 59-32 advancing district title Friday vs. Mumford at…',\n",
       " 'UOFDJESUITF***WITUSYOUKNOWWEGOTIT!!!!',\n",
       " \"I don't understand people don't like hockey. Easily most exciting interesting professional sport watch.\",\n",
       " 'Happy Birthday Timmy! We got lifetime supply of mental trauma! Post',\n",
       " 'The world dangerous place...not of evil people it...but of good people refuse …',\n",
       " '(•_•)&lt;) )╯ooh kill em / \\\\ \\\\(•_•) ( (&gt; ooh kill em / \\\\ (•_•) &lt;) )&gt; ooohh / \\\\',\n",
       " 'Congrats winning second NBA 6th Man of Year award. GoBlue',\n",
       " 'starwars return of Jedi goes 9pm-1:24am tv...stupidcommercials cable',\n",
       " 'day yet?',\n",
       " 'Ohio worst state drive thru. GetMeOutOfHere',\n",
       " 'Happy Birthday, Great Nelson Mandela! We better born lived so very well. Mandela',\n",
       " 'again... smh',\n",
       " \"Wait, LeBron James said doesn't flop?! Someone show last night... WATCH:\",\n",
       " 'Happy Birthday Denver QB Peyton Manning! NFLBirthdays',\n",
       " \"Tonight night we'll tweet Tim Tebow. Or so hope. Lions\",\n",
       " 'Sunday morning Gotham City...peaceful...deserted...safe..my favorite time...Batman DarkKnight',\n",
       " 'The acceptable tan lines.',\n",
       " 'Holy shit. TDKR',\n",
       " \"CommonWhitePeopleQuestions don't grow afro?\",\n",
       " 'crazy insane insane crazy? berzerk What ... played Riddler Batman-Superman movie?',\n",
       " 'Free lazer tag? Thanks &amp; noscope boomheadshot zapzone',\n",
       " 'Dragon Ball Z: BattleOfGods opens theaters AUG 5! Tickets limited. Click find theater near you.',\n",
       " \"Jamal Crawford's AMAZING alley-oop Blake Griffin! beastmode\",\n",
       " \"Jordan Morgan went U of D Jesuit. Just so y'all don't forget\",\n",
       " \"If you've never Detroit, keep negative comments yourself. You clue life D.\",\n",
       " \"Bell crossed plane, that's still so Lions.\",\n",
       " 'Oh... my... GOODNESS. LeBron shows absolutely mercy ridiculous 2ndQ alley-oop Miami - ...',\n",
       " '\"Too many people spend money haven\\'t earned, buy things don\\'t want, impress people don\\'t like.\" - W ...',\n",
       " 'Famous cowhead mackave',\n",
       " 'One of best Nick Nite moments got even better. Damn.',\n",
       " '&lt;&lt;&lt; 6 players years finals USAbasketballteam. olympics2012 datshitcray',\n",
       " 'Vote new host 106TheSearch -',\n",
       " 'so dont white people white entertainment awards? would racist say?',\n",
       " 'Unbelievable...Fire everybody Lions embarassing',\n",
       " \"A week today Lions players report training camp! RT can't wait season return!!\",\n",
       " 'Julio Jones MONSTER first half.',\n",
       " 'The fans spoken. 55% of think Wolverines pull upset vs. Louisville tonight. Weigh here: https ...',\n",
       " 'I think adulthood realizing might well stay job extra hour nothing better …',\n",
       " 'COMPUWARE!!!!! The Cubs defeat LO 5-3 take Brighton State Semis 5 PM Friday! GoCubs',\n",
       " 'Congratulations basketball team taking home CHSL title!',\n",
       " \"A good morning text lady, mama's morning prayer Kairos cross. I'm motivated day\",\n",
       " \"Let's go Pistons!\",\n",
       " 'Dancing music see.',\n",
       " 'Where tattoos hurt most? This help..',\n",
       " 'Hope Lions taking notes Falcons execution offense',\n",
       " \"Never life I want lose 313 area code. I don't care I'm living, 313 needs attached som ...\",\n",
       " 'You must find passion life truly live potential.',\n",
       " \"Lions sleepwalked game. Can't get complacent blowing bad Giants team.\",\n",
       " 'wheniwasakid ...Pluto still planet... rippluto',\n",
       " 'Perfecting PSAT..... sobored thankyouiphone',\n",
       " 'Wow...GoDaddy, not sexy ad superbowl',\n",
       " 'Check!',\n",
       " 'Check newest cover of \"As Long As You Love Me\" - Please share/RT!',\n",
       " 'IHatePeopleThat hate people. Stop hating people haters.',\n",
       " 'thatawkwardmoment aunt calls pothead Facebook... smh',\n",
       " 'Welcome Kyle! LionsDraft',\n",
       " 'Mfs working today tommorrow ..MF I working kids kids kids 💯💯💯💯',\n",
       " 'What great hockey season been. The not lost one game. Thank',\n",
       " 'Smile Your On Camera android instacool city 8mile',\n",
       " 'Man 4 yet?',\n",
       " 'Incredible catch golions Detroit',\n",
       " \"Stop Living In regret Live Purpose! 4get yesterday focus Today! We've done things ain't proud of. …\",\n",
       " 'We bid farewell goalpost dunk look Hollywood Henderson jam started all.WATCH:',\n",
       " \"Here's 1st TD of season Gardner finds Funchess 9-yard strike.\",\n",
       " 'My mom..',\n",
       " 'Outright title Wolverines B1G champs aloneatthetop GoBlue',\n",
       " 'Me dawg got birthdays comin up! BirdmanHandrub',\n",
       " 'HOLY CRAP MY VERY FIRST OPEN MIC NIGHT......and now I chocolate suprise waiting me.....*waddles bathroom*',\n",
       " 'No. 1 Defense vs. No. 2 Defense.This trailer get ready DETvsNYJ:',\n",
       " 'Last class . graduating classof2012 Chyea',\n",
       " 'This deserves endless retweets 😳',\n",
       " 'If missed yesterday, introduced D.J. Augustin Caron Butler. Take look:',\n",
       " 'Miggy, Miggy, Miggy. Miguel Cabrera homered 4th consecutive game. He now 37 HR season.',\n",
       " 'That white kid SnapBack tattoos must straight gangster.',\n",
       " \"I honestly forgot t-Mac still league. San Antonio's here. nbafinals\",\n",
       " 'Discing first Time season. Yessssss springtime discgolf',\n",
       " 'Ugliest. First Down. Ever.',\n",
       " 'Lions $1.47M left available cap space',\n",
       " 'Black n yellow banger til world played everything',\n",
       " \"-You can't get points TODAY YESTERDAY'S GAME-.. Every new day new hustle.... -Michael Jordan-\",\n",
       " 'How foul Joe NOT foul Lebron?? Smh going t…',\n",
       " 'For years Lions great kicker bad team. Now pretty good team bad kicker. Only Lions',\n",
       " 'Austin said Ziggy Ansah already texted say great pick. Ansah Van Noy teammates last year BYU.',\n",
       " 'truth',\n",
       " 'If assume radius of pizza \"z\" thickness of crust \"a\" -- The volume of pizza pi*z*z*…',\n",
       " 'Remember world ended last year.',\n",
       " 'You know childhood fall asleep couch, wake couch.',\n",
       " 'Who win weeks matchup?RT MichiganFAV NotreDame',\n",
       " 'My life...',\n",
       " 'congratulations Calvin Johnson (Megatron) making history',\n",
       " 'Watch Detroit sinkhole swallow two cars',\n",
       " \"But that's life though..we ain't nothing bunch of mfs snow-globe God shakes see react..\",\n",
       " 'u watchin lions too?',\n",
       " 'Today city of Detroit lost great man! RIP Mr. William Clay Ford',\n",
       " '...and cover of NCAA',\n",
       " 'thatawkwardmoment white people dance competitions Pitbull songs',\n",
       " 'Can I first say year going way too fast!!?',\n",
       " 'TOUCHDOWN, LIONS!! RB bursts line 1-yd score. JAXvsDET DefendTheDen',\n",
       " '11 past bedtime imsoold',\n",
       " 'I think Detroit could use Batman',\n",
       " 'Make pass rating 99',\n",
       " \"When Detroit residents move Gotham better quality of life, know there's problem.\",\n",
       " 'Happy Easter !',\n",
       " \"Do think women work Sperm banks ever say 'thank coming'?...\",\n",
       " 'Will Bynum look like homie Jamal Butler',\n",
       " 'Eric Ebron got picked 10th Detroit, more importantly got engaged Empire State',\n",
       " 'TOUCHDOWN, 1st-career TD &amp; 1st career game 100 rush yards himCLEvsJAX:',\n",
       " \"That's picture of little band wagon? 😂😂😫😭“ R.I.P.\",\n",
       " \"Forest Roadtrippers! Post photos journey EFRoadtrip hashtag - let's see you're coming from!\",\n",
       " \"JustBecause miss something, doesn't mean need back. things better past, memories ...\",\n",
       " 'RappersBetterThanSouljaBoy? Too easy. You say \"anyone else\" so many different ways. How RappersWorseThanSo ...',\n",
       " 'Reggie Bush said \"100%\" plays next week',\n",
       " 'Inkster woman, 115, among 6 living people born 19th century',\n",
       " 'Mitch Albom: Holy smokes! Reggie Bush could make difference Lions',\n",
       " 'I got really high...marks performance review.',\n",
       " 'The bourbon family tree (',\n",
       " 'FOOTBALL FANS, ASSEMBLE!!! The BACK!',\n",
       " 'If missed earlier, Pistons 2013-14 schedule:',\n",
       " 'Word...Excel, Powerpoint working perfect now, thanks Tim.',\n",
       " 'Meijer hire 400 Detroit store',\n",
       " 'DefendTheDen person week! Limited tickets remain NOvsDET:',\n",
       " 'Watching hotelrwanda class. Such good movie.',\n",
       " \"We're ready. GoBlue BeatND\",\n",
       " '\"Elementary school\" \"shooting\" never sentence. These kind of tragedies got STOP. We ha ...',\n",
       " 'Im not getting like 8 maybe 9 👎👎😲😲😒😒',\n",
       " 'Yo I’m ready FOOTBALL!!',\n",
       " 'Be Anything You Want. Be Awesome As You Can',\n",
       " 'Shoutout Cubs win Mumford last night. Class A District champs! Good luck Monday nigh…',\n",
       " 'Durant. LeBron. Westbrook. Wade. Oh. Man.',\n",
       " 'Tomorrow, Basketball District Semis Hockey State Quarters. Both 7, sure tune h…',\n",
       " 'The Lions made change kicker. Alex Henery now guy.',\n",
       " 'nothing better always resort twitter',\n",
       " \"Pistons fans, let's wish Happy Birthday one Mason! DeeetroitBasketball\",\n",
       " 'Do not conform pattern of world, transformed renewing of mind... (Romans 12:2)',\n",
       " \"VIDEO: Nebraska's Jordan Westerkamp catch of year claim w/ behind-the-back grab h…\",\n",
       " 'No snap judgements? That\\'s people \" I say give time make judgements\"',\n",
       " 'good fam. How u livin?',\n",
       " 'Golden Tate agreed 5-year deal Lions.',\n",
       " '17-year-old Thon Maker 7 feet tall... better handles most HS point guards. His mixtape crazy.',\n",
       " 'SPOILERALERT Michael Jordan Tune Squad defeat Monstars save Looney Tunes Moron Mountain. Final Score: 78-77',\n",
       " 'Five Generations of Batman Relaxing Sun: A sunny day dark knight -',\n",
       " \"Sooooo, Papa Grande back closer???????? It matter of time. Let's hope throw more meatball f…\",\n",
       " \"All fighting &amp; beef shit kids. I'm grown ass man trying make future &amp; family.\",\n",
       " 'I mean damn Pablo lol',\n",
       " 'I wanna give shout UofD boys playing Catholic League Championship today. Good luck boys. DoWork',\n",
       " 'Also, baseball money crazy. $292M soon-to-be 31-year-old Cabrera. For comparison, Calvin Johnson got 8 years, $13…',\n",
       " \"I'm Batman.\",\n",
       " 'Going Florida cool michiganprobz',\n",
       " \"Hey guys it's second half. Want start making baskets? LETSGOBLUE\",\n",
       " \"If don't RT tweet of mine please RT one... RIPRobinWilliams\",\n",
       " 'remove head sphincter, drive.',\n",
       " 'Lions website announces 5 year deal Golden Tate',\n",
       " 'Even astounding 29 degrees, Kalamazoo resident Mike Nicholson, hopes earn least 33 34 - ...',\n",
       " 'First opening-drive TD Lions scored season. Ford Field goes wild. LIONSvsHOU',\n",
       " \"It's real Avc house. (Dave). ontothenextone\",\n",
       " \"I'll never understand blasting music so loud sound completely distorted rattling cars w/in 3 lan ...\",\n",
       " 'The first ever Harlem Shake',\n",
       " 'R.I.P. Vincent Smith',\n",
       " '(.__.) ( |: ) ( .-. ) ( :| ) (. _ .) They see Rolling. They hating.',\n",
       " 'Whenever someone says \"10 years ago\" I still think of 90\\'s instead of 2000\\'s.',\n",
       " 'DeMarcus Cousins listed 6\\'11\" Kings. Sim Bhullar makes look 5\\'11\". (via',\n",
       " \"Just saw license plate said 'myninja' Winning\",\n",
       " 'The Civil Rights Act of 1964 \"Barred unequal application of voter registration requirements.\" CivilRights50',\n",
       " \"I told I'm not gangster ...like insult. Cultural tip: black people aren't trying gangsters.\",\n",
       " 'CNN: Rodney King, whose beating Los Angeles police 1991 sparked riots acquittal of officers, died ear ...',\n",
       " 'FLETCHA DOIN WORK FOR REDUX OF A PREVIOUS ARTICLE ABOUT HOMOSEXUALITY IN THE NFL ...',\n",
       " 'The purpose of life live life full of purpose',\n",
       " \"EsuranceSave30 Trying doesn't want 1.5 million dollars? I don't want know people.\",\n",
       " 'Get ready more Batman! Our Batman movie marathon begins tomorrow 9am/8c!!',\n",
       " \"It isn't shawarma without garlic sauce. How make own:\",\n",
       " 'White basketball players',\n",
       " \"Zip'em uuuuppppp! ( voice) We got done u bro! ToeDragSwag\",\n",
       " 'U of D 29 Renni 2:00 4th. 59-30 . Starters pulled',\n",
       " 'Football back. Your Sunday To Do List set -&gt;',\n",
       " '\"Accept things not change. Have courage changes things can. And wisdom know …',\n",
       " 'JJ Watt looks straight soul destroying you:',\n",
       " \"I don't know worse traded away Chauncey Billups Curtis Granderson michiganprobz\",\n",
       " \"High school football team name 'cocoa'...all black kids... &lt;_&lt;....&gt;_&gt;......\",\n",
       " 'If retweet one of \"share 10 seconds or...\" type posts I honestly question ur faith',\n",
       " 'makes block AND dunk? sctop10',\n",
       " 'damn...lol',\n",
       " \"you're twitter name perfect\",\n",
       " 'oneday RT“ This man built $150,000 basement Batcave (',\n",
       " \"RIP he's man “ Report: Detroit's 'Eat 'em Up Tigers Guy' killed hit-and-run MLB”\",\n",
       " 'so, lookin get delicious Indian food...where would I go? Ps- see tomorrow',\n",
       " 'stupid adulthood',\n",
       " 'glad hear man. And thanks. Lookin forward back D',\n",
       " \"texts aren't sending. Yes I'm going straight campus homework. Hope you're afternoon going well. I love you.\",\n",
       " 'Happy Birthday fellow Cub hockey fan',\n",
       " 'west bit. Summer classes n work',\n",
       " '...bro...r loving together next year? Lol case u forgot. Also- happy early graduation',\n",
       " \"Here's UofD High School\",\n",
       " \"Not gonna lie I got shivers. Take time listen. He's good man\",\n",
       " 'spoke too soon',\n",
       " 'sup fam',\n",
       " \"&lt;&lt;&lt;&lt;&lt;&lt;&lt; that's pretty awesome. Not gonna lie lol hope alls well mike\",\n",
       " 'go blue',\n",
       " \"don't know I feel\",\n",
       " 'welcome life. :p',\n",
       " 'so.f*cking.good.',\n",
       " 'clearly, one opinions it...',\n",
       " 'great pic',\n",
       " 'safe travels bro!',\n",
       " \"lol I'm happy trend\",\n",
       " \"RIP RT“ The Doors' Ray Manzarek dies 74\",\n",
       " 'beat DetroitvsEverybody',\n",
       " \"doin well bro. Graduating month; avc'ing next year :) Hbu? How r ur brothers?\",\n",
       " 'ALL Jets? Is real life fantasy team 2011?',\n",
       " \"RT“ Seriously though, doesn't even go booyouwhore”\",\n",
       " 'Smh lol',\n",
       " \"Corey tapanga return parents Id def watch. But they'd also uncle Eric\",\n",
       " 'miss :)',\n",
       " 'they\\'ve got us “ \"Why I awake early? Guess I\\'ll watch Netflix.\"Every weekend morning.”',\n",
       " 'Wow....“ 1993 vs 2013:',\n",
       " 'jealousssss. Stop Kzoo ur way home :p miss',\n",
       " 'another reason western Better central. gobroncos',\n",
       " 'Bill Cosby!!!! Thank keeping real teaching kids Real knowledge',\n",
       " 'u? Lol',\n",
       " \"Got eat breakfast saw GA's football team side of milk carton.\",\n",
       " \"Rollin way work. 'Started Kwame, now My whole city f*ckin here!' Detroit toofunny\",\n",
       " \"I'm goin interview today. wishmeluck\",\n",
       " 'so ready season start lions Detroit',\n",
       " \"you've got more important things focus on. Congrats win Coach. GoCubs\",\n",
       " '“ S/o hardworking Detroiters grindin success. The city won\\'t stopped. We make together.\" realtalk',\n",
       " \"Go cubs!!! “ Emphatic dunk U-D Jesuit's Noah King blocked shot mipzboysbball\",\n",
       " 'Ely I want eat Indian food today, calm down!',\n",
       " 'watch football',\n",
       " \"Maybe Thunder around Metro Detroit tomorrow?..It's december.. michiganprobz\",\n",
       " \"Moving too? I'm moving back d July hopin nab ur Detroit wisdoms hotspots r\",\n",
       " \"I didn't say hurricanesandy\",\n",
       " 'Chyea Portland. When u find out? Ull hit lives now',\n",
       " \"I 3 snow days wmu gobroncos now I'm enjoying uofd one :)\",\n",
       " 'flap. Flap. Flapping albatross wings. throwback',\n",
       " 'makes concerned black man...',\n",
       " 'man Twitter ... ads now..smh come Myspace.',\n",
       " 'u watch thebachelorette...gimme back man card',\n",
       " 'really now?',\n",
       " 'welcome real world',\n",
       " 'No movement Lions signing CB yet. Perhaps working guys today.',\n",
       " \"I friend who's team state. extracurriculars\",\n",
       " 'I want one. Ps- congrats first TD',\n",
       " 'strugglebus “ College football category Jeopardy! last night. It went horribly wrong. VIDEO:',\n",
       " \"I gave nickname. I'm taking credit twitter\",\n",
       " \"American Lafayette Coney Island..I can't decide. michiganprobz\",\n",
       " \"credittaken. When's next time ur gonna mitten? U gotta come Avc house\",\n",
       " 'Lolol',\n",
       " 'Jeff Seidel writes sports universe turning attention Detroit tonight',\n",
       " 'But block AND dunk tho. SCtop10',\n",
       " \"ur moving eastern market? That's pretty legit. I meet w u downtown sometime :)\",\n",
       " '... bout raise up, take shirt off. Twist round head, spin like helicopter 90sjam',\n",
       " '“ This Andrew Wiggins highlight video. It might NSFW. omg',\n",
       " 'I want shirt',\n",
       " 'good see fellas. CubPride',\n",
       " 'so intense',\n",
       " \"sadly we're broke volunteerinjobtitle brokeasajoke\",\n",
       " 'always pleasure meet fellow cub. Ps-go wmubroncos',\n",
       " 'near enough time.',\n",
       " 'jealous. Was wknd. Want go back',\n",
       " \"get obnoxiously guilty of of (I know I've done cple) plz smack face\",\n",
       " 'haha way stick thru. Ur Gonna love',\n",
       " 'wanted say hi I miss :)',\n",
       " '48-43 going 4th. letsgocubs',\n",
       " \"lol it's ok Ben. Ur adequate balance of not white\",\n",
       " \"hells yea. I'm guessing means uve graduated? Congrats. What kind of jobs u lookin at?\",\n",
       " \"think you're funny now? ok lil sis. see\",\n",
       " 'Donna summer??? toosoon',\n",
       " 'give part 3 of series thats excellent',\n",
       " \"haha I didn't see ur rant :p either way, dkr amazing\",\n",
       " 'I talking + going kick ass year :)',\n",
       " 'Lmfao',\n",
       " 'gives shit? itsjusttheinternet aintnobodygottimeforthat',\n",
       " 'I miss u terribly nobromo',\n",
       " '3 (63-60) w/ 25.2 secs left clock',\n",
       " 'itt!!!! robschneidervoice',\n",
       " \"season hasn't even started.\",\n",
       " 'down 10 (56-46) w 2:26 left game. Some bad no-calls refs. letsgocubs',\n",
       " 'down 28-23 half. A couple of breakaway fouls gave Pershing lead towards end of half. letsgocubs',\n",
       " 'strong lead; 39-17 end of 3rd. gocubs',\n",
       " 'two of greats. Thanks incredible careers gentlemen',\n",
       " \"aren't alone. We love u livethefourth\",\n",
       " 'hellllllllll yea',\n",
       " 'oh. Look lonely people... paulmccartneysbirthday',\n",
       " 'seen twice now...and I still wanna go again... TDKR realtalk',\n",
       " 'break leg finals!!!! Almost done',\n",
       " 'good lookin lol',\n",
       " 'makin moves. Down 54-46 w 4:00 left game letsgocubs',\n",
       " 'what??????????',\n",
       " 'think reggiebush would good fit could afford him?',\n",
       " \"beats Birmingham Groves 64-62 regional semi's. regional championship winner of Redford union/Pershing game.\",\n",
       " 'hysterical',\n",
       " '61-58 w/ 1:09 left clock letsgocubs',\n",
       " 'hey brotha. It great seeing u wknd.',\n",
       " \"girltalk's feed animals day great feel good albums :)\",\n",
       " 'hilarious',\n",
       " 'group projects always bad most levels',\n",
       " 'definitely pound',\n",
       " \"whaaaaaat datshitcray I'm sry man. Other hope alls well\",\n",
       " 'ouch. Speedy recovery bud',\n",
       " 'game starts now boys clutchasfuck',\n",
       " ...]"
      ]
     },
     "execution_count": 21,
     "metadata": {},
     "output_type": "execute_result"
    }
   ],
   "source": [
    "# From list to string\n",
    "\n",
    "def listToString(tweet_list):  \n",
    "    # initialize an empty string \n",
    "    str1 = \" \" \n",
    "    # return string   \n",
    "    return (str1.join(tweet_list)) \n",
    "\n",
    "tweets_no_sw_string = []\n",
    "for i in tweets_no_sw:\n",
    "    no_sw = listToString(i)\n",
    "    tweets_no_sw_string.append(no_sw)\n",
    "    \n",
    "tweets_no_sw_string"
   ]
  },
  {
   "cell_type": "code",
   "execution_count": 22,
   "metadata": {},
   "outputs": [
    {
     "data": {
      "text/html": [
       "<div>\n",
       "<style scoped>\n",
       "    .dataframe tbody tr th:only-of-type {\n",
       "        vertical-align: middle;\n",
       "    }\n",
       "\n",
       "    .dataframe tbody tr th {\n",
       "        vertical-align: top;\n",
       "    }\n",
       "\n",
       "    .dataframe thead th {\n",
       "        text-align: right;\n",
       "    }\n",
       "</style>\n",
       "<table border=\"1\" class=\"dataframe\">\n",
       "  <thead>\n",
       "    <tr style=\"text-align: right;\">\n",
       "      <th></th>\n",
       "      <th>coordinates</th>\n",
       "      <th>created_at</th>\n",
       "      <th>hashtags</th>\n",
       "      <th>media</th>\n",
       "      <th>urls</th>\n",
       "      <th>favorite_count</th>\n",
       "      <th>id</th>\n",
       "      <th>in_reply_to_screen_name</th>\n",
       "      <th>in_reply_to_status_id</th>\n",
       "      <th>in_reply_to_user_id</th>\n",
       "      <th>...</th>\n",
       "      <th>user_listed_count</th>\n",
       "      <th>user_location</th>\n",
       "      <th>user_name</th>\n",
       "      <th>user_screen_name.1</th>\n",
       "      <th>user_statuses_count</th>\n",
       "      <th>user_time_zone</th>\n",
       "      <th>user_urls</th>\n",
       "      <th>user_verified</th>\n",
       "      <th>clean_tweets</th>\n",
       "      <th>no_sw_tweets</th>\n",
       "    </tr>\n",
       "  </thead>\n",
       "  <tbody>\n",
       "    <tr>\n",
       "      <th>0</th>\n",
       "      <td>NaN</td>\n",
       "      <td>Sun Feb 14 23:29:33 +0000 2010</td>\n",
       "      <td>NaN</td>\n",
       "      <td>NaN</td>\n",
       "      <td>NaN</td>\n",
       "      <td>0</td>\n",
       "      <td>9116606357</td>\n",
       "      <td>NaN</td>\n",
       "      <td>NaN</td>\n",
       "      <td>NaN</td>\n",
       "      <td>...</td>\n",
       "      <td>0</td>\n",
       "      <td>Sofia, Bulgaria</td>\n",
       "      <td>Ina Gerdjikova</td>\n",
       "      <td>InaGerdjikova</td>\n",
       "      <td>6</td>\n",
       "      <td>NaN</td>\n",
       "      <td>http://kutiazamisli.blogspot.com/</td>\n",
       "      <td>False</td>\n",
       "      <td>Will try to live for a week offline... wish me...</td>\n",
       "      <td>Will try live week offline... wish luck! :D</td>\n",
       "    </tr>\n",
       "    <tr>\n",
       "      <th>3</th>\n",
       "      <td>NaN</td>\n",
       "      <td>Tue Aug 12 17:51:37 +0000 2014</td>\n",
       "      <td>NaN</td>\n",
       "      <td>NaN</td>\n",
       "      <td>http://twitcam.livestream.com/g7hpe</td>\n",
       "      <td>0</td>\n",
       "      <td>499251874256920577</td>\n",
       "      <td>NaN</td>\n",
       "      <td>NaN</td>\n",
       "      <td>NaN</td>\n",
       "      <td>...</td>\n",
       "      <td>0</td>\n",
       "      <td>NaN</td>\n",
       "      <td>Ana Paula Ribeiro</td>\n",
       "      <td>anadadal</td>\n",
       "      <td>7</td>\n",
       "      <td>NaN</td>\n",
       "      <td>NaN</td>\n",
       "      <td>False</td>\n",
       "      <td>Boa tarde.. ( live on</td>\n",
       "      <td>Boa tarde.. ( live</td>\n",
       "    </tr>\n",
       "    <tr>\n",
       "      <th>8</th>\n",
       "      <td>NaN</td>\n",
       "      <td>Sun Feb 14 18:46:26 +0000 2010</td>\n",
       "      <td>NaN</td>\n",
       "      <td>NaN</td>\n",
       "      <td>NaN</td>\n",
       "      <td>0</td>\n",
       "      <td>9107804301</td>\n",
       "      <td>NaN</td>\n",
       "      <td>NaN</td>\n",
       "      <td>NaN</td>\n",
       "      <td>...</td>\n",
       "      <td>0</td>\n",
       "      <td>Sofia, Bulgaria</td>\n",
       "      <td>Ina Gerdjikova</td>\n",
       "      <td>InaGerdjikova</td>\n",
       "      <td>6</td>\n",
       "      <td>NaN</td>\n",
       "      <td>http://kutiazamisli.blogspot.com/</td>\n",
       "      <td>False</td>\n",
       "      <td>Phew... Valentine's day will be finally over i...</td>\n",
       "      <td>Phew... Valentine's day finally hours</td>\n",
       "    </tr>\n",
       "    <tr>\n",
       "      <th>9</th>\n",
       "      <td>NaN</td>\n",
       "      <td>Fri Sep 28 19:07:04 +0000 2012</td>\n",
       "      <td>NaN</td>\n",
       "      <td>NaN</td>\n",
       "      <td>http://twitcam.livestream.com/c7fe0</td>\n",
       "      <td>0</td>\n",
       "      <td>251759950655791105</td>\n",
       "      <td>NaN</td>\n",
       "      <td>NaN</td>\n",
       "      <td>NaN</td>\n",
       "      <td>...</td>\n",
       "      <td>0</td>\n",
       "      <td>NaN</td>\n",
       "      <td>Ana Paula Ribeiro</td>\n",
       "      <td>anadadal</td>\n",
       "      <td>7</td>\n",
       "      <td>NaN</td>\n",
       "      <td>NaN</td>\n",
       "      <td>False</td>\n",
       "      <td>up ( live on</td>\n",
       "      <td>( live</td>\n",
       "    </tr>\n",
       "    <tr>\n",
       "      <th>11</th>\n",
       "      <td>NaN</td>\n",
       "      <td>Fri Sep 28 19:05:53 +0000 2012</td>\n",
       "      <td>NaN</td>\n",
       "      <td>NaN</td>\n",
       "      <td>http://twitcam.livestream.com/c7fe0</td>\n",
       "      <td>0</td>\n",
       "      <td>251759653464199168</td>\n",
       "      <td>NaN</td>\n",
       "      <td>NaN</td>\n",
       "      <td>NaN</td>\n",
       "      <td>...</td>\n",
       "      <td>0</td>\n",
       "      <td>NaN</td>\n",
       "      <td>Ana Paula Ribeiro</td>\n",
       "      <td>anadadal</td>\n",
       "      <td>7</td>\n",
       "      <td>NaN</td>\n",
       "      <td>NaN</td>\n",
       "      <td>False</td>\n",
       "      <td>simmm ( live on</td>\n",
       "      <td>simmm ( live</td>\n",
       "    </tr>\n",
       "  </tbody>\n",
       "</table>\n",
       "<p>5 rows × 36 columns</p>\n",
       "</div>"
      ],
      "text/plain": [
       "   coordinates                      created_at hashtags media  \\\n",
       "0          NaN  Sun Feb 14 23:29:33 +0000 2010      NaN   NaN   \n",
       "3          NaN  Tue Aug 12 17:51:37 +0000 2014      NaN   NaN   \n",
       "8          NaN  Sun Feb 14 18:46:26 +0000 2010      NaN   NaN   \n",
       "9          NaN  Fri Sep 28 19:07:04 +0000 2012      NaN   NaN   \n",
       "11         NaN  Fri Sep 28 19:05:53 +0000 2012      NaN   NaN   \n",
       "\n",
       "                                   urls  favorite_count                  id  \\\n",
       "0                                   NaN               0          9116606357   \n",
       "3   http://twitcam.livestream.com/g7hpe               0  499251874256920577   \n",
       "8                                   NaN               0          9107804301   \n",
       "9   http://twitcam.livestream.com/c7fe0               0  251759950655791105   \n",
       "11  http://twitcam.livestream.com/c7fe0               0  251759653464199168   \n",
       "\n",
       "   in_reply_to_screen_name  in_reply_to_status_id  in_reply_to_user_id  ...  \\\n",
       "0                      NaN                    NaN                  NaN  ...   \n",
       "3                      NaN                    NaN                  NaN  ...   \n",
       "8                      NaN                    NaN                  NaN  ...   \n",
       "9                      NaN                    NaN                  NaN  ...   \n",
       "11                     NaN                    NaN                  NaN  ...   \n",
       "\n",
       "   user_listed_count    user_location          user_name  user_screen_name.1  \\\n",
       "0                  0  Sofia, Bulgaria     Ina Gerdjikova       InaGerdjikova   \n",
       "3                  0              NaN  Ana Paula Ribeiro            anadadal   \n",
       "8                  0  Sofia, Bulgaria     Ina Gerdjikova       InaGerdjikova   \n",
       "9                  0              NaN  Ana Paula Ribeiro            anadadal   \n",
       "11                 0              NaN  Ana Paula Ribeiro            anadadal   \n",
       "\n",
       "    user_statuses_count user_time_zone                          user_urls  \\\n",
       "0                     6            NaN  http://kutiazamisli.blogspot.com/   \n",
       "3                     7            NaN                                NaN   \n",
       "8                     6            NaN  http://kutiazamisli.blogspot.com/   \n",
       "9                     7            NaN                                NaN   \n",
       "11                    7            NaN                                NaN   \n",
       "\n",
       "   user_verified                                       clean_tweets  \\\n",
       "0          False  Will try to live for a week offline... wish me...   \n",
       "3          False                             Boa tarde.. ( live on    \n",
       "8          False  Phew... Valentine's day will be finally over i...   \n",
       "9          False                                      up ( live on    \n",
       "11         False                                   simmm ( live on    \n",
       "\n",
       "                                   no_sw_tweets  \n",
       "0   Will try live week offline... wish luck! :D  \n",
       "3                            Boa tarde.. ( live  \n",
       "8         Phew... Valentine's day finally hours  \n",
       "9                                        ( live  \n",
       "11                                 simmm ( live  \n",
       "\n",
       "[5 rows x 36 columns]"
      ]
     },
     "execution_count": 22,
     "metadata": {},
     "output_type": "execute_result"
    }
   ],
   "source": [
    "# Add the new feature to the original df\n",
    "\n",
    "en_tweets['no_sw_tweets'] = tweets_no_sw_string\n",
    "en_tweets.head()"
   ]
  },
  {
   "cell_type": "code",
   "execution_count": 23,
   "metadata": {},
   "outputs": [
    {
     "name": "stdout",
     "output_type": "stream",
     "text": [
      "Smurfette spaces out in the SmurfsVillage. She makes Smurfs and Swoofs swoon and awards XP!  \n",
      "\n",
      "Negative sentiment: 0.0\n",
      "Neutral sentiment: 0.81\n",
      "Positive sentiment: 0.19\n",
      "Compound sentiment: 0.5093 \n",
      "\n",
      "Smurfette spaces SmurfsVillage. She makes Smurfs Swoofs swoon awards XP! \n",
      "\n",
      "Negative sentiment: 0.0\n",
      "Neutral sentiment: 0.732\n",
      "Positive sentiment: 0.268\n",
      "Compound sentiment: 0.5093\n"
     ]
    }
   ],
   "source": [
    "# comparison between with and without stop words\n",
    "\n",
    "example1 = en_tweets.clean_tweets.iloc[17]\n",
    "example2 = en_tweets.no_sw_tweets.iloc[17]\n",
    "\n",
    "analyzer = SentimentIntensityAnalyzer()\n",
    "vs = analyzer.polarity_scores(example1)\n",
    "\n",
    "print(example1, '\\n')\n",
    "print('Negative sentiment:',vs['neg'])\n",
    "print('Neutral sentiment:',vs['neu'])\n",
    "print('Positive sentiment:',vs['pos'])\n",
    "print('Compound sentiment:',vs['compound'],'\\n')\n",
    "\n",
    "vs = analyzer.polarity_scores(example2)\n",
    "\n",
    "print(example2, '\\n')\n",
    "print('Negative sentiment:',vs['neg'])\n",
    "print('Neutral sentiment:',vs['neu'])\n",
    "print('Positive sentiment:',vs['pos'])\n",
    "print('Compound sentiment:',vs['compound'])"
   ]
  },
  {
   "cell_type": "code",
   "execution_count": 24,
   "metadata": {},
   "outputs": [
    {
     "name": "stdout",
     "output_type": "stream",
     "text": [
      "Seafood salad and fried chicken and sweet tea I'm hype. Now to cook it!!! \n",
      "\n",
      "['Seafood', 'salad', 'and', 'fried', 'chicken', 'and', 'sweet', 'tea', 'I', \"'m\", 'hype', '.', 'Now', 'to', 'cook', 'it', '!', '!', '!']\n"
     ]
    }
   ],
   "source": [
    "# Here I am trying to do the tokenization we saw in class, but it divides the three !!!, this is not rigth\n",
    "\n",
    "import spacy, nltk, sklearn\n",
    "nlp = spacy.load('en')\n",
    "\n",
    "\n",
    "example = en_tweets.clean_tweets.iloc[14]\n",
    "#example = en_tweets.text[55656]\n",
    "doc = nlp(example)\n",
    "tokens = [token.text for token in doc]\n",
    "\n",
    "print(example,'\\n')\n",
    "print(tokens)\n",
    "\n",
    "#example = en_tweets.clean_tweets[6] and [11]\n",
    "#Here ?! and !!! separated with token, not good"
   ]
  },
  {
   "cell_type": "markdown",
   "metadata": {},
   "source": [
    "### Step 3.4:  Processing the data for analysis of day/hour \n",
    "___\n",
    "\n",
    "Part of our analysis, is to understand if the moment of the day of the week can somehow influences the tweet sentiment and its retweetability. To do that, we need before to include in out dataframe the information regarding the utc_offset data and convert the time of posting in local time."
   ]
  },
  {
   "cell_type": "code",
   "execution_count": 25,
   "metadata": {},
   "outputs": [
    {
     "data": {
      "text/plain": [
       "Index(['coordinates', 'created_at', 'hashtags', 'media', 'urls',\n",
       "       'favorite_count', 'id', 'in_reply_to_screen_name',\n",
       "       'in_reply_to_status_id', 'in_reply_to_user_id', 'lang', 'place',\n",
       "       'possibly_sensitive', 'retweet_count', 'retweet_id',\n",
       "       'retweet_screen_name', 'source', 'text', 'tweet_url', 'user_created_at',\n",
       "       'user_screen_name', 'user_default_profile_image', 'user_description',\n",
       "       'user_favourites_count', 'user_followers_count', 'user_friends_count',\n",
       "       'user_listed_count', 'user_location', 'user_name', 'user_screen_name.1',\n",
       "       'user_statuses_count', 'user_time_zone', 'user_urls', 'user_verified',\n",
       "       'clean_tweets', 'no_sw_tweets', 'tweetid', 'utc_offset'],\n",
       "      dtype='object')"
      ]
     },
     "execution_count": 25,
     "metadata": {},
     "output_type": "execute_result"
    }
   ],
   "source": [
    "#merging dataframes to add utc_offset column\n",
    "en_tweets = pd.merge(en_tweets,ego_merge, how = 'inner', left_on = 'id', right_on = 'tweetid')\n",
    "\n",
    "en_tweets.columns"
   ]
  },
  {
   "cell_type": "code",
   "execution_count": 26,
   "metadata": {},
   "outputs": [],
   "source": [
    "en_tweets['date'] = en_tweets.created_at.apply(lambda d: datetime.strptime(d, '%a %b %d %H:%M:%S +0000 %Y'))"
   ]
  },
  {
   "cell_type": "code",
   "execution_count": 27,
   "metadata": {},
   "outputs": [],
   "source": [
    "def get_seconds(date):\n",
    "    seconds = (date.hour*3600) + (date.minute*60) + date.second\n",
    "    return seconds\n",
    "\n",
    "def day_change(time):\n",
    "    return 1 if time > 86400 else -1 if time < 0 else 0\n",
    "\n",
    "def fix_time(time):\n",
    "    return time - 86400 if time > 86400 else time + 86400 if time < 0 else time\n"
   ]
  },
  {
   "cell_type": "code",
   "execution_count": 28,
   "metadata": {},
   "outputs": [],
   "source": [
    "en_tweets['day_seconds'] = en_tweets.date.apply(lambda x: get_seconds(x)) + en_tweets['utc_offset']"
   ]
  },
  {
   "cell_type": "code",
   "execution_count": 29,
   "metadata": {},
   "outputs": [],
   "source": [
    "en_tweets['day_number'] = en_tweets.date.apply(lambda x: x.weekday())"
   ]
  },
  {
   "cell_type": "code",
   "execution_count": 30,
   "metadata": {},
   "outputs": [],
   "source": [
    "en_tweets['norm_day'] = en_tweets.day_seconds.apply(lambda x: day_change(x)) + en_tweets.day_number\n",
    "days=[\"Mon\",\"Tue\",\"Wed\",\"Thur\",\"Fri\",\"Sat\",\"Sun\"]\n",
    "en_tweets['day'] =  en_tweets.norm_day.apply(lambda x: days[x%7])"
   ]
  },
  {
   "cell_type": "code",
   "execution_count": 31,
   "metadata": {},
   "outputs": [
    {
     "data": {
      "text/plain": [
       "Index(['coordinates', 'created_at', 'hashtags', 'media', 'urls',\n",
       "       'favorite_count', 'id', 'in_reply_to_screen_name',\n",
       "       'in_reply_to_status_id', 'in_reply_to_user_id', 'lang', 'place',\n",
       "       'possibly_sensitive', 'retweet_count', 'retweet_id',\n",
       "       'retweet_screen_name', 'source', 'text', 'tweet_url', 'user_created_at',\n",
       "       'user_screen_name', 'user_default_profile_image', 'user_description',\n",
       "       'user_favourites_count', 'user_followers_count', 'user_friends_count',\n",
       "       'user_listed_count', 'user_location', 'user_name', 'user_screen_name.1',\n",
       "       'user_statuses_count', 'user_time_zone', 'user_urls', 'user_verified',\n",
       "       'clean_tweets', 'no_sw_tweets', 'tweetid', 'utc_offset', 'date',\n",
       "       'day_seconds', 'day_number', 'norm_day', 'day', 'hour'],\n",
       "      dtype='object')"
      ]
     },
     "execution_count": 31,
     "metadata": {},
     "output_type": "execute_result"
    }
   ],
   "source": [
    "en_tweets['day_seconds'] = (en_tweets.day_seconds.apply(lambda x: fix_time(x)))\n",
    "en_tweets['hour'] = en_tweets['day_seconds']//3600\n",
    "en_tweets.hour.replace(24,0, inplace=True)\n",
    "\n",
    "en_tweets.columns"
   ]
  },
  {
   "cell_type": "markdown",
   "metadata": {},
   "source": [
    "Let's only keep columns we are interested in"
   ]
  },
  {
   "cell_type": "code",
   "execution_count": 32,
   "metadata": {},
   "outputs": [],
   "source": [
    "# I prefer to keep all the columns\n",
    "\n",
    "#en_tweets =  en_tweets[['hashtags', 'media', 'urls', 'id', 'place', 'retweet_count', 'text', 'user_followers_count', 'user_friends_count',\n",
    "#                       'user_location', 'user_name', 'user_screen_name.1', 'user_statuses_count', 'user_verified', 'clean_tweets', \n",
    "#                       'tweetid', 'utc_offset', 'date', 'day', 'hour']]\n",
    "#en_tweets.head(3)"
   ]
  },
  {
   "cell_type": "markdown",
   "metadata": {},
   "source": [
    "## Step 4. Rule-based sentiment analysis - VADER\n",
    "\n",
    "---\n",
    "\n",
    "VADER (Valence Aware Dictionary and sEntiment Reasoner) is a lexicon- and rule-based sentiment analyser that can deal with words, abbreviations, slang, emoticons, and emojis commonly found in social media ([Toni Pano and Rasha Kashef](https://www.mdpi.com/2504-2289/4/4/33)). Every text produces four sentiments scores: positive, neutral, negative and the compound polarity. The first three features describe how much the particular tweet is positive, neutral or neutral in a range between 0 and 1. On the contrary, the compound polarity score can be seen as an aggregate measure of the sentiment of the tweets, indeed it goes from - 1 (negative) and 1 (positive). In our case, we will use this polarity score to determine the sentiment of the tweets applying a threshold. From the literature, we found several threshoulds and here we try with **blablabla**"
   ]
  },
  {
   "cell_type": "markdown",
   "metadata": {},
   "source": [
    "### Step 4.1: Results with the cleaned tweets and threshold equals to 0.05\n",
    "___"
   ]
  },
  {
   "cell_type": "code",
   "execution_count": 33,
   "metadata": {},
   "outputs": [],
   "source": [
    "#Initializing the Rule-based sentiment analyzer \n",
    "analyzer1 = SentimentIntensityAnalyzer()"
   ]
  },
  {
   "cell_type": "code",
   "execution_count": 34,
   "metadata": {},
   "outputs": [],
   "source": [
    "en_tweets['sent_score'] = [analyzer1.polarity_scores(x)['compound'] for x in en_tweets['clean_tweets']]"
   ]
  },
  {
   "cell_type": "code",
   "execution_count": 35,
   "metadata": {},
   "outputs": [],
   "source": [
    "def sentiment_05(scores):\n",
    "    sents = []\n",
    "    for score in scores:\n",
    "        if score >= 0.05:\n",
    "            sent = 'pos'\n",
    "        elif score <= -0.05:\n",
    "            sent = 'neg'\n",
    "        elif abs(score) <0.05:\n",
    "            sent = 'neu'\n",
    "        sents.append(sent)\n",
    "    return sents"
   ]
  },
  {
   "cell_type": "code",
   "execution_count": 36,
   "metadata": {},
   "outputs": [],
   "source": [
    "en_tweets['sentiment'] = sentiment_05(en_tweets.sent_score)"
   ]
  },
  {
   "cell_type": "code",
   "execution_count": 37,
   "metadata": {},
   "outputs": [],
   "source": [
    "grouped_sents = en_tweets.groupby(by='sentiment')"
   ]
  },
  {
   "cell_type": "code",
   "execution_count": 38,
   "metadata": {},
   "outputs": [
    {
     "name": "stdout",
     "output_type": "stream",
     "text": [
      "Number of positive sentences: 484802\n",
      "Number of negative sentences: 209729\n",
      "Number of neutral sentences: 360088\n"
     ]
    }
   ],
   "source": [
    "print('Number of positive sentences:',sum(np.array(en_tweets['sent_score'])>=0.05))\n",
    "print('Number of negative sentences:',sum(np.array(en_tweets['sent_score'])<=-0.05))\n",
    "print('Number of neutral sentences:',sum(np.abs(np.array(en_tweets['sent_score']))<0.05))"
   ]
  },
  {
   "cell_type": "code",
   "execution_count": 39,
   "metadata": {},
   "outputs": [
    {
     "data": {
      "image/png": "[encoded data removed]",
      "text/plain": [
       "<Figure size 432x432 with 1 Axes>"
      ]
     },
     "metadata": {
      "needs_background": "light"
     },
     "output_type": "display_data"
    }
   ],
   "source": [
    "plt.figure(figsize=(6,6))\n",
    "plt.bar(grouped_sents.size().index, grouped_sents.size().values, width=0.8)\n",
    "plt.xlabel('Sentiment')\n",
    "plt.ylabel('Number of Tweets')\n",
    "plt.show()"
   ]
  },
  {
   "cell_type": "markdown",
   "metadata": {},
   "source": [
    "### Step 4.2: Results with the cleaned tweets and threshold equals to 0.001\n",
    "___"
   ]
  },
  {
   "cell_type": "code",
   "execution_count": 40,
   "metadata": {},
   "outputs": [
    {
     "data": {
      "image/png": "[encoded data removed]",
      "text/plain": [
       "<Figure size 432x432 with 1 Axes>"
      ]
     },
     "metadata": {
      "needs_background": "light"
     },
     "output_type": "display_data"
    }
   ],
   "source": [
    "# Threshold as in the other paper \n",
    "\n",
    "def sentiment_001(scores):\n",
    "    sents = []\n",
    "    for score in scores:\n",
    "        if score >= 0.001:\n",
    "            sent = 'pos'\n",
    "        elif score <= -0.001:\n",
    "            sent = 'neg'\n",
    "        elif abs(score) <0.001:\n",
    "            sent = 'neu'\n",
    "        sents.append(sent)\n",
    "    return sents\n",
    "\n",
    "en_tweets['sentiment'] = sentiment_001(en_tweets.sent_score)\n",
    "grouped_sents2 = en_tweets.groupby(by='sentiment')\n",
    "\n",
    "plt.figure(figsize=(6,6))\n",
    "plt.bar(grouped_sents2.size().index, grouped_sents2.size().values, width=0.8)\n",
    "plt.xlabel('Sentiment')\n",
    "plt.ylabel('Number of Tweets')\n",
    "plt.show()"
   ]
  },
  {
   "cell_type": "markdown",
   "metadata": {},
   "source": [
    "### Step 4.3 Results with the cleaned tweets without stop words\n",
    "___"
   ]
  },
  {
   "cell_type": "code",
   "execution_count": 93,
   "metadata": {
    "scrolled": true
   },
   "outputs": [
    {
     "data": {
      "image/png": "[encoded data removed]",
      "text/plain": [
       "<Figure size 432x432 with 1 Axes>"
      ]
     },
     "metadata": {
      "needs_background": "light"
     },
     "output_type": "display_data"
    }
   ],
   "source": [
    "analyzer_no_sw = SentimentIntensityAnalyzer()\n",
    "en_tweets['sent_score_no_sw'] = [analyzer_no_sw.polarity_scores(x)['compound'] for x in en_tweets['no_sw_tweets']]\n",
    "\n",
    "en_tweets['sentiment_no_sw'] = sentiment_05(en_tweets.sent_score_no_sw)\n",
    "grouped_sents = en_tweets.groupby(by='sentiment_no_sw')\n",
    "\n",
    "plt.figure(figsize=(6,6))\n",
    "plt.bar(grouped_sents.size().index, grouped_sents.size().values, width=0.8)\n",
    "plt.xlabel('Sentiment_no_sw')\n",
    "plt.ylabel('Number of Tweets')\n",
    "plt.show()"
   ]
  },
  {
   "cell_type": "markdown",
   "metadata": {},
   "source": [
    "### Step 4.4 Results with the raw tweets\n",
    "___"
   ]
  },
  {
   "cell_type": "code",
   "execution_count": 94,
   "metadata": {},
   "outputs": [
    {
     "data": {
      "image/png": "[encoded data removed]",
      "text/plain": [
       "<Figure size 432x432 with 1 Axes>"
      ]
     },
     "metadata": {
      "needs_background": "light"
     },
     "output_type": "display_data"
    }
   ],
   "source": [
    "analyzer_raw = SentimentIntensityAnalyzer()\n",
    "en_tweets['sent_score_raw'] = [analyzer_raw.polarity_scores(x)['compound'] for x in en_tweets['text']]\n",
    "\n",
    "en_tweets['sentiment_raw'] = sentiment_05(en_tweets.sent_score_no_sw)\n",
    "grouped_sents = en_tweets.groupby(by='sentiment_raw')\n",
    "\n",
    "plt.figure(figsize=(6,6))\n",
    "plt.bar(grouped_sents.size().index, grouped_sents.size().values, width=0.8)\n",
    "plt.xlabel('Sentiment_raw')\n",
    "plt.ylabel('Number of Tweets')\n",
    "plt.show()"
   ]
  },
  {
   "cell_type": "markdown",
   "metadata": {},
   "source": [
    "It seems a bit weird, but neither changing the threshould or including/removing the stop words or using the raw data  make the analysis different. \n",
    "**VERY WEIRD NEED TO DOUBLE CHECK**"
   ]
  },
  {
   "cell_type": "markdown",
   "metadata": {},
   "source": [
    "### Step 4.5: Check whether the sentiment changes based on hour of the day or day of the week\n",
    "___\n",
    "\n",
    "For the following analysis we will focus only on subjective (positive and negative tweets)."
   ]
  },
  {
   "cell_type": "code",
   "execution_count": 42,
   "metadata": {},
   "outputs": [],
   "source": [
    "# removing tweets without utc_offset information\n",
    "en_tweets_time = en_tweets.dropna(subset=['utc_offset'])\n",
    "\n",
    "pos_sents_time = en_tweets_time.loc[en_tweets_time['sentiment'] == 'pos']\n",
    "neg_sents_time = en_tweets_time.loc[en_tweets_time['sentiment'] == 'neg']"
   ]
  },
  {
   "cell_type": "code",
   "execution_count": 43,
   "metadata": {},
   "outputs": [],
   "source": [
    "tweet_per_h = en_tweets_time.groupby(['day','hour']).size().unstack()\n",
    "pos_tweet_per_h = pos_sents_time.groupby(['day','hour']).size().unstack()\n",
    "neg_tweet_per_h = neg_sents_time.groupby(['day','hour']).size().unstack()"
   ]
  },
  {
   "cell_type": "code",
   "execution_count": 44,
   "metadata": {},
   "outputs": [],
   "source": [
    "new_index = ['Sun', 'Mon', 'Tue', 'Wed', 'Thur', 'Fri', 'Sat']\n",
    "tweet_per_h = tweet_per_h.reindex(new_index)\n",
    "pos_tweet_per_h = pos_tweet_per_h.reindex(new_index)\n",
    "neg_tweet_per_h = neg_tweet_per_h.reindex(new_index)"
   ]
  },
  {
   "cell_type": "code",
   "execution_count": 45,
   "metadata": {},
   "outputs": [],
   "source": [
    "# Defining colors\n",
    "# are this for color blinded people????????\n",
    "\n",
    "colors = ['tomato', 'darkgoldenrod', 'limegreen', 'lightseagreen', 'deepskyblue', 'slateblue','magenta']"
   ]
  },
  {
   "cell_type": "code",
   "execution_count": 46,
   "metadata": {},
   "outputs": [
    {
     "data": {
      "image/png": "[encoded data removed]",
      "text/plain": [
       "<Figure size 1440x576 with 3 Axes>"
      ]
     },
     "metadata": {
      "needs_background": "light"
     },
     "output_type": "display_data"
    }
   ],
   "source": [
    "plt.figure(figsize=(20,8))\n",
    "plt.suptitle('Sentiment Analysis during the day and during the week')\n",
    "\n",
    "plt.subplot(1, 3, 1)\n",
    "plt.xlim(-0.5, 24)\n",
    "plt.xticks(np.arange(0, 24, step=1))\n",
    "plt.xlabel('Hour')\n",
    "plt.ylabel('Number of tweets')\n",
    "plt.title('All Tweets')\n",
    "\n",
    "\n",
    "for i in range(7):\n",
    "    plt.plot(tweet_per_h.iloc[i],c=colors[i])\n",
    "\n",
    "plt.subplot(1, 3, 2)\n",
    "plt.xlim(-0.5, 24)\n",
    "plt.xticks(np.arange(0, 24, step=1))\n",
    "plt.xlabel('Hour')\n",
    "plt.ylabel('Number of tweets')\n",
    "plt.title('Postive Tweets')\n",
    "\n",
    "\n",
    "for i in range(7):\n",
    "    plt.plot(pos_tweet_per_h.iloc[i],c=colors[i])\n",
    "\n",
    "plt.subplot(1, 3, 3)\n",
    "plt.xlim(-0.5, 24)\n",
    "plt.xticks(np.arange(0, 24, step=1))\n",
    "plt.xlabel('Hour')\n",
    "plt.ylabel('Number of tweets')\n",
    "plt.title('Negative Tweets')\n",
    "\n",
    "\n",
    "for i in range(7):\n",
    "    plt.plot(neg_tweet_per_h.iloc[i],c=colors[i])\n",
    "    plt.legend(new_index, loc='lower right')\n",
    "\n",
    "plt.show()"
   ]
  },
  {
   "cell_type": "markdown",
   "metadata": {},
   "source": [
    "We see that the positive and negative sentiment tweets have the same trend as all the tweets, so we can conclude that the day of the week or hour of the day does not have an affect on the sentiment"
   ]
  },
  {
   "cell_type": "markdown",
   "metadata": {},
   "source": [
    "### Analysis of retweets, time, and sentiment\n",
    "\n",
    "Would be nice to repeat the previous plot but instead of the number of tweets the retweets"
   ]
  },
  {
   "cell_type": "markdown",
   "metadata": {},
   "source": [
    "### Analysis of tweet sentiment on retweet count"
   ]
  },
  {
   "cell_type": "code",
   "execution_count": 124,
   "metadata": {},
   "outputs": [],
   "source": [
    "# creating two df for positive and negative tweets\n",
    "\n",
    "pos_sents = en_tweets.loc[en_tweets['sentiment'] == 'pos']\n",
    "neg_sents = en_tweets.loc[en_tweets['sentiment'] == 'neg']"
   ]
  },
  {
   "cell_type": "code",
   "execution_count": 126,
   "metadata": {},
   "outputs": [
    {
     "data": {
      "text/html": [
       "<div>\n",
       "<style scoped>\n",
       "    .dataframe tbody tr th:only-of-type {\n",
       "        vertical-align: middle;\n",
       "    }\n",
       "\n",
       "    .dataframe tbody tr th {\n",
       "        vertical-align: top;\n",
       "    }\n",
       "\n",
       "    .dataframe thead th {\n",
       "        text-align: right;\n",
       "    }\n",
       "</style>\n",
       "<table border=\"1\" class=\"dataframe\">\n",
       "  <thead>\n",
       "    <tr style=\"text-align: right;\">\n",
       "      <th></th>\n",
       "      <th>coordinates</th>\n",
       "      <th>created_at</th>\n",
       "      <th>hashtags</th>\n",
       "      <th>media</th>\n",
       "      <th>urls</th>\n",
       "      <th>favorite_count</th>\n",
       "      <th>id</th>\n",
       "      <th>in_reply_to_screen_name</th>\n",
       "      <th>in_reply_to_status_id</th>\n",
       "      <th>in_reply_to_user_id</th>\n",
       "      <th>...</th>\n",
       "      <th>day_number</th>\n",
       "      <th>norm_day</th>\n",
       "      <th>day</th>\n",
       "      <th>hour</th>\n",
       "      <th>sent_score</th>\n",
       "      <th>sentiment</th>\n",
       "      <th>sent_score_no_sw</th>\n",
       "      <th>sentiment_no_sw</th>\n",
       "      <th>sent_score_raw</th>\n",
       "      <th>sentiment_raw</th>\n",
       "    </tr>\n",
       "  </thead>\n",
       "  <tbody>\n",
       "    <tr>\n",
       "      <th>0</th>\n",
       "      <td>NaN</td>\n",
       "      <td>Sun Feb 14 23:29:33 +0000 2010</td>\n",
       "      <td>NaN</td>\n",
       "      <td>NaN</td>\n",
       "      <td>NaN</td>\n",
       "      <td>0</td>\n",
       "      <td>9116606357</td>\n",
       "      <td>NaN</td>\n",
       "      <td>NaN</td>\n",
       "      <td>NaN</td>\n",
       "      <td>...</td>\n",
       "      <td>6</td>\n",
       "      <td>6</td>\n",
       "      <td>Sun</td>\n",
       "      <td>20.0</td>\n",
       "      <td>0.8599</td>\n",
       "      <td>pos</td>\n",
       "      <td>0.8599</td>\n",
       "      <td>pos</td>\n",
       "      <td>0.8599</td>\n",
       "      <td>pos</td>\n",
       "    </tr>\n",
       "    <tr>\n",
       "      <th>7</th>\n",
       "      <td>NaN</td>\n",
       "      <td>Sun Jun 30 23:00:38 +0000 2013</td>\n",
       "      <td>SmurfLife</td>\n",
       "      <td>NaN</td>\n",
       "      <td>http://bit.ly/15lifj0</td>\n",
       "      <td>0</td>\n",
       "      <td>351475392101621762</td>\n",
       "      <td>NaN</td>\n",
       "      <td>NaN</td>\n",
       "      <td>NaN</td>\n",
       "      <td>...</td>\n",
       "      <td>6</td>\n",
       "      <td>6</td>\n",
       "      <td>Sun</td>\n",
       "      <td>NaN</td>\n",
       "      <td>0.7256</td>\n",
       "      <td>pos</td>\n",
       "      <td>0.7256</td>\n",
       "      <td>pos</td>\n",
       "      <td>0.7256</td>\n",
       "      <td>pos</td>\n",
       "    </tr>\n",
       "    <tr>\n",
       "      <th>8</th>\n",
       "      <td>NaN</td>\n",
       "      <td>Sun Oct 13 12:45:52 +0000 2013</td>\n",
       "      <td>SmurfVillage</td>\n",
       "      <td>NaN</td>\n",
       "      <td>http://bit.ly/SmurfVillage</td>\n",
       "      <td>0</td>\n",
       "      <td>389371408264232960</td>\n",
       "      <td>NaN</td>\n",
       "      <td>NaN</td>\n",
       "      <td>NaN</td>\n",
       "      <td>...</td>\n",
       "      <td>6</td>\n",
       "      <td>6</td>\n",
       "      <td>Sun</td>\n",
       "      <td>NaN</td>\n",
       "      <td>0.1007</td>\n",
       "      <td>pos</td>\n",
       "      <td>0.1007</td>\n",
       "      <td>pos</td>\n",
       "      <td>0.1007</td>\n",
       "      <td>pos</td>\n",
       "    </tr>\n",
       "    <tr>\n",
       "      <th>14</th>\n",
       "      <td>NaN</td>\n",
       "      <td>Sat Sep 03 23:44:48 +0000 2011</td>\n",
       "      <td>NaN</td>\n",
       "      <td>NaN</td>\n",
       "      <td>NaN</td>\n",
       "      <td>0</td>\n",
       "      <td>110136191562678272</td>\n",
       "      <td>NaN</td>\n",
       "      <td>NaN</td>\n",
       "      <td>NaN</td>\n",
       "      <td>...</td>\n",
       "      <td>5</td>\n",
       "      <td>5</td>\n",
       "      <td>Sat</td>\n",
       "      <td>NaN</td>\n",
       "      <td>0.5962</td>\n",
       "      <td>pos</td>\n",
       "      <td>0.5962</td>\n",
       "      <td>pos</td>\n",
       "      <td>0.5962</td>\n",
       "      <td>pos</td>\n",
       "    </tr>\n",
       "    <tr>\n",
       "      <th>15</th>\n",
       "      <td>NaN</td>\n",
       "      <td>Thu Oct 10 21:35:29 +0000 2013</td>\n",
       "      <td>SmurfsVillage</td>\n",
       "      <td>NaN</td>\n",
       "      <td>http://bit.ly/SmurfVillage</td>\n",
       "      <td>0</td>\n",
       "      <td>388417525392101377</td>\n",
       "      <td>NaN</td>\n",
       "      <td>NaN</td>\n",
       "      <td>NaN</td>\n",
       "      <td>...</td>\n",
       "      <td>3</td>\n",
       "      <td>3</td>\n",
       "      <td>Thur</td>\n",
       "      <td>NaN</td>\n",
       "      <td>0.3818</td>\n",
       "      <td>pos</td>\n",
       "      <td>0.3818</td>\n",
       "      <td>pos</td>\n",
       "      <td>0.3818</td>\n",
       "      <td>pos</td>\n",
       "    </tr>\n",
       "  </tbody>\n",
       "</table>\n",
       "<p>5 rows × 50 columns</p>\n",
       "</div>"
      ],
      "text/plain": [
       "   coordinates                      created_at       hashtags media  \\\n",
       "0          NaN  Sun Feb 14 23:29:33 +0000 2010            NaN   NaN   \n",
       "7          NaN  Sun Jun 30 23:00:38 +0000 2013      SmurfLife   NaN   \n",
       "8          NaN  Sun Oct 13 12:45:52 +0000 2013   SmurfVillage   NaN   \n",
       "14         NaN  Sat Sep 03 23:44:48 +0000 2011            NaN   NaN   \n",
       "15         NaN  Thu Oct 10 21:35:29 +0000 2013  SmurfsVillage   NaN   \n",
       "\n",
       "                          urls  favorite_count                  id  \\\n",
       "0                          NaN               0          9116606357   \n",
       "7        http://bit.ly/15lifj0               0  351475392101621762   \n",
       "8   http://bit.ly/SmurfVillage               0  389371408264232960   \n",
       "14                         NaN               0  110136191562678272   \n",
       "15  http://bit.ly/SmurfVillage               0  388417525392101377   \n",
       "\n",
       "   in_reply_to_screen_name  in_reply_to_status_id  in_reply_to_user_id  ...  \\\n",
       "0                      NaN                    NaN                  NaN  ...   \n",
       "7                      NaN                    NaN                  NaN  ...   \n",
       "8                      NaN                    NaN                  NaN  ...   \n",
       "14                     NaN                    NaN                  NaN  ...   \n",
       "15                     NaN                    NaN                  NaN  ...   \n",
       "\n",
       "   day_number norm_day   day  hour  sent_score sentiment sent_score_no_sw  \\\n",
       "0           6        6   Sun  20.0      0.8599       pos           0.8599   \n",
       "7           6        6   Sun   NaN      0.7256       pos           0.7256   \n",
       "8           6        6   Sun   NaN      0.1007       pos           0.1007   \n",
       "14          5        5   Sat   NaN      0.5962       pos           0.5962   \n",
       "15          3        3  Thur   NaN      0.3818       pos           0.3818   \n",
       "\n",
       "   sentiment_no_sw sent_score_raw sentiment_raw  \n",
       "0              pos         0.8599           pos  \n",
       "7              pos         0.7256           pos  \n",
       "8              pos         0.1007           pos  \n",
       "14             pos         0.5962           pos  \n",
       "15             pos         0.3818           pos  \n",
       "\n",
       "[5 rows x 50 columns]"
      ]
     },
     "execution_count": 126,
     "metadata": {},
     "output_type": "execute_result"
    }
   ],
   "source": [
    "pos_sents.head(5)"
   ]
  },
  {
   "cell_type": "markdown",
   "metadata": {},
   "source": [
    "NaIve analysis on affect of sentiment on retweet count "
   ]
  },
  {
   "cell_type": "code",
   "execution_count": 95,
   "metadata": {},
   "outputs": [
    {
     "name": "stdout",
     "output_type": "stream",
     "text": [
      "The average number of retweets for positive tweets is 264.50\n",
      "The average number of retweets for negative tweets is 177.62\n"
     ]
    }
   ],
   "source": [
    "print(\"The average number of retweets for positive tweets is {:.2f}\".format(pos_sents.retweet_count.mean()))\n",
    "print(\"The average number of retweets for negative tweets is {:.2f}\".format(neg_sents.retweet_count.mean()))"
   ]
  },
  {
   "cell_type": "code",
   "execution_count": 96,
   "metadata": {},
   "outputs": [
    {
     "data": {
      "text/plain": [
       "Ttest_indResult(statistic=8.741306658598191, pvalue=2.309210335050145e-18)"
      ]
     },
     "execution_count": 96,
     "metadata": {},
     "output_type": "execute_result"
    }
   ],
   "source": [
    "stats.ttest_ind(pos_sents.retweet_count, neg_sents.retweet_count)"
   ]
  },
  {
   "cell_type": "code",
   "execution_count": null,
   "metadata": {},
   "outputs": [],
   "source": [
    "stats.mannwhitneyu(pos_sents.retweet_count, neg_sents.retweet_count)"
   ]
  },
  {
   "cell_type": "code",
   "execution_count": 141,
   "metadata": {},
   "outputs": [
    {
     "data": {
      "image/png": "[encoded data removed]",
      "text/plain": [
       "<Figure size 720x360 with 1 Axes>"
      ]
     },
     "metadata": {
      "needs_background": "light"
     },
     "output_type": "display_data"
    }
   ],
   "source": [
    "# Distribution of tweets over the sentiment score\n",
    "\n",
    "plt.figure(figsize=(10,5))\n",
    "plt.hist([pos_sents.sent_score, neg_sents.sent_score], bins=10, label=['Positive', 'Negative'])\n",
    "plt.legend(loc = 'upper left')\n",
    "plt.title('Distribution of tweets over the sentiment score')\n",
    "plt.xlabel('Score')\n",
    "plt.ylabel('Number of tweets')\n",
    "plt.show()"
   ]
  },
  {
   "cell_type": "code",
   "execution_count": 170,
   "metadata": {
    "scrolled": true
   },
   "outputs": [
    {
     "data": {
      "text/plain": [
       "<matplotlib.legend.Legend at 0x7fe06948e400>"
      ]
     },
     "execution_count": 170,
     "metadata": {},
     "output_type": "execute_result"
    },
    {
     "data": {
      "image/png": "[encoded data removed]",
      "text/plain": [
       "<Figure size 576x432 with 1 Axes>"
      ]
     },
     "metadata": {
      "needs_background": "light"
     },
     "output_type": "display_data"
    }
   ],
   "source": [
    "# Destribution of retweets in linear scale, considering the tweets with no retweets\n",
    "\n",
    "plt.figure(figsize=(8,6))\n",
    "plt.hist(pos_sents.retweet_count, bins=10000, alpha=0.5, label=\"Positive\")\n",
    "plt.hist(neg_sents.retweet_count, bins=10000, alpha=0.5, label=\"Negative\")\n",
    "\n",
    "plt.xlabel(\"Retweets\", size=14)\n",
    "plt.ylabel(\"Count\", size=14)\n",
    "plt.xlim(0, 2000)\n",
    "plt.title(\"Distribution of Retweets\")\n",
    "plt.legend(loc='upper right')"
   ]
  },
  {
   "cell_type": "markdown",
   "metadata": {},
   "source": [
    "The data seems to follow a power law with an heavy-tailed distribution, in the following graph we plot the data in a log-log scale. However, to do so, we need to remove the data with retweets recont equals to 0."
   ]
  },
  {
   "cell_type": "code",
   "execution_count": 162,
   "metadata": {},
   "outputs": [],
   "source": [
    "# only tweets which have been retweeted\n",
    "\n",
    "pos_retweeted = pos_sents.loc[pos_sents['retweet_count'] > 0]\n",
    "neg_retweeted = neg_sents.loc[neg_sents['retweet_count'] > 0]"
   ]
  },
  {
   "cell_type": "code",
   "execution_count": 167,
   "metadata": {},
   "outputs": [
    {
     "data": {
      "text/plain": [
       "<matplotlib.legend.Legend at 0x7fe0bef98f10>"
      ]
     },
     "execution_count": 167,
     "metadata": {},
     "output_type": "execute_result"
    },
    {
     "data": {
      "image/png": "[encoded data removed]",
      "text/plain": [
       "<Figure size 576x432 with 1 Axes>"
      ]
     },
     "metadata": {
      "needs_background": "light"
     },
     "output_type": "display_data"
    }
   ],
   "source": [
    "# Destribution of retweets in log log scale\n",
    "\n",
    "plt.figure(figsize=(8,6))\n",
    "plt.hist(pos_retweeted.retweet_count.apply(np.log), bins=100, alpha=0.5, label=\"Positive\")\n",
    "plt.hist(neg_retweeted.retweet_count.apply(np.log), bins=100, alpha=0.5, label=\"Negative\")\n",
    "\n",
    "plt.xlabel(\"Retweets Log Scale\", size=14)\n",
    "plt.ylabel(\"Count Log Scale\", size=14)\n",
    "plt.title(\"Distribution of Retweets in log-log scale\")\n",
    "plt.legend(loc='upper right')"
   ]
  },
  {
   "cell_type": "code",
   "execution_count": 181,
   "metadata": {},
   "outputs": [
    {
     "data": {
      "text/plain": [
       "<matplotlib.legend.Legend at 0x7fdff98c3730>"
      ]
     },
     "execution_count": 181,
     "metadata": {},
     "output_type": "execute_result"
    },
    {
     "data": {
      "image/png": "[encoded data removed]",
      "text/plain": [
       "<Figure size 576x432 with 1 Axes>"
      ]
     },
     "metadata": {
      "needs_background": "light"
     },
     "output_type": "display_data"
    }
   ],
   "source": [
    "# Destribution of tweets actually retweeted in linear scale\n",
    "\n",
    "plt.figure(figsize=(8,6))\n",
    "plt.hist(pos_retweeted.retweet_count, bins=10000, alpha=0.5, label=\"Positive\")\n",
    "plt.hist(neg_retweeted.retweet_count, bins=10000, alpha=0.5, label=\"Negative\")\n",
    "\n",
    "plt.xlabel(\"Retweets Linear Scale\", size=14)\n",
    "plt.ylabel(\"Count Linear Scale\", size=14)\n",
    "plt.xlim(0, 2000)\n",
    "plt.title(\"Distribution of Retweets in linear scale\")\n",
    "plt.legend(loc='upper right')"
   ]
  },
  {
   "cell_type": "markdown",
   "metadata": {},
   "source": [
    "The distribution of retweets seems even more skewed than a power law distribution. This means that we must not use statistics such as the mean value because they are highly unstable and misleadinhin this type of distribution."
   ]
  },
  {
   "cell_type": "code",
   "execution_count": null,
   "metadata": {},
   "outputs": [],
   "source": []
  },
  {
   "cell_type": "markdown",
   "metadata": {},
   "source": [
    "## Not sure if the statistical tests above make sense"
   ]
  },
  {
   "cell_type": "code",
   "execution_count": 51,
   "metadata": {},
   "outputs": [
    {
     "data": {
      "text/plain": [
       "count    489319.000000\n",
       "mean        264.496703\n",
       "std        4156.022089\n",
       "min           0.000000\n",
       "25%           0.000000\n",
       "50%           0.000000\n",
       "75%           0.000000\n",
       "max      551788.000000\n",
       "Name: retweet_count, dtype: float64"
      ]
     },
     "execution_count": 51,
     "metadata": {},
     "output_type": "execute_result"
    }
   ],
   "source": [
    "pos_sents['retweet_count'].describe()"
   ]
  },
  {
   "cell_type": "code",
   "execution_count": 52,
   "metadata": {},
   "outputs": [
    {
     "data": {
      "text/plain": [
       "count    213611.000000\n",
       "mean        177.624935\n",
       "std        2959.993708\n",
       "min           0.000000\n",
       "25%           0.000000\n",
       "50%           0.000000\n",
       "75%           0.000000\n",
       "max      426173.000000\n",
       "Name: retweet_count, dtype: float64"
      ]
     },
     "execution_count": 52,
     "metadata": {},
     "output_type": "execute_result"
    }
   ],
   "source": [
    "neg_sents['retweet_count'].describe()"
   ]
  },
  {
   "cell_type": "code",
   "execution_count": 53,
   "metadata": {},
   "outputs": [
    {
     "data": {
      "text/plain": [
       "296296    551788\n",
       "635279    548016\n",
       "911841    473644\n",
       "391055    337006\n",
       "491567    322409\n",
       "712406    309553\n",
       "960803    298331\n",
       "249349    297234\n",
       "121048    284859\n",
       "324354    274359\n",
       "Name: retweet_count, dtype: int64"
      ]
     },
     "execution_count": 53,
     "metadata": {},
     "output_type": "execute_result"
    }
   ],
   "source": [
    "pos_sents.sort_values(by=['retweet_count'], ascending = False)['retweet_count'].head(10)"
   ]
  },
  {
   "cell_type": "code",
   "execution_count": 54,
   "metadata": {},
   "outputs": [
    {
     "data": {
      "text/plain": [
       "516541    426173\n",
       "635441    290667\n",
       "635199    237713\n",
       "282273    226724\n",
       "635294    201765\n",
       "281781    196806\n",
       "120998    181591\n",
       "324272    178398\n",
       "326273    169294\n",
       "424413    167615\n",
       "Name: retweet_count, dtype: int64"
      ]
     },
     "execution_count": 54,
     "metadata": {},
     "output_type": "execute_result"
    }
   ],
   "source": [
    "neg_sents.sort_values(by=['retweet_count'], ascending = False)['retweet_count'].head(10)"
   ]
  },
  {
   "cell_type": "markdown",
   "metadata": {},
   "source": [
    "When looking at simple statistics, we see that positive sentiment tweets have a much larger standard deviation, so there is more likely a significantly larger number of tweets with large retweet counts. Also, looking at the top 10 highest retweeted tweets for positive tweets we find that positive tweets have higher max retween count. So, we need to try and filter the data to avoid effects of these very popular tweets"
   ]
  },
  {
   "cell_type": "code",
   "execution_count": 55,
   "metadata": {},
   "outputs": [],
   "source": [
    "pos_sents_filtered = pos_sents.loc[pos_sents['retweet_count'] < 1000]\n",
    "neg_sents_filtered = neg_sents.loc[neg_sents['retweet_count'] < 1000]"
   ]
  },
  {
   "cell_type": "code",
   "execution_count": 56,
   "metadata": {},
   "outputs": [
    {
     "data": {
      "text/plain": [
       "209205"
      ]
     },
     "execution_count": 56,
     "metadata": {},
     "output_type": "execute_result"
    }
   ],
   "source": [
    "len(neg_sents_filtered)"
   ]
  },
  {
   "cell_type": "code",
   "execution_count": 57,
   "metadata": {},
   "outputs": [
    {
     "name": "stdout",
     "output_type": "stream",
     "text": [
      "The average number of retweets for positive tweets is 12.93\n",
      "The average number of retweets for negative tweets is 14.45\n"
     ]
    }
   ],
   "source": [
    "print(\"The average number of retweets for positive tweets is {:.2f}\".format(pos_sents_filtered.retweet_count.mean()))\n",
    "print(\"The average number of retweets for negative tweets is {:.2f}\".format(neg_sents_filtered.retweet_count.mean()))"
   ]
  },
  {
   "cell_type": "code",
   "execution_count": 58,
   "metadata": {},
   "outputs": [
    {
     "data": {
      "text/plain": [
       "Ttest_indResult(statistic=-7.262363297505009, pvalue=3.8078414762710745e-13)"
      ]
     },
     "execution_count": 58,
     "metadata": {},
     "output_type": "execute_result"
    }
   ],
   "source": [
    "stats.ttest_ind(pos_sents_filtered.retweet_count, neg_sents_filtered.retweet_count)"
   ]
  },
  {
   "cell_type": "code",
   "execution_count": 59,
   "metadata": {},
   "outputs": [
    {
     "data": {
      "text/plain": [
       "MannwhitneyuResult(statistic=49665597919.5, pvalue=4.3473279697410335e-13)"
      ]
     },
     "execution_count": 59,
     "metadata": {},
     "output_type": "execute_result"
    }
   ],
   "source": [
    "stats.mannwhitneyu(pos_sents_filtered.retweet_count, neg_sents_filtered.retweet_count)"
   ]
  },
  {
   "cell_type": "markdown",
   "metadata": {},
   "source": [
    "However, we may find that the tweets with 0 retweets affect the data. Let's look at tweets with at least one retweet"
   ]
  },
  {
   "cell_type": "code",
   "execution_count": 60,
   "metadata": {},
   "outputs": [],
   "source": [
    "pos_sents_filtered = pos_sents.loc[(pos_sents['retweet_count']<1000) & (pos_sents['retweet_count'])>0]\n",
    "neg_sents_filtered = neg_sents.loc[(neg_sents['retweet_count']<1000) & (neg_sents['retweet_count']>0)]"
   ]
  },
  {
   "cell_type": "code",
   "execution_count": 61,
   "metadata": {},
   "outputs": [
    {
     "name": "stdout",
     "output_type": "stream",
     "text": [
      "The average number of retweets for positive tweets is 44.24\n",
      "The average number of retweets for negative tweets is 63.36\n"
     ]
    }
   ],
   "source": [
    "print(\"The average number of retweets for positive tweets is {:.2f}\".format(pos_sents_filtered.retweet_count.mean()))\n",
    "print(\"The average number of retweets for negative tweets is {:.2f}\".format(neg_sents_filtered.retweet_count.mean()))"
   ]
  },
  {
   "cell_type": "code",
   "execution_count": 62,
   "metadata": {},
   "outputs": [
    {
     "data": {
      "text/plain": [
       "Ttest_indResult(statistic=-21.436124562255596, pvalue=9.62177470340132e-102)"
      ]
     },
     "execution_count": 62,
     "metadata": {},
     "output_type": "execute_result"
    }
   ],
   "source": [
    "stats.ttest_ind(pos_sents_filtered.retweet_count, neg_sents_filtered.retweet_count)"
   ]
  },
  {
   "cell_type": "code",
   "execution_count": 63,
   "metadata": {},
   "outputs": [
    {
     "data": {
      "text/plain": [
       "MannwhitneyuResult(statistic=1373773934.0, pvalue=0.0)"
      ]
     },
     "execution_count": 63,
     "metadata": {},
     "output_type": "execute_result"
    }
   ],
   "source": [
    "stats.mannwhitneyu(pos_sents_filtered.retweet_count, neg_sents_filtered.retweet_count)"
   ]
  },
  {
   "cell_type": "code",
   "execution_count": 64,
   "metadata": {},
   "outputs": [
    {
     "data": {
      "image/png": "[encoded data removed]",
      "text/plain": [
       "<Figure size 576x432 with 1 Axes>"
      ]
     },
     "metadata": {
      "needs_background": "light"
     },
     "output_type": "display_data"
    }
   ],
   "source": [
    "plt.figure(figsize=(8,6))\n",
    "\n",
    "plt.hist([pos_sents_filtered.retweet_count, neg_sents_filtered.retweet_count], bins=50, label=['Positive Sentiment', 'Negative Sentiment'])\n",
    "plt.legend(loc = 'upper right')\n",
    "plt.title('Retweet count for positive and negative sentiment tweets')\n",
    "plt.xlabel('Retweet Count')\n",
    "plt.ylabel('Number of Tweets')\n",
    "plt.yscale('log')\n",
    "plt.xlim([0, 1000])\n",
    "plt.show()"
   ]
  },
  {
   "cell_type": "markdown",
   "metadata": {},
   "source": [
    "It looks like the distribution of retweet count is very similar for both positive and negative tweets. However, there is a much larger set of positive tweets. Let's look at set of the same size"
   ]
  },
  {
   "cell_type": "code",
   "execution_count": 65,
   "metadata": {},
   "outputs": [
    {
     "name": "stdout",
     "output_type": "stream",
     "text": [
      "Now we look at 47703 postive tweets and 47703 negative tweets\n"
     ]
    }
   ],
   "source": [
    "pos_same_size = pos_sents_filtered.sample(len(neg_sents_filtered))\n",
    "\n",
    "print(\"Now we look at {} postive tweets and {} negative tweets\".format(len(pos_same_size),len(neg_sents_filtered)))"
   ]
  },
  {
   "cell_type": "code",
   "execution_count": 66,
   "metadata": {},
   "outputs": [
    {
     "data": {
      "image/png": "[encoded data removed]",
      "text/plain": [
       "<Figure size 576x432 with 1 Axes>"
      ]
     },
     "metadata": {
      "needs_background": "light"
     },
     "output_type": "display_data"
    }
   ],
   "source": [
    "plt.figure(figsize=(8,6))\n",
    "\n",
    "plt.hist([pos_same_size.retweet_count, neg_sents_filtered.retweet_count], bins=50, label=['Positive Sentiment', 'Negative Sentiment'])\n",
    "plt.legend(loc = 'upper right')\n",
    "plt.title('Retweet count for positive and negative sentiment tweets')\n",
    "plt.xlabel('Retweet Count')\n",
    "plt.ylabel('Number of Tweets')\n",
    "plt.yscale('log')\n",
    "plt.xlim([0, 1000])\n",
    "plt.show()"
   ]
  },
  {
   "cell_type": "markdown",
   "metadata": {},
   "source": [
    "From this distribution, we start to see that negative tweets tend to perform better in terms of retweet count."
   ]
  },
  {
   "cell_type": "markdown",
   "metadata": {},
   "source": [
    "## A look into retweetability "
   ]
  },
  {
   "cell_type": "code",
   "execution_count": 67,
   "metadata": {},
   "outputs": [
    {
     "name": "stdout",
     "output_type": "stream",
     "text": [
      "23.77% of positive tweets were retweeted and 24.39% of negative tweets were retweeted\n"
     ]
    }
   ],
   "source": [
    "perc_neg_ret = (len(neg_sents.loc[neg_sents['retweet_count']>0])/len(neg_sents))* 100\n",
    "perc_pos_ret = (len(pos_sents.loc[pos_sents['retweet_count']>0])/len(pos_sents))* 100\n",
    "\n",
    "print(\"{:.2f}% of positive tweets were retweeted and {:.2f}% of negative tweets were retweeted\".format(perc_pos_ret,perc_neg_ret))"
   ]
  },
  {
   "cell_type": "code",
   "execution_count": 68,
   "metadata": {},
   "outputs": [
    {
     "data": {
      "text/plain": [
       "user_name\n",
       "  ♥ AaLiYaH ♥       82\n",
       " almer               2\n",
       " angieespino         2\n",
       " niallcumming        4\n",
       " العابرون            7\n",
       "                  ... \n",
       "🕊                 2101\n",
       "🗝                 1661\n",
       "🦇 Trîstãn 🦇          1\n",
       "🦊🐥🐰🐶🐱🐹              29\n",
       "🧍‍♀️              2740\n",
       "Name: clean_tweets, Length: 6167, dtype: int64"
      ]
     },
     "execution_count": 68,
     "metadata": {},
     "output_type": "execute_result"
    }
   ],
   "source": [
    "en_tweets.groupby([\"user_name\"]).count()['clean_tweets']"
   ]
  },
  {
   "cell_type": "code",
   "execution_count": 69,
   "metadata": {},
   "outputs": [
    {
     "data": {
      "text/html": [
       "<div>\n",
       "<style scoped>\n",
       "    .dataframe tbody tr th:only-of-type {\n",
       "        vertical-align: middle;\n",
       "    }\n",
       "\n",
       "    .dataframe tbody tr th {\n",
       "        vertical-align: top;\n",
       "    }\n",
       "\n",
       "    .dataframe thead th {\n",
       "        text-align: right;\n",
       "    }\n",
       "</style>\n",
       "<table border=\"1\" class=\"dataframe\">\n",
       "  <thead>\n",
       "    <tr style=\"text-align: right;\">\n",
       "      <th></th>\n",
       "      <th>total_tweets</th>\n",
       "      <th>pos_tweets</th>\n",
       "      <th>neg_tweets</th>\n",
       "      <th>num_followers</th>\n",
       "      <th>num_friends</th>\n",
       "    </tr>\n",
       "    <tr>\n",
       "      <th>user_name</th>\n",
       "      <th></th>\n",
       "      <th></th>\n",
       "      <th></th>\n",
       "      <th></th>\n",
       "      <th></th>\n",
       "    </tr>\n",
       "  </thead>\n",
       "  <tbody>\n",
       "    <tr>\n",
       "      <th>♥ AaLiYaH ♥</th>\n",
       "      <td>82</td>\n",
       "      <td>43</td>\n",
       "      <td>22</td>\n",
       "      <td>4</td>\n",
       "      <td>70</td>\n",
       "    </tr>\n",
       "    <tr>\n",
       "      <th>almer</th>\n",
       "      <td>2</td>\n",
       "      <td>1</td>\n",
       "      <td>0</td>\n",
       "      <td>3</td>\n",
       "      <td>26</td>\n",
       "    </tr>\n",
       "    <tr>\n",
       "      <th>angieespino</th>\n",
       "      <td>2</td>\n",
       "      <td>2</td>\n",
       "      <td>0</td>\n",
       "      <td>0</td>\n",
       "      <td>2</td>\n",
       "    </tr>\n",
       "  </tbody>\n",
       "</table>\n",
       "</div>"
      ],
      "text/plain": [
       "                total_tweets  pos_tweets  neg_tweets  num_followers  \\\n",
       "user_name                                                             \n",
       "  ♥ AaLiYaH ♥             82          43          22              4   \n",
       " almer                     2           1           0              3   \n",
       " angieespino               2           2           0              0   \n",
       "\n",
       "                num_friends  \n",
       "user_name                    \n",
       "  ♥ AaLiYaH ♥            70  \n",
       " almer                   26  \n",
       " angieespino              2  "
      ]
     },
     "execution_count": 69,
     "metadata": {},
     "output_type": "execute_result"
    }
   ],
   "source": [
    "sent_follow = en_tweets.groupby([\"user_name\"]).apply(lambda x:  pd.Series({\n",
    "        'total_tweets': x['clean_tweets'].count(),\n",
    "        'pos_tweets': len(x.loc[x['sentiment'] == 'pos']),\n",
    "        'neg_tweets': len(x.loc[x['sentiment'] == 'neg']),\n",
    "        'num_followers': x['user_followers_count'].max(),\n",
    "        'num_friends': x['user_friends_count'].max()\n",
    "    }))\n",
    "\n",
    "sent_follow.head(3)"
   ]
  },
  {
   "cell_type": "code",
   "execution_count": 70,
   "metadata": {},
   "outputs": [
    {
     "name": "stdout",
     "output_type": "stream",
     "text": [
      "Before filtering we have 6167 users to compare\n"
     ]
    }
   ],
   "source": [
    "print(\"Before filtering we have {} users to compare\".format(len(sent_follow)))"
   ]
  },
  {
   "cell_type": "code",
   "execution_count": 71,
   "metadata": {},
   "outputs": [],
   "source": [
    "sent_follow_filtered = sent_follow.loc[(sent_follow['total_tweets'] > 20) &\n",
    "                                      (sent_follow['pos_tweets'] > 1) &\n",
    "                                      (sent_follow['neg_tweets'] >1)]"
   ]
  },
  {
   "cell_type": "code",
   "execution_count": 72,
   "metadata": {},
   "outputs": [
    {
     "name": "stdout",
     "output_type": "stream",
     "text": [
      "After filtering we have 1838 users to compare\n"
     ]
    }
   ],
   "source": [
    "print(\"After filtering we have {} users to compare\".format(len(sent_follow_filtered)))"
   ]
  },
  {
   "cell_type": "code",
   "execution_count": 73,
   "metadata": {},
   "outputs": [],
   "source": [
    "sent_follow_filtered['pos_perc'] = (sent_follow_filtered['pos_tweets']/sent_follow_filtered['total_tweets'])*100\n",
    "sent_follow_filtered['neg_perc'] = (sent_follow_filtered['neg_tweets']/sent_follow_filtered['total_tweets'])*100"
   ]
  },
  {
   "cell_type": "code",
   "execution_count": 74,
   "metadata": {},
   "outputs": [
    {
     "data": {
      "text/html": [
       "<div>\n",
       "<style scoped>\n",
       "    .dataframe tbody tr th:only-of-type {\n",
       "        vertical-align: middle;\n",
       "    }\n",
       "\n",
       "    .dataframe tbody tr th {\n",
       "        vertical-align: top;\n",
       "    }\n",
       "\n",
       "    .dataframe thead th {\n",
       "        text-align: right;\n",
       "    }\n",
       "</style>\n",
       "<table border=\"1\" class=\"dataframe\">\n",
       "  <thead>\n",
       "    <tr style=\"text-align: right;\">\n",
       "      <th></th>\n",
       "      <th>total_tweets</th>\n",
       "      <th>pos_tweets</th>\n",
       "      <th>neg_tweets</th>\n",
       "      <th>num_followers</th>\n",
       "      <th>num_friends</th>\n",
       "      <th>pos_perc</th>\n",
       "      <th>neg_perc</th>\n",
       "    </tr>\n",
       "    <tr>\n",
       "      <th>user_name</th>\n",
       "      <th></th>\n",
       "      <th></th>\n",
       "      <th></th>\n",
       "      <th></th>\n",
       "      <th></th>\n",
       "      <th></th>\n",
       "      <th></th>\n",
       "    </tr>\n",
       "  </thead>\n",
       "  <tbody>\n",
       "    <tr>\n",
       "      <th>♥ AaLiYaH ♥</th>\n",
       "      <td>82</td>\n",
       "      <td>43</td>\n",
       "      <td>22</td>\n",
       "      <td>4</td>\n",
       "      <td>70</td>\n",
       "      <td>52.439024</td>\n",
       "      <td>26.829268</td>\n",
       "    </tr>\n",
       "    <tr>\n",
       "      <th>!KING!</th>\n",
       "      <td>304</td>\n",
       "      <td>92</td>\n",
       "      <td>69</td>\n",
       "      <td>48</td>\n",
       "      <td>234</td>\n",
       "      <td>30.263158</td>\n",
       "      <td>22.697368</td>\n",
       "    </tr>\n",
       "    <tr>\n",
       "      <th>#EndSARS</th>\n",
       "      <td>181</td>\n",
       "      <td>97</td>\n",
       "      <td>43</td>\n",
       "      <td>134</td>\n",
       "      <td>158</td>\n",
       "      <td>53.591160</td>\n",
       "      <td>23.756906</td>\n",
       "    </tr>\n",
       "  </tbody>\n",
       "</table>\n",
       "</div>"
      ],
      "text/plain": [
       "                total_tweets  pos_tweets  neg_tweets  num_followers  \\\n",
       "user_name                                                             \n",
       "  ♥ AaLiYaH ♥             82          43          22              4   \n",
       "!KING!                   304          92          69             48   \n",
       "#EndSARS                 181          97          43            134   \n",
       "\n",
       "                num_friends   pos_perc   neg_perc  \n",
       "user_name                                          \n",
       "  ♥ AaLiYaH ♥            70  52.439024  26.829268  \n",
       "!KING!                  234  30.263158  22.697368  \n",
       "#EndSARS                158  53.591160  23.756906  "
      ]
     },
     "execution_count": 74,
     "metadata": {},
     "output_type": "execute_result"
    }
   ],
   "source": [
    "sent_follow_filtered.head(3)"
   ]
  },
  {
   "cell_type": "code",
   "execution_count": 75,
   "metadata": {},
   "outputs": [],
   "source": [
    "kk = sent_follow_filtered.groupby('num_followers').agg({\"neg_perc\":\"mean\", \"pos_perc\":\"mean\"})\n"
   ]
  },
  {
   "cell_type": "code",
   "execution_count": 76,
   "metadata": {},
   "outputs": [
    {
     "data": {
      "image/png": "[encoded data removed]",
      "text/plain": [
       "<Figure size 432x288 with 1 Axes>"
      ]
     },
     "metadata": {
      "needs_background": "light"
     },
     "output_type": "display_data"
    }
   ],
   "source": [
    "plt.plot(kk.index,kk.neg_perc)\n",
    "plt.plot(kk.index,kk.pos_perc)\n",
    "plt.xscale('log')"
   ]
  },
  {
   "cell_type": "code",
   "execution_count": 77,
   "metadata": {},
   "outputs": [
    {
     "data": {
      "text/plain": [
       "(0.0, 5000.0)"
      ]
     },
     "execution_count": 77,
     "metadata": {},
     "output_type": "execute_result"
    },
    {
     "data": {
      "image/png": "[encoded data removed]",
      "text/plain": [
       "<Figure size 432x432 with 3 Axes>"
      ]
     },
     "metadata": {
      "needs_background": "light"
     },
     "output_type": "display_data"
    }
   ],
   "source": [
    "\n",
    "sns.jointplot(sent_follow_filtered['neg_perc'], sent_follow_filtered['num_followers'], kind=\"hex\")\n",
    "plt.ylim(0,5000)\n",
    "\n"
   ]
  },
  {
   "cell_type": "code",
   "execution_count": 78,
   "metadata": {},
   "outputs": [
    {
     "data": {
      "text/plain": [
       "(0.0, 2500.0)"
      ]
     },
     "execution_count": 78,
     "metadata": {},
     "output_type": "execute_result"
    },
    {
     "data": {
      "image/png": "[encoded data removed]",
      "text/plain": [
       "<Figure size 432x432 with 3 Axes>"
      ]
     },
     "metadata": {
      "needs_background": "light"
     },
     "output_type": "display_data"
    }
   ],
   "source": [
    "sns.jointplot(sent_follow_filtered['neg_perc'], sent_follow_filtered['num_friends'], kind=\"hex\")\n",
    "plt.ylim(0,2500)\n"
   ]
  },
  {
   "cell_type": "code",
   "execution_count": 79,
   "metadata": {},
   "outputs": [
    {
     "data": {
      "text/plain": [
       "(0.0, 5000.0)"
      ]
     },
     "execution_count": 79,
     "metadata": {},
     "output_type": "execute_result"
    },
    {
     "data": {
      "image/png": "[encoded data removed]",
      "text/plain": [
       "<Figure size 432x432 with 3 Axes>"
      ]
     },
     "metadata": {
      "needs_background": "light"
     },
     "output_type": "display_data"
    }
   ],
   "source": [
    "sns.jointplot(sent_follow_filtered['pos_perc'], sent_follow_filtered['num_followers'], kind=\"hex\")\n",
    "plt.ylim(0,5000)"
   ]
  },
  {
   "cell_type": "code",
   "execution_count": 80,
   "metadata": {},
   "outputs": [
    {
     "data": {
      "text/plain": [
       "(0.0, 2500.0)"
      ]
     },
     "execution_count": 80,
     "metadata": {},
     "output_type": "execute_result"
    },
    {
     "data": {
      "image/png": "[encoded data removed]",
      "text/plain": [
       "<Figure size 432x432 with 3 Axes>"
      ]
     },
     "metadata": {
      "needs_background": "light"
     },
     "output_type": "display_data"
    }
   ],
   "source": [
    "sns.jointplot(sent_follow_filtered['pos_perc'], sent_follow_filtered['num_friends'], kind=\"hex\")\n",
    "plt.ylim(0,2500)"
   ]
  },
  {
   "cell_type": "markdown",
   "metadata": {},
   "source": [
    "# Bert SA-pipeline"
   ]
  },
  {
   "cell_type": "code",
   "execution_count": 81,
   "metadata": {},
   "outputs": [],
   "source": [
    "sa_pipeline = pipeline('sentiment-analysis')"
   ]
  },
  {
   "cell_type": "code",
   "execution_count": 82,
   "metadata": {},
   "outputs": [
    {
     "name": "stdout",
     "output_type": "stream",
     "text": [
      "Will try to live for a week offline... wish me luck! :D\n",
      "[{'label': 'POSITIVE', 'score': 0.8664984107017517}]\n",
      "\n",
      "Boa tarde..\n",
      " (@shekinahbiscuit live on http://t.co/nU1N0NJJIJ)\n",
      "[{'label': 'NEGATIVE', 'score': 0.9955582022666931}]\n",
      "\n",
      "Phew... Valentine's day will be finally over in few hours\n",
      "[{'label': 'NEGATIVE', 'score': 0.9857021570205688}]\n",
      "\n",
      "up\n",
      " (@deiabiscuit32 live on http://t.co/J8uYVfLR)\n",
      "[{'label': 'NEGATIVE', 'score': 0.993733823299408}]\n",
      "\n",
      "simmm\n",
      " (@deiabiscuit32 live on http://t.co/J8uYVfLR)\n",
      "[{'label': 'NEGATIVE', 'score': 0.9974138140678406}]\n",
      "\n",
      "ski everybody! (rock)\n",
      "[{'label': 'POSITIVE', 'score': 0.9946964383125305}]\n",
      "\n",
      "Wonders why there are so many ugly fat women on maury with sexy whores of men... How did that happen?!\n",
      "[{'label': 'NEGATIVE', 'score': 0.9961680769920349}]\n",
      "\n",
      "A new iOS version of #SmurfLife has arrived with new trainers &amp; quests! Update now to join the fun! @BeelineGames http://t.co/H2ugkjbBwZ\n",
      "[{'label': 'POSITIVE', 'score': 0.9560735821723938}]\n",
      "\n",
      "Have you been to the mountain? Reach new heights on the #SmurfVillage mountain! http://t.co/d9BVrqiU82 @BeelineGames\n",
      "[{'label': 'NEGATIVE', 'score': 0.8024986982345581}]\n",
      "\n",
      "Plant &amp; harvest all your space crops at once with Farmer Smurfs Moon Buggy tractor, coming soon to #SmurfsVillage! http://t.co/wPV94GMKx1\n",
      "[{'label': 'NEGATIVE', 'score': 0.9945492148399353}]\n",
      "\n"
     ]
    }
   ],
   "source": [
    "for i in range(10):\n",
    "    text = en_tweets['text'].iloc[i]\n",
    "    print(text)\n",
    "    prediction = sa_pipeline(text)\n",
    "    print(prediction)\n",
    "    print()"
   ]
  },
  {
   "cell_type": "markdown",
   "metadata": {},
   "source": [
    "----------------\n",
    "# Extra code\n",
    "\n",
    "-------------"
   ]
  },
  {
   "cell_type": "markdown",
   "metadata": {},
   "source": [
    "## Results with the raw tweets"
   ]
  },
  {
   "cell_type": "code",
   "execution_count": 83,
   "metadata": {},
   "outputs": [],
   "source": [
    "#Initializing the Rule-based sentiment analyzer \n",
    "analyzer = SentimentIntensityAnalyzer()"
   ]
  },
  {
   "cell_type": "code",
   "execution_count": 84,
   "metadata": {},
   "outputs": [],
   "source": [
    "en_tweets['sent_score'] = [analyzer.polarity_scores(x)['compound'] for x in en_tweets['text']]"
   ]
  },
  {
   "cell_type": "code",
   "execution_count": 85,
   "metadata": {},
   "outputs": [],
   "source": [
    "def sentiment(scores):\n",
    "    sents = []\n",
    "    for score in scores:\n",
    "        if score >=0.05:\n",
    "            sent = 'pos'\n",
    "        elif score <=-0.05:\n",
    "            sent = 'neg'\n",
    "        elif abs(score) <0.05:\n",
    "            sent = 'neu'\n",
    "        sents.append(sent)\n",
    "    return sents"
   ]
  },
  {
   "cell_type": "code",
   "execution_count": 86,
   "metadata": {},
   "outputs": [],
   "source": [
    "en_tweets['sentiment'] = sentiment(en_tweets.sent_score)"
   ]
  },
  {
   "cell_type": "code",
   "execution_count": 87,
   "metadata": {},
   "outputs": [],
   "source": [
    "grouped_sents = en_tweets.groupby(by='sentiment')"
   ]
  },
  {
   "cell_type": "code",
   "execution_count": 88,
   "metadata": {},
   "outputs": [
    {
     "name": "stdout",
     "output_type": "stream",
     "text": [
      "Number of positive sentences: 485976\n",
      "Number of negative sentences: 210152\n",
      "Number of neutral sentences: 358491\n"
     ]
    }
   ],
   "source": [
    "print('Number of positive sentences:',sum(np.array(en_tweets['sent_score'])>=0.05))\n",
    "print('Number of negative sentences:',sum(np.array(en_tweets['sent_score'])<=-0.05))\n",
    "print('Number of neutral sentences:',sum(np.abs(np.array(en_tweets['sent_score']))<0.05))"
   ]
  },
  {
   "cell_type": "code",
   "execution_count": 89,
   "metadata": {},
   "outputs": [
    {
     "data": {
      "image/png": "[encoded data removed]",
      "text/plain": [
       "<Figure size 432x432 with 1 Axes>"
      ]
     },
     "metadata": {
      "needs_background": "light"
     },
     "output_type": "display_data"
    }
   ],
   "source": [
    "plt.figure(figsize=(6,6))\n",
    "plt.bar(grouped_sents.size().index, grouped_sents.size().values, width=0.8)\n",
    "plt.xlabel('Sentiment')\n",
    "plt.ylabel('Number of Tweets')\n",
    "plt.show()"
   ]
  },
  {
   "cell_type": "code",
   "execution_count": null,
   "metadata": {},
   "outputs": [],
   "source": []
  }
 ],
 "metadata": {
  "kernelspec": {
   "display_name": "Python 3",
   "language": "python",
   "name": "python3"
  },
  "language_info": {
   "codemirror_mode": {
    "name": "ipython",
    "version": 3
   },
   "file_extension": ".py",
   "mimetype": "text/x-python",
   "name": "python",
   "nbconvert_exporter": "python",
   "pygments_lexer": "ipython3",
   "version": "3.8.5"
  }
 },
 "nbformat": 4,
 "nbformat_minor": 4
}
