{
 "cells": [
  {
   "cell_type": "markdown",
   "metadata": {},
   "source": [
    "# Creative Extension Analysis\n",
    "\n",
    "---\n",
    "\n",
    "**** Explain how we get the dataset"
   ]
  },
  {
   "cell_type": "code",
   "execution_count": 1,
   "metadata": {},
   "outputs": [],
   "source": [
    "# Importing the libraries\n",
    "import pandas as pd\n",
    "import numpy as np\n",
    "import matplotlib.pyplot as plt\n",
    "import seaborn as sns\n",
    "\n",
    "# Hiding the warnings\n",
    "import warnings; warnings.simplefilter('ignore') # can we add this one to not see the warnings every time?\n",
    "\n",
    "# Set random seed for consistency \n",
    "import random\n",
    "from numpy.random import seed as random_seed\n",
    "from numpy.random import shuffle as random_shuffle\n",
    "seed = 42\n",
    "random.seed(seed)\n",
    "np.random.seed(seed)\n",
    "\n",
    "# Vader \n",
    "import vaderSentiment\n",
    "from vaderSentiment.vaderSentiment import SentimentIntensityAnalyzer\n",
    "\n",
    "#Bert sa-pipeline\n",
    "from transformers import pipeline\n",
    "\n",
    "from scipy import stats\n"
   ]
  },
  {
   "cell_type": "markdown",
   "metadata": {},
   "source": [
    "## Data preprocessing \n",
    "\n",
    "---"
   ]
  },
  {
   "cell_type": "code",
   "execution_count": 2,
   "metadata": {},
   "outputs": [
    {
     "data": {
      "text/html": [
       "<div>\n",
       "<style scoped>\n",
       "    .dataframe tbody tr th:only-of-type {\n",
       "        vertical-align: middle;\n",
       "    }\n",
       "\n",
       "    .dataframe tbody tr th {\n",
       "        vertical-align: top;\n",
       "    }\n",
       "\n",
       "    .dataframe thead th {\n",
       "        text-align: right;\n",
       "    }\n",
       "</style>\n",
       "<table border=\"1\" class=\"dataframe\">\n",
       "  <thead>\n",
       "    <tr style=\"text-align: right;\">\n",
       "      <th></th>\n",
       "      <th>coordinates</th>\n",
       "      <th>created_at</th>\n",
       "      <th>hashtags</th>\n",
       "      <th>media</th>\n",
       "      <th>urls</th>\n",
       "      <th>favorite_count</th>\n",
       "      <th>id</th>\n",
       "      <th>in_reply_to_screen_name</th>\n",
       "      <th>in_reply_to_status_id</th>\n",
       "      <th>in_reply_to_user_id</th>\n",
       "      <th>...</th>\n",
       "      <th>user_followers_count</th>\n",
       "      <th>user_friends_count</th>\n",
       "      <th>user_listed_count</th>\n",
       "      <th>user_location</th>\n",
       "      <th>user_name</th>\n",
       "      <th>user_screen_name.1</th>\n",
       "      <th>user_statuses_count</th>\n",
       "      <th>user_time_zone</th>\n",
       "      <th>user_urls</th>\n",
       "      <th>user_verified</th>\n",
       "    </tr>\n",
       "  </thead>\n",
       "  <tbody>\n",
       "    <tr>\n",
       "      <th>0</th>\n",
       "      <td>NaN</td>\n",
       "      <td>Sun Feb 14 23:29:33 +0000 2010</td>\n",
       "      <td>NaN</td>\n",
       "      <td>NaN</td>\n",
       "      <td>NaN</td>\n",
       "      <td>0</td>\n",
       "      <td>9116606357</td>\n",
       "      <td>NaN</td>\n",
       "      <td>NaN</td>\n",
       "      <td>NaN</td>\n",
       "      <td>...</td>\n",
       "      <td>29</td>\n",
       "      <td>17</td>\n",
       "      <td>0</td>\n",
       "      <td>Sofia, Bulgaria</td>\n",
       "      <td>Ina Gerdjikova</td>\n",
       "      <td>InaGerdjikova</td>\n",
       "      <td>6</td>\n",
       "      <td>NaN</td>\n",
       "      <td>http://kutiazamisli.blogspot.com/</td>\n",
       "      <td>False</td>\n",
       "    </tr>\n",
       "    <tr>\n",
       "      <th>1</th>\n",
       "      <td>NaN</td>\n",
       "      <td>Fri Sep 24 20:40:25 +0000 2010</td>\n",
       "      <td>NaN</td>\n",
       "      <td>NaN</td>\n",
       "      <td>NaN</td>\n",
       "      <td>0</td>\n",
       "      <td>25437022568</td>\n",
       "      <td>NaN</td>\n",
       "      <td>NaN</td>\n",
       "      <td>NaN</td>\n",
       "      <td>...</td>\n",
       "      <td>12</td>\n",
       "      <td>9</td>\n",
       "      <td>0</td>\n",
       "      <td>NaN</td>\n",
       "      <td>Ana Paula Ribeiro</td>\n",
       "      <td>anadadal</td>\n",
       "      <td>7</td>\n",
       "      <td>NaN</td>\n",
       "      <td>NaN</td>\n",
       "      <td>False</td>\n",
       "    </tr>\n",
       "    <tr>\n",
       "      <th>2</th>\n",
       "      <td>NaN</td>\n",
       "      <td>Tue Jun 14 07:54:35 +0000 2011</td>\n",
       "      <td>NaN</td>\n",
       "      <td>NaN</td>\n",
       "      <td>http://kutiazamisli.blogspot.com/2011/06/blog-...</td>\n",
       "      <td>0</td>\n",
       "      <td>80543642816757761</td>\n",
       "      <td>NaN</td>\n",
       "      <td>NaN</td>\n",
       "      <td>NaN</td>\n",
       "      <td>...</td>\n",
       "      <td>29</td>\n",
       "      <td>17</td>\n",
       "      <td>0</td>\n",
       "      <td>Sofia, Bulgaria</td>\n",
       "      <td>Ina Gerdjikova</td>\n",
       "      <td>InaGerdjikova</td>\n",
       "      <td>6</td>\n",
       "      <td>NaN</td>\n",
       "      <td>http://kutiazamisli.blogspot.com/</td>\n",
       "      <td>False</td>\n",
       "    </tr>\n",
       "    <tr>\n",
       "      <th>3</th>\n",
       "      <td>NaN</td>\n",
       "      <td>Tue Aug 12 17:51:37 +0000 2014</td>\n",
       "      <td>NaN</td>\n",
       "      <td>NaN</td>\n",
       "      <td>http://twitcam.livestream.com/g7hpe</td>\n",
       "      <td>0</td>\n",
       "      <td>499251874256920577</td>\n",
       "      <td>NaN</td>\n",
       "      <td>NaN</td>\n",
       "      <td>NaN</td>\n",
       "      <td>...</td>\n",
       "      <td>12</td>\n",
       "      <td>9</td>\n",
       "      <td>0</td>\n",
       "      <td>NaN</td>\n",
       "      <td>Ana Paula Ribeiro</td>\n",
       "      <td>anadadal</td>\n",
       "      <td>7</td>\n",
       "      <td>NaN</td>\n",
       "      <td>NaN</td>\n",
       "      <td>False</td>\n",
       "    </tr>\n",
       "    <tr>\n",
       "      <th>4</th>\n",
       "      <td>NaN</td>\n",
       "      <td>Fri Oct 25 11:38:21 +0000 2013</td>\n",
       "      <td>SmurfsVillage</td>\n",
       "      <td>NaN</td>\n",
       "      <td>http://bit.ly/Smurf47</td>\n",
       "      <td>0</td>\n",
       "      <td>393703073228808192</td>\n",
       "      <td>NaN</td>\n",
       "      <td>NaN</td>\n",
       "      <td>NaN</td>\n",
       "      <td>...</td>\n",
       "      <td>6</td>\n",
       "      <td>17</td>\n",
       "      <td>0</td>\n",
       "      <td>Land of the happily single</td>\n",
       "      <td>sheena c wallace</td>\n",
       "      <td>sheasofly</td>\n",
       "      <td>268</td>\n",
       "      <td>NaN</td>\n",
       "      <td>NaN</td>\n",
       "      <td>False</td>\n",
       "    </tr>\n",
       "  </tbody>\n",
       "</table>\n",
       "<p>5 rows × 34 columns</p>\n",
       "</div>"
      ],
      "text/plain": [
       "  coordinates                      created_at       hashtags media  \\\n",
       "0         NaN  Sun Feb 14 23:29:33 +0000 2010            NaN   NaN   \n",
       "1         NaN  Fri Sep 24 20:40:25 +0000 2010            NaN   NaN   \n",
       "2         NaN  Tue Jun 14 07:54:35 +0000 2011            NaN   NaN   \n",
       "3         NaN  Tue Aug 12 17:51:37 +0000 2014            NaN   NaN   \n",
       "4         NaN  Fri Oct 25 11:38:21 +0000 2013  SmurfsVillage   NaN   \n",
       "\n",
       "                                                urls  favorite_count  \\\n",
       "0                                                NaN               0   \n",
       "1                                                NaN               0   \n",
       "2  http://kutiazamisli.blogspot.com/2011/06/blog-...               0   \n",
       "3                http://twitcam.livestream.com/g7hpe               0   \n",
       "4                              http://bit.ly/Smurf47               0   \n",
       "\n",
       "                   id in_reply_to_screen_name  in_reply_to_status_id  \\\n",
       "0          9116606357                     NaN                    NaN   \n",
       "1         25437022568                     NaN                    NaN   \n",
       "2   80543642816757761                     NaN                    NaN   \n",
       "3  499251874256920577                     NaN                    NaN   \n",
       "4  393703073228808192                     NaN                    NaN   \n",
       "\n",
       "   in_reply_to_user_id  ... user_followers_count user_friends_count  \\\n",
       "0                  NaN  ...                   29                 17   \n",
       "1                  NaN  ...                   12                  9   \n",
       "2                  NaN  ...                   29                 17   \n",
       "3                  NaN  ...                   12                  9   \n",
       "4                  NaN  ...                    6                 17   \n",
       "\n",
       "  user_listed_count               user_location          user_name  \\\n",
       "0                 0             Sofia, Bulgaria     Ina Gerdjikova   \n",
       "1                 0                         NaN  Ana Paula Ribeiro   \n",
       "2                 0             Sofia, Bulgaria     Ina Gerdjikova   \n",
       "3                 0                         NaN  Ana Paula Ribeiro   \n",
       "4                 0  Land of the happily single   sheena c wallace   \n",
       "\n",
       "  user_screen_name.1 user_statuses_count user_time_zone  \\\n",
       "0      InaGerdjikova                   6            NaN   \n",
       "1           anadadal                   7            NaN   \n",
       "2      InaGerdjikova                   6            NaN   \n",
       "3           anadadal                   7            NaN   \n",
       "4          sheasofly                 268            NaN   \n",
       "\n",
       "                           user_urls user_verified  \n",
       "0  http://kutiazamisli.blogspot.com/         False  \n",
       "1                                NaN         False  \n",
       "2  http://kutiazamisli.blogspot.com/         False  \n",
       "3                                NaN         False  \n",
       "4                                NaN         False  \n",
       "\n",
       "[5 rows x 34 columns]"
      ]
     },
     "execution_count": 2,
     "metadata": {},
     "output_type": "execute_result"
    }
   ],
   "source": [
    "# Loading the dataset\n",
    "\n",
    "tweets = pd.read_csv('./Data/tweets',low_memory=False)\n",
    "tweets.head()"
   ]
  },
  {
   "cell_type": "code",
   "execution_count": 3,
   "metadata": {},
   "outputs": [
    {
     "name": "stdout",
     "output_type": "stream",
     "text": [
      "In total there are 1609389 tweets.\n"
     ]
    }
   ],
   "source": [
    "# Exploring the dataset\n",
    "\n",
    "print(f\"In total there are {len(tweets)} tweets.\")"
   ]
  },
  {
   "cell_type": "code",
   "execution_count": 4,
   "metadata": {},
   "outputs": [
    {
     "data": {
      "text/plain": [
       "Index(['coordinates', 'created_at', 'hashtags', 'media', 'urls',\n",
       "       'favorite_count', 'id', 'in_reply_to_screen_name',\n",
       "       'in_reply_to_status_id', 'in_reply_to_user_id', 'lang', 'place',\n",
       "       'possibly_sensitive', 'retweet_count', 'retweet_id',\n",
       "       'retweet_screen_name', 'source', 'text', 'tweet_url', 'user_created_at',\n",
       "       'user_screen_name', 'user_default_profile_image', 'user_description',\n",
       "       'user_favourites_count', 'user_followers_count', 'user_friends_count',\n",
       "       'user_listed_count', 'user_location', 'user_name', 'user_screen_name.1',\n",
       "       'user_statuses_count', 'user_time_zone', 'user_urls', 'user_verified'],\n",
       "      dtype='object')"
      ]
     },
     "execution_count": 4,
     "metadata": {},
     "output_type": "execute_result"
    }
   ],
   "source": [
    "tweets.columns"
   ]
  },
  {
   "cell_type": "markdown",
   "metadata": {},
   "source": [
    "> For this analysis we are only concerned with english tweets, so we need to filter the data using the language information"
   ]
  },
  {
   "cell_type": "code",
   "execution_count": 5,
   "metadata": {},
   "outputs": [
    {
     "name": "stdout",
     "output_type": "stream",
     "text": [
      "In total there are 1093122 english tweets.\n"
     ]
    }
   ],
   "source": [
    "# Selecting only english tweets\n",
    "\n",
    "en_tweets = tweets.loc[tweets['lang']=='en']\n",
    "print(f\"In total there are {len(en_tweets)} english tweets.\")"
   ]
  },
  {
   "cell_type": "markdown",
   "metadata": {},
   "source": [
    "> We also want to drop duplicate tweets. The reason for this is because if a tweet is repeated many times, then it is most likely due to a bot account. With this analysis we are concern with the sentiment of real users, so data from bot accounts could disrupt the results"
   ]
  },
  {
   "cell_type": "code",
   "execution_count": 6,
   "metadata": {},
   "outputs": [
    {
     "data": {
      "text/plain": [
       "text\n",
       "IF U HAVE A FACEBOOK ACCOUNT,PLZ TELL ME UR ACCOUNTNAME&lt;333 U U TELL ME IT WHEN I TELL U MINE:)    2738\n",
       "Here is a neat little package to create banners  http://perfecttrafficstorm.com/links/19768            171\n",
       "Check this Out  http://perfecttrafficstorm.com/links/19778                                             170\n",
       "Grab this package of articles    http://perfecttrafficstorm.com/links/19769                            169\n",
       "Check out the PLR CHEATER http://perfecttrafficstorm.com/links/19773                                   169\n",
       "dtype: int64"
      ]
     },
     "execution_count": 6,
     "metadata": {},
     "output_type": "execute_result"
    }
   ],
   "source": [
    "# Demonstrating examples of duplicate tweets\n",
    "en_tweets.value_counts(subset = 'text', sort = True)[0:5]\n"
   ]
  },
  {
   "cell_type": "code",
   "execution_count": 7,
   "metadata": {},
   "outputs": [
    {
     "name": "stdout",
     "output_type": "stream",
     "text": [
      "After dropping the duplicates, there are 1054619 english tweets.\n"
     ]
    }
   ],
   "source": [
    "# Dropping all duplicates tweets\n",
    "en_tweets.drop_duplicates(subset=['text'], keep = False, inplace = True)\n",
    "print(f\"After dropping the duplicates, there are {len(en_tweets)} english tweets.\")\n"
   ]
  },
  {
   "cell_type": "code",
   "execution_count": 8,
   "metadata": {},
   "outputs": [
    {
     "name": "stdout",
     "output_type": "stream",
     "text": [
      "There are a total of 6167 users which posted 1054619 english tweets.\n"
     ]
    },
    {
     "data": {
      "text/plain": [
       "user_name\n",
       "michelle              3906\n",
       "Austin Health Jobs    3197\n",
       "Mark Whittington      3189\n",
       "Games For Pro         3188\n",
       "BELIVE ADULT          3162\n",
       "dtype: int64"
      ]
     },
     "execution_count": 8,
     "metadata": {},
     "output_type": "execute_result"
    }
   ],
   "source": [
    "# Checking how many users we have \n",
    "usernames = en_tweets.value_counts(subset = 'user_name', sort = True)\n",
    "print(f\"There are a total of {len(usernames)} users which posted {len(en_tweets)} english tweets.\")\n",
    "usernames.head(5)\n"
   ]
  },
  {
   "cell_type": "code",
   "execution_count": 9,
   "metadata": {},
   "outputs": [
    {
     "name": "stdout",
     "output_type": "stream",
     "text": [
      "Will try to live for a week offline... wish me luck! :D\n",
      "Boa tarde..\n",
      " (@shekinahbiscuit live on http://t.co/nU1N0NJJIJ)\n"
     ]
    },
    {
     "data": {
      "text/plain": [
       "0     Will try to live for a week offline... wish me...\n",
       "3     Boa tarde..\\n (@shekinahbiscuit live on http:/...\n",
       "8     Phew... Valentine's day will be finally over i...\n",
       "9     up\\n (@deiabiscuit32 live on http://t.co/J8uYV...\n",
       "11    simmm\\n (@deiabiscuit32 live on http://t.co/J8...\n",
       "Name: text, dtype: object"
      ]
     },
     "execution_count": 9,
     "metadata": {},
     "output_type": "execute_result"
    }
   ],
   "source": [
    "# Giving a look to some tweet texts\n",
    "# it is not printing all of it\n",
    "\n",
    "print(en_tweets.text.iloc[0])\n",
    "print(en_tweets.text.iloc[1])\n",
    "\n",
    "en_tweets.text.head(5)"
   ]
  },
  {
   "cell_type": "code",
   "execution_count": 10,
   "metadata": {},
   "outputs": [
    {
     "data": {
      "text/plain": [
       "str"
      ]
     },
     "execution_count": 10,
     "metadata": {},
     "output_type": "execute_result"
    }
   ],
   "source": [
    "# The tweets texts are in string format\n",
    "type(en_tweets.text.iloc[0])"
   ]
  },
  {
   "cell_type": "markdown",
   "metadata": {},
   "source": [
    "> Before going on with the sentiment analysis task, there is the need to preprocess the data set. Indeed, from the previous tweets texts we can see that there are many links, citations, stops words which does not add any value to the sentiment classifier. Need to get rid of them "
   ]
  },
  {
   "cell_type": "markdown",
   "metadata": {},
   "source": [
    "### Removing special characters from the tweew such as URLs (“http://url”), user mention (@), and the symbol of hashtags (#) to improve the classification"
   ]
  },
  {
   "cell_type": "code",
   "execution_count": 11,
   "metadata": {},
   "outputs": [],
   "source": [
    "# Importing RE (regular expression) module to replace the http with empty string. \n",
    "import re\n",
    "\n",
    "### need to be better explained .\n",
    "\n",
    "# 'r' added to not handle backslashes in any special way in the following string\n",
    "# https? will match either ‘http’ or ‘https’\n",
    "# https?:\\/\\/ will match any \"http://\" and \"https://\" in the following string\n",
    "# \\S Returns a match where the string does not contain a white space character inside. \n",
    "    # Indeed, we want to keep the test that follows the URL.\n",
    "    \n",
    "# * Zero or more occurrences --> I think we can delete the *, i dont see any case where it could be useful\n",
    "\n",
    "\n",
    "\n",
    "clean_tweets = [] \n",
    "\n",
    "for i in range(len(en_tweets)):\n",
    "    \n",
    "    # Selecting one tweet\n",
    "    text_i = en_tweets.text.iloc[i]\n",
    "    \n",
    "    # Making the tweet in lower case\n",
    "    text_i = text_i.lower() \n",
    "    \n",
    "    # Deleting the URL only\n",
    "    text_i = re.sub(r'https?:\\/\\/\\S*', '', text_i, flags = re.MULTILINE)\n",
    "    \n",
    "    # Deleting the user mention @username\n",
    "    text_i = re.sub(r'@\\S*', '', text_i, flags = re.MULTILINE)\n",
    "    \n",
    "    # Deleting the hashtag symbol #\n",
    "    text_i = text_i.replace(\"#\", \"\")\n",
    "    \n",
    "    # append the cleaned tweet to the list previously initialized\n",
    "    clean_tweets.append(text_i) "
   ]
  },
  {
   "cell_type": "code",
   "execution_count": 12,
   "metadata": {},
   "outputs": [
    {
     "name": "stdout",
     "output_type": "stream",
     "text": [
      "Have you been to the mountain? Reach new heights on the #SmurfVillage mountain! http://t.co/d9BVrqiU82 @BeelineGames\n"
     ]
    },
    {
     "data": {
      "text/plain": [
       "'have you been to the mountain? reach new heights on the smurfvillage mountain!  '"
      ]
     },
     "execution_count": 12,
     "metadata": {},
     "output_type": "execute_result"
    }
   ],
   "source": [
    "# compare before and after preprocessing with a tweet that contains all of them.\n",
    "print(en_tweets.text.iloc[8])\n",
    "clean_tweets[8]"
   ]
  },
  {
   "cell_type": "code",
   "execution_count": 13,
   "metadata": {},
   "outputs": [
    {
     "data": {
      "text/html": [
       "<div>\n",
       "<style scoped>\n",
       "    .dataframe tbody tr th:only-of-type {\n",
       "        vertical-align: middle;\n",
       "    }\n",
       "\n",
       "    .dataframe tbody tr th {\n",
       "        vertical-align: top;\n",
       "    }\n",
       "\n",
       "    .dataframe thead th {\n",
       "        text-align: right;\n",
       "    }\n",
       "</style>\n",
       "<table border=\"1\" class=\"dataframe\">\n",
       "  <thead>\n",
       "    <tr style=\"text-align: right;\">\n",
       "      <th></th>\n",
       "      <th>coordinates</th>\n",
       "      <th>created_at</th>\n",
       "      <th>hashtags</th>\n",
       "      <th>media</th>\n",
       "      <th>urls</th>\n",
       "      <th>favorite_count</th>\n",
       "      <th>id</th>\n",
       "      <th>in_reply_to_screen_name</th>\n",
       "      <th>in_reply_to_status_id</th>\n",
       "      <th>in_reply_to_user_id</th>\n",
       "      <th>...</th>\n",
       "      <th>user_friends_count</th>\n",
       "      <th>user_listed_count</th>\n",
       "      <th>user_location</th>\n",
       "      <th>user_name</th>\n",
       "      <th>user_screen_name.1</th>\n",
       "      <th>user_statuses_count</th>\n",
       "      <th>user_time_zone</th>\n",
       "      <th>user_urls</th>\n",
       "      <th>user_verified</th>\n",
       "      <th>clean_tweets</th>\n",
       "    </tr>\n",
       "  </thead>\n",
       "  <tbody>\n",
       "    <tr>\n",
       "      <th>0</th>\n",
       "      <td>NaN</td>\n",
       "      <td>Sun Feb 14 23:29:33 +0000 2010</td>\n",
       "      <td>NaN</td>\n",
       "      <td>NaN</td>\n",
       "      <td>NaN</td>\n",
       "      <td>0</td>\n",
       "      <td>9116606357</td>\n",
       "      <td>NaN</td>\n",
       "      <td>NaN</td>\n",
       "      <td>NaN</td>\n",
       "      <td>...</td>\n",
       "      <td>17</td>\n",
       "      <td>0</td>\n",
       "      <td>Sofia, Bulgaria</td>\n",
       "      <td>Ina Gerdjikova</td>\n",
       "      <td>InaGerdjikova</td>\n",
       "      <td>6</td>\n",
       "      <td>NaN</td>\n",
       "      <td>http://kutiazamisli.blogspot.com/</td>\n",
       "      <td>False</td>\n",
       "      <td>will try to live for a week offline... wish me...</td>\n",
       "    </tr>\n",
       "    <tr>\n",
       "      <th>3</th>\n",
       "      <td>NaN</td>\n",
       "      <td>Tue Aug 12 17:51:37 +0000 2014</td>\n",
       "      <td>NaN</td>\n",
       "      <td>NaN</td>\n",
       "      <td>http://twitcam.livestream.com/g7hpe</td>\n",
       "      <td>0</td>\n",
       "      <td>499251874256920577</td>\n",
       "      <td>NaN</td>\n",
       "      <td>NaN</td>\n",
       "      <td>NaN</td>\n",
       "      <td>...</td>\n",
       "      <td>9</td>\n",
       "      <td>0</td>\n",
       "      <td>NaN</td>\n",
       "      <td>Ana Paula Ribeiro</td>\n",
       "      <td>anadadal</td>\n",
       "      <td>7</td>\n",
       "      <td>NaN</td>\n",
       "      <td>NaN</td>\n",
       "      <td>False</td>\n",
       "      <td>boa tarde..\\n ( live on</td>\n",
       "    </tr>\n",
       "    <tr>\n",
       "      <th>8</th>\n",
       "      <td>NaN</td>\n",
       "      <td>Sun Feb 14 18:46:26 +0000 2010</td>\n",
       "      <td>NaN</td>\n",
       "      <td>NaN</td>\n",
       "      <td>NaN</td>\n",
       "      <td>0</td>\n",
       "      <td>9107804301</td>\n",
       "      <td>NaN</td>\n",
       "      <td>NaN</td>\n",
       "      <td>NaN</td>\n",
       "      <td>...</td>\n",
       "      <td>17</td>\n",
       "      <td>0</td>\n",
       "      <td>Sofia, Bulgaria</td>\n",
       "      <td>Ina Gerdjikova</td>\n",
       "      <td>InaGerdjikova</td>\n",
       "      <td>6</td>\n",
       "      <td>NaN</td>\n",
       "      <td>http://kutiazamisli.blogspot.com/</td>\n",
       "      <td>False</td>\n",
       "      <td>phew... valentine's day will be finally over i...</td>\n",
       "    </tr>\n",
       "    <tr>\n",
       "      <th>9</th>\n",
       "      <td>NaN</td>\n",
       "      <td>Fri Sep 28 19:07:04 +0000 2012</td>\n",
       "      <td>NaN</td>\n",
       "      <td>NaN</td>\n",
       "      <td>http://twitcam.livestream.com/c7fe0</td>\n",
       "      <td>0</td>\n",
       "      <td>251759950655791105</td>\n",
       "      <td>NaN</td>\n",
       "      <td>NaN</td>\n",
       "      <td>NaN</td>\n",
       "      <td>...</td>\n",
       "      <td>9</td>\n",
       "      <td>0</td>\n",
       "      <td>NaN</td>\n",
       "      <td>Ana Paula Ribeiro</td>\n",
       "      <td>anadadal</td>\n",
       "      <td>7</td>\n",
       "      <td>NaN</td>\n",
       "      <td>NaN</td>\n",
       "      <td>False</td>\n",
       "      <td>up\\n ( live on</td>\n",
       "    </tr>\n",
       "    <tr>\n",
       "      <th>11</th>\n",
       "      <td>NaN</td>\n",
       "      <td>Fri Sep 28 19:05:53 +0000 2012</td>\n",
       "      <td>NaN</td>\n",
       "      <td>NaN</td>\n",
       "      <td>http://twitcam.livestream.com/c7fe0</td>\n",
       "      <td>0</td>\n",
       "      <td>251759653464199168</td>\n",
       "      <td>NaN</td>\n",
       "      <td>NaN</td>\n",
       "      <td>NaN</td>\n",
       "      <td>...</td>\n",
       "      <td>9</td>\n",
       "      <td>0</td>\n",
       "      <td>NaN</td>\n",
       "      <td>Ana Paula Ribeiro</td>\n",
       "      <td>anadadal</td>\n",
       "      <td>7</td>\n",
       "      <td>NaN</td>\n",
       "      <td>NaN</td>\n",
       "      <td>False</td>\n",
       "      <td>simmm\\n ( live on</td>\n",
       "    </tr>\n",
       "    <tr>\n",
       "      <th>...</th>\n",
       "      <td>...</td>\n",
       "      <td>...</td>\n",
       "      <td>...</td>\n",
       "      <td>...</td>\n",
       "      <td>...</td>\n",
       "      <td>...</td>\n",
       "      <td>...</td>\n",
       "      <td>...</td>\n",
       "      <td>...</td>\n",
       "      <td>...</td>\n",
       "      <td>...</td>\n",
       "      <td>...</td>\n",
       "      <td>...</td>\n",
       "      <td>...</td>\n",
       "      <td>...</td>\n",
       "      <td>...</td>\n",
       "      <td>...</td>\n",
       "      <td>...</td>\n",
       "      <td>...</td>\n",
       "      <td>...</td>\n",
       "      <td>...</td>\n",
       "    </tr>\n",
       "    <tr>\n",
       "      <th>1609378</th>\n",
       "      <td>NaN</td>\n",
       "      <td>Thu Nov 07 19:47:01 +0000 2013</td>\n",
       "      <td>NaN</td>\n",
       "      <td>NaN</td>\n",
       "      <td>NaN</td>\n",
       "      <td>0</td>\n",
       "      <td>398537090977124353</td>\n",
       "      <td>NaN</td>\n",
       "      <td>NaN</td>\n",
       "      <td>NaN</td>\n",
       "      <td>...</td>\n",
       "      <td>20</td>\n",
       "      <td>0</td>\n",
       "      <td>NaN</td>\n",
       "      <td>Christopher Chang</td>\n",
       "      <td>Mathew_C_Chang</td>\n",
       "      <td>7</td>\n",
       "      <td>NaN</td>\n",
       "      <td>NaN</td>\n",
       "      <td>False</td>\n",
       "      <td>carry me to fantasy victory</td>\n",
       "    </tr>\n",
       "    <tr>\n",
       "      <th>1609385</th>\n",
       "      <td>NaN</td>\n",
       "      <td>Tue Jun 24 12:52:16 +0000 2014</td>\n",
       "      <td>NaN</td>\n",
       "      <td>NaN</td>\n",
       "      <td>NaN</td>\n",
       "      <td>0</td>\n",
       "      <td>481419535463890945</td>\n",
       "      <td>NaN</td>\n",
       "      <td>NaN</td>\n",
       "      <td>NaN</td>\n",
       "      <td>...</td>\n",
       "      <td>1528</td>\n",
       "      <td>0</td>\n",
       "      <td>♡</td>\n",
       "      <td>Logan Junior</td>\n",
       "      <td>LoganJuniorrb</td>\n",
       "      <td>11</td>\n",
       "      <td>NaN</td>\n",
       "      <td>NaN</td>\n",
       "      <td>False</td>\n",
       "      <td>rt  hi lovely 💕  you are my world, my life, my...</td>\n",
       "    </tr>\n",
       "    <tr>\n",
       "      <th>1609386</th>\n",
       "      <td>NaN</td>\n",
       "      <td>Tue Jun 24 11:57:24 +0000 2014</td>\n",
       "      <td>NaN</td>\n",
       "      <td>NaN</td>\n",
       "      <td>NaN</td>\n",
       "      <td>0</td>\n",
       "      <td>481405727018209280</td>\n",
       "      <td>NaN</td>\n",
       "      <td>NaN</td>\n",
       "      <td>NaN</td>\n",
       "      <td>...</td>\n",
       "      <td>1528</td>\n",
       "      <td>0</td>\n",
       "      <td>♡</td>\n",
       "      <td>Logan Junior</td>\n",
       "      <td>LoganJuniorrb</td>\n",
       "      <td>11</td>\n",
       "      <td>NaN</td>\n",
       "      <td>NaN</td>\n",
       "      <td>False</td>\n",
       "      <td>\"many things about satanism are offensive.\" - ...</td>\n",
       "    </tr>\n",
       "    <tr>\n",
       "      <th>1609387</th>\n",
       "      <td>NaN</td>\n",
       "      <td>Thu May 22 02:02:29 +0000 2014</td>\n",
       "      <td>ArtemisStalkerSkin</td>\n",
       "      <td>NaN</td>\n",
       "      <td>http://bit.ly/11SPvxw</td>\n",
       "      <td>0</td>\n",
       "      <td>469297212129017856</td>\n",
       "      <td>NaN</td>\n",
       "      <td>NaN</td>\n",
       "      <td>NaN</td>\n",
       "      <td>...</td>\n",
       "      <td>2</td>\n",
       "      <td>0</td>\n",
       "      <td>NaN</td>\n",
       "      <td>Espy Brave</td>\n",
       "      <td>BraveEspy</td>\n",
       "      <td>1</td>\n",
       "      <td>NaN</td>\n",
       "      <td>NaN</td>\n",
       "      <td>False</td>\n",
       "      <td>smite artemisstalkerskin for free</td>\n",
       "    </tr>\n",
       "    <tr>\n",
       "      <th>1609388</th>\n",
       "      <td>NaN</td>\n",
       "      <td>Tue Jun 24 11:57:26 +0000 2014</td>\n",
       "      <td>NaN</td>\n",
       "      <td>NaN</td>\n",
       "      <td>http://youtube.com/watch?v=VDYfM7</td>\n",
       "      <td>0</td>\n",
       "      <td>481405739127173120</td>\n",
       "      <td>NaN</td>\n",
       "      <td>NaN</td>\n",
       "      <td>NaN</td>\n",
       "      <td>...</td>\n",
       "      <td>1528</td>\n",
       "      <td>0</td>\n",
       "      <td>♡</td>\n",
       "      <td>Logan Junior</td>\n",
       "      <td>LoganJuniorrb</td>\n",
       "      <td>11</td>\n",
       "      <td>NaN</td>\n",
       "      <td>NaN</td>\n",
       "      <td>False</td>\n",
       "      <td>new ministry of magic song! :d &amp;lt;3 it's so p...</td>\n",
       "    </tr>\n",
       "  </tbody>\n",
       "</table>\n",
       "<p>1054619 rows × 35 columns</p>\n",
       "</div>"
      ],
      "text/plain": [
       "        coordinates                      created_at            hashtags media  \\\n",
       "0               NaN  Sun Feb 14 23:29:33 +0000 2010                 NaN   NaN   \n",
       "3               NaN  Tue Aug 12 17:51:37 +0000 2014                 NaN   NaN   \n",
       "8               NaN  Sun Feb 14 18:46:26 +0000 2010                 NaN   NaN   \n",
       "9               NaN  Fri Sep 28 19:07:04 +0000 2012                 NaN   NaN   \n",
       "11              NaN  Fri Sep 28 19:05:53 +0000 2012                 NaN   NaN   \n",
       "...             ...                             ...                 ...   ...   \n",
       "1609378         NaN  Thu Nov 07 19:47:01 +0000 2013                 NaN   NaN   \n",
       "1609385         NaN  Tue Jun 24 12:52:16 +0000 2014                 NaN   NaN   \n",
       "1609386         NaN  Tue Jun 24 11:57:24 +0000 2014                 NaN   NaN   \n",
       "1609387         NaN  Thu May 22 02:02:29 +0000 2014  ArtemisStalkerSkin   NaN   \n",
       "1609388         NaN  Tue Jun 24 11:57:26 +0000 2014                 NaN   NaN   \n",
       "\n",
       "                                        urls  favorite_count  \\\n",
       "0                                        NaN               0   \n",
       "3        http://twitcam.livestream.com/g7hpe               0   \n",
       "8                                        NaN               0   \n",
       "9        http://twitcam.livestream.com/c7fe0               0   \n",
       "11       http://twitcam.livestream.com/c7fe0               0   \n",
       "...                                      ...             ...   \n",
       "1609378                                  NaN               0   \n",
       "1609385                                  NaN               0   \n",
       "1609386                                  NaN               0   \n",
       "1609387                http://bit.ly/11SPvxw               0   \n",
       "1609388    http://youtube.com/watch?v=VDYfM7               0   \n",
       "\n",
       "                         id in_reply_to_screen_name  in_reply_to_status_id  \\\n",
       "0                9116606357                     NaN                    NaN   \n",
       "3        499251874256920577                     NaN                    NaN   \n",
       "8                9107804301                     NaN                    NaN   \n",
       "9        251759950655791105                     NaN                    NaN   \n",
       "11       251759653464199168                     NaN                    NaN   \n",
       "...                     ...                     ...                    ...   \n",
       "1609378  398537090977124353                     NaN                    NaN   \n",
       "1609385  481419535463890945                     NaN                    NaN   \n",
       "1609386  481405727018209280                     NaN                    NaN   \n",
       "1609387  469297212129017856                     NaN                    NaN   \n",
       "1609388  481405739127173120                     NaN                    NaN   \n",
       "\n",
       "         in_reply_to_user_id  ... user_friends_count user_listed_count  \\\n",
       "0                        NaN  ...                 17                 0   \n",
       "3                        NaN  ...                  9                 0   \n",
       "8                        NaN  ...                 17                 0   \n",
       "9                        NaN  ...                  9                 0   \n",
       "11                       NaN  ...                  9                 0   \n",
       "...                      ...  ...                ...               ...   \n",
       "1609378                  NaN  ...                 20                 0   \n",
       "1609385                  NaN  ...               1528                 0   \n",
       "1609386                  NaN  ...               1528                 0   \n",
       "1609387                  NaN  ...                  2                 0   \n",
       "1609388                  NaN  ...               1528                 0   \n",
       "\n",
       "           user_location          user_name  user_screen_name.1  \\\n",
       "0        Sofia, Bulgaria     Ina Gerdjikova       InaGerdjikova   \n",
       "3                    NaN  Ana Paula Ribeiro            anadadal   \n",
       "8        Sofia, Bulgaria     Ina Gerdjikova       InaGerdjikova   \n",
       "9                    NaN  Ana Paula Ribeiro            anadadal   \n",
       "11                   NaN  Ana Paula Ribeiro            anadadal   \n",
       "...                  ...                ...                 ...   \n",
       "1609378              NaN  Christopher Chang      Mathew_C_Chang   \n",
       "1609385                ♡       Logan Junior       LoganJuniorrb   \n",
       "1609386                ♡       Logan Junior       LoganJuniorrb   \n",
       "1609387              NaN         Espy Brave           BraveEspy   \n",
       "1609388                ♡       Logan Junior       LoganJuniorrb   \n",
       "\n",
       "        user_statuses_count user_time_zone                          user_urls  \\\n",
       "0                         6            NaN  http://kutiazamisli.blogspot.com/   \n",
       "3                         7            NaN                                NaN   \n",
       "8                         6            NaN  http://kutiazamisli.blogspot.com/   \n",
       "9                         7            NaN                                NaN   \n",
       "11                        7            NaN                                NaN   \n",
       "...                     ...            ...                                ...   \n",
       "1609378                   7            NaN                                NaN   \n",
       "1609385                  11            NaN                                NaN   \n",
       "1609386                  11            NaN                                NaN   \n",
       "1609387                   1            NaN                                NaN   \n",
       "1609388                  11            NaN                                NaN   \n",
       "\n",
       "        user_verified                                       clean_tweets  \n",
       "0               False  will try to live for a week offline... wish me...  \n",
       "3               False                           boa tarde..\\n ( live on   \n",
       "8               False  phew... valentine's day will be finally over i...  \n",
       "9               False                                    up\\n ( live on   \n",
       "11              False                                 simmm\\n ( live on   \n",
       "...               ...                                                ...  \n",
       "1609378         False                        carry me to fantasy victory  \n",
       "1609385         False  rt  hi lovely 💕  you are my world, my life, my...  \n",
       "1609386         False  \"many things about satanism are offensive.\" - ...  \n",
       "1609387         False                 smite artemisstalkerskin for free   \n",
       "1609388         False  new ministry of magic song! :d &lt;3 it's so p...  \n",
       "\n",
       "[1054619 rows x 35 columns]"
      ]
     },
     "execution_count": 13,
     "metadata": {},
     "output_type": "execute_result"
    }
   ],
   "source": [
    "# Add the new column to the original df\n",
    "\n",
    "en_tweets['clean_tweets'] =clean_tweets\n",
    "en_tweets"
   ]
  },
  {
   "cell_type": "markdown",
   "metadata": {},
   "source": [
    "## Rule-based sentiment analysis - VADER\n",
    "\n",
    "---\n",
    "\n",
    "The VADER (Valence Aware Dictionary and sEntiment Reasoner) sentiment analysis consists of 4 columns: positive, neutral, negative, and compound polarity scores. For our case, we are only interested in the compound polarity score to determine the sentiment of the tweets"
   ]
  },
  {
   "cell_type": "markdown",
   "metadata": {},
   "source": [
    "## Results with the cleaned tweets"
   ]
  },
  {
   "cell_type": "code",
   "execution_count": 14,
   "metadata": {},
   "outputs": [],
   "source": [
    "#Initializing the Rule-based sentiment analyzer \n",
    "analyzer = SentimentIntensityAnalyzer()"
   ]
  },
  {
   "cell_type": "code",
   "execution_count": 15,
   "metadata": {},
   "outputs": [],
   "source": [
    "en_tweets['sent_score'] = [analyzer.polarity_scores(x)['compound'] for x in en_tweets['clean_tweets']]"
   ]
  },
  {
   "cell_type": "code",
   "execution_count": 16,
   "metadata": {},
   "outputs": [],
   "source": [
    "def sentiment(scores):\n",
    "    sents = []\n",
    "    for score in scores:\n",
    "        if score >=0.05:\n",
    "            sent = 'pos'\n",
    "        elif score <=-0.05:\n",
    "            sent = 'neg'\n",
    "        elif abs(score) <0.05:\n",
    "            sent = 'neu'\n",
    "        sents.append(sent)\n",
    "    return sents"
   ]
  },
  {
   "cell_type": "code",
   "execution_count": 17,
   "metadata": {},
   "outputs": [],
   "source": [
    "en_tweets['sentiment'] = sentiment(en_tweets.sent_score)"
   ]
  },
  {
   "cell_type": "code",
   "execution_count": 18,
   "metadata": {},
   "outputs": [],
   "source": [
    "grouped_sents = en_tweets.groupby(by='sentiment')"
   ]
  },
  {
   "cell_type": "code",
   "execution_count": 19,
   "metadata": {},
   "outputs": [
    {
     "name": "stdout",
     "output_type": "stream",
     "text": [
      "Number of positive sentences: 486431\n",
      "Number of negative sentences: 210134\n",
      "Number of neutral sentences: 358054\n"
     ]
    }
   ],
   "source": [
    "print('Number of positive sentences:',sum(np.array(en_tweets['sent_score'])>=0.05))\n",
    "print('Number of negative sentences:',sum(np.array(en_tweets['sent_score'])<=-0.05))\n",
    "print('Number of neutral sentences:',sum(np.abs(np.array(en_tweets['sent_score']))<0.05))"
   ]
  },
  {
   "cell_type": "code",
   "execution_count": 20,
   "metadata": {},
   "outputs": [
    {
     "data": {
      "image/png": "[encoded data removed]",
      "text/plain": [
       "<Figure size 432x432 with 1 Axes>"
      ]
     },
     "metadata": {
      "needs_background": "light"
     },
     "output_type": "display_data"
    }
   ],
   "source": [
    "plt.figure(figsize=(6,6))\n",
    "plt.bar(grouped_sents.size().index, grouped_sents.size().values, width=0.8)\n",
    "plt.xlabel('Sentiment')\n",
    "plt.ylabel('Number of Tweets')\n",
    "plt.show()"
   ]
  },
  {
   "cell_type": "code",
   "execution_count": 21,
   "metadata": {},
   "outputs": [],
   "source": [
    "pos_sents = en_tweets.loc[en_tweets['sentiment'] == 'pos']\n",
    "neg_sents = en_tweets.loc[en_tweets['sentiment'] == 'neg']"
   ]
  },
  {
   "cell_type": "markdown",
   "metadata": {},
   "source": [
    "Niave analysis on affect of sentiment on retweet count "
   ]
  },
  {
   "cell_type": "code",
   "execution_count": 22,
   "metadata": {},
   "outputs": [
    {
     "name": "stdout",
     "output_type": "stream",
     "text": [
      "The average number of retweets for positive tweets is 265.67\n",
      "The average number of retweets for negative tweets is 177.23\n"
     ]
    }
   ],
   "source": [
    "print(\"The average number of retweets for positive tweets is {:.2f}\".format(pos_sents.retweet_count.mean()))\n",
    "print(\"The average number of retweets for negative tweets is {:.2f}\".format(neg_sents.retweet_count.mean()))"
   ]
  },
  {
   "cell_type": "code",
   "execution_count": 23,
   "metadata": {},
   "outputs": [
    {
     "data": {
      "text/plain": [
       "Ttest_indResult(statistic=8.811051752852348, pvalue=1.2425244762243974e-18)"
      ]
     },
     "execution_count": 23,
     "metadata": {},
     "output_type": "execute_result"
    }
   ],
   "source": [
    "stats.ttest_ind(pos_sents.retweet_count, neg_sents.retweet_count)"
   ]
  },
  {
   "cell_type": "code",
   "execution_count": 24,
   "metadata": {},
   "outputs": [
    {
     "data": {
      "text/plain": [
       "MannwhitneyuResult(statistic=50802465371.0, pvalue=5.7371004774119245e-08)"
      ]
     },
     "execution_count": 24,
     "metadata": {},
     "output_type": "execute_result"
    }
   ],
   "source": [
    "stats.mannwhitneyu(pos_sents.retweet_count, neg_sents.retweet_count)"
   ]
  },
  {
   "cell_type": "markdown",
   "metadata": {},
   "source": [
    "## Not sure if the statistical tests above make sense"
   ]
  },
  {
   "cell_type": "code",
   "execution_count": 25,
   "metadata": {},
   "outputs": [
    {
     "data": {
      "text/plain": [
       "count    486431.000000\n",
       "mean        265.669968\n",
       "std        4168.821829\n",
       "min           0.000000\n",
       "25%           0.000000\n",
       "50%           0.000000\n",
       "75%           0.000000\n",
       "max      551788.000000\n",
       "Name: retweet_count, dtype: float64"
      ]
     },
     "execution_count": 25,
     "metadata": {},
     "output_type": "execute_result"
    }
   ],
   "source": [
    "pos_sents['retweet_count'].describe()"
   ]
  },
  {
   "cell_type": "code",
   "execution_count": 26,
   "metadata": {},
   "outputs": [
    {
     "data": {
      "text/plain": [
       "count    210134.000000\n",
       "mean        177.225604\n",
       "std        2963.486267\n",
       "min           0.000000\n",
       "25%           0.000000\n",
       "50%           0.000000\n",
       "75%           0.000000\n",
       "max      426173.000000\n",
       "Name: retweet_count, dtype: float64"
      ]
     },
     "execution_count": 26,
     "metadata": {},
     "output_type": "execute_result"
    }
   ],
   "source": [
    "neg_sents['retweet_count'].describe()"
   ]
  },
  {
   "cell_type": "code",
   "execution_count": 27,
   "metadata": {},
   "outputs": [
    {
     "data": {
      "text/plain": [
       "453405     551788\n",
       "971070     548016\n",
       "1382810    473644\n",
       "601483     337006\n",
       "756569     322409\n",
       "1097164    309553\n",
       "1466955    298331\n",
       "384720     297234\n",
       "173075     284859\n",
       "489620     274359\n",
       "Name: retweet_count, dtype: int64"
      ]
     },
     "execution_count": 27,
     "metadata": {},
     "output_type": "execute_result"
    }
   ],
   "source": [
    "pos_sents.sort_values(by=['retweet_count'], ascending = False)['retweet_count'].head(10)"
   ]
  },
  {
   "cell_type": "code",
   "execution_count": 28,
   "metadata": {},
   "outputs": [
    {
     "data": {
      "text/plain": [
       "791467    426173\n",
       "971292    290667\n",
       "970966    237713\n",
       "431728    226724\n",
       "971090    201765\n",
       "431141    196806\n",
       "173016    181591\n",
       "489521    178398\n",
       "491761    169294\n",
       "651023    167615\n",
       "Name: retweet_count, dtype: int64"
      ]
     },
     "execution_count": 28,
     "metadata": {},
     "output_type": "execute_result"
    }
   ],
   "source": [
    "neg_sents.sort_values(by=['retweet_count'], ascending = False)['retweet_count'].head(10)"
   ]
  },
  {
   "cell_type": "markdown",
   "metadata": {},
   "source": [
    "When looking at simple statistics, we see that positive sentiment tweets have a much larger standard deviation, so there is more likely a significantly larger number of tweets with large retweet counts. Also, looking at the top 10 highest retweeted tweets for positive tweets we find that positive tweets have higher max retween count. So, we need to try and filter the data to avoid effects of these very popular tweets"
   ]
  },
  {
   "cell_type": "code",
   "execution_count": 29,
   "metadata": {},
   "outputs": [],
   "source": [
    "pos_sents_filtered = pos_sents.loc[pos_sents['retweet_count']<1000]\n",
    "neg_sents_filtered = neg_sents.loc[neg_sents['retweet_count']<1000]"
   ]
  },
  {
   "cell_type": "code",
   "execution_count": 30,
   "metadata": {},
   "outputs": [
    {
     "data": {
      "text/plain": [
       "205806"
      ]
     },
     "execution_count": 30,
     "metadata": {},
     "output_type": "execute_result"
    }
   ],
   "source": [
    "len(neg_sents_filtered)"
   ]
  },
  {
   "cell_type": "code",
   "execution_count": 31,
   "metadata": {},
   "outputs": [
    {
     "name": "stdout",
     "output_type": "stream",
     "text": [
      "The average number of retweets for positive tweets is 12.92\n",
      "The average number of retweets for negative tweets is 14.37\n"
     ]
    }
   ],
   "source": [
    "print(\"The average number of retweets for positive tweets is {:.2f}\".format(pos_sents_filtered.retweet_count.mean()))\n",
    "print(\"The average number of retweets for negative tweets is {:.2f}\".format(neg_sents_filtered.retweet_count.mean()))"
   ]
  },
  {
   "cell_type": "code",
   "execution_count": 32,
   "metadata": {},
   "outputs": [
    {
     "data": {
      "text/plain": [
       "Ttest_indResult(statistic=-6.928775971193933, pvalue=4.2487127277203635e-12)"
      ]
     },
     "execution_count": 32,
     "metadata": {},
     "output_type": "execute_result"
    }
   ],
   "source": [
    "stats.ttest_ind(pos_sents_filtered.retweet_count, neg_sents_filtered.retweet_count)"
   ]
  },
  {
   "cell_type": "code",
   "execution_count": 33,
   "metadata": {},
   "outputs": [
    {
     "data": {
      "text/plain": [
       "MannwhitneyuResult(statistic=48570066473.0, pvalue=9.757915513348562e-13)"
      ]
     },
     "execution_count": 33,
     "metadata": {},
     "output_type": "execute_result"
    }
   ],
   "source": [
    "stats.mannwhitneyu(pos_sents_filtered.retweet_count, neg_sents_filtered.retweet_count)"
   ]
  },
  {
   "cell_type": "markdown",
   "metadata": {},
   "source": [
    "However, we may find that the tweets with 0 retweets affect the data. Let's look at tweets with at least one retweet"
   ]
  },
  {
   "cell_type": "code",
   "execution_count": 34,
   "metadata": {},
   "outputs": [],
   "source": [
    "pos_sents_filtered = pos_sents.loc[(pos_sents['retweet_count']<1000) & (pos_sents['retweet_count'])>0]\n",
    "neg_sents_filtered = neg_sents.loc[(neg_sents['retweet_count']<1000) & (neg_sents['retweet_count']>0)]"
   ]
  },
  {
   "cell_type": "code",
   "execution_count": 35,
   "metadata": {},
   "outputs": [
    {
     "name": "stdout",
     "output_type": "stream",
     "text": [
      "The average number of retweets for positive tweets is 44.23\n",
      "The average number of retweets for negative tweets is 63.11\n"
     ]
    }
   ],
   "source": [
    "print(\"The average number of retweets for positive tweets is {:.2f}\".format(pos_sents_filtered.retweet_count.mean()))\n",
    "print(\"The average number of retweets for negative tweets is {:.2f}\".format(neg_sents_filtered.retweet_count.mean()))"
   ]
  },
  {
   "cell_type": "code",
   "execution_count": 36,
   "metadata": {},
   "outputs": [
    {
     "data": {
      "text/plain": [
       "Ttest_indResult(statistic=-21.076573288100686, pvalue=1.9912399613748363e-98)"
      ]
     },
     "execution_count": 36,
     "metadata": {},
     "output_type": "execute_result"
    }
   ],
   "source": [
    "stats.ttest_ind(pos_sents_filtered.retweet_count, neg_sents_filtered.retweet_count)"
   ]
  },
  {
   "cell_type": "code",
   "execution_count": 37,
   "metadata": {},
   "outputs": [
    {
     "data": {
      "text/plain": [
       "MannwhitneyuResult(statistic=1342890623.0, pvalue=0.0)"
      ]
     },
     "execution_count": 37,
     "metadata": {},
     "output_type": "execute_result"
    }
   ],
   "source": [
    "stats.mannwhitneyu(pos_sents_filtered.retweet_count, neg_sents_filtered.retweet_count)"
   ]
  },
  {
   "cell_type": "code",
   "execution_count": 38,
   "metadata": {},
   "outputs": [
    {
     "data": {
      "image/png": "[encoded data removed]",
      "text/plain": [
       "<Figure size 576x432 with 1 Axes>"
      ]
     },
     "metadata": {
      "needs_background": "light"
     },
     "output_type": "display_data"
    }
   ],
   "source": [
    "plt.figure(figsize=(8,6))\n",
    "\n",
    "plt.hist([pos_sents_filtered.retweet_count, neg_sents_filtered.retweet_count], bins=50, label=['Positive Sentiment', 'Negative Sentiment'])\n",
    "plt.legend(loc = 'upper right')\n",
    "plt.title('Retweet count for positive and negative sentiment tweets')\n",
    "plt.xlabel('Retweet Count')\n",
    "plt.ylabel('Number of Tweets')\n",
    "plt.yscale('log')\n",
    "plt.xlim([0, 1000])\n",
    "plt.show()"
   ]
  },
  {
   "cell_type": "code",
   "execution_count": 39,
   "metadata": {},
   "outputs": [],
   "source": [
    "pos_same_size = pos_sents_filtered.sample(len(neg_sents_filtered))"
   ]
  },
  {
   "cell_type": "code",
   "execution_count": 40,
   "metadata": {},
   "outputs": [
    {
     "data": {
      "image/png": "[encoded data removed]",
      "text/plain": [
       "<Figure size 576x432 with 1 Axes>"
      ]
     },
     "metadata": {
      "needs_background": "light"
     },
     "output_type": "display_data"
    }
   ],
   "source": [
    "plt.figure(figsize=(8,6))\n",
    "\n",
    "plt.hist([pos_same_size.retweet_count, neg_sents_filtered.retweet_count], bins=50, label=['Positive Sentiment', 'Negative Sentiment'])\n",
    "plt.legend(loc = 'upper right')\n",
    "plt.title('Retweet count for positive and negative sentiment tweets')\n",
    "plt.xlabel('Retweet Count')\n",
    "plt.ylabel('Number of Tweets')\n",
    "plt.yscale('log')\n",
    "plt.xlim([0, 1000])\n",
    "plt.show()"
   ]
  },
  {
   "cell_type": "markdown",
   "metadata": {},
   "source": [
    "## Results with the raw tweets"
   ]
  },
  {
   "cell_type": "code",
   "execution_count": 41,
   "metadata": {},
   "outputs": [],
   "source": [
    "#Initializing the Rule-based sentiment analyzer \n",
    "analyzer = SentimentIntensityAnalyzer()"
   ]
  },
  {
   "cell_type": "code",
   "execution_count": 42,
   "metadata": {},
   "outputs": [],
   "source": [
    "en_tweets['sent_score'] = [analyzer.polarity_scores(x)['compound'] for x in en_tweets['text']]"
   ]
  },
  {
   "cell_type": "code",
   "execution_count": 43,
   "metadata": {},
   "outputs": [],
   "source": [
    "def sentiment(scores):\n",
    "    sents = []\n",
    "    for score in scores:\n",
    "        if score >=0.05:\n",
    "            sent = 'pos'\n",
    "        elif score <=-0.05:\n",
    "            sent = 'neg'\n",
    "        elif abs(score) <0.05:\n",
    "            sent = 'neu'\n",
    "        sents.append(sent)\n",
    "    return sents"
   ]
  },
  {
   "cell_type": "code",
   "execution_count": 44,
   "metadata": {},
   "outputs": [],
   "source": [
    "en_tweets['sentiment'] = sentiment(en_tweets.sent_score)"
   ]
  },
  {
   "cell_type": "code",
   "execution_count": 45,
   "metadata": {},
   "outputs": [],
   "source": [
    "grouped_sents = en_tweets.groupby(by='sentiment')"
   ]
  },
  {
   "cell_type": "code",
   "execution_count": 46,
   "metadata": {},
   "outputs": [
    {
     "name": "stdout",
     "output_type": "stream",
     "text": [
      "Number of positive sentences: 485976\n",
      "Number of negative sentences: 210152\n",
      "Number of neutral sentences: 358491\n"
     ]
    }
   ],
   "source": [
    "print('Number of positive sentences:',sum(np.array(en_tweets['sent_score'])>=0.05))\n",
    "print('Number of negative sentences:',sum(np.array(en_tweets['sent_score'])<=-0.05))\n",
    "print('Number of neutral sentences:',sum(np.abs(np.array(en_tweets['sent_score']))<0.05))"
   ]
  },
  {
   "cell_type": "code",
   "execution_count": 28,
   "metadata": {},
   "outputs": [
    {
     "data": {
      "image/png": "[encoded data removed]",
      "text/plain": [
       "<Figure size 432x432 with 1 Axes>"
      ]
     },
     "metadata": {
      "needs_background": "light"
     },
     "output_type": "display_data"
    }
   ],
   "source": [
    "plt.figure(figsize=(6,6))\n",
    "plt.bar(grouped_sents.size().index, grouped_sents.size().values, width=0.8)\n",
    "plt.xlabel('Sentiment')\n",
    "plt.ylabel('Number of Tweets')\n",
    "plt.show()"
   ]
  },
  {
   "cell_type": "markdown",
   "metadata": {},
   "source": [
    "# Bert SA-pipeline"
   ]
  },
  {
   "cell_type": "code",
   "execution_count": 2,
   "metadata": {},
   "outputs": [
    {
     "data": {
      "application/vnd.jupyter.widget-view+json": {
       "model_id": "0868571478b6499f9878b561ed31e3af",
       "version_major": 2,
       "version_minor": 0
      },
      "text/plain": [
       "HBox(children=(HTML(value='Downloading'), FloatProgress(value=0.0, max=629.0), HTML(value='')))"
      ]
     },
     "metadata": {},
     "output_type": "display_data"
    },
    {
     "name": "stdout",
     "output_type": "stream",
     "text": [
      "\n"
     ]
    },
    {
     "data": {
      "application/vnd.jupyter.widget-view+json": {
       "model_id": "1611ec118c5a474eba5679703f7a6265",
       "version_major": 2,
       "version_minor": 0
      },
      "text/plain": [
       "HBox(children=(HTML(value='Downloading'), FloatProgress(value=0.0, max=267844284.0), HTML(value='')))"
      ]
     },
     "metadata": {},
     "output_type": "display_data"
    },
    {
     "name": "stdout",
     "output_type": "stream",
     "text": [
      "\n"
     ]
    },
    {
     "data": {
      "application/vnd.jupyter.widget-view+json": {
       "model_id": "ced845ac58a54b7fade51a9cac3f6916",
       "version_major": 2,
       "version_minor": 0
      },
      "text/plain": [
       "HBox(children=(HTML(value='Downloading'), FloatProgress(value=0.0, max=231508.0), HTML(value='')))"
      ]
     },
     "metadata": {},
     "output_type": "display_data"
    },
    {
     "name": "stdout",
     "output_type": "stream",
     "text": [
      "\n"
     ]
    },
    {
     "data": {
      "application/vnd.jupyter.widget-view+json": {
       "model_id": "4d619c899df5447c9840f32bc50f9f78",
       "version_major": 2,
       "version_minor": 0
      },
      "text/plain": [
       "HBox(children=(HTML(value='Downloading'), FloatProgress(value=0.0, max=230.0), HTML(value='')))"
      ]
     },
     "metadata": {},
     "output_type": "display_data"
    },
    {
     "name": "stdout",
     "output_type": "stream",
     "text": [
      "\n"
     ]
    }
   ],
   "source": [
    "sa_pipeline = pipeline('sentiment-analysis')"
   ]
  },
  {
   "cell_type": "code",
   "execution_count": 3,
   "metadata": {},
   "outputs": [
    {
     "ename": "NameError",
     "evalue": "name 'en_tweets' is not defined",
     "output_type": "error",
     "traceback": [
      "\u001b[1;31m---------------------------------------------------------------------------\u001b[0m",
      "\u001b[1;31mNameError\u001b[0m                                 Traceback (most recent call last)",
      "\u001b[1;32m<ipython-input-3-529c4701e824>\u001b[0m in \u001b[0;36m<module>\u001b[1;34m\u001b[0m\n\u001b[0;32m      1\u001b[0m \u001b[1;32mfor\u001b[0m \u001b[0mi\u001b[0m \u001b[1;32min\u001b[0m \u001b[0mrange\u001b[0m\u001b[1;33m(\u001b[0m\u001b[1;36m10\u001b[0m\u001b[1;33m)\u001b[0m\u001b[1;33m:\u001b[0m\u001b[1;33m\u001b[0m\u001b[1;33m\u001b[0m\u001b[0m\n\u001b[1;32m----> 2\u001b[1;33m     \u001b[0mtext\u001b[0m \u001b[1;33m=\u001b[0m \u001b[0men_tweets\u001b[0m\u001b[1;33m[\u001b[0m\u001b[1;34m'text'\u001b[0m\u001b[1;33m]\u001b[0m\u001b[1;33m.\u001b[0m\u001b[0miloc\u001b[0m\u001b[1;33m[\u001b[0m\u001b[0mi\u001b[0m\u001b[1;33m]\u001b[0m\u001b[1;33m\u001b[0m\u001b[1;33m\u001b[0m\u001b[0m\n\u001b[0m\u001b[0;32m      3\u001b[0m     \u001b[0mprint\u001b[0m\u001b[1;33m(\u001b[0m\u001b[0mtext\u001b[0m\u001b[1;33m)\u001b[0m\u001b[1;33m\u001b[0m\u001b[1;33m\u001b[0m\u001b[0m\n\u001b[0;32m      4\u001b[0m     \u001b[0mprediction\u001b[0m \u001b[1;33m=\u001b[0m \u001b[0msa_pipeline\u001b[0m\u001b[1;33m(\u001b[0m\u001b[0mtext\u001b[0m\u001b[1;33m)\u001b[0m\u001b[1;33m\u001b[0m\u001b[1;33m\u001b[0m\u001b[0m\n\u001b[0;32m      5\u001b[0m     \u001b[0mprint\u001b[0m\u001b[1;33m(\u001b[0m\u001b[0mprediction\u001b[0m\u001b[1;33m)\u001b[0m\u001b[1;33m\u001b[0m\u001b[1;33m\u001b[0m\u001b[0m\n",
      "\u001b[1;31mNameError\u001b[0m: name 'en_tweets' is not defined"
     ]
    }
   ],
   "source": [
    "for i in range(10):\n",
    "    text = en_tweets['text'].iloc[i]\n",
    "    print(text)\n",
    "    prediction = sa_pipeline(text)\n",
    "    print(prediction)\n",
    "    print()"
   ]
  },
  {
   "cell_type": "code",
   "execution_count": null,
   "metadata": {},
   "outputs": [],
   "source": []
  }
 ],
 "metadata": {
  "kernelspec": {
   "display_name": "Python 3",
   "language": "python",
   "name": "python3"
  },
  "language_info": {
   "codemirror_mode": {
    "name": "ipython",
    "version": 3
   },
   "file_extension": ".py",
   "mimetype": "text/x-python",
   "name": "python",
   "nbconvert_exporter": "python",
   "pygments_lexer": "ipython3",
   "version": "3.8.5"
  }
 },
 "nbformat": 4,
 "nbformat_minor": 4
}
