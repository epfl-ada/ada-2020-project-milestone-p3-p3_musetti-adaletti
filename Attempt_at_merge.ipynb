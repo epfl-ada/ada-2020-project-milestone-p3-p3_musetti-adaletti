{
 "cells": [
  {
   "cell_type": "markdown",
   "metadata": {},
   "source": [
    "# Creative Extension Analysis\n",
    "\n",
    "---\n",
    "\n",
    "**** Explain how we get the dataset"
   ]
  },
  {
   "cell_type": "code",
   "execution_count": 1,
   "metadata": {},
   "outputs": [],
   "source": [
    "# Importing the libraries\n",
    "import pandas as pd\n",
    "import numpy as np\n",
    "import matplotlib.pyplot as plt\n",
    "import seaborn as sns\n",
    "\n",
    "# Hiding the warnings\n",
    "import warnings; warnings.simplefilter('ignore') \n",
    "\n",
    "# Set random seed for consistency \n",
    "import random\n",
    "from numpy.random import seed as random_seed\n",
    "from numpy.random import shuffle as random_shuffle\n",
    "seed = 42\n",
    "random.seed(seed)\n",
    "np.random.seed(seed)\n",
    "\n",
    "# Importing RE (regular expression) module for preprocessing step\n",
    "import re\n",
    "\n",
    "# Vader \n",
    "import vaderSentiment\n",
    "from vaderSentiment.vaderSentiment import SentimentIntensityAnalyzer\n",
    "\n",
    "#Bert sa-pipeline\n",
    "from transformers import pipeline\n",
    "\n",
    "from scipy import stats\n",
    "from datetime import datetime, date, time\n",
    "\n",
    "#topic\n",
    "from empath import Empath\n",
    "import os.path"
   ]
  },
  {
   "cell_type": "markdown",
   "metadata": {},
   "source": [
    "## Loading in the necessary datasets"
   ]
  },
  {
   "cell_type": "code",
   "execution_count": 2,
   "metadata": {},
   "outputs": [
    {
     "data": {
      "text/html": [
       "<div>\n",
       "<style scoped>\n",
       "    .dataframe tbody tr th:only-of-type {\n",
       "        vertical-align: middle;\n",
       "    }\n",
       "\n",
       "    .dataframe tbody tr th {\n",
       "        vertical-align: top;\n",
       "    }\n",
       "\n",
       "    .dataframe thead th {\n",
       "        text-align: right;\n",
       "    }\n",
       "</style>\n",
       "<table border=\"1\" class=\"dataframe\">\n",
       "  <thead>\n",
       "    <tr style=\"text-align: right;\">\n",
       "      <th></th>\n",
       "      <th>coordinates</th>\n",
       "      <th>created_at</th>\n",
       "      <th>hashtags</th>\n",
       "      <th>media</th>\n",
       "      <th>urls</th>\n",
       "      <th>favorite_count</th>\n",
       "      <th>id</th>\n",
       "      <th>in_reply_to_screen_name</th>\n",
       "      <th>in_reply_to_status_id</th>\n",
       "      <th>in_reply_to_user_id</th>\n",
       "      <th>...</th>\n",
       "      <th>user_followers_count</th>\n",
       "      <th>user_friends_count</th>\n",
       "      <th>user_listed_count</th>\n",
       "      <th>user_location</th>\n",
       "      <th>user_name</th>\n",
       "      <th>user_screen_name.1</th>\n",
       "      <th>user_statuses_count</th>\n",
       "      <th>user_time_zone</th>\n",
       "      <th>user_urls</th>\n",
       "      <th>user_verified</th>\n",
       "    </tr>\n",
       "  </thead>\n",
       "  <tbody>\n",
       "    <tr>\n",
       "      <th>0</th>\n",
       "      <td>NaN</td>\n",
       "      <td>Sun Feb 14 23:29:33 +0000 2010</td>\n",
       "      <td>NaN</td>\n",
       "      <td>NaN</td>\n",
       "      <td>NaN</td>\n",
       "      <td>0</td>\n",
       "      <td>9116606357</td>\n",
       "      <td>NaN</td>\n",
       "      <td>NaN</td>\n",
       "      <td>NaN</td>\n",
       "      <td>...</td>\n",
       "      <td>29</td>\n",
       "      <td>17</td>\n",
       "      <td>0</td>\n",
       "      <td>Sofia, Bulgaria</td>\n",
       "      <td>Ina Gerdjikova</td>\n",
       "      <td>InaGerdjikova</td>\n",
       "      <td>6</td>\n",
       "      <td>NaN</td>\n",
       "      <td>http://kutiazamisli.blogspot.com/</td>\n",
       "      <td>False</td>\n",
       "    </tr>\n",
       "    <tr>\n",
       "      <th>1</th>\n",
       "      <td>NaN</td>\n",
       "      <td>Fri Sep 24 20:40:25 +0000 2010</td>\n",
       "      <td>NaN</td>\n",
       "      <td>NaN</td>\n",
       "      <td>NaN</td>\n",
       "      <td>0</td>\n",
       "      <td>25437022568</td>\n",
       "      <td>NaN</td>\n",
       "      <td>NaN</td>\n",
       "      <td>NaN</td>\n",
       "      <td>...</td>\n",
       "      <td>12</td>\n",
       "      <td>9</td>\n",
       "      <td>0</td>\n",
       "      <td>NaN</td>\n",
       "      <td>Ana Paula Ribeiro</td>\n",
       "      <td>anadadal</td>\n",
       "      <td>7</td>\n",
       "      <td>NaN</td>\n",
       "      <td>NaN</td>\n",
       "      <td>False</td>\n",
       "    </tr>\n",
       "    <tr>\n",
       "      <th>2</th>\n",
       "      <td>NaN</td>\n",
       "      <td>Tue Jun 14 07:54:35 +0000 2011</td>\n",
       "      <td>NaN</td>\n",
       "      <td>NaN</td>\n",
       "      <td>http://kutiazamisli.blogspot.com/2011/06/blog-...</td>\n",
       "      <td>0</td>\n",
       "      <td>80543642816757761</td>\n",
       "      <td>NaN</td>\n",
       "      <td>NaN</td>\n",
       "      <td>NaN</td>\n",
       "      <td>...</td>\n",
       "      <td>29</td>\n",
       "      <td>17</td>\n",
       "      <td>0</td>\n",
       "      <td>Sofia, Bulgaria</td>\n",
       "      <td>Ina Gerdjikova</td>\n",
       "      <td>InaGerdjikova</td>\n",
       "      <td>6</td>\n",
       "      <td>NaN</td>\n",
       "      <td>http://kutiazamisli.blogspot.com/</td>\n",
       "      <td>False</td>\n",
       "    </tr>\n",
       "    <tr>\n",
       "      <th>3</th>\n",
       "      <td>NaN</td>\n",
       "      <td>Tue Aug 12 17:51:37 +0000 2014</td>\n",
       "      <td>NaN</td>\n",
       "      <td>NaN</td>\n",
       "      <td>http://twitcam.livestream.com/g7hpe</td>\n",
       "      <td>0</td>\n",
       "      <td>499251874256920577</td>\n",
       "      <td>NaN</td>\n",
       "      <td>NaN</td>\n",
       "      <td>NaN</td>\n",
       "      <td>...</td>\n",
       "      <td>12</td>\n",
       "      <td>9</td>\n",
       "      <td>0</td>\n",
       "      <td>NaN</td>\n",
       "      <td>Ana Paula Ribeiro</td>\n",
       "      <td>anadadal</td>\n",
       "      <td>7</td>\n",
       "      <td>NaN</td>\n",
       "      <td>NaN</td>\n",
       "      <td>False</td>\n",
       "    </tr>\n",
       "    <tr>\n",
       "      <th>4</th>\n",
       "      <td>NaN</td>\n",
       "      <td>Fri Oct 25 11:38:21 +0000 2013</td>\n",
       "      <td>SmurfsVillage</td>\n",
       "      <td>NaN</td>\n",
       "      <td>http://bit.ly/Smurf47</td>\n",
       "      <td>0</td>\n",
       "      <td>393703073228808192</td>\n",
       "      <td>NaN</td>\n",
       "      <td>NaN</td>\n",
       "      <td>NaN</td>\n",
       "      <td>...</td>\n",
       "      <td>6</td>\n",
       "      <td>17</td>\n",
       "      <td>0</td>\n",
       "      <td>Land of the happily single</td>\n",
       "      <td>sheena c wallace</td>\n",
       "      <td>sheasofly</td>\n",
       "      <td>268</td>\n",
       "      <td>NaN</td>\n",
       "      <td>NaN</td>\n",
       "      <td>False</td>\n",
       "    </tr>\n",
       "  </tbody>\n",
       "</table>\n",
       "<p>5 rows × 34 columns</p>\n",
       "</div>"
      ],
      "text/plain": [
       "  coordinates                      created_at       hashtags media  \\\n",
       "0         NaN  Sun Feb 14 23:29:33 +0000 2010            NaN   NaN   \n",
       "1         NaN  Fri Sep 24 20:40:25 +0000 2010            NaN   NaN   \n",
       "2         NaN  Tue Jun 14 07:54:35 +0000 2011            NaN   NaN   \n",
       "3         NaN  Tue Aug 12 17:51:37 +0000 2014            NaN   NaN   \n",
       "4         NaN  Fri Oct 25 11:38:21 +0000 2013  SmurfsVillage   NaN   \n",
       "\n",
       "                                                urls  favorite_count  \\\n",
       "0                                                NaN               0   \n",
       "1                                                NaN               0   \n",
       "2  http://kutiazamisli.blogspot.com/2011/06/blog-...               0   \n",
       "3                http://twitcam.livestream.com/g7hpe               0   \n",
       "4                              http://bit.ly/Smurf47               0   \n",
       "\n",
       "                   id in_reply_to_screen_name  in_reply_to_status_id  \\\n",
       "0          9116606357                     NaN                    NaN   \n",
       "1         25437022568                     NaN                    NaN   \n",
       "2   80543642816757761                     NaN                    NaN   \n",
       "3  499251874256920577                     NaN                    NaN   \n",
       "4  393703073228808192                     NaN                    NaN   \n",
       "\n",
       "   in_reply_to_user_id  ... user_followers_count user_friends_count  \\\n",
       "0                  NaN  ...                   29                 17   \n",
       "1                  NaN  ...                   12                  9   \n",
       "2                  NaN  ...                   29                 17   \n",
       "3                  NaN  ...                   12                  9   \n",
       "4                  NaN  ...                    6                 17   \n",
       "\n",
       "  user_listed_count               user_location          user_name  \\\n",
       "0                 0             Sofia, Bulgaria     Ina Gerdjikova   \n",
       "1                 0                         NaN  Ana Paula Ribeiro   \n",
       "2                 0             Sofia, Bulgaria     Ina Gerdjikova   \n",
       "3                 0                         NaN  Ana Paula Ribeiro   \n",
       "4                 0  Land of the happily single   sheena c wallace   \n",
       "\n",
       "  user_screen_name.1 user_statuses_count user_time_zone  \\\n",
       "0      InaGerdjikova                   6            NaN   \n",
       "1           anadadal                   7            NaN   \n",
       "2      InaGerdjikova                   6            NaN   \n",
       "3           anadadal                   7            NaN   \n",
       "4          sheasofly                 268            NaN   \n",
       "\n",
       "                           user_urls user_verified  \n",
       "0  http://kutiazamisli.blogspot.com/         False  \n",
       "1                                NaN         False  \n",
       "2  http://kutiazamisli.blogspot.com/         False  \n",
       "3                                NaN         False  \n",
       "4                                NaN         False  \n",
       "\n",
       "[5 rows x 34 columns]"
      ]
     },
     "execution_count": 2,
     "metadata": {},
     "output_type": "execute_result"
    }
   ],
   "source": [
    "# Loading the dataset\n",
    "\n",
    "tweets = pd.read_csv('./Data/tweets',low_memory=False)\n",
    "tweets.head()"
   ]
  },
  {
   "cell_type": "code",
   "execution_count": 3,
   "metadata": {},
   "outputs": [
    {
     "data": {
      "text/html": [
       "<div>\n",
       "<style scoped>\n",
       "    .dataframe tbody tr th:only-of-type {\n",
       "        vertical-align: middle;\n",
       "    }\n",
       "\n",
       "    .dataframe tbody tr th {\n",
       "        vertical-align: top;\n",
       "    }\n",
       "\n",
       "    .dataframe thead th {\n",
       "        text-align: right;\n",
       "    }\n",
       "</style>\n",
       "<table border=\"1\" class=\"dataframe\">\n",
       "  <thead>\n",
       "    <tr style=\"text-align: right;\">\n",
       "      <th></th>\n",
       "      <th>IsEgo</th>\n",
       "      <th>followers_count</th>\n",
       "      <th>friends_count</th>\n",
       "      <th>statuses_count</th>\n",
       "      <th>utc_offset</th>\n",
       "      <th>lang</th>\n",
       "      <th>created_at</th>\n",
       "      <th>protected</th>\n",
       "    </tr>\n",
       "    <tr>\n",
       "      <th>ID</th>\n",
       "      <th></th>\n",
       "      <th></th>\n",
       "      <th></th>\n",
       "      <th></th>\n",
       "      <th></th>\n",
       "      <th></th>\n",
       "      <th></th>\n",
       "      <th></th>\n",
       "    </tr>\n",
       "  </thead>\n",
       "  <tbody>\n",
       "    <tr>\n",
       "      <th>1</th>\n",
       "      <td>True</td>\n",
       "      <td>30.0</td>\n",
       "      <td>28</td>\n",
       "      <td>9.0</td>\n",
       "      <td>NaN</td>\n",
       "      <td>en</td>\n",
       "      <td>Wed Oct 26 03:30:32 +0000 2011</td>\n",
       "      <td>False</td>\n",
       "    </tr>\n",
       "    <tr>\n",
       "      <th>2</th>\n",
       "      <td>True</td>\n",
       "      <td>2.0</td>\n",
       "      <td>8</td>\n",
       "      <td>7.0</td>\n",
       "      <td>-14400.0</td>\n",
       "      <td>en</td>\n",
       "      <td>Mon Jul 27 20:46:32 +0000 2009</td>\n",
       "      <td>False</td>\n",
       "    </tr>\n",
       "    <tr>\n",
       "      <th>3</th>\n",
       "      <td>True</td>\n",
       "      <td>1.0</td>\n",
       "      <td>0</td>\n",
       "      <td>0.0</td>\n",
       "      <td>NaN</td>\n",
       "      <td>fr</td>\n",
       "      <td>Mon Apr 23 20:57:26 +0000 2012</td>\n",
       "      <td>False</td>\n",
       "    </tr>\n",
       "  </tbody>\n",
       "</table>\n",
       "</div>"
      ],
      "text/plain": [
       "    IsEgo  followers_count  friends_count  statuses_count  utc_offset lang  \\\n",
       "ID                                                                           \n",
       "1    True             30.0             28             9.0         NaN   en   \n",
       "2    True              2.0              8             7.0    -14400.0   en   \n",
       "3    True              1.0              0             0.0         NaN   fr   \n",
       "\n",
       "                        created_at  protected  \n",
       "ID                                             \n",
       "1   Wed Oct 26 03:30:32 +0000 2011      False  \n",
       "2   Mon Jul 27 20:46:32 +0000 2009      False  \n",
       "3   Mon Apr 23 20:57:26 +0000 2012      False  "
      ]
     },
     "execution_count": 3,
     "metadata": {},
     "output_type": "execute_result"
    }
   ],
   "source": [
    "#reading in the dataframe\n",
    "ego_alt_prof = pd.read_csv('./Data/EgoAlterProfiles.txt', delimiter = \"\\t\").set_index('ID')\n",
    "#visualize that the dataframe was imported correctly\n",
    "ego_alt_prof.head(3)"
   ]
  },
  {
   "cell_type": "code",
   "execution_count": 4,
   "metadata": {},
   "outputs": [
    {
     "data": {
      "text/html": [
       "<div>\n",
       "<style scoped>\n",
       "    .dataframe tbody tr th:only-of-type {\n",
       "        vertical-align: middle;\n",
       "    }\n",
       "\n",
       "    .dataframe tbody tr th {\n",
       "        vertical-align: top;\n",
       "    }\n",
       "\n",
       "    .dataframe thead th {\n",
       "        text-align: right;\n",
       "    }\n",
       "</style>\n",
       "<table border=\"1\" class=\"dataframe\">\n",
       "  <thead>\n",
       "    <tr style=\"text-align: right;\">\n",
       "      <th></th>\n",
       "      <th>replyto_userid</th>\n",
       "      <th>retweeted_userid</th>\n",
       "      <th>id</th>\n",
       "      <th>tweetid</th>\n",
       "      <th>created_at</th>\n",
       "      <th>hashtags</th>\n",
       "      <th>urls</th>\n",
       "      <th>mentions_ids</th>\n",
       "      <th>retweet_count</th>\n",
       "      <th>egoID</th>\n",
       "      <th>retweetedUserID</th>\n",
       "      <th>replytoUserID</th>\n",
       "      <th>metionID</th>\n",
       "    </tr>\n",
       "  </thead>\n",
       "  <tbody>\n",
       "    <tr>\n",
       "      <th>0</th>\n",
       "      <td>NaN</td>\n",
       "      <td>NaN</td>\n",
       "      <td>398477318</td>\n",
       "      <td>249552537051598848</td>\n",
       "      <td>Sat Sep 22 16:55:35 +0000 2012</td>\n",
       "      <td>NaN</td>\n",
       "      <td>NaN</td>\n",
       "      <td>2810549959</td>\n",
       "      <td>0</td>\n",
       "      <td>1</td>\n",
       "      <td>NaN</td>\n",
       "      <td>NaN</td>\n",
       "      <td>NaN</td>\n",
       "    </tr>\n",
       "    <tr>\n",
       "      <th>1</th>\n",
       "      <td>NaN</td>\n",
       "      <td>NaN</td>\n",
       "      <td>398477318</td>\n",
       "      <td>249537963145433088</td>\n",
       "      <td>Sat Sep 22 15:57:41 +0000 2012</td>\n",
       "      <td>NaN</td>\n",
       "      <td>NaN</td>\n",
       "      <td>2810549959</td>\n",
       "      <td>0</td>\n",
       "      <td>1</td>\n",
       "      <td>NaN</td>\n",
       "      <td>NaN</td>\n",
       "      <td>NaN</td>\n",
       "    </tr>\n",
       "    <tr>\n",
       "      <th>2</th>\n",
       "      <td>NaN</td>\n",
       "      <td>NaN</td>\n",
       "      <td>398477318</td>\n",
       "      <td>129377372209299456</td>\n",
       "      <td>Thu Oct 27 02:02:23 +0000 2011</td>\n",
       "      <td>NaN</td>\n",
       "      <td>NaN</td>\n",
       "      <td>NaN</td>\n",
       "      <td>0</td>\n",
       "      <td>1</td>\n",
       "      <td>NaN</td>\n",
       "      <td>NaN</td>\n",
       "      <td>NaN</td>\n",
       "    </tr>\n",
       "  </tbody>\n",
       "</table>\n",
       "</div>"
      ],
      "text/plain": [
       "   replyto_userid  retweeted_userid         id             tweetid  \\\n",
       "0             NaN               NaN  398477318  249552537051598848   \n",
       "1             NaN               NaN  398477318  249537963145433088   \n",
       "2             NaN               NaN  398477318  129377372209299456   \n",
       "\n",
       "                       created_at hashtags urls mentions_ids  retweet_count  \\\n",
       "0  Sat Sep 22 16:55:35 +0000 2012      NaN  NaN   2810549959              0   \n",
       "1  Sat Sep 22 15:57:41 +0000 2012      NaN  NaN   2810549959              0   \n",
       "2  Thu Oct 27 02:02:23 +0000 2011      NaN  NaN          NaN              0   \n",
       "\n",
       "   egoID  retweetedUserID  replytoUserID metionID  \n",
       "0      1              NaN            NaN      NaN  \n",
       "1      1              NaN            NaN      NaN  \n",
       "2      1              NaN            NaN      NaN  "
      ]
     },
     "execution_count": 4,
     "metadata": {},
     "output_type": "execute_result"
    }
   ],
   "source": [
    "#reading in the dataframe using the encoding found in the previous cell\n",
    "ego_timelines = pd.read_csv('./Data/EgoTimelines.txt', encoding = \"ISO-8859-1\",delimiter = \"\\t\")\n",
    "\n",
    "#visualize that the dataframe was imported correctly\n",
    "ego_timelines.head(3)"
   ]
  },
  {
   "cell_type": "code",
   "execution_count": 5,
   "metadata": {},
   "outputs": [
    {
     "data": {
      "text/html": [
       "<div>\n",
       "<style scoped>\n",
       "    .dataframe tbody tr th:only-of-type {\n",
       "        vertical-align: middle;\n",
       "    }\n",
       "\n",
       "    .dataframe tbody tr th {\n",
       "        vertical-align: top;\n",
       "    }\n",
       "\n",
       "    .dataframe thead th {\n",
       "        text-align: right;\n",
       "    }\n",
       "</style>\n",
       "<table border=\"1\" class=\"dataframe\">\n",
       "  <thead>\n",
       "    <tr style=\"text-align: right;\">\n",
       "      <th></th>\n",
       "      <th>tweetid</th>\n",
       "      <th>utc_offset</th>\n",
       "    </tr>\n",
       "  </thead>\n",
       "  <tbody>\n",
       "    <tr>\n",
       "      <th>0</th>\n",
       "      <td>249552537051598848</td>\n",
       "      <td>NaN</td>\n",
       "    </tr>\n",
       "    <tr>\n",
       "      <th>1</th>\n",
       "      <td>249537963145433088</td>\n",
       "      <td>NaN</td>\n",
       "    </tr>\n",
       "    <tr>\n",
       "      <th>2</th>\n",
       "      <td>129377372209299456</td>\n",
       "      <td>NaN</td>\n",
       "    </tr>\n",
       "  </tbody>\n",
       "</table>\n",
       "</div>"
      ],
      "text/plain": [
       "              tweetid  utc_offset\n",
       "0  249552537051598848         NaN\n",
       "1  249537963145433088         NaN\n",
       "2  129377372209299456         NaN"
      ]
     },
     "execution_count": 5,
     "metadata": {},
     "output_type": "execute_result"
    }
   ],
   "source": [
    "#merging dataframes to add utc_offset column\n",
    "ego_merge = pd.merge(ego_timelines,ego_alt_prof['utc_offset'], how='inner', left_on='egoID', right_on=ego_alt_prof.index)\n",
    "\n",
    "#only keep columns useful to the replciation\n",
    "ego_merge = ego_merge[['tweetid', 'utc_offset']]\n",
    "\n",
    "#visualize resulting dataframe\n",
    "ego_merge.head(3)"
   ]
  },
  {
   "cell_type": "markdown",
   "metadata": {},
   "source": [
    "## Data preprocessing \n",
    "\n",
    "---"
   ]
  },
  {
   "cell_type": "code",
   "execution_count": 6,
   "metadata": {},
   "outputs": [
    {
     "name": "stdout",
     "output_type": "stream",
     "text": [
      "In total there are 1609389 tweets.\n"
     ]
    }
   ],
   "source": [
    "# Exploring the dataset\n",
    "\n",
    "print(f\"In total there are {len(tweets)} tweets.\")"
   ]
  },
  {
   "cell_type": "code",
   "execution_count": 7,
   "metadata": {},
   "outputs": [
    {
     "data": {
      "text/plain": [
       "Index(['coordinates', 'created_at', 'hashtags', 'media', 'urls',\n",
       "       'favorite_count', 'id', 'in_reply_to_screen_name',\n",
       "       'in_reply_to_status_id', 'in_reply_to_user_id', 'lang', 'place',\n",
       "       'possibly_sensitive', 'retweet_count', 'retweet_id',\n",
       "       'retweet_screen_name', 'source', 'text', 'tweet_url', 'user_created_at',\n",
       "       'user_screen_name', 'user_default_profile_image', 'user_description',\n",
       "       'user_favourites_count', 'user_followers_count', 'user_friends_count',\n",
       "       'user_listed_count', 'user_location', 'user_name', 'user_screen_name.1',\n",
       "       'user_statuses_count', 'user_time_zone', 'user_urls', 'user_verified'],\n",
       "      dtype='object')"
      ]
     },
     "execution_count": 7,
     "metadata": {},
     "output_type": "execute_result"
    }
   ],
   "source": [
    "tweets.columns"
   ]
  },
  {
   "cell_type": "markdown",
   "metadata": {},
   "source": [
    "> For this analysis we are only concerned with english tweets, so we need to filter the data using the language information"
   ]
  },
  {
   "cell_type": "code",
   "execution_count": 8,
   "metadata": {},
   "outputs": [
    {
     "name": "stdout",
     "output_type": "stream",
     "text": [
      "In total there are 1093122 english tweets.\n"
     ]
    }
   ],
   "source": [
    "# Selecting only english tweets\n",
    "\n",
    "en_tweets = tweets.loc[tweets['lang']=='en']\n",
    "print(f\"In total there are {len(en_tweets)} english tweets.\")"
   ]
  },
  {
   "cell_type": "markdown",
   "metadata": {},
   "source": [
    "> We also want to drop duplicate tweets. The reason for this is because if a tweet is repeated many times, then it is most likely due to a bot account. With this analysis we are concern with the sentiment of real users, so data from bot accounts could disrupt the results"
   ]
  },
  {
   "cell_type": "code",
   "execution_count": 9,
   "metadata": {},
   "outputs": [
    {
     "data": {
      "text/plain": [
       "text\n",
       "IF U HAVE A FACEBOOK ACCOUNT,PLZ TELL ME UR ACCOUNTNAME&lt;333 U U TELL ME IT WHEN I TELL U MINE:)    2738\n",
       "Here is a neat little package to create banners  http://perfecttrafficstorm.com/links/19768            171\n",
       "Check this Out  http://perfecttrafficstorm.com/links/19778                                             170\n",
       "Grab this package of articles    http://perfecttrafficstorm.com/links/19769                            169\n",
       "Check out the PLR CHEATER http://perfecttrafficstorm.com/links/19773                                   169\n",
       "dtype: int64"
      ]
     },
     "execution_count": 9,
     "metadata": {},
     "output_type": "execute_result"
    }
   ],
   "source": [
    "# Demonstrating examples of duplicate tweets\n",
    "en_tweets.value_counts(subset = 'text', sort = True)[0:5]\n"
   ]
  },
  {
   "cell_type": "code",
   "execution_count": 10,
   "metadata": {},
   "outputs": [
    {
     "name": "stdout",
     "output_type": "stream",
     "text": [
      "After dropping the duplicates, there are 1054619 english tweets.\n"
     ]
    }
   ],
   "source": [
    "# Dropping all duplicates tweets\n",
    "en_tweets.drop_duplicates(subset=['text'], keep = False, inplace = True)\n",
    "print(f\"After dropping the duplicates, there are {len(en_tweets)} english tweets.\")\n"
   ]
  },
  {
   "cell_type": "code",
   "execution_count": 11,
   "metadata": {},
   "outputs": [],
   "source": [
    "#not_a_retweet = en_tweets['retweet_id'].isna()\n",
    "#en_tweets = en_tweets[not_a_retweet]\n"
   ]
  },
  {
   "cell_type": "code",
   "execution_count": 12,
   "metadata": {},
   "outputs": [
    {
     "name": "stdout",
     "output_type": "stream",
     "text": [
      "There are a total of 6167 users which posted 1054619 english tweets.\n"
     ]
    },
    {
     "data": {
      "text/plain": [
       "user_name\n",
       "michelle              3906\n",
       "Austin Health Jobs    3197\n",
       "Mark Whittington      3189\n",
       "Games For Pro         3188\n",
       "BELIVE ADULT          3162\n",
       "dtype: int64"
      ]
     },
     "execution_count": 12,
     "metadata": {},
     "output_type": "execute_result"
    }
   ],
   "source": [
    "# Checking how many users we have \n",
    "usernames = en_tweets.value_counts(subset = 'user_name', sort = True)\n",
    "\n",
    "print(f\"There are a total of {len(usernames)} users which posted {len(en_tweets)} english tweets.\")\n",
    "usernames.head(5)\n"
   ]
  },
  {
   "cell_type": "code",
   "execution_count": 13,
   "metadata": {},
   "outputs": [
    {
     "name": "stdout",
     "output_type": "stream",
     "text": [
      "Will try to live for a week offline... wish me luck! :D\n",
      "Boa tarde..\n",
      " (@shekinahbiscuit live on http://t.co/nU1N0NJJIJ)\n"
     ]
    },
    {
     "data": {
      "text/plain": [
       "0     Will try to live for a week offline... wish me...\n",
       "3     Boa tarde..\\n (@shekinahbiscuit live on http:/...\n",
       "8     Phew... Valentine's day will be finally over i...\n",
       "9     up\\n (@deiabiscuit32 live on http://t.co/J8uYV...\n",
       "11    simmm\\n (@deiabiscuit32 live on http://t.co/J8...\n",
       "Name: text, dtype: object"
      ]
     },
     "execution_count": 13,
     "metadata": {},
     "output_type": "execute_result"
    }
   ],
   "source": [
    "# Giving a look to some tweet texts\n",
    "# it is not printing all of it\n",
    "\n",
    "print(en_tweets.text.iloc[0])\n",
    "print(en_tweets.text.iloc[1])\n",
    "\n",
    "en_tweets.text.head(5)"
   ]
  },
  {
   "cell_type": "code",
   "execution_count": 14,
   "metadata": {},
   "outputs": [
    {
     "data": {
      "text/plain": [
       "str"
      ]
     },
     "execution_count": 14,
     "metadata": {},
     "output_type": "execute_result"
    }
   ],
   "source": [
    "# The tweets texts are in string format\n",
    "type(en_tweets.text.iloc[0])"
   ]
  },
  {
   "cell_type": "markdown",
   "metadata": {},
   "source": [
    "> Before going on with the sentiment analysis task, there is the need to preprocess the data set. Indeed, from the previous tweets texts we can see that there are many links, stops words which does not add any value to the sentiment classifier. Need to get rid of them "
   ]
  },
  {
   "cell_type": "markdown",
   "metadata": {},
   "source": [
    "## Real PREPROCESSING\n",
    "\n",
    "---\n",
    "Preprocessing id one of the essential steps in any natural language processing (NLP) task. Common preprocessing techniques are:\n",
    "\n",
    "- **Letter casing**, that is converting all letters either upper or lower case. However, in text such as tweets often the upper case is used to emphatise a concept. For example, in the case of Sentiment Analysis, great and GREAT have a different sentiment intensity. Therefore, we will not include this step in our pipeline. In addition to that, as we have seen in class, casefolding could create confusion between words such as apple and Apple. When the dataset is large it is recommended not to do it. \n",
    "\n",
    "- **Noise Removal**, that is eliminating unwanted characters such as URLs (“http://url”), user mentions @ and hashtags symbols #. To do that, we follow the steps of [Shihab Elbagir and Jing Yang](http://www.iaeng.org/publication/IMECS2019/IMECS2019_pp12-16.pdf) and \n",
    "[Toni Pano and Rasha Kashef](https://www.mdpi.com/2504-2289/4/4/33).\n",
    "\n",
    "- **Tokenizing**, convert character string into sequence of tokens, that is words separated by white spaces. Tokenicazion in text such as tweets is or crucial importance. Indeed, we can find punctuation marks such as *!?* or *:-)* that we will like tokeep together because they have a intrinsic meaning. We do not want to separe them. Tokenization in twitter is quite straithforward, and on Python it can be implemented with the nltk library.\n",
    "\n",
    "- The dedicated toolkits will be used as a part of the preprocessing process [TweetNLP](https://www.cs.cmu.edu/~ark/TweetNLP/#pos_down). In social media it is common to find mispelled words, the repetition of letters or syllabes (\"lololol\", \"ahahahah\", \"yeaahhhh\") and abbreviation and slang (\"idk\" for I don't know, or \"imo\" for in my opinion). To deal with this variabilities we need packages created only for social media.\n",
    "\n"
   ]
  },
  {
   "cell_type": "markdown",
   "metadata": {},
   "source": [
    "### Removing special characters from the tweets"
   ]
  },
  {
   "cell_type": "code",
   "execution_count": 15,
   "metadata": {},
   "outputs": [],
   "source": [
    "### need to be better explained .\n",
    "\n",
    "# 'r' added to not handle backslashes in any special way in the following string\n",
    "# https? will match either ‘http’ or ‘https’\n",
    "# https?:\\/\\/ will match any \"http://\" and \"https://\" in the following string\n",
    "# \\S Returns a match where the string does not contain a white space character inside. \n",
    "    # Indeed, we want to keep the test that follows the URL.\n",
    "    \n",
    "# * Zero or more occurrences --> I think we can delete the *, i dont see any case where it could be useful\n",
    "\n",
    "\n",
    "\n",
    "clean_tweets = [] \n",
    "for i in range(len(en_tweets)):\n",
    "    \n",
    "    # Selecting one tweet\n",
    "    text_i = en_tweets.text.iloc[i]\n",
    "    \n",
    "    # Deleting the URL only\n",
    "    text_i = re.sub(r'https?:\\/\\/\\S*', '', text_i, flags = re.MULTILINE)\n",
    "    \n",
    "    # Deleting the user mention @username\n",
    "    text_i = re.sub(r'@\\S*', '', text_i, flags = re.MULTILINE)\n",
    "    \n",
    "    # Deleting the \\n because it means to go to a new line\n",
    "    text_i = text_i.replace(\"\\n\", \"\")\n",
    "    \n",
    "    # Deleting the hashtag symbol #\n",
    "    text_i = text_i.replace(\"#\", \"\")\n",
    "    \n",
    "    # append the cleaned tweet to the list previously initialized\n",
    "    clean_tweets.append(text_i) \n",
    "    "
   ]
  },
  {
   "cell_type": "code",
   "execution_count": 1,
   "metadata": {},
   "outputs": [
    {
     "ename": "NameError",
     "evalue": "name 'en_tweets' is not defined",
     "output_type": "error",
     "traceback": [
      "\u001b[0;31m---------------------------------------------------------------------------\u001b[0m",
      "\u001b[0;31mNameError\u001b[0m                                 Traceback (most recent call last)",
      "\u001b[0;32m<ipython-input-1-0da38ba51ba5>\u001b[0m in \u001b[0;36m<module>\u001b[0;34m\u001b[0m\n\u001b[1;32m      1\u001b[0m \u001b[0;31m# compare before and after preprocessing with a tweet that contains all of them.\u001b[0m\u001b[0;34m\u001b[0m\u001b[0;34m\u001b[0m\u001b[0;34m\u001b[0m\u001b[0m\n\u001b[0;32m----> 2\u001b[0;31m \u001b[0mprint\u001b[0m\u001b[0;34m(\u001b[0m\u001b[0men_tweets\u001b[0m\u001b[0;34m.\u001b[0m\u001b[0mtext\u001b[0m\u001b[0;34m.\u001b[0m\u001b[0miloc\u001b[0m\u001b[0;34m[\u001b[0m\u001b[0;36m8\u001b[0m\u001b[0;34m]\u001b[0m\u001b[0;34m)\u001b[0m\u001b[0;34m\u001b[0m\u001b[0;34m\u001b[0m\u001b[0m\n\u001b[0m\u001b[1;32m      3\u001b[0m \u001b[0mprint\u001b[0m\u001b[0;34m(\u001b[0m\u001b[0mclean_tweets\u001b[0m\u001b[0;34m[\u001b[0m\u001b[0;36m8\u001b[0m\u001b[0;34m]\u001b[0m\u001b[0;34m)\u001b[0m\u001b[0;34m\u001b[0m\u001b[0;34m\u001b[0m\u001b[0m\n\u001b[1;32m      4\u001b[0m \u001b[0;34m\u001b[0m\u001b[0m\n\u001b[1;32m      5\u001b[0m \u001b[0mprint\u001b[0m\u001b[0;34m(\u001b[0m\u001b[0mclean_tweets\u001b[0m\u001b[0;34m[\u001b[0m\u001b[0;36m1\u001b[0m\u001b[0;34m]\u001b[0m\u001b[0;34m)\u001b[0m\u001b[0;34m\u001b[0m\u001b[0;34m\u001b[0m\u001b[0m\n",
      "\u001b[0;31mNameError\u001b[0m: name 'en_tweets' is not defined"
     ]
    }
   ],
   "source": [
    "# compare before and after preprocessing with a tweet that contains all of them.\n",
    "print(en_tweets.text.iloc[8])\n",
    "print(clean_tweets[8])\n",
    "\n",
    "print(clean_tweets[1])\n",
    "en_tweets.text.iloc[1] # to see the \\n, if we print do not see it"
   ]
  },
  {
   "cell_type": "code",
   "execution_count": 18,
   "metadata": {},
   "outputs": [
    {
     "data": {
      "text/html": [
       "<div>\n",
       "<style scoped>\n",
       "    .dataframe tbody tr th:only-of-type {\n",
       "        vertical-align: middle;\n",
       "    }\n",
       "\n",
       "    .dataframe tbody tr th {\n",
       "        vertical-align: top;\n",
       "    }\n",
       "\n",
       "    .dataframe thead th {\n",
       "        text-align: right;\n",
       "    }\n",
       "</style>\n",
       "<table border=\"1\" class=\"dataframe\">\n",
       "  <thead>\n",
       "    <tr style=\"text-align: right;\">\n",
       "      <th></th>\n",
       "      <th>coordinates</th>\n",
       "      <th>created_at</th>\n",
       "      <th>hashtags</th>\n",
       "      <th>media</th>\n",
       "      <th>urls</th>\n",
       "      <th>favorite_count</th>\n",
       "      <th>id</th>\n",
       "      <th>in_reply_to_screen_name</th>\n",
       "      <th>in_reply_to_status_id</th>\n",
       "      <th>in_reply_to_user_id</th>\n",
       "      <th>...</th>\n",
       "      <th>user_friends_count</th>\n",
       "      <th>user_listed_count</th>\n",
       "      <th>user_location</th>\n",
       "      <th>user_name</th>\n",
       "      <th>user_screen_name.1</th>\n",
       "      <th>user_statuses_count</th>\n",
       "      <th>user_time_zone</th>\n",
       "      <th>user_urls</th>\n",
       "      <th>user_verified</th>\n",
       "      <th>clean_tweets</th>\n",
       "    </tr>\n",
       "  </thead>\n",
       "  <tbody>\n",
       "    <tr>\n",
       "      <th>0</th>\n",
       "      <td>NaN</td>\n",
       "      <td>Sun Feb 14 23:29:33 +0000 2010</td>\n",
       "      <td>NaN</td>\n",
       "      <td>NaN</td>\n",
       "      <td>NaN</td>\n",
       "      <td>0</td>\n",
       "      <td>9116606357</td>\n",
       "      <td>NaN</td>\n",
       "      <td>NaN</td>\n",
       "      <td>NaN</td>\n",
       "      <td>...</td>\n",
       "      <td>17</td>\n",
       "      <td>0</td>\n",
       "      <td>Sofia, Bulgaria</td>\n",
       "      <td>Ina Gerdjikova</td>\n",
       "      <td>InaGerdjikova</td>\n",
       "      <td>6</td>\n",
       "      <td>NaN</td>\n",
       "      <td>http://kutiazamisli.blogspot.com/</td>\n",
       "      <td>False</td>\n",
       "      <td>Will try to live for a week offline... wish me...</td>\n",
       "    </tr>\n",
       "    <tr>\n",
       "      <th>3</th>\n",
       "      <td>NaN</td>\n",
       "      <td>Tue Aug 12 17:51:37 +0000 2014</td>\n",
       "      <td>NaN</td>\n",
       "      <td>NaN</td>\n",
       "      <td>http://twitcam.livestream.com/g7hpe</td>\n",
       "      <td>0</td>\n",
       "      <td>499251874256920577</td>\n",
       "      <td>NaN</td>\n",
       "      <td>NaN</td>\n",
       "      <td>NaN</td>\n",
       "      <td>...</td>\n",
       "      <td>9</td>\n",
       "      <td>0</td>\n",
       "      <td>NaN</td>\n",
       "      <td>Ana Paula Ribeiro</td>\n",
       "      <td>anadadal</td>\n",
       "      <td>7</td>\n",
       "      <td>NaN</td>\n",
       "      <td>NaN</td>\n",
       "      <td>False</td>\n",
       "      <td>Boa tarde..\\n ( live on</td>\n",
       "    </tr>\n",
       "    <tr>\n",
       "      <th>8</th>\n",
       "      <td>NaN</td>\n",
       "      <td>Sun Feb 14 18:46:26 +0000 2010</td>\n",
       "      <td>NaN</td>\n",
       "      <td>NaN</td>\n",
       "      <td>NaN</td>\n",
       "      <td>0</td>\n",
       "      <td>9107804301</td>\n",
       "      <td>NaN</td>\n",
       "      <td>NaN</td>\n",
       "      <td>NaN</td>\n",
       "      <td>...</td>\n",
       "      <td>17</td>\n",
       "      <td>0</td>\n",
       "      <td>Sofia, Bulgaria</td>\n",
       "      <td>Ina Gerdjikova</td>\n",
       "      <td>InaGerdjikova</td>\n",
       "      <td>6</td>\n",
       "      <td>NaN</td>\n",
       "      <td>http://kutiazamisli.blogspot.com/</td>\n",
       "      <td>False</td>\n",
       "      <td>Phew... Valentine's day will be finally over i...</td>\n",
       "    </tr>\n",
       "  </tbody>\n",
       "</table>\n",
       "<p>3 rows × 35 columns</p>\n",
       "</div>"
      ],
      "text/plain": [
       "  coordinates                      created_at hashtags media  \\\n",
       "0         NaN  Sun Feb 14 23:29:33 +0000 2010      NaN   NaN   \n",
       "3         NaN  Tue Aug 12 17:51:37 +0000 2014      NaN   NaN   \n",
       "8         NaN  Sun Feb 14 18:46:26 +0000 2010      NaN   NaN   \n",
       "\n",
       "                                  urls  favorite_count                  id  \\\n",
       "0                                  NaN               0          9116606357   \n",
       "3  http://twitcam.livestream.com/g7hpe               0  499251874256920577   \n",
       "8                                  NaN               0          9107804301   \n",
       "\n",
       "  in_reply_to_screen_name  in_reply_to_status_id  in_reply_to_user_id  ...  \\\n",
       "0                     NaN                    NaN                  NaN  ...   \n",
       "3                     NaN                    NaN                  NaN  ...   \n",
       "8                     NaN                    NaN                  NaN  ...   \n",
       "\n",
       "  user_friends_count user_listed_count    user_location          user_name  \\\n",
       "0                 17                 0  Sofia, Bulgaria     Ina Gerdjikova   \n",
       "3                  9                 0              NaN  Ana Paula Ribeiro   \n",
       "8                 17                 0  Sofia, Bulgaria     Ina Gerdjikova   \n",
       "\n",
       "   user_screen_name.1 user_statuses_count user_time_zone  \\\n",
       "0       InaGerdjikova                   6            NaN   \n",
       "3            anadadal                   7            NaN   \n",
       "8       InaGerdjikova                   6            NaN   \n",
       "\n",
       "                           user_urls user_verified  \\\n",
       "0  http://kutiazamisli.blogspot.com/         False   \n",
       "3                                NaN         False   \n",
       "8  http://kutiazamisli.blogspot.com/         False   \n",
       "\n",
       "                                        clean_tweets  \n",
       "0  Will try to live for a week offline... wish me...  \n",
       "3                           Boa tarde..\\n ( live on   \n",
       "8  Phew... Valentine's day will be finally over i...  \n",
       "\n",
       "[3 rows x 35 columns]"
      ]
     },
     "execution_count": 18,
     "metadata": {},
     "output_type": "execute_result"
    }
   ],
   "source": [
    "# Add the new column to the original df\n",
    "\n",
    "en_tweets['clean_tweets'] = clean_tweets\n",
    "en_tweets.head(3)"
   ]
  },
  {
   "cell_type": "code",
   "execution_count": 19,
   "metadata": {},
   "outputs": [],
   "source": [
    "en_tweets['retweetability'] = en_tweets['retweet_count'] > 0"
   ]
  },
  {
   "cell_type": "markdown",
   "metadata": {},
   "source": [
    "## Processing the data for analysis of day/hour "
   ]
  },
  {
   "cell_type": "code",
   "execution_count": 20,
   "metadata": {},
   "outputs": [
    {
     "data": {
      "text/plain": [
       "Index(['coordinates', 'created_at', 'hashtags', 'media', 'urls',\n",
       "       'favorite_count', 'id', 'in_reply_to_screen_name',\n",
       "       'in_reply_to_status_id', 'in_reply_to_user_id', 'lang', 'place',\n",
       "       'possibly_sensitive', 'retweet_count', 'retweet_id',\n",
       "       'retweet_screen_name', 'source', 'text', 'tweet_url', 'user_created_at',\n",
       "       'user_screen_name', 'user_default_profile_image', 'user_description',\n",
       "       'user_favourites_count', 'user_followers_count', 'user_friends_count',\n",
       "       'user_listed_count', 'user_location', 'user_name', 'user_screen_name.1',\n",
       "       'user_statuses_count', 'user_time_zone', 'user_urls', 'user_verified',\n",
       "       'clean_tweets', 'retweetability', 'tweetid', 'utc_offset'],\n",
       "      dtype='object')"
      ]
     },
     "execution_count": 20,
     "metadata": {},
     "output_type": "execute_result"
    }
   ],
   "source": [
    "#merging dataframes to add utc_offset column\n",
    "en_tweets = pd.merge(en_tweets,ego_merge, how='inner', left_on='id', right_on = 'tweetid')\n",
    "\n",
    "en_tweets.columns"
   ]
  },
  {
   "cell_type": "code",
   "execution_count": 21,
   "metadata": {},
   "outputs": [],
   "source": [
    "en_tweets['date'] = en_tweets.created_at.apply(lambda d: datetime.strptime(d, '%a %b %d %H:%M:%S +0000 %Y'))"
   ]
  },
  {
   "cell_type": "code",
   "execution_count": 22,
   "metadata": {},
   "outputs": [],
   "source": [
    "def get_seconds(date):\n",
    "    seconds = (date.hour*3600) + (date.minute*60) + date.second\n",
    "    return seconds\n",
    "\n",
    "def day_change(time):\n",
    "    return 1 if time > 86400 else -1 if time < 0 else 0\n",
    "\n",
    "def fix_time(time):\n",
    "    return time - 86400 if time > 86400 else time + 86400 if time < 0 else time\n"
   ]
  },
  {
   "cell_type": "code",
   "execution_count": 23,
   "metadata": {},
   "outputs": [],
   "source": [
    "en_tweets['day_seconds'] = en_tweets.date.apply(lambda x: get_seconds(x)) + en_tweets['utc_offset']"
   ]
  },
  {
   "cell_type": "code",
   "execution_count": 24,
   "metadata": {},
   "outputs": [],
   "source": [
    "en_tweets['day_number'] = en_tweets.date.apply(lambda x: x.weekday())"
   ]
  },
  {
   "cell_type": "code",
   "execution_count": 25,
   "metadata": {},
   "outputs": [],
   "source": [
    "en_tweets['norm_day'] = en_tweets.day_seconds.apply(lambda x: day_change(x)) + en_tweets.day_number\n",
    "days=[\"Mon\",\"Tue\",\"Wed\",\"Thur\",\"Fri\",\"Sat\",\"Sun\"]\n",
    "en_tweets['day'] =  en_tweets.norm_day.apply(lambda x: days[x%7])"
   ]
  },
  {
   "cell_type": "code",
   "execution_count": 26,
   "metadata": {},
   "outputs": [
    {
     "data": {
      "text/plain": [
       "Index(['coordinates', 'created_at', 'hashtags', 'media', 'urls',\n",
       "       'favorite_count', 'id', 'in_reply_to_screen_name',\n",
       "       'in_reply_to_status_id', 'in_reply_to_user_id', 'lang', 'place',\n",
       "       'possibly_sensitive', 'retweet_count', 'retweet_id',\n",
       "       'retweet_screen_name', 'source', 'text', 'tweet_url', 'user_created_at',\n",
       "       'user_screen_name', 'user_default_profile_image', 'user_description',\n",
       "       'user_favourites_count', 'user_followers_count', 'user_friends_count',\n",
       "       'user_listed_count', 'user_location', 'user_name', 'user_screen_name.1',\n",
       "       'user_statuses_count', 'user_time_zone', 'user_urls', 'user_verified',\n",
       "       'clean_tweets', 'retweetability', 'tweetid', 'utc_offset', 'date',\n",
       "       'day_seconds', 'day_number', 'norm_day', 'day', 'hour'],\n",
       "      dtype='object')"
      ]
     },
     "execution_count": 26,
     "metadata": {},
     "output_type": "execute_result"
    }
   ],
   "source": [
    "en_tweets['day_seconds'] = (en_tweets.day_seconds.apply(lambda x: fix_time(x)))\n",
    "en_tweets['hour'] = en_tweets['day_seconds']//3600\n",
    "en_tweets.hour.replace(24,0, inplace=True)\n",
    "\n",
    "en_tweets.columns"
   ]
  },
  {
   "cell_type": "markdown",
   "metadata": {},
   "source": [
    "Only keep columns we are interested in"
   ]
  },
  {
   "cell_type": "code",
   "execution_count": 27,
   "metadata": {},
   "outputs": [
    {
     "data": {
      "text/html": [
       "<div>\n",
       "<style scoped>\n",
       "    .dataframe tbody tr th:only-of-type {\n",
       "        vertical-align: middle;\n",
       "    }\n",
       "\n",
       "    .dataframe tbody tr th {\n",
       "        vertical-align: top;\n",
       "    }\n",
       "\n",
       "    .dataframe thead th {\n",
       "        text-align: right;\n",
       "    }\n",
       "</style>\n",
       "<table border=\"1\" class=\"dataframe\">\n",
       "  <thead>\n",
       "    <tr style=\"text-align: right;\">\n",
       "      <th></th>\n",
       "      <th>hashtags</th>\n",
       "      <th>media</th>\n",
       "      <th>urls</th>\n",
       "      <th>id</th>\n",
       "      <th>place</th>\n",
       "      <th>retweet_count</th>\n",
       "      <th>text</th>\n",
       "      <th>user_followers_count</th>\n",
       "      <th>user_friends_count</th>\n",
       "      <th>user_location</th>\n",
       "      <th>user_name</th>\n",
       "      <th>user_screen_name.1</th>\n",
       "      <th>user_statuses_count</th>\n",
       "      <th>user_verified</th>\n",
       "      <th>clean_tweets</th>\n",
       "      <th>tweetid</th>\n",
       "      <th>utc_offset</th>\n",
       "      <th>date</th>\n",
       "      <th>day</th>\n",
       "      <th>hour</th>\n",
       "    </tr>\n",
       "  </thead>\n",
       "  <tbody>\n",
       "    <tr>\n",
       "      <th>0</th>\n",
       "      <td>NaN</td>\n",
       "      <td>NaN</td>\n",
       "      <td>NaN</td>\n",
       "      <td>9116606357</td>\n",
       "      <td>NaN</td>\n",
       "      <td>0</td>\n",
       "      <td>Will try to live for a week offline... wish me...</td>\n",
       "      <td>29</td>\n",
       "      <td>17</td>\n",
       "      <td>Sofia, Bulgaria</td>\n",
       "      <td>Ina Gerdjikova</td>\n",
       "      <td>InaGerdjikova</td>\n",
       "      <td>6</td>\n",
       "      <td>False</td>\n",
       "      <td>Will try to live for a week offline... wish me...</td>\n",
       "      <td>9116606357</td>\n",
       "      <td>-10800.0</td>\n",
       "      <td>2010-02-14 23:29:33</td>\n",
       "      <td>Sun</td>\n",
       "      <td>20.0</td>\n",
       "    </tr>\n",
       "    <tr>\n",
       "      <th>1</th>\n",
       "      <td>NaN</td>\n",
       "      <td>NaN</td>\n",
       "      <td>http://twitcam.livestream.com/g7hpe</td>\n",
       "      <td>499251874256920577</td>\n",
       "      <td>NaN</td>\n",
       "      <td>0</td>\n",
       "      <td>Boa tarde..\\n (@shekinahbiscuit live on http:/...</td>\n",
       "      <td>12</td>\n",
       "      <td>9</td>\n",
       "      <td>NaN</td>\n",
       "      <td>Ana Paula Ribeiro</td>\n",
       "      <td>anadadal</td>\n",
       "      <td>7</td>\n",
       "      <td>False</td>\n",
       "      <td>Boa tarde..\\n ( live on</td>\n",
       "      <td>499251874256920577</td>\n",
       "      <td>NaN</td>\n",
       "      <td>2014-08-12 17:51:37</td>\n",
       "      <td>Tue</td>\n",
       "      <td>NaN</td>\n",
       "    </tr>\n",
       "    <tr>\n",
       "      <th>2</th>\n",
       "      <td>NaN</td>\n",
       "      <td>NaN</td>\n",
       "      <td>NaN</td>\n",
       "      <td>9107804301</td>\n",
       "      <td>NaN</td>\n",
       "      <td>0</td>\n",
       "      <td>Phew... Valentine's day will be finally over i...</td>\n",
       "      <td>29</td>\n",
       "      <td>17</td>\n",
       "      <td>Sofia, Bulgaria</td>\n",
       "      <td>Ina Gerdjikova</td>\n",
       "      <td>InaGerdjikova</td>\n",
       "      <td>6</td>\n",
       "      <td>False</td>\n",
       "      <td>Phew... Valentine's day will be finally over i...</td>\n",
       "      <td>9107804301</td>\n",
       "      <td>-10800.0</td>\n",
       "      <td>2010-02-14 18:46:26</td>\n",
       "      <td>Sun</td>\n",
       "      <td>15.0</td>\n",
       "    </tr>\n",
       "  </tbody>\n",
       "</table>\n",
       "</div>"
      ],
      "text/plain": [
       "  hashtags media                                 urls                  id  \\\n",
       "0      NaN   NaN                                  NaN          9116606357   \n",
       "1      NaN   NaN  http://twitcam.livestream.com/g7hpe  499251874256920577   \n",
       "2      NaN   NaN                                  NaN          9107804301   \n",
       "\n",
       "  place  retweet_count                                               text  \\\n",
       "0   NaN              0  Will try to live for a week offline... wish me...   \n",
       "1   NaN              0  Boa tarde..\\n (@shekinahbiscuit live on http:/...   \n",
       "2   NaN              0  Phew... Valentine's day will be finally over i...   \n",
       "\n",
       "   user_followers_count  user_friends_count    user_location  \\\n",
       "0                    29                  17  Sofia, Bulgaria   \n",
       "1                    12                   9              NaN   \n",
       "2                    29                  17  Sofia, Bulgaria   \n",
       "\n",
       "           user_name user_screen_name.1  user_statuses_count  user_verified  \\\n",
       "0     Ina Gerdjikova      InaGerdjikova                    6          False   \n",
       "1  Ana Paula Ribeiro           anadadal                    7          False   \n",
       "2     Ina Gerdjikova      InaGerdjikova                    6          False   \n",
       "\n",
       "                                        clean_tweets             tweetid  \\\n",
       "0  Will try to live for a week offline... wish me...          9116606357   \n",
       "1                           Boa tarde..\\n ( live on   499251874256920577   \n",
       "2  Phew... Valentine's day will be finally over i...          9107804301   \n",
       "\n",
       "   utc_offset                date  day  hour  \n",
       "0    -10800.0 2010-02-14 23:29:33  Sun  20.0  \n",
       "1         NaN 2014-08-12 17:51:37  Tue   NaN  \n",
       "2    -10800.0 2010-02-14 18:46:26  Sun  15.0  "
      ]
     },
     "execution_count": 27,
     "metadata": {},
     "output_type": "execute_result"
    }
   ],
   "source": [
    "en_tweets =  en_tweets[['hashtags', 'media', 'urls', 'id', 'place', 'retweet_count', 'text', 'user_followers_count', 'user_friends_count',\n",
    "                       'user_location', 'user_name', 'user_screen_name.1', 'user_statuses_count', 'user_verified', 'clean_tweets', \n",
    "                       'tweetid', 'utc_offset', 'date', 'day', 'hour']]\n",
    "en_tweets.head(3)"
   ]
  },
  {
   "cell_type": "markdown",
   "metadata": {},
   "source": [
    "## Rule-based sentiment analysis - VADER\n",
    "\n",
    "---\n",
    "\n",
    "The VADER (Valence Aware Dictionary and sEntiment Reasoner) sentiment analysis consists of 4 columns: positive, neutral, negative, and compound polarity scores. For our case, we are only interested in the compound polarity score to determine the sentiment of the tweets"
   ]
  },
  {
   "cell_type": "markdown",
   "metadata": {},
   "source": [
    "## Results with the cleaned tweets"
   ]
  },
  {
   "cell_type": "code",
   "execution_count": 28,
   "metadata": {},
   "outputs": [],
   "source": [
    "#Initializing the Rule-based sentiment analyzer \n",
    "analyzer = SentimentIntensityAnalyzer()"
   ]
  },
  {
   "cell_type": "code",
   "execution_count": 29,
   "metadata": {},
   "outputs": [],
   "source": [
    "en_tweets['sent_score'] = [analyzer.polarity_scores(x)['compound'] for x in en_tweets['clean_tweets']]"
   ]
  },
  {
   "cell_type": "code",
   "execution_count": 30,
   "metadata": {},
   "outputs": [],
   "source": [
    "def sentiment(scores):\n",
    "    sents = []\n",
    "    for score in scores:\n",
    "        if score >= 0.05:\n",
    "            sent = 'pos'\n",
    "        elif score <= -0.05:\n",
    "            sent = 'neg'\n",
    "        elif abs(score) <0.05:\n",
    "            sent = 'neu'\n",
    "        sents.append(sent)\n",
    "    return sents"
   ]
  },
  {
   "cell_type": "code",
   "execution_count": 31,
   "metadata": {},
   "outputs": [],
   "source": [
    "en_tweets['sentiment'] = sentiment(en_tweets.sent_score)"
   ]
  },
  {
   "cell_type": "code",
   "execution_count": 32,
   "metadata": {},
   "outputs": [],
   "source": [
    "grouped_sents = en_tweets.groupby(by='sentiment')"
   ]
  },
  {
   "cell_type": "code",
   "execution_count": 33,
   "metadata": {},
   "outputs": [
    {
     "name": "stdout",
     "output_type": "stream",
     "text": [
      "Number of positive sentences: 486486\n",
      "Number of negative sentences: 210066\n",
      "Number of neutral sentences: 358067\n"
     ]
    }
   ],
   "source": [
    "print('Number of positive sentences:',sum(np.array(en_tweets['sent_score'])>=0.05))\n",
    "print('Number of negative sentences:',sum(np.array(en_tweets['sent_score'])<=-0.05))\n",
    "print('Number of neutral sentences:',sum(np.abs(np.array(en_tweets['sent_score']))<0.05))"
   ]
  },
  {
   "cell_type": "code",
   "execution_count": 34,
   "metadata": {},
   "outputs": [
    {
     "data": {
      "image/png": "[encoded data removed]",
      "text/plain": [
       "<Figure size 432x432 with 1 Axes>"
      ]
     },
     "metadata": {
      "needs_background": "light"
     },
     "output_type": "display_data"
    }
   ],
   "source": [
    "plt.figure(figsize=(6,6))\n",
    "plt.bar(grouped_sents.size().index, grouped_sents.size().values, width=0.8)\n",
    "plt.xlabel('Sentiment')\n",
    "plt.ylabel('Number of Tweets')\n",
    "plt.show()"
   ]
  },
  {
   "cell_type": "code",
   "execution_count": 35,
   "metadata": {},
   "outputs": [
    {
     "data": {
      "image/png": "[encoded data removed]",
      "text/plain": [
       "<Figure size 432x432 with 1 Axes>"
      ]
     },
     "metadata": {
      "needs_background": "light"
     },
     "output_type": "display_data"
    }
   ],
   "source": [
    "# Threshold as in the other paper \n",
    "def sentiment(scores):\n",
    "    sents = []\n",
    "    for score in scores:\n",
    "        if score >= 0.001:\n",
    "            sent = 'pos'\n",
    "        elif score <= -0.001:\n",
    "            sent = 'neg'\n",
    "        elif abs(score) <0.001:\n",
    "            sent = 'neu'\n",
    "        sents.append(sent)\n",
    "    return sents\n",
    "\n",
    "en_tweets['sentiment'] = sentiment(en_tweets.sent_score)\n",
    "grouped_sents2 = en_tweets.groupby(by='sentiment')\n",
    "\n",
    "plt.figure(figsize=(6,6))\n",
    "plt.bar(grouped_sents2.size().index, grouped_sents2.size().values, width=0.8)\n",
    "plt.xlabel('Sentiment')\n",
    "plt.ylabel('Number of Tweets')\n",
    "plt.show()"
   ]
  },
  {
   "cell_type": "markdown",
   "metadata": {},
   "source": [
    "### We first look if sentiment changes based on hour of the day or day of the week"
   ]
  },
  {
   "cell_type": "code",
   "execution_count": 36,
   "metadata": {},
   "outputs": [],
   "source": [
    "en_tweets_time = en_tweets.dropna(subset=['utc_offset'])\n",
    "pos_sents_time = en_tweets_time.loc[en_tweets_time['sentiment'] == 'pos']\n",
    "neg_sents_time = en_tweets_time.loc[en_tweets_time['sentiment'] == 'neg']"
   ]
  },
  {
   "cell_type": "code",
   "execution_count": 37,
   "metadata": {},
   "outputs": [],
   "source": [
    "tweet_per_h = en_tweets_time.groupby(['day','hour']).size().unstack()\n",
    "pos_tweet_per_h = pos_sents_time.groupby(['day','hour']).size().unstack()\n",
    "neg_tweet_per_h = neg_sents_time.groupby(['day','hour']).size().unstack()"
   ]
  },
  {
   "cell_type": "code",
   "execution_count": 38,
   "metadata": {},
   "outputs": [],
   "source": [
    "new_index = ['Sun', 'Mon', 'Tue', 'Wed', 'Thur', 'Fri', 'Sat']\n",
    "tweet_per_h = tweet_per_h.reindex(new_index)\n",
    "pos_tweet_per_h = pos_tweet_per_h.reindex(new_index)\n",
    "neg_tweet_per_h = neg_tweet_per_h.reindex(new_index)"
   ]
  },
  {
   "cell_type": "code",
   "execution_count": 39,
   "metadata": {},
   "outputs": [],
   "source": [
    "colors = ['tomato', 'darkgoldenrod', 'limegreen', 'lightseagreen', 'deepskyblue', 'slateblue','magenta']"
   ]
  },
  {
   "cell_type": "code",
   "execution_count": 40,
   "metadata": {},
   "outputs": [
    {
     "data": {
      "image/png": "[encoded data removed]",
      "text/plain": [
       "<Figure size 1440x576 with 3 Axes>"
      ]
     },
     "metadata": {
      "needs_background": "light"
     },
     "output_type": "display_data"
    }
   ],
   "source": [
    "plt.figure(figsize=(20,8))\n",
    "plt.suptitle('Figure 2 Replication')\n",
    "\n",
    "plt.subplot(1, 3, 1)\n",
    "plt.xlim(-0.5, 24)\n",
    "plt.xticks(np.arange(0, 24, step=1))\n",
    "plt.xlabel('Hour')\n",
    "plt.ylabel('Number of tweets')\n",
    "plt.title('All Tweets')\n",
    "\n",
    "\n",
    "for i in range(7):\n",
    "    plt.plot(tweet_per_h.iloc[i],c=colors[i])\n",
    "\n",
    "plt.subplot(1, 3, 2)\n",
    "plt.xlim(-0.5, 24)\n",
    "plt.xticks(np.arange(0, 24, step=1))\n",
    "plt.xlabel('Hour')\n",
    "plt.ylabel('Number of tweets')\n",
    "plt.title('Postive Tweets')\n",
    "\n",
    "\n",
    "for i in range(7):\n",
    "    plt.plot(pos_tweet_per_h.iloc[i],c=colors[i])\n",
    "\n",
    "#plotting the reputation distribution for treated and not treated patients matched\n",
    "plt.subplot(1, 3, 3)\n",
    "plt.xlim(-0.5, 24)\n",
    "plt.xticks(np.arange(0, 24, step=1))\n",
    "plt.xlabel('Hour')\n",
    "plt.ylabel('Number of tweets')\n",
    "plt.title('Negative Tweets')\n",
    "\n",
    "\n",
    "for i in range(7):\n",
    "    plt.plot(neg_tweet_per_h.iloc[i],c=colors[i])\n",
    "    plt.legend(new_index, loc='lower right')\n",
    "\n",
    "plt.show()"
   ]
  },
  {
   "cell_type": "markdown",
   "metadata": {},
   "source": [
    "We see that the positive and negative sentiment tweets have the same trend as all the tweets, so we can conclude that the day of the week or hour of the day does not have an affect on the sentiment"
   ]
  },
  {
   "cell_type": "markdown",
   "metadata": {},
   "source": [
    "### Analysis of tweet sentiment on retweet count"
   ]
  },
  {
   "cell_type": "code",
   "execution_count": 41,
   "metadata": {},
   "outputs": [],
   "source": [
    "pos_sents = en_tweets.loc[en_tweets['sentiment'] == 'pos']\n",
    "neg_sents = en_tweets.loc[en_tweets['sentiment'] == 'neg']"
   ]
  },
  {
   "cell_type": "markdown",
   "metadata": {},
   "source": [
    "Niave analysis on affect of sentiment on retweet count "
   ]
  },
  {
   "cell_type": "code",
   "execution_count": 42,
   "metadata": {},
   "outputs": [
    {
     "name": "stdout",
     "output_type": "stream",
     "text": [
      "The average number of retweets for positive tweets is 264.72\n",
      "The average number of retweets for negative tweets is 177.06\n"
     ]
    }
   ],
   "source": [
    "print(\"The average number of retweets for positive tweets is {:.2f}\".format(pos_sents.retweet_count.mean()))\n",
    "print(\"The average number of retweets for negative tweets is {:.2f}\".format(neg_sents.retweet_count.mean()))"
   ]
  },
  {
   "cell_type": "code",
   "execution_count": 43,
   "metadata": {},
   "outputs": [
    {
     "data": {
      "text/plain": [
       "Ttest_indResult(statistic=8.836427150120006, pvalue=9.904772347653067e-19)"
      ]
     },
     "execution_count": 43,
     "metadata": {},
     "output_type": "execute_result"
    }
   ],
   "source": [
    "stats.ttest_ind(pos_sents.retweet_count, neg_sents.retweet_count)"
   ]
  },
  {
   "cell_type": "code",
   "execution_count": 44,
   "metadata": {},
   "outputs": [
    {
     "data": {
      "text/plain": [
       "MannwhitneyuResult(statistic=52208762073.5, pvalue=2.6556701047976775e-08)"
      ]
     },
     "execution_count": 44,
     "metadata": {},
     "output_type": "execute_result"
    }
   ],
   "source": [
    "stats.mannwhitneyu(pos_sents.retweet_count, neg_sents.retweet_count)"
   ]
  },
  {
   "cell_type": "markdown",
   "metadata": {},
   "source": [
    "## Not sure if the statistical tests above make sense"
   ]
  },
  {
   "cell_type": "code",
   "execution_count": 45,
   "metadata": {},
   "outputs": [
    {
     "data": {
      "text/plain": [
       "count    491006.000000\n",
       "mean        264.721500\n",
       "std        4156.538755\n",
       "min           0.000000\n",
       "25%           0.000000\n",
       "50%           0.000000\n",
       "75%           0.000000\n",
       "max      551788.000000\n",
       "Name: retweet_count, dtype: float64"
      ]
     },
     "execution_count": 45,
     "metadata": {},
     "output_type": "execute_result"
    }
   ],
   "source": [
    "pos_sents['retweet_count'].describe()"
   ]
  },
  {
   "cell_type": "code",
   "execution_count": 46,
   "metadata": {},
   "outputs": [
    {
     "data": {
      "text/plain": [
       "count    213963.000000\n",
       "mean        177.060295\n",
       "std        2945.373605\n",
       "min           0.000000\n",
       "25%           0.000000\n",
       "50%           0.000000\n",
       "75%           0.000000\n",
       "max      426173.000000\n",
       "Name: retweet_count, dtype: float64"
      ]
     },
     "execution_count": 46,
     "metadata": {},
     "output_type": "execute_result"
    }
   ],
   "source": [
    "neg_sents['retweet_count'].describe()"
   ]
  },
  {
   "cell_type": "code",
   "execution_count": 47,
   "metadata": {},
   "outputs": [
    {
     "data": {
      "text/plain": [
       "296296    551788\n",
       "635279    548016\n",
       "911841    473644\n",
       "391055    337006\n",
       "491567    322409\n",
       "712406    309553\n",
       "960803    298331\n",
       "249349    297234\n",
       "121048    284859\n",
       "324354    274359\n",
       "Name: retweet_count, dtype: int64"
      ]
     },
     "execution_count": 47,
     "metadata": {},
     "output_type": "execute_result"
    }
   ],
   "source": [
    "pos_sents.sort_values(by=['retweet_count'], ascending = False)['retweet_count'].head(10)"
   ]
  },
  {
   "cell_type": "code",
   "execution_count": 48,
   "metadata": {},
   "outputs": [
    {
     "data": {
      "text/plain": [
       "516541    426173\n",
       "635441    290667\n",
       "635199    237713\n",
       "282273    226724\n",
       "635294    201765\n",
       "281781    196806\n",
       "120998    181591\n",
       "324272    178398\n",
       "326273    169294\n",
       "424413    167615\n",
       "Name: retweet_count, dtype: int64"
      ]
     },
     "execution_count": 48,
     "metadata": {},
     "output_type": "execute_result"
    }
   ],
   "source": [
    "neg_sents.sort_values(by=['retweet_count'], ascending = False)['retweet_count'].head(10)"
   ]
  },
  {
   "cell_type": "markdown",
   "metadata": {},
   "source": [
    "When looking at simple statistics, we see that positive sentiment tweets have a much larger standard deviation, so there is more likely a significantly larger number of tweets with large retweet counts. Also, looking at the top 10 highest retweeted tweets for positive tweets we find that positive tweets have higher max retween count. So, we need to try and filter the data to avoid effects of these very popular tweets"
   ]
  },
  {
   "cell_type": "code",
   "execution_count": 49,
   "metadata": {},
   "outputs": [],
   "source": [
    "pos_sents_filtered = pos_sents.loc[pos_sents['retweet_count']<1000]\n",
    "neg_sents_filtered = neg_sents.loc[neg_sents['retweet_count']<1000]"
   ]
  },
  {
   "cell_type": "code",
   "execution_count": 50,
   "metadata": {},
   "outputs": [
    {
     "data": {
      "text/plain": [
       "209532"
      ]
     },
     "execution_count": 50,
     "metadata": {},
     "output_type": "execute_result"
    }
   ],
   "source": [
    "len(neg_sents_filtered)"
   ]
  },
  {
   "cell_type": "code",
   "execution_count": 51,
   "metadata": {},
   "outputs": [
    {
     "name": "stdout",
     "output_type": "stream",
     "text": [
      "The average number of retweets for positive tweets is 12.98\n",
      "The average number of retweets for negative tweets is 14.46\n"
     ]
    }
   ],
   "source": [
    "print(\"The average number of retweets for positive tweets is {:.2f}\".format(pos_sents_filtered.retweet_count.mean()))\n",
    "print(\"The average number of retweets for negative tweets is {:.2f}\".format(neg_sents_filtered.retweet_count.mean()))"
   ]
  },
  {
   "cell_type": "code",
   "execution_count": 52,
   "metadata": {},
   "outputs": [
    {
     "data": {
      "text/plain": [
       "Ttest_indResult(statistic=-7.0892444652205, pvalue=1.3497451930110384e-12)"
      ]
     },
     "execution_count": 52,
     "metadata": {},
     "output_type": "execute_result"
    }
   ],
   "source": [
    "stats.ttest_ind(pos_sents_filtered.retweet_count, neg_sents_filtered.retweet_count)"
   ]
  },
  {
   "cell_type": "code",
   "execution_count": 53,
   "metadata": {},
   "outputs": [
    {
     "data": {
      "text/plain": [
       "MannwhitneyuResult(statistic=49916930617.5, pvalue=7.984214306830045e-13)"
      ]
     },
     "execution_count": 53,
     "metadata": {},
     "output_type": "execute_result"
    }
   ],
   "source": [
    "stats.mannwhitneyu(pos_sents_filtered.retweet_count, neg_sents_filtered.retweet_count)"
   ]
  },
  {
   "cell_type": "markdown",
   "metadata": {},
   "source": [
    "However, we may find that the tweets with 0 retweets affect the data. Let's look at tweets with at least one retweet"
   ]
  },
  {
   "cell_type": "code",
   "execution_count": 54,
   "metadata": {},
   "outputs": [],
   "source": [
    "pos_sents_filtered = pos_sents.loc[(pos_sents['retweet_count']<1000) & (pos_sents['retweet_count'])>0]\n",
    "neg_sents_filtered = neg_sents.loc[(neg_sents['retweet_count']<1000) & (neg_sents['retweet_count']>0)]"
   ]
  },
  {
   "cell_type": "code",
   "execution_count": 55,
   "metadata": {},
   "outputs": [
    {
     "name": "stdout",
     "output_type": "stream",
     "text": [
      "The average number of retweets for positive tweets is 44.40\n",
      "The average number of retweets for negative tweets is 63.40\n"
     ]
    }
   ],
   "source": [
    "print(\"The average number of retweets for positive tweets is {:.2f}\".format(pos_sents_filtered.retweet_count.mean()))\n",
    "print(\"The average number of retweets for negative tweets is {:.2f}\".format(neg_sents_filtered.retweet_count.mean()))"
   ]
  },
  {
   "cell_type": "code",
   "execution_count": 56,
   "metadata": {},
   "outputs": [
    {
     "data": {
      "text/plain": [
       "Ttest_indResult(statistic=-21.31152110906824, pvalue=1.3722038280667173e-100)"
      ]
     },
     "execution_count": 56,
     "metadata": {},
     "output_type": "execute_result"
    }
   ],
   "source": [
    "stats.ttest_ind(pos_sents_filtered.retweet_count, neg_sents_filtered.retweet_count)"
   ]
  },
  {
   "cell_type": "code",
   "execution_count": 57,
   "metadata": {},
   "outputs": [
    {
     "data": {
      "text/plain": [
       "MannwhitneyuResult(statistic=1382395296.5, pvalue=0.0)"
      ]
     },
     "execution_count": 57,
     "metadata": {},
     "output_type": "execute_result"
    }
   ],
   "source": [
    "stats.mannwhitneyu(pos_sents_filtered.retweet_count, neg_sents_filtered.retweet_count)"
   ]
  },
  {
   "cell_type": "code",
   "execution_count": 58,
   "metadata": {},
   "outputs": [
    {
     "data": {
      "image/png": "[encoded data removed]",
      "text/plain": [
       "<Figure size 576x432 with 1 Axes>"
      ]
     },
     "metadata": {
      "needs_background": "light"
     },
     "output_type": "display_data"
    }
   ],
   "source": [
    "plt.figure(figsize=(8,6))\n",
    "\n",
    "plt.hist([pos_sents_filtered.retweet_count, neg_sents_filtered.retweet_count], bins=50, label=['Positive Sentiment', 'Negative Sentiment'])\n",
    "plt.legend(loc = 'upper right')\n",
    "plt.title('Retweet count for positive and negative sentiment tweets')\n",
    "plt.xlabel('Retweet Count')\n",
    "plt.ylabel('Number of Tweets')\n",
    "plt.yscale('log')\n",
    "plt.xlim([0, 1000])\n",
    "plt.show()"
   ]
  },
  {
   "cell_type": "markdown",
   "metadata": {},
   "source": [
    "It looks like the distribution of retweet count is very similar for both positive and negative tweets. However, there is a much larger set of positive tweets. Let's look at set of the same size"
   ]
  },
  {
   "cell_type": "code",
   "execution_count": 59,
   "metadata": {},
   "outputs": [
    {
     "name": "stdout",
     "output_type": "stream",
     "text": [
      "Now we look at 47787 postive tweets and 47787 negative tweets\n"
     ]
    }
   ],
   "source": [
    "pos_same_size = pos_sents_filtered.sample(len(neg_sents_filtered))\n",
    "\n",
    "print(\"Now we look at {} postive tweets and {} negative tweets\".format(len(pos_same_size),len(neg_sents_filtered)))"
   ]
  },
  {
   "cell_type": "code",
   "execution_count": 60,
   "metadata": {},
   "outputs": [
    {
     "data": {
      "image/png": "[encoded data removed]",
      "text/plain": [
       "<Figure size 576x432 with 1 Axes>"
      ]
     },
     "metadata": {
      "needs_background": "light"
     },
     "output_type": "display_data"
    }
   ],
   "source": [
    "plt.figure(figsize=(8,6))\n",
    "\n",
    "plt.hist([pos_same_size.retweet_count, neg_sents_filtered.retweet_count], bins=50, label=['Positive Sentiment', 'Negative Sentiment'])\n",
    "plt.legend(loc = 'upper right')\n",
    "plt.title('Retweet count for positive and negative sentiment tweets')\n",
    "plt.xlabel('Retweet Count')\n",
    "plt.ylabel('Number of Tweets')\n",
    "plt.yscale('log')\n",
    "plt.xlim([0, 1000])\n",
    "plt.show()"
   ]
  },
  {
   "cell_type": "markdown",
   "metadata": {},
   "source": [
    "From this distribution, we start to see that negative tweets tend to perform better in terms of retweet count."
   ]
  },
  {
   "cell_type": "markdown",
   "metadata": {},
   "source": [
    "## A look into retweetability "
   ]
  },
  {
   "cell_type": "code",
   "execution_count": 61,
   "metadata": {},
   "outputs": [
    {
     "name": "stdout",
     "output_type": "stream",
     "text": [
      "23.79% of positive tweets were retweeted and 24.41% of negative tweets were retweeted\n"
     ]
    }
   ],
   "source": [
    "perc_neg_ret = (len(neg_sents.loc[neg_sents['retweet_count']>0])/len(neg_sents))* 100\n",
    "perc_pos_ret = (len(pos_sents.loc[pos_sents['retweet_count']>0])/len(pos_sents))* 100\n",
    "\n",
    "print(\"{:.2f}% of positive tweets were retweeted and {:.2f}% of negative tweets were retweeted\".format(perc_pos_ret,perc_neg_ret))"
   ]
  },
  {
   "cell_type": "code",
   "execution_count": 62,
   "metadata": {},
   "outputs": [
    {
     "data": {
      "text/plain": [
       "user_name\n",
       "  ♥ AaLiYaH ♥       82\n",
       " almer               2\n",
       " angieespino         2\n",
       " niallcumming        4\n",
       " العابرون            7\n",
       "                  ... \n",
       "🕊                 2101\n",
       "🗝                 1661\n",
       "🦇 Trîstãn 🦇          1\n",
       "🦊🐥🐰🐶🐱🐹              29\n",
       "🧍‍♀️              2740\n",
       "Name: clean_tweets, Length: 6167, dtype: int64"
      ]
     },
     "execution_count": 62,
     "metadata": {},
     "output_type": "execute_result"
    }
   ],
   "source": [
    "en_tweets.groupby([\"user_name\"]).count()['clean_tweets']"
   ]
  },
  {
   "cell_type": "code",
   "execution_count": 63,
   "metadata": {},
   "outputs": [
    {
     "data": {
      "text/html": [
       "<div>\n",
       "<style scoped>\n",
       "    .dataframe tbody tr th:only-of-type {\n",
       "        vertical-align: middle;\n",
       "    }\n",
       "\n",
       "    .dataframe tbody tr th {\n",
       "        vertical-align: top;\n",
       "    }\n",
       "\n",
       "    .dataframe thead th {\n",
       "        text-align: right;\n",
       "    }\n",
       "</style>\n",
       "<table border=\"1\" class=\"dataframe\">\n",
       "  <thead>\n",
       "    <tr style=\"text-align: right;\">\n",
       "      <th></th>\n",
       "      <th>total_tweets</th>\n",
       "      <th>pos_tweets</th>\n",
       "      <th>neg_tweets</th>\n",
       "      <th>num_followers</th>\n",
       "      <th>num_friends</th>\n",
       "    </tr>\n",
       "    <tr>\n",
       "      <th>user_name</th>\n",
       "      <th></th>\n",
       "      <th></th>\n",
       "      <th></th>\n",
       "      <th></th>\n",
       "      <th></th>\n",
       "    </tr>\n",
       "  </thead>\n",
       "  <tbody>\n",
       "    <tr>\n",
       "      <th>♥ AaLiYaH ♥</th>\n",
       "      <td>82</td>\n",
       "      <td>44</td>\n",
       "      <td>21</td>\n",
       "      <td>4</td>\n",
       "      <td>70</td>\n",
       "    </tr>\n",
       "    <tr>\n",
       "      <th>almer</th>\n",
       "      <td>2</td>\n",
       "      <td>1</td>\n",
       "      <td>0</td>\n",
       "      <td>3</td>\n",
       "      <td>26</td>\n",
       "    </tr>\n",
       "    <tr>\n",
       "      <th>angieespino</th>\n",
       "      <td>2</td>\n",
       "      <td>2</td>\n",
       "      <td>0</td>\n",
       "      <td>0</td>\n",
       "      <td>2</td>\n",
       "    </tr>\n",
       "  </tbody>\n",
       "</table>\n",
       "</div>"
      ],
      "text/plain": [
       "                total_tweets  pos_tweets  neg_tweets  num_followers  \\\n",
       "user_name                                                             \n",
       "  ♥ AaLiYaH ♥             82          44          21              4   \n",
       " almer                     2           1           0              3   \n",
       " angieespino               2           2           0              0   \n",
       "\n",
       "                num_friends  \n",
       "user_name                    \n",
       "  ♥ AaLiYaH ♥            70  \n",
       " almer                   26  \n",
       " angieespino              2  "
      ]
     },
     "execution_count": 63,
     "metadata": {},
     "output_type": "execute_result"
    }
   ],
   "source": [
    "sent_follow = en_tweets.groupby([\"user_name\"]).apply(lambda x:  pd.Series({\n",
    "        'total_tweets': x['clean_tweets'].count(),\n",
    "        'pos_tweets': len(x.loc[x['sentiment'] == 'pos']),\n",
    "        'neg_tweets': len(x.loc[x['sentiment'] == 'neg']),\n",
    "        'num_followers': x['user_followers_count'].max(),\n",
    "        'num_friends': x['user_friends_count'].max()\n",
    "    }))\n",
    "\n",
    "sent_follow.head(3)"
   ]
  },
  {
   "cell_type": "code",
   "execution_count": 64,
   "metadata": {},
   "outputs": [
    {
     "name": "stdout",
     "output_type": "stream",
     "text": [
      "Before filtering we have 6167 users to compare\n"
     ]
    }
   ],
   "source": [
    "print(\"Before filtering we have {} users to compare\".format(len(sent_follow)))"
   ]
  },
  {
   "cell_type": "code",
   "execution_count": 65,
   "metadata": {},
   "outputs": [],
   "source": [
    "sent_follow_filtered = sent_follow.loc[(sent_follow['total_tweets'] > 20) &\n",
    "                                      (sent_follow['pos_tweets'] > 1) &\n",
    "                                      (sent_follow['neg_tweets'] >1)]"
   ]
  },
  {
   "cell_type": "code",
   "execution_count": 66,
   "metadata": {},
   "outputs": [
    {
     "name": "stdout",
     "output_type": "stream",
     "text": [
      "After filtering we have 1838 users to compare\n"
     ]
    }
   ],
   "source": [
    "print(\"After filtering we have {} users to compare\".format(len(sent_follow_filtered)))"
   ]
  },
  {
   "cell_type": "code",
   "execution_count": 67,
   "metadata": {},
   "outputs": [],
   "source": [
    "sent_follow_filtered['pos_perc'] = (sent_follow_filtered['pos_tweets']/sent_follow_filtered['total_tweets'])*100\n",
    "sent_follow_filtered['neg_perc'] = (sent_follow_filtered['neg_tweets']/sent_follow_filtered['total_tweets'])*100"
   ]
  },
  {
   "cell_type": "code",
   "execution_count": 68,
   "metadata": {},
   "outputs": [
    {
     "data": {
      "text/html": [
       "<div>\n",
       "<style scoped>\n",
       "    .dataframe tbody tr th:only-of-type {\n",
       "        vertical-align: middle;\n",
       "    }\n",
       "\n",
       "    .dataframe tbody tr th {\n",
       "        vertical-align: top;\n",
       "    }\n",
       "\n",
       "    .dataframe thead th {\n",
       "        text-align: right;\n",
       "    }\n",
       "</style>\n",
       "<table border=\"1\" class=\"dataframe\">\n",
       "  <thead>\n",
       "    <tr style=\"text-align: right;\">\n",
       "      <th></th>\n",
       "      <th>total_tweets</th>\n",
       "      <th>pos_tweets</th>\n",
       "      <th>neg_tweets</th>\n",
       "      <th>num_followers</th>\n",
       "      <th>num_friends</th>\n",
       "      <th>pos_perc</th>\n",
       "      <th>neg_perc</th>\n",
       "    </tr>\n",
       "    <tr>\n",
       "      <th>user_name</th>\n",
       "      <th></th>\n",
       "      <th></th>\n",
       "      <th></th>\n",
       "      <th></th>\n",
       "      <th></th>\n",
       "      <th></th>\n",
       "      <th></th>\n",
       "    </tr>\n",
       "  </thead>\n",
       "  <tbody>\n",
       "    <tr>\n",
       "      <th>♥ AaLiYaH ♥</th>\n",
       "      <td>82</td>\n",
       "      <td>44</td>\n",
       "      <td>21</td>\n",
       "      <td>4</td>\n",
       "      <td>70</td>\n",
       "      <td>53.658537</td>\n",
       "      <td>25.609756</td>\n",
       "    </tr>\n",
       "    <tr>\n",
       "      <th>!KING!</th>\n",
       "      <td>304</td>\n",
       "      <td>92</td>\n",
       "      <td>67</td>\n",
       "      <td>48</td>\n",
       "      <td>234</td>\n",
       "      <td>30.263158</td>\n",
       "      <td>22.039474</td>\n",
       "    </tr>\n",
       "    <tr>\n",
       "      <th>#EndSARS</th>\n",
       "      <td>181</td>\n",
       "      <td>97</td>\n",
       "      <td>43</td>\n",
       "      <td>134</td>\n",
       "      <td>158</td>\n",
       "      <td>53.591160</td>\n",
       "      <td>23.756906</td>\n",
       "    </tr>\n",
       "  </tbody>\n",
       "</table>\n",
       "</div>"
      ],
      "text/plain": [
       "                total_tweets  pos_tweets  neg_tweets  num_followers  \\\n",
       "user_name                                                             \n",
       "  ♥ AaLiYaH ♥             82          44          21              4   \n",
       "!KING!                   304          92          67             48   \n",
       "#EndSARS                 181          97          43            134   \n",
       "\n",
       "                num_friends   pos_perc   neg_perc  \n",
       "user_name                                          \n",
       "  ♥ AaLiYaH ♥            70  53.658537  25.609756  \n",
       "!KING!                  234  30.263158  22.039474  \n",
       "#EndSARS                158  53.591160  23.756906  "
      ]
     },
     "execution_count": 68,
     "metadata": {},
     "output_type": "execute_result"
    }
   ],
   "source": [
    "sent_follow_filtered.head(3)"
   ]
  },
  {
   "cell_type": "code",
   "execution_count": 69,
   "metadata": {},
   "outputs": [],
   "source": [
    "kk = sent_follow_filtered.groupby('num_followers').agg({\"neg_perc\":\"mean\", \"pos_perc\":\"mean\"})\n"
   ]
  },
  {
   "cell_type": "code",
   "execution_count": 70,
   "metadata": {},
   "outputs": [
    {
     "data": {
      "image/png": "[encoded data removed]",
      "text/plain": [
       "<Figure size 432x288 with 1 Axes>"
      ]
     },
     "metadata": {
      "needs_background": "light"
     },
     "output_type": "display_data"
    }
   ],
   "source": [
    "plt.plot(kk.index,kk.neg_perc)\n",
    "plt.plot(kk.index,kk.pos_perc)\n",
    "plt.xscale('log')"
   ]
  },
  {
   "cell_type": "code",
   "execution_count": 71,
   "metadata": {},
   "outputs": [
    {
     "data": {
      "text/plain": [
       "(0.0, 5000.0)"
      ]
     },
     "execution_count": 71,
     "metadata": {},
     "output_type": "execute_result"
    },
    {
     "data": {
      "image/png": "[encoded data removed]",
      "text/plain": [
       "<Figure size 432x432 with 3 Axes>"
      ]
     },
     "metadata": {
      "needs_background": "light"
     },
     "output_type": "display_data"
    }
   ],
   "source": [
    "\n",
    "sns.jointplot(sent_follow_filtered['neg_perc'], sent_follow_filtered['num_followers'], kind=\"hex\")\n",
    "plt.ylim(0,5000)\n",
    "\n"
   ]
  },
  {
   "cell_type": "code",
   "execution_count": 72,
   "metadata": {},
   "outputs": [
    {
     "data": {
      "text/plain": [
       "(0.0, 2500.0)"
      ]
     },
     "execution_count": 72,
     "metadata": {},
     "output_type": "execute_result"
    },
    {
     "data": {
      "image/png": "[encoded data removed]",
      "text/plain": [
       "<Figure size 432x432 with 3 Axes>"
      ]
     },
     "metadata": {
      "needs_background": "light"
     },
     "output_type": "display_data"
    }
   ],
   "source": [
    "sns.jointplot(sent_follow_filtered['neg_perc'], sent_follow_filtered['num_friends'], kind=\"hex\")\n",
    "plt.ylim(0,2500)\n"
   ]
  },
  {
   "cell_type": "code",
   "execution_count": 73,
   "metadata": {},
   "outputs": [
    {
     "data": {
      "text/plain": [
       "(0.0, 5000.0)"
      ]
     },
     "execution_count": 73,
     "metadata": {},
     "output_type": "execute_result"
    },
    {
     "data": {
      "image/png": "[encoded data removed]",
      "text/plain": [
       "<Figure size 432x432 with 3 Axes>"
      ]
     },
     "metadata": {
      "needs_background": "light"
     },
     "output_type": "display_data"
    }
   ],
   "source": [
    "sns.jointplot(sent_follow_filtered['pos_perc'], sent_follow_filtered['num_followers'], kind=\"hex\")\n",
    "plt.ylim(0,5000)"
   ]
  },
  {
   "cell_type": "code",
   "execution_count": 74,
   "metadata": {},
   "outputs": [
    {
     "data": {
      "text/plain": [
       "(0.0, 2500.0)"
      ]
     },
     "execution_count": 74,
     "metadata": {},
     "output_type": "execute_result"
    },
    {
     "data": {
      "image/png": "[encoded data removed]",
      "text/plain": [
       "<Figure size 432x432 with 3 Axes>"
      ]
     },
     "metadata": {
      "needs_background": "light"
     },
     "output_type": "display_data"
    }
   ],
   "source": [
    "sns.jointplot(sent_follow_filtered['pos_perc'], sent_follow_filtered['num_friends'], kind=\"hex\")\n",
    "plt.ylim(0,2500)"
   ]
  },
  {
   "cell_type": "markdown",
   "metadata": {},
   "source": [
    "## Topic Analysis "
   ]
  },
  {
   "cell_type": "code",
   "execution_count": null,
   "metadata": {},
   "outputs": [],
   "source": []
  },
  {
   "cell_type": "markdown",
   "metadata": {},
   "source": [
    "**Empath lexicon**"
   ]
  },
  {
   "cell_type": "markdown",
   "metadata": {},
   "source": [
    "We are going to use [*Empath*](https://github.com/Ejhfast/empath-client), a tool for analyzing text across lexical categories. It will be used to extract tweets that can be related to a certain topic."
   ]
  },
  {
   "cell_type": "code",
   "execution_count": 75,
   "metadata": {},
   "outputs": [],
   "source": [
    "lexicon = Empath()"
   ]
  },
  {
   "cell_type": "markdown",
   "metadata": {},
   "source": [
    "We show an example of usage for two different sentences"
   ]
  },
  {
   "cell_type": "code",
   "execution_count": 76,
   "metadata": {},
   "outputs": [
    {
     "name": "stdout",
     "output_type": "stream",
     "text": [
      "Sentence:\tWe love playing basketball\n",
      "Result:\t\t{'sports': 2.0, 'music': 0.0}\n",
      "Normalized result:\t{'sports': 0.5, 'music': 0.0}\n",
      "\n",
      "Sentence:\tWe love playing the guitar\n",
      "Result:\t\t{'sports': 1.0, 'music': 1.0}\n",
      "Normalized result:\t{'sports': 0.2, 'music': 0.2}\n",
      "\n",
      "Explanation: 'playing' and 'basketball' are in the sports keyword set, whereas 'guitar' falls into the music keywords set.\n"
     ]
    }
   ],
   "source": [
    "example_1 = \"We love playing basketball\"\n",
    "example_2 = \"We love playing the guitar\"\n",
    "for ex in [example_1, example_2]:\n",
    "    print(f\"Sentence:\\t{ex}\")\n",
    "    print(f\"Result:\\t\\t{lexicon.analyze(ex, categories = ['sports', 'music'])}\")\n",
    "    print(f\"Normalized result:\\t{lexicon.analyze(ex, categories = ['sports', 'music'], normalize = True)}\\n\")\n",
    "    \n",
    "print(\"Explanation: 'playing' and 'basketball' are in the sports keyword set,\"\n",
    "      \" whereas 'guitar' falls into the music keywords set.\")"
   ]
  },
  {
   "cell_type": "markdown",
   "metadata": {},
   "source": [
    "**Lexical Categories**"
   ]
  },
  {
   "cell_type": "code",
   "execution_count": 77,
   "metadata": {},
   "outputs": [
    {
     "name": "stdout",
     "output_type": "stream",
     "text": [
      "There are 196 predefined categories.\n",
      "Some of the categories are: ['achievement', 'affection', 'aggression', 'air_travel', 'alcohol', 'ancient', 'anger', 'animal', 'anonymity', 'anticipation', 'appearance', 'art', 'attractive', 'banking', 'beach', 'beauty', 'blue_collar_job', 'body', 'breaking', 'business', '...']\n",
      "\n",
      "Each category contains a set of keywords:\n",
      "sports: ['dribble', 'sporting', 'cheerleading', 'jock', 'warmup', 'runner', 'wrestling', 'athletic', 'captain', 'hitter', 'handball', 'playoff', 'surf', 'competition', 'bowling', 'skiing', 'snowboarding', 'sneaker', 'yoga', 'spectator', '...']\n"
     ]
    }
   ],
   "source": [
    "categories = list(lexicon.cats.keys())\n",
    "categories.sort()\n",
    "print(f\"There are {len(categories)} predefined categories.\\nSome of the categories are: {categories[:20] + ['...']}\")\n",
    "print(f\"\\nEach category contains a set of keywords:\\nsports: {lexicon.cats['sports'][:20] + ['...']}\")"
   ]
  },
  {
   "cell_type": "markdown",
   "metadata": {},
   "source": [
    "We will select 8 of these categories:<br>*sports, politics, music, religion, health, cooking, fashion, and family*"
   ]
  },
  {
   "cell_type": "code",
   "execution_count": 78,
   "metadata": {},
   "outputs": [],
   "source": [
    "CATEGORIES = [\"sports\", \"politics\", \"music\", \"religion\", \"health\", \"cooking\", \"fashion\", \"family\"]"
   ]
  },
  {
   "cell_type": "markdown",
   "metadata": {},
   "source": [
    "**Computing topic extraction**"
   ]
  },
  {
   "cell_type": "markdown",
   "metadata": {},
   "source": [
    "Let's compute the category scores for each tweet, and then select the most probable category if any detected. Or load the already computed dataset (saving time)."
   ]
  },
  {
   "cell_type": "code",
   "execution_count": 80,
   "metadata": {},
   "outputs": [
    {
     "ename": "KeyboardInterrupt",
     "evalue": "",
     "output_type": "error",
     "traceback": [
      "\u001b[1;31m---------------------------------------------------------------------------\u001b[0m",
      "\u001b[1;31mKeyboardInterrupt\u001b[0m                         Traceback (most recent call last)",
      "\u001b[1;32m<ipython-input-80-2bc3771b5a63>\u001b[0m in \u001b[0;36m<module>\u001b[1;34m\u001b[0m\n\u001b[0;32m      8\u001b[0m         \u001b[1;32mreturn\u001b[0m \u001b[1;33m[\u001b[0m\u001b[0mint\u001b[0m\u001b[1;33m(\u001b[0m\u001b[0mx\u001b[0m\u001b[1;33m)\u001b[0m \u001b[1;32mfor\u001b[0m \u001b[0mx\u001b[0m \u001b[1;32min\u001b[0m \u001b[0mlist\u001b[0m\u001b[1;33m(\u001b[0m\u001b[0mcat_scores\u001b[0m\u001b[1;33m.\u001b[0m\u001b[0mvalues\u001b[0m\u001b[1;33m(\u001b[0m\u001b[1;33m)\u001b[0m\u001b[1;33m)\u001b[0m\u001b[1;33m]\u001b[0m\u001b[1;33m\u001b[0m\u001b[1;33m\u001b[0m\u001b[0m\n\u001b[0;32m      9\u001b[0m \u001b[1;33m\u001b[0m\u001b[0m\n\u001b[1;32m---> 10\u001b[1;33m     \u001b[0mdf_cats\u001b[0m \u001b[1;33m=\u001b[0m \u001b[0men_tweets\u001b[0m\u001b[1;33m.\u001b[0m\u001b[0mapply\u001b[0m\u001b[1;33m(\u001b[0m\u001b[0mscore_categories\u001b[0m\u001b[1;33m,\u001b[0m \u001b[0maxis\u001b[0m\u001b[1;33m=\u001b[0m\u001b[1;36m1\u001b[0m\u001b[1;33m)\u001b[0m\u001b[1;33m\u001b[0m\u001b[1;33m\u001b[0m\u001b[0m\n\u001b[0m\u001b[0;32m     11\u001b[0m     \u001b[0mdf_cats\u001b[0m \u001b[1;33m=\u001b[0m \u001b[0mpd\u001b[0m\u001b[1;33m.\u001b[0m\u001b[0mDataFrame\u001b[0m\u001b[1;33m(\u001b[0m\u001b[0mdf_cats\u001b[0m\u001b[1;33m.\u001b[0m\u001b[0mto_list\u001b[0m\u001b[1;33m(\u001b[0m\u001b[1;33m)\u001b[0m\u001b[1;33m,\u001b[0m \u001b[0mindex\u001b[0m\u001b[1;33m=\u001b[0m\u001b[0mdf_cats\u001b[0m\u001b[1;33m.\u001b[0m\u001b[0mindex\u001b[0m\u001b[1;33m,\u001b[0m \u001b[0mcolumns\u001b[0m\u001b[1;33m=\u001b[0m\u001b[0mCATEGORIES\u001b[0m\u001b[1;33m)\u001b[0m\u001b[1;33m\u001b[0m\u001b[1;33m\u001b[0m\u001b[0m\n\u001b[0;32m     12\u001b[0m     \u001b[0men_tweets\u001b[0m \u001b[1;33m=\u001b[0m \u001b[0men_tweets\u001b[0m\u001b[1;33m.\u001b[0m\u001b[0mjoin\u001b[0m\u001b[1;33m(\u001b[0m\u001b[0mdf_cats\u001b[0m\u001b[1;33m)\u001b[0m\u001b[1;33m\u001b[0m\u001b[1;33m\u001b[0m\u001b[0m\n",
      "\u001b[1;32m~\\Anaconda3\\envs\\ada\\lib\\site-packages\\pandas\\core\\frame.py\u001b[0m in \u001b[0;36mapply\u001b[1;34m(self, func, axis, raw, result_type, args, **kwds)\u001b[0m\n\u001b[0;32m   7546\u001b[0m             \u001b[0mkwds\u001b[0m\u001b[1;33m=\u001b[0m\u001b[0mkwds\u001b[0m\u001b[1;33m,\u001b[0m\u001b[1;33m\u001b[0m\u001b[1;33m\u001b[0m\u001b[0m\n\u001b[0;32m   7547\u001b[0m         )\n\u001b[1;32m-> 7548\u001b[1;33m         \u001b[1;32mreturn\u001b[0m \u001b[0mop\u001b[0m\u001b[1;33m.\u001b[0m\u001b[0mget_result\u001b[0m\u001b[1;33m(\u001b[0m\u001b[1;33m)\u001b[0m\u001b[1;33m\u001b[0m\u001b[1;33m\u001b[0m\u001b[0m\n\u001b[0m\u001b[0;32m   7549\u001b[0m \u001b[1;33m\u001b[0m\u001b[0m\n\u001b[0;32m   7550\u001b[0m     \u001b[1;32mdef\u001b[0m \u001b[0mapplymap\u001b[0m\u001b[1;33m(\u001b[0m\u001b[0mself\u001b[0m\u001b[1;33m,\u001b[0m \u001b[0mfunc\u001b[0m\u001b[1;33m)\u001b[0m \u001b[1;33m->\u001b[0m \u001b[1;34m\"DataFrame\"\u001b[0m\u001b[1;33m:\u001b[0m\u001b[1;33m\u001b[0m\u001b[1;33m\u001b[0m\u001b[0m\n",
      "\u001b[1;32m~\\Anaconda3\\envs\\ada\\lib\\site-packages\\pandas\\core\\apply.py\u001b[0m in \u001b[0;36mget_result\u001b[1;34m(self)\u001b[0m\n\u001b[0;32m    178\u001b[0m             \u001b[1;32mreturn\u001b[0m \u001b[0mself\u001b[0m\u001b[1;33m.\u001b[0m\u001b[0mapply_raw\u001b[0m\u001b[1;33m(\u001b[0m\u001b[1;33m)\u001b[0m\u001b[1;33m\u001b[0m\u001b[1;33m\u001b[0m\u001b[0m\n\u001b[0;32m    179\u001b[0m \u001b[1;33m\u001b[0m\u001b[0m\n\u001b[1;32m--> 180\u001b[1;33m         \u001b[1;32mreturn\u001b[0m \u001b[0mself\u001b[0m\u001b[1;33m.\u001b[0m\u001b[0mapply_standard\u001b[0m\u001b[1;33m(\u001b[0m\u001b[1;33m)\u001b[0m\u001b[1;33m\u001b[0m\u001b[1;33m\u001b[0m\u001b[0m\n\u001b[0m\u001b[0;32m    181\u001b[0m \u001b[1;33m\u001b[0m\u001b[0m\n\u001b[0;32m    182\u001b[0m     \u001b[1;32mdef\u001b[0m \u001b[0mapply_empty_result\u001b[0m\u001b[1;33m(\u001b[0m\u001b[0mself\u001b[0m\u001b[1;33m)\u001b[0m\u001b[1;33m:\u001b[0m\u001b[1;33m\u001b[0m\u001b[1;33m\u001b[0m\u001b[0m\n",
      "\u001b[1;32m~\\Anaconda3\\envs\\ada\\lib\\site-packages\\pandas\\core\\apply.py\u001b[0m in \u001b[0;36mapply_standard\u001b[1;34m(self)\u001b[0m\n\u001b[0;32m    269\u001b[0m \u001b[1;33m\u001b[0m\u001b[0m\n\u001b[0;32m    270\u001b[0m     \u001b[1;32mdef\u001b[0m \u001b[0mapply_standard\u001b[0m\u001b[1;33m(\u001b[0m\u001b[0mself\u001b[0m\u001b[1;33m)\u001b[0m\u001b[1;33m:\u001b[0m\u001b[1;33m\u001b[0m\u001b[1;33m\u001b[0m\u001b[0m\n\u001b[1;32m--> 271\u001b[1;33m         \u001b[0mresults\u001b[0m\u001b[1;33m,\u001b[0m \u001b[0mres_index\u001b[0m \u001b[1;33m=\u001b[0m \u001b[0mself\u001b[0m\u001b[1;33m.\u001b[0m\u001b[0mapply_series_generator\u001b[0m\u001b[1;33m(\u001b[0m\u001b[1;33m)\u001b[0m\u001b[1;33m\u001b[0m\u001b[1;33m\u001b[0m\u001b[0m\n\u001b[0m\u001b[0;32m    272\u001b[0m \u001b[1;33m\u001b[0m\u001b[0m\n\u001b[0;32m    273\u001b[0m         \u001b[1;31m# wrap results\u001b[0m\u001b[1;33m\u001b[0m\u001b[1;33m\u001b[0m\u001b[1;33m\u001b[0m\u001b[0m\n",
      "\u001b[1;32m~\\Anaconda3\\envs\\ada\\lib\\site-packages\\pandas\\core\\apply.py\u001b[0m in \u001b[0;36mapply_series_generator\u001b[1;34m(self)\u001b[0m\n\u001b[0;32m    298\u001b[0m                 \u001b[1;32mfor\u001b[0m \u001b[0mi\u001b[0m\u001b[1;33m,\u001b[0m \u001b[0mv\u001b[0m \u001b[1;32min\u001b[0m \u001b[0menumerate\u001b[0m\u001b[1;33m(\u001b[0m\u001b[0mseries_gen\u001b[0m\u001b[1;33m)\u001b[0m\u001b[1;33m:\u001b[0m\u001b[1;33m\u001b[0m\u001b[1;33m\u001b[0m\u001b[0m\n\u001b[0;32m    299\u001b[0m                     \u001b[1;31m# ignore SettingWithCopy here in case the user mutates\u001b[0m\u001b[1;33m\u001b[0m\u001b[1;33m\u001b[0m\u001b[1;33m\u001b[0m\u001b[0m\n\u001b[1;32m--> 300\u001b[1;33m                     \u001b[0mresults\u001b[0m\u001b[1;33m[\u001b[0m\u001b[0mi\u001b[0m\u001b[1;33m]\u001b[0m \u001b[1;33m=\u001b[0m \u001b[0mself\u001b[0m\u001b[1;33m.\u001b[0m\u001b[0mf\u001b[0m\u001b[1;33m(\u001b[0m\u001b[0mv\u001b[0m\u001b[1;33m)\u001b[0m\u001b[1;33m\u001b[0m\u001b[1;33m\u001b[0m\u001b[0m\n\u001b[0m\u001b[0;32m    301\u001b[0m                     \u001b[1;32mif\u001b[0m \u001b[0misinstance\u001b[0m\u001b[1;33m(\u001b[0m\u001b[0mresults\u001b[0m\u001b[1;33m[\u001b[0m\u001b[0mi\u001b[0m\u001b[1;33m]\u001b[0m\u001b[1;33m,\u001b[0m \u001b[0mABCSeries\u001b[0m\u001b[1;33m)\u001b[0m\u001b[1;33m:\u001b[0m\u001b[1;33m\u001b[0m\u001b[1;33m\u001b[0m\u001b[0m\n\u001b[0;32m    302\u001b[0m                         \u001b[1;31m# If we have a view on v, we need to make a copy because\u001b[0m\u001b[1;33m\u001b[0m\u001b[1;33m\u001b[0m\u001b[1;33m\u001b[0m\u001b[0m\n",
      "\u001b[1;32m<ipython-input-80-2bc3771b5a63>\u001b[0m in \u001b[0;36mscore_categories\u001b[1;34m(x, cats)\u001b[0m\n\u001b[0;32m      6\u001b[0m     \u001b[1;32mdef\u001b[0m \u001b[0mscore_categories\u001b[0m\u001b[1;33m(\u001b[0m\u001b[0mx\u001b[0m\u001b[1;33m,\u001b[0m \u001b[0mcats\u001b[0m\u001b[1;33m=\u001b[0m\u001b[0mCATEGORIES\u001b[0m\u001b[1;33m)\u001b[0m\u001b[1;33m:\u001b[0m\u001b[1;33m\u001b[0m\u001b[1;33m\u001b[0m\u001b[0m\n\u001b[0;32m      7\u001b[0m         \u001b[0mcat_scores\u001b[0m \u001b[1;33m=\u001b[0m \u001b[0mlexicon\u001b[0m\u001b[1;33m.\u001b[0m\u001b[0manalyze\u001b[0m\u001b[1;33m(\u001b[0m\u001b[0mx\u001b[0m\u001b[1;33m.\u001b[0m\u001b[0mtext\u001b[0m\u001b[1;33m,\u001b[0m \u001b[0mcategories\u001b[0m \u001b[1;33m=\u001b[0m \u001b[0mcats\u001b[0m\u001b[1;33m)\u001b[0m\u001b[1;33m\u001b[0m\u001b[1;33m\u001b[0m\u001b[0m\n\u001b[1;32m----> 8\u001b[1;33m         \u001b[1;32mreturn\u001b[0m \u001b[1;33m[\u001b[0m\u001b[0mint\u001b[0m\u001b[1;33m(\u001b[0m\u001b[0mx\u001b[0m\u001b[1;33m)\u001b[0m \u001b[1;32mfor\u001b[0m \u001b[0mx\u001b[0m \u001b[1;32min\u001b[0m \u001b[0mlist\u001b[0m\u001b[1;33m(\u001b[0m\u001b[0mcat_scores\u001b[0m\u001b[1;33m.\u001b[0m\u001b[0mvalues\u001b[0m\u001b[1;33m(\u001b[0m\u001b[1;33m)\u001b[0m\u001b[1;33m)\u001b[0m\u001b[1;33m]\u001b[0m\u001b[1;33m\u001b[0m\u001b[1;33m\u001b[0m\u001b[0m\n\u001b[0m\u001b[0;32m      9\u001b[0m \u001b[1;33m\u001b[0m\u001b[0m\n\u001b[0;32m     10\u001b[0m     \u001b[0mdf_cats\u001b[0m \u001b[1;33m=\u001b[0m \u001b[0men_tweets\u001b[0m\u001b[1;33m.\u001b[0m\u001b[0mapply\u001b[0m\u001b[1;33m(\u001b[0m\u001b[0mscore_categories\u001b[0m\u001b[1;33m,\u001b[0m \u001b[0maxis\u001b[0m\u001b[1;33m=\u001b[0m\u001b[1;36m1\u001b[0m\u001b[1;33m)\u001b[0m\u001b[1;33m\u001b[0m\u001b[1;33m\u001b[0m\u001b[0m\n",
      "\u001b[1;31mKeyboardInterrupt\u001b[0m: "
     ]
    }
   ],
   "source": [
    "categorized_dataset = 'Data/categorized_tweets.csv'\n",
    "load_df = False\n",
    "\n",
    "if not os.path.isfile(categorized_dataset) or not load_df:\n",
    "    \n",
    "    def score_categories(x, cats=CATEGORIES):\n",
    "        cat_scores = lexicon.analyze(x.text, categories = cats)\n",
    "        return [int(x) for x in list(cat_scores.values())]\n",
    "\n",
    "    df_cats = en_tweets.apply(score_categories, axis=1)\n",
    "    df_cats = pd.DataFrame(df_cats.to_list(), index=df_cats.index, columns=CATEGORIES)\n",
    "    en_tweets = en_tweets.join(df_cats)\n",
    "\n",
    "    # Extracting the category with the maximum number of occurrences\n",
    "    def max_category(x, cats=CATEGORIES):\n",
    "        array = [x[cat] for cat in cats]\n",
    "        if np.sum(array) == 0:\n",
    "            res = np.nan\n",
    "        elif array.count(max(array)) > 1:\n",
    "            res = np.nan\n",
    "        else:\n",
    "            res = cats[np.argmax(array)]\n",
    "        return res\n",
    "\n",
    "    en_tweets['category'] = en_tweets[CATEGORIES].apply(max_category, axis=1)\n",
    "    \n",
    "    # Write dataset\n",
    "    en_tweets.to_csv(categorized_dataset, index=False)\n",
    "    \n",
    "# Read already created dataset\n",
    "elif os.path.isfile(categorized_dataset) and 'category' not in df.columns and load_df:\n",
    "    en_tweets = pd.read_csv(categorized_dataset)"
   ]
  },
  {
   "cell_type": "markdown",
   "metadata": {},
   "source": [
    "For each category, we have counted the number of keywords present in the text. Then, the category with more keywords is considered the actual category of the tweet."
   ]
  },
  {
   "cell_type": "code",
   "execution_count": null,
   "metadata": {},
   "outputs": [],
   "source": [
    "print(f\"{en_tweets['category'].isna().value_counts()[False]} tweets were categorized;\"\n",
    "      f\" {en_tweets['category'].isna().value_counts()[False]/len(df)*100:.2f}% of the total {len(en_tweets)} tweets.\")"
   ]
  },
  {
   "cell_type": "markdown",
   "metadata": {},
   "source": [
    "Categorized tweets keyword count:"
   ]
  },
  {
   "cell_type": "code",
   "execution_count": 9,
   "metadata": {},
   "outputs": [
    {
     "data": {
      "text/html": [
       "<div>\n",
       "<style scoped>\n",
       "    .dataframe tbody tr th:only-of-type {\n",
       "        vertical-align: middle;\n",
       "    }\n",
       "\n",
       "    .dataframe tbody tr th {\n",
       "        vertical-align: top;\n",
       "    }\n",
       "\n",
       "    .dataframe thead th {\n",
       "        text-align: right;\n",
       "    }\n",
       "</style>\n",
       "<table border=\"1\" class=\"dataframe\">\n",
       "  <thead>\n",
       "    <tr style=\"text-align: right;\">\n",
       "      <th></th>\n",
       "      <th>sports</th>\n",
       "      <th>politics</th>\n",
       "      <th>music</th>\n",
       "      <th>religion</th>\n",
       "      <th>health</th>\n",
       "      <th>cooking</th>\n",
       "      <th>fashion</th>\n",
       "      <th>family</th>\n",
       "      <th>category</th>\n",
       "    </tr>\n",
       "  </thead>\n",
       "  <tbody>\n",
       "    <tr>\n",
       "      <th>156741</th>\n",
       "      <td>0</td>\n",
       "      <td>0</td>\n",
       "      <td>0</td>\n",
       "      <td>0</td>\n",
       "      <td>0</td>\n",
       "      <td>0</td>\n",
       "      <td>1</td>\n",
       "      <td>0</td>\n",
       "      <td>fashion</td>\n",
       "    </tr>\n",
       "    <tr>\n",
       "      <th>1408686</th>\n",
       "      <td>0</td>\n",
       "      <td>0</td>\n",
       "      <td>0</td>\n",
       "      <td>0</td>\n",
       "      <td>0</td>\n",
       "      <td>0</td>\n",
       "      <td>0</td>\n",
       "      <td>1</td>\n",
       "      <td>family</td>\n",
       "    </tr>\n",
       "    <tr>\n",
       "      <th>515334</th>\n",
       "      <td>0</td>\n",
       "      <td>0</td>\n",
       "      <td>0</td>\n",
       "      <td>0</td>\n",
       "      <td>0</td>\n",
       "      <td>0</td>\n",
       "      <td>0</td>\n",
       "      <td>1</td>\n",
       "      <td>family</td>\n",
       "    </tr>\n",
       "    <tr>\n",
       "      <th>1315816</th>\n",
       "      <td>1</td>\n",
       "      <td>0</td>\n",
       "      <td>0</td>\n",
       "      <td>0</td>\n",
       "      <td>0</td>\n",
       "      <td>0</td>\n",
       "      <td>0</td>\n",
       "      <td>0</td>\n",
       "      <td>sports</td>\n",
       "    </tr>\n",
       "  </tbody>\n",
       "</table>\n",
       "</div>"
      ],
      "text/plain": [
       "         sports  politics  music  religion  health  cooking  fashion  family  \\\n",
       "156741        0         0      0         0       0        0        1       0   \n",
       "1408686       0         0      0         0       0        0        0       1   \n",
       "515334        0         0      0         0       0        0        0       1   \n",
       "1315816       1         0      0         0       0        0        0       0   \n",
       "\n",
       "        category  \n",
       "156741   fashion  \n",
       "1408686   family  \n",
       "515334    family  \n",
       "1315816   sports  "
      ]
     },
     "execution_count": 9,
     "metadata": {},
     "output_type": "execute_result"
    }
   ],
   "source": [
    "en_tweets[en_tweets.columns[-(len(CATEGORIES)+1):]][~en_tweets['category'].isna()].sample(n=4, random_state=0)"
   ]
  },
  {
   "cell_type": "code",
   "execution_count": 10,
   "metadata": {},
   "outputs": [
    {
     "data": {
      "image/png": "[encoded data removed]",
      "text/plain": [
       "<Figure size 864x432 with 1 Axes>"
      ]
     },
     "metadata": {
      "needs_background": "light"
     },
     "output_type": "display_data"
    }
   ],
   "source": [
    "counts_series = en_tweets['category'].value_counts()\n",
    "\n",
    "plt.figure(figsize=(12,6))\n",
    "ax = plt.bar(counts_series.index, counts_series.values)\n",
    "plt.grid(axis='y')\n",
    "plt.title('Amount of tweets per category')\n",
    "plt.ylabel('Number of tweets')\n",
    "plt.xlabel('Category')\n",
    "\n",
    "# Showing labels\n",
    "for rect, label in zip(ax.patches, counts_series.values):\n",
    "    height = rect.get_height()\n",
    "    plt.text(rect.get_x() + rect.get_width() / 2, height + 5, label,\n",
    "            ha='center', va='bottom')\n",
    "\n",
    "plt.show()"
   ]
  },
  {
   "cell_type": "markdown",
   "metadata": {},
   "source": [
    "## Group statistics"
   ]
  },
  {
   "cell_type": "code",
   "execution_count": 11,
   "metadata": {},
   "outputs": [],
   "source": [
    "group_stats =   (en_tweets[['category', 'text', 'retweet_count', 'favorite_count', 'retweetability']]\n",
    "                 .groupby('category')\n",
    "                 .agg({'text':'count', 'retweet_count':['mean', 'std'], 'retweetability':'mean', 'favorite_count':['mean', 'std']})\n",
    "                 .sort_values(('retweet_count', 'mean'), ascending=False)\n",
    "                )"
   ]
  },
  {
   "cell_type": "code",
   "execution_count": 12,
   "metadata": {},
   "outputs": [],
   "source": [
    "def highlight_max(data): #, color='yellow'):\n",
    "    '''\n",
    "    highlight the maximum in a Series or DataFrame\n",
    "    '''\n",
    "    attr = 'font-weight: bold'\n",
    "    #attr = 'background-color: {}'.format(color)\n",
    "    if data.ndim == 1:  # Series from .apply(axis=0) or axis=1\n",
    "        is_max = data == data.max()\n",
    "        return [attr if v else '' for v in is_max]\n",
    "    else:  # from .apply(axis=None)\n",
    "        is_max = data == data.max().max()\n",
    "        return pd.DataFrame(np.where(is_max, attr, ''),\n",
    "                            index=data.index, columns=data.columns)"
   ]
  },
  {
   "cell_type": "code",
   "execution_count": 13,
   "metadata": {},
   "outputs": [
    {
     "data": {
      "text/html": [
       "<style  type=\"text/css\" >\n",
       "    #T_10d1fb1c_3b10_11eb_b959_acde48001122row0_col1 {\n",
       "            font-weight:  bold;\n",
       "        }    #T_10d1fb1c_3b10_11eb_b959_acde48001122row0_col3 {\n",
       "            font-weight:  bold;\n",
       "        }    #T_10d1fb1c_3b10_11eb_b959_acde48001122row0_col4 {\n",
       "            font-weight:  bold;\n",
       "        }    #T_10d1fb1c_3b10_11eb_b959_acde48001122row1_col5 {\n",
       "            font-weight:  bold;\n",
       "        }    #T_10d1fb1c_3b10_11eb_b959_acde48001122row4_col0 {\n",
       "            font-weight:  bold;\n",
       "        }    #T_10d1fb1c_3b10_11eb_b959_acde48001122row4_col2 {\n",
       "            font-weight:  bold;\n",
       "        }</style><table id=\"T_10d1fb1c_3b10_11eb_b959_acde48001122\" ><thead>    <tr>        <th class=\"blank level0\" ></th>        <th class=\"col_heading level0 col0\" >text</th>        <th class=\"col_heading level0 col1\" colspan=2>retweet_count</th>        <th class=\"col_heading level0 col3\" >retweetability</th>        <th class=\"col_heading level0 col4\" colspan=2>favorite_count</th>    </tr>    <tr>        <th class=\"blank level1\" ></th>        <th class=\"col_heading level1 col0\" >count</th>        <th class=\"col_heading level1 col1\" >mean</th>        <th class=\"col_heading level1 col2\" >std</th>        <th class=\"col_heading level1 col3\" >mean</th>        <th class=\"col_heading level1 col4\" >mean</th>        <th class=\"col_heading level1 col5\" >std</th>    </tr>    <tr>        <th class=\"index_name level0\" >category</th>        <th class=\"blank\" ></th>        <th class=\"blank\" ></th>        <th class=\"blank\" ></th>        <th class=\"blank\" ></th>        <th class=\"blank\" ></th>        <th class=\"blank\" ></th>    </tr></thead><tbody>\n",
       "                <tr>\n",
       "                        <th id=\"T_10d1fb1c_3b10_11eb_b959_acde48001122level0_row0\" class=\"row_heading level0 row0\" >religion</th>\n",
       "                        <td id=\"T_10d1fb1c_3b10_11eb_b959_acde48001122row0_col0\" class=\"data row0 col0\" >2523</td>\n",
       "                        <td id=\"T_10d1fb1c_3b10_11eb_b959_acde48001122row0_col1\" class=\"data row0 col1\" >0.515656</td>\n",
       "                        <td id=\"T_10d1fb1c_3b10_11eb_b959_acde48001122row0_col2\" class=\"data row0 col2\" >2.009112</td>\n",
       "                        <td id=\"T_10d1fb1c_3b10_11eb_b959_acde48001122row0_col3\" class=\"data row0 col3\" >0.202537</td>\n",
       "                        <td id=\"T_10d1fb1c_3b10_11eb_b959_acde48001122row0_col4\" class=\"data row0 col4\" >0.535077</td>\n",
       "                        <td id=\"T_10d1fb1c_3b10_11eb_b959_acde48001122row0_col5\" class=\"data row0 col5\" >1.676167</td>\n",
       "            </tr>\n",
       "            <tr>\n",
       "                        <th id=\"T_10d1fb1c_3b10_11eb_b959_acde48001122level0_row1\" class=\"row_heading level0 row1\" >politics</th>\n",
       "                        <td id=\"T_10d1fb1c_3b10_11eb_b959_acde48001122row1_col0\" class=\"data row1 col0\" >1637</td>\n",
       "                        <td id=\"T_10d1fb1c_3b10_11eb_b959_acde48001122row1_col1\" class=\"data row1 col1\" >0.344533</td>\n",
       "                        <td id=\"T_10d1fb1c_3b10_11eb_b959_acde48001122row1_col2\" class=\"data row1 col2\" >2.186266</td>\n",
       "                        <td id=\"T_10d1fb1c_3b10_11eb_b959_acde48001122row1_col3\" class=\"data row1 col3\" >0.132560</td>\n",
       "                        <td id=\"T_10d1fb1c_3b10_11eb_b959_acde48001122row1_col4\" class=\"data row1 col4\" >0.345144</td>\n",
       "                        <td id=\"T_10d1fb1c_3b10_11eb_b959_acde48001122row1_col5\" class=\"data row1 col5\" >3.317177</td>\n",
       "            </tr>\n",
       "            <tr>\n",
       "                        <th id=\"T_10d1fb1c_3b10_11eb_b959_acde48001122level0_row2\" class=\"row_heading level0 row2\" >fashion</th>\n",
       "                        <td id=\"T_10d1fb1c_3b10_11eb_b959_acde48001122row2_col0\" class=\"data row2 col0\" >5045</td>\n",
       "                        <td id=\"T_10d1fb1c_3b10_11eb_b959_acde48001122row2_col1\" class=\"data row2 col1\" >0.211100</td>\n",
       "                        <td id=\"T_10d1fb1c_3b10_11eb_b959_acde48001122row2_col2\" class=\"data row2 col2\" >1.935118</td>\n",
       "                        <td id=\"T_10d1fb1c_3b10_11eb_b959_acde48001122row2_col3\" class=\"data row2 col3\" >0.094945</td>\n",
       "                        <td id=\"T_10d1fb1c_3b10_11eb_b959_acde48001122row2_col4\" class=\"data row2 col4\" >0.393657</td>\n",
       "                        <td id=\"T_10d1fb1c_3b10_11eb_b959_acde48001122row2_col5\" class=\"data row2 col5\" >1.899236</td>\n",
       "            </tr>\n",
       "            <tr>\n",
       "                        <th id=\"T_10d1fb1c_3b10_11eb_b959_acde48001122level0_row3\" class=\"row_heading level0 row3\" >sports</th>\n",
       "                        <td id=\"T_10d1fb1c_3b10_11eb_b959_acde48001122row3_col0\" class=\"data row3 col0\" >14512</td>\n",
       "                        <td id=\"T_10d1fb1c_3b10_11eb_b959_acde48001122row3_col1\" class=\"data row3 col1\" >0.209275</td>\n",
       "                        <td id=\"T_10d1fb1c_3b10_11eb_b959_acde48001122row3_col2\" class=\"data row3 col2\" >1.554900</td>\n",
       "                        <td id=\"T_10d1fb1c_3b10_11eb_b959_acde48001122row3_col3\" class=\"data row3 col3\" >0.106257</td>\n",
       "                        <td id=\"T_10d1fb1c_3b10_11eb_b959_acde48001122row3_col4\" class=\"data row3 col4\" >0.303818</td>\n",
       "                        <td id=\"T_10d1fb1c_3b10_11eb_b959_acde48001122row3_col5\" class=\"data row3 col5\" >1.528167</td>\n",
       "            </tr>\n",
       "            <tr>\n",
       "                        <th id=\"T_10d1fb1c_3b10_11eb_b959_acde48001122level0_row4\" class=\"row_heading level0 row4\" >family</th>\n",
       "                        <td id=\"T_10d1fb1c_3b10_11eb_b959_acde48001122row4_col0\" class=\"data row4 col0\" >22310</td>\n",
       "                        <td id=\"T_10d1fb1c_3b10_11eb_b959_acde48001122row4_col1\" class=\"data row4 col1\" >0.199014</td>\n",
       "                        <td id=\"T_10d1fb1c_3b10_11eb_b959_acde48001122row4_col2\" class=\"data row4 col2\" >4.910670</td>\n",
       "                        <td id=\"T_10d1fb1c_3b10_11eb_b959_acde48001122row4_col3\" class=\"data row4 col3\" >0.088615</td>\n",
       "                        <td id=\"T_10d1fb1c_3b10_11eb_b959_acde48001122row4_col4\" class=\"data row4 col4\" >0.324608</td>\n",
       "                        <td id=\"T_10d1fb1c_3b10_11eb_b959_acde48001122row4_col5\" class=\"data row4 col5\" >1.209010</td>\n",
       "            </tr>\n",
       "            <tr>\n",
       "                        <th id=\"T_10d1fb1c_3b10_11eb_b959_acde48001122level0_row5\" class=\"row_heading level0 row5\" >music</th>\n",
       "                        <td id=\"T_10d1fb1c_3b10_11eb_b959_acde48001122row5_col0\" class=\"data row5 col0\" >17245</td>\n",
       "                        <td id=\"T_10d1fb1c_3b10_11eb_b959_acde48001122row5_col1\" class=\"data row5 col1\" >0.169498</td>\n",
       "                        <td id=\"T_10d1fb1c_3b10_11eb_b959_acde48001122row5_col2\" class=\"data row5 col2\" >1.024224</td>\n",
       "                        <td id=\"T_10d1fb1c_3b10_11eb_b959_acde48001122row5_col3\" class=\"data row5 col3\" >0.091563</td>\n",
       "                        <td id=\"T_10d1fb1c_3b10_11eb_b959_acde48001122row5_col4\" class=\"data row5 col4\" >0.246912</td>\n",
       "                        <td id=\"T_10d1fb1c_3b10_11eb_b959_acde48001122row5_col5\" class=\"data row5 col5\" >1.157075</td>\n",
       "            </tr>\n",
       "            <tr>\n",
       "                        <th id=\"T_10d1fb1c_3b10_11eb_b959_acde48001122level0_row6\" class=\"row_heading level0 row6\" >health</th>\n",
       "                        <td id=\"T_10d1fb1c_3b10_11eb_b959_acde48001122row6_col0\" class=\"data row6 col0\" >4734</td>\n",
       "                        <td id=\"T_10d1fb1c_3b10_11eb_b959_acde48001122row6_col1\" class=\"data row6 col1\" >0.155471</td>\n",
       "                        <td id=\"T_10d1fb1c_3b10_11eb_b959_acde48001122row6_col2\" class=\"data row6 col2\" >0.865516</td>\n",
       "                        <td id=\"T_10d1fb1c_3b10_11eb_b959_acde48001122row6_col3\" class=\"data row6 col3\" >0.079003</td>\n",
       "                        <td id=\"T_10d1fb1c_3b10_11eb_b959_acde48001122row6_col4\" class=\"data row6 col4\" >0.204689</td>\n",
       "                        <td id=\"T_10d1fb1c_3b10_11eb_b959_acde48001122row6_col5\" class=\"data row6 col5\" >0.877285</td>\n",
       "            </tr>\n",
       "            <tr>\n",
       "                        <th id=\"T_10d1fb1c_3b10_11eb_b959_acde48001122level0_row7\" class=\"row_heading level0 row7\" >cooking</th>\n",
       "                        <td id=\"T_10d1fb1c_3b10_11eb_b959_acde48001122row7_col0\" class=\"data row7 col0\" >10188</td>\n",
       "                        <td id=\"T_10d1fb1c_3b10_11eb_b959_acde48001122row7_col1\" class=\"data row7 col1\" >0.134570</td>\n",
       "                        <td id=\"T_10d1fb1c_3b10_11eb_b959_acde48001122row7_col2\" class=\"data row7 col2\" >0.720107</td>\n",
       "                        <td id=\"T_10d1fb1c_3b10_11eb_b959_acde48001122row7_col3\" class=\"data row7 col3\" >0.082548</td>\n",
       "                        <td id=\"T_10d1fb1c_3b10_11eb_b959_acde48001122row7_col4\" class=\"data row7 col4\" >0.236258</td>\n",
       "                        <td id=\"T_10d1fb1c_3b10_11eb_b959_acde48001122row7_col5\" class=\"data row7 col5\" >0.850474</td>\n",
       "            </tr>\n",
       "    </tbody></table>"
      ],
      "text/plain": [
       "<pandas.io.formats.style.Styler at 0x1473a82e0>"
      ]
     },
     "execution_count": 13,
     "metadata": {},
     "output_type": "execute_result"
    }
   ],
   "source": [
    "group_stats.style.apply(highlight_max, axis=0)# % 'bold')"
   ]
  },
  {
   "cell_type": "markdown",
   "metadata": {},
   "source": [
    "## Showing some of the tweets"
   ]
  },
  {
   "cell_type": "code",
   "execution_count": 14,
   "metadata": {},
   "outputs": [],
   "source": [
    "def sample_tweets(cat, N=10, seed=None, min_rt=0):\n",
    "    df_w = (en_tweets[(en_tweets['category']==cat) & (en_tweets['retweet_count'] > min_rt)]\n",
    "            [['retweet_count', 'favorite_count', 'text', 'user_name']]\n",
    "           )\n",
    "    for rt, fav, tweet, user in df_w.sample(n=min(N, len(df_w)), random_state=None).values:\n",
    "        print(f\"RTs: {str(rt).ljust(4)}\\tFavs: {str(fav).ljust(4)}\\tUser: {user.ljust(15)} Tweet: {tweet}\")"
   ]
  },
  {
   "cell_type": "code",
   "execution_count": 20,
   "metadata": {},
   "outputs": [
    {
     "name": "stdout",
     "output_type": "stream",
     "text": [
      "RTs: 41  \tFavs: 33  \tUser: Grace + Grit    Tweet: Y'all worship Beyonce but won't worship God\n",
      "RTs: 12  \tFavs: 7   \tUser: Grace + Grit    Tweet: No sin is worth going to hell for\n",
      "RTs: 55  \tFavs: 29  \tUser: Carl Sagan      Tweet: \"For a long time the human instinct to understand was thwarted by facile religious explanations.\"\n",
      "RTs: 21  \tFavs: 13  \tUser: SEBTS           Tweet: If you are able to attend church but do not, then you are living in sin. @MarkDever #9MarksSE\n",
      "RTs: 27  \tFavs: 1   \tUser: sagittarius's   Tweet: many others are far below us.. come to pray and give thanks!! #SAGITARIUS\n",
      "RTs: 12  \tFavs: 3   \tUser: ▲ ada aku kesah ▲ Tweet: I'm sorry Palestina. I'm here watching your bloods flow, tears drop, broken hearts thru pictures/news. All I can do is pray for u I'm sorry\n",
      "RTs: 18  \tFavs: 5   \tUser: Cherry Deeky    Tweet: I'm a FIRM believer in Karma. What you do to someone will come back and attack you 500 times worse. Be careful how you treat people.\n",
      "RTs: 15  \tFavs: 9   \tUser: SEBTS           Tweet: I am thrilled with President @ronniefloyd's call to prayer &amp; spiritual awakening among Southern Baptist. @DannyAkin http://t.co/eMiw58RlPB\n",
      "RTs: 15  \tFavs: 19  \tUser: Grace + Grit    Tweet: Temptation is not a sin; temptation is an\n",
      "opportunity to sin OR to worship God!”\n",
      "RTs: 13  \tFavs: 13  \tUser: Grace + Grit    Tweet: IM not perfect isn't an excuse to stay in your sin\n"
     ]
    }
   ],
   "source": [
    "sample_tweets('religion', min_rt=10)"
   ]
  },
  {
   "cell_type": "markdown",
   "metadata": {},
   "source": [
    "> Pre-processing to remove repeated tweets. Cameron? Consistency with the other parts of the project"
   ]
  },
  {
   "cell_type": "markdown",
   "metadata": {},
   "source": [
    "## Statistical Evaluation"
   ]
  },
  {
   "cell_type": "markdown",
   "metadata": {},
   "source": [
    "We look at the statistics of `retweet_count`and `favorite_count`:\n",
    "1. **mean value** with its bootstrap confidence intervals.\n",
    "2. **Expected log value** with its bootstrap confidence intervals too.\n",
    "\n",
    "The second statistic is related to the fact that the distributions are similar to the power law distribution, and the expected log value is a sufficient statistic for the power law (Idea from [stats.stackexchange](https://stats.stackexchange.com/questions/121925/intuitive-descriptive-statistics-for-power-law-distributions))."
   ]
  },
  {
   "cell_type": "code",
   "execution_count": 16,
   "metadata": {},
   "outputs": [],
   "source": [
    "def bootstrap_stat_ci(array, statistic, repetitions=10000, alpha=0.05, resampling_size=None):\n",
    "    if resampling_size is None:\n",
    "        resampling_size = int(len(array))\n",
    "    \n",
    "    # For reproducibility\n",
    "    np.random.seed(seed=0)\n",
    "    \n",
    "    bootstrap_distribution = []\n",
    "    for i in range(repetitions):\n",
    "        # resampled data\n",
    "        bootstrap_sample = np.random.choice(array, size=resampling_size, replace=True)\n",
    "        # computing the mean\n",
    "        stat_sample = statistic(bootstrap_sample)\n",
    "        # saving the statistic into the bootstrap distribution\n",
    "        bootstrap_distribution.append(stat_sample)\n",
    "\n",
    "    # Computing the bootstrap confidence interval\n",
    "    mean = np.mean(bootstrap_distribution)\n",
    "    left = np.percentile(bootstrap_distribution, alpha/2*100)\n",
    "    right = np.percentile(bootstrap_distribution, (1-alpha/2)*100)\n",
    "    \n",
    "    return bootstrap_distribution, mean, (left, right)\n",
    "\n",
    "def compute_statistic(statistic, categories, feature='retweet_count'):\n",
    "    # Choosing statistic\n",
    "    if statistic == 'mean':\n",
    "        stat_func = lambda x: np.mean(x)\n",
    "    elif statistic == 'mean_log':\n",
    "        stat_func = lambda x: np.mean(np.log10(x))\n",
    "    \n",
    "    # Computing bootstrap ci per category\n",
    "    x, l_err, r_err = [], [], []\n",
    "    for cat in categories:\n",
    "        values = df[df['category']==cat][feature][df[feature]>0].values\n",
    "        _, mean, (l_ci, r_ci) = bootstrap_stat_ci(values, statistic=stat_func)\n",
    "        x.append(mean)\n",
    "        l_err.append(mean-l_ci)\n",
    "        r_err.append(r_ci-mean)\n",
    "    err = [l_err, r_err]\n",
    "    return x, err\n",
    "\n",
    "def plot_error_bar(x, err, categories, statistic_name=''):\n",
    "    y = np.linspace(1, 2*len(x)-1, len(x))\n",
    "    plt.figure(figsize=(10,5))\n",
    "    plt.errorbar(x, y, xerr=err, fmt = 'o', color = 'k')\n",
    "    plt.yticks(tuple([0] + list(y) + [y[-1]+1]), tuple([''] + categories + ['']))\n",
    "    plt.title(statistic_name + ' per Category')\n",
    "    plt.ylabel('Categories')\n",
    "    plt.xlabel(statistic_name)\n",
    "    plt.show()\n",
    "    \n",
    "def show(statistic, feature, categories):\n",
    "    x, err = compute_statistic(statistic, categories, feature)\n",
    "    plot_error_bar(x, err, categories, statistic_name=' '.join([x.replace('_', ' ').title() for x in [statistic, feature]]))"
   ]
  },
  {
   "cell_type": "code",
   "execution_count": 17,
   "metadata": {},
   "outputs": [
    {
     "data": {
      "image/png": "[encoded data removed]",
      "text/plain": [
       "<Figure size 720x360 with 1 Axes>"
      ]
     },
     "metadata": {
      "needs_background": "light"
     },
     "output_type": "display_data"
    }
   ],
   "source": [
    "show('mean', 'retweet_count', CATEGORIES)"
   ]
  },
  {
   "cell_type": "code",
   "execution_count": 18,
   "metadata": {},
   "outputs": [
    {
     "data": {
      "image/png": "[encoded data removed]",
      "text/plain": [
       "<Figure size 720x360 with 1 Axes>"
      ]
     },
     "metadata": {
      "needs_background": "light"
     },
     "output_type": "display_data"
    }
   ],
   "source": [
    "show('mean_log', 'retweet_count', CATEGORIES)"
   ]
  },
  {
   "cell_type": "code",
   "execution_count": 19,
   "metadata": {},
   "outputs": [
    {
     "data": {
      "image/png": "[encoded data removed]",
      "text/plain": [
       "<Figure size 720x360 with 1 Axes>"
      ]
     },
     "metadata": {
      "needs_background": "light"
     },
     "output_type": "display_data"
    }
   ],
   "source": [
    "show('mean', 'favorite_count', CATEGORIES)"
   ]
  },
  {
   "cell_type": "code",
   "execution_count": 26,
   "metadata": {},
   "outputs": [
    {
     "data": {
      "image/png": "[encoded data removed]",
      "text/plain": [
       "<Figure size 720x360 with 1 Axes>"
      ]
     },
     "metadata": {
      "needs_background": "light"
     },
     "output_type": "display_data"
    }
   ],
   "source": [
    "show('mean_log', 'favorite_count', CATEGORIES)"
   ]
  },
  {
   "cell_type": "markdown",
   "metadata": {},
   "source": [
    "---------------\n",
    "# EXTRA CODE"
   ]
  },
  {
   "cell_type": "markdown",
   "metadata": {},
   "source": [
    "## Plotting retweet and favorite distributions"
   ]
  },
  {
   "cell_type": "code",
   "execution_count": 13,
   "metadata": {},
   "outputs": [
    {
     "data": {
      "image/png": "[encoded data removed]",
      "text/plain": [
       "<Figure size 432x288 with 1 Axes>"
      ]
     },
     "metadata": {
      "needs_background": "light"
     },
     "output_type": "display_data"
    }
   ],
   "source": [
    "ax = sns.boxplot(x=\"category\", y=\"retweet_count\", data=df)"
   ]
  },
  {
   "cell_type": "code",
   "execution_count": 21,
   "metadata": {},
   "outputs": [
    {
     "data": {
      "image/png": "[encoded data removed]",
      "text/plain": [
       "<Figure size 864x432 with 1 Axes>"
      ]
     },
     "metadata": {
      "needs_background": "light"
     },
     "output_type": "display_data"
    }
   ],
   "source": [
    "categories = CATEGORIES[:3]\n",
    "\n",
    "plt.figure(figsize=(12,6))\n",
    "for cat in categories:\n",
    "    plt.hist(df[df['category']==cat]['retweet_count'][df['retweet_count']>0].values, bins=50, alpha=0.3, density=True)\n",
    "plt.legend(categories)\n",
    "plt.yscale('log')\n",
    "plt.xscale('log')\n",
    "plt.xlabel('Retweets')\n",
    "plt.ylabel('Frequency')\n",
    "plt.show()"
   ]
  },
  {
   "cell_type": "markdown",
   "metadata": {},
   "source": [
    "**Fitting a power law**\n",
    "\n",
    "Its pdf is \\\\( f(x,a) = ax^{a-1} \\\\)"
   ]
  },
  {
   "cell_type": "code",
   "execution_count": 76,
   "metadata": {},
   "outputs": [
    {
     "data": {
      "image/png": "[encoded data removed]",
      "text/plain": [
       "<Figure size 720x360 with 1 Axes>"
      ]
     },
     "metadata": {
      "needs_background": "light"
     },
     "output_type": "display_data"
    }
   ],
   "source": [
    "plot_error_bar(x, err, statistic_name='Mean retweets')"
   ]
  },
  {
   "cell_type": "code",
   "execution_count": 64,
   "metadata": {},
   "outputs": [
    {
     "data": {
      "image/png": "[encoded data removed]",
      "text/plain": [
       "<Figure size 432x288 with 1 Axes>"
      ]
     },
     "metadata": {
      "needs_background": "light"
     },
     "output_type": "display_data"
    }
   ],
   "source": [
    "x = [2, 4, 3]\n",
    "y = np.linspace(1, 2*len(x)-1, len(x))\n",
    "errors = [0.5, 0.25, 0.75]\n",
    "\n",
    "plt.figure()\n",
    "plt.errorbar(x, y, xerr=errors, fmt = 'o', color = 'k')\n",
    "#plt.yticks((0, 1, 3, 5, 6), ('', 'x3', 'x2', 'x1',''))\n",
    "plt.show()"
   ]
  },
  {
   "cell_type": "code",
   "execution_count": 47,
   "metadata": {},
   "outputs": [
    {
     "data": {
      "text/plain": [
       "{'whiskers': [<matplotlib.lines.Line2D at 0x1309f04c0>,\n",
       "  <matplotlib.lines.Line2D at 0x1309f0820>],\n",
       " 'caps': [<matplotlib.lines.Line2D at 0x1309f0b80>,\n",
       "  <matplotlib.lines.Line2D at 0x1309f0ee0>],\n",
       " 'boxes': [<matplotlib.lines.Line2D at 0x1309f0160>],\n",
       " 'medians': [<matplotlib.lines.Line2D at 0x1309f2280>],\n",
       " 'fliers': [<matplotlib.lines.Line2D at 0x1309f2580>],\n",
       " 'means': []}"
      ]
     },
     "execution_count": 47,
     "metadata": {},
     "output_type": "execute_result"
    },
    {
     "data": {
      "image/png": "[encoded data removed]",
      "text/plain": [
       "<Figure size 432x288 with 1 Axes>"
      ]
     },
     "metadata": {
      "needs_background": "light"
     },
     "output_type": "display_data"
    }
   ],
   "source": [
    "plt.boxplot(mean, conf_intervals=[[l_ci, r_ci])"
   ]
  },
  {
   "cell_type": "code",
   "execution_count": 42,
   "metadata": {},
   "outputs": [
    {
     "data": {
      "text/plain": [
       "{'whiskers': [<matplotlib.lines.Line2D at 0x13bb46b80>,\n",
       "  <matplotlib.lines.Line2D at 0x13bb46ee0>],\n",
       " 'caps': [<matplotlib.lines.Line2D at 0x137feb2e0>,\n",
       "  <matplotlib.lines.Line2D at 0x137feb580>],\n",
       " 'boxes': [<matplotlib.lines.Line2D at 0x13bb46820>],\n",
       " 'medians': [<matplotlib.lines.Line2D at 0x137feb9a0>],\n",
       " 'fliers': [<matplotlib.lines.Line2D at 0x137febca0>],\n",
       " 'means': []}"
      ]
     },
     "execution_count": 42,
     "metadata": {},
     "output_type": "execute_result"
    },
    {
     "data": {
      "image/png": "[encoded data removed]",
      "text/plain": [
       "<Figure size 432x288 with 1 Axes>"
      ]
     },
     "metadata": {
      "needs_background": "light"
     },
     "output_type": "display_data"
    }
   ],
   "source": [
    "plt.boxplot(rt_sports, bootstrap=10000)"
   ]
  },
  {
   "cell_type": "code",
   "execution_count": 61,
   "metadata": {},
   "outputs": [
    {
     "data": {
      "image/png": "[encoded data removed]",
      "text/plain": [
       "<Figure size 720x360 with 1 Axes>"
      ]
     },
     "metadata": {
      "needs_background": "light"
     },
     "output_type": "display_data"
    }
   ],
   "source": [
    "# Plotting the bootstrap distribution\n",
    "\n",
    "plt.figure(figsize=(10,5))\n",
    "plt.hist(bootstrap_distribution, bins=45)\n",
    "plt.title('Bootstrap distribution')\n",
    "plt.ylabel('Counts')\n",
    "plt.xlabel('Probability for a prediction being off by more than 2 points')\n",
    "plt.axvline(x=left, color='red')\n",
    "plt.legend(['Confidence Interval', 'Distribution'])\n",
    "plt.axvline(x=right, color='red')\n",
    "plt.show()"
   ]
  },
  {
   "cell_type": "code",
   "execution_count": 26,
   "metadata": {},
   "outputs": [
    {
     "data": {
      "text/plain": [
       "(0.20062570982506292, 0.9999999999999998, 107.3392646686593)"
      ]
     },
     "execution_count": 26,
     "metadata": {},
     "output_type": "execute_result"
    }
   ],
   "source": [
    "scipy.stats.powerlaw.fit(rt_sports)"
   ]
  },
  {
   "cell_type": "code",
   "execution_count": 20,
   "metadata": {},
   "outputs": [
    {
     "data": {
      "image/png": "[encoded data removed]",
      "text/plain": [
       "<Figure size 864x432 with 1 Axes>"
      ]
     },
     "metadata": {
      "needs_background": "light"
     },
     "output_type": "display_data"
    }
   ],
   "source": [
    "categories = CATEGORIES\n",
    "\n",
    "plt.figure(figsize=(12,6))\n",
    "for cat in categories:\n",
    "    plt.hist(df[df['category']==cat]['favorite_count'].values, bins=50, alpha=0.3, density=True)\n",
    "plt.legend(categories)\n",
    "plt.yscale('log')\n",
    "plt.xlabel('Favorites')\n",
    "plt.ylabel('Frequency')\n",
    "plt.show()"
   ]
  },
  {
   "cell_type": "markdown",
   "metadata": {},
   "source": [
    "# Bert SA-pipeline"
   ]
  },
  {
   "cell_type": "code",
   "execution_count": 73,
   "metadata": {},
   "outputs": [],
   "source": [
    "sa_pipeline = pipeline('sentiment-analysis')"
   ]
  },
  {
   "cell_type": "code",
   "execution_count": 72,
   "metadata": {},
   "outputs": [
    {
     "name": "stdout",
     "output_type": "stream",
     "text": [
      "Will try to live for a week offline... wish me luck! :D\n",
      "[{'label': 'POSITIVE', 'score': 0.866500198841095}]\n",
      "\n",
      "Boa tarde..\n",
      " (@shekinahbiscuit live on http://t.co/nU1N0NJJIJ)\n",
      "[{'label': 'NEGATIVE', 'score': 0.9955581426620483}]\n",
      "\n",
      "Phew... Valentine's day will be finally over in few hours\n",
      "[{'label': 'NEGATIVE', 'score': 0.9857021570205688}]\n",
      "\n",
      "up\n",
      " (@deiabiscuit32 live on http://t.co/J8uYVfLR)\n",
      "[{'label': 'NEGATIVE', 'score': 0.9937337636947632}]\n",
      "\n",
      "simmm\n",
      " (@deiabiscuit32 live on http://t.co/J8uYVfLR)\n",
      "[{'label': 'NEGATIVE', 'score': 0.9974138140678406}]\n",
      "\n",
      "ski everybody! (rock)\n",
      "[{'label': 'POSITIVE', 'score': 0.9946964383125305}]\n",
      "\n",
      "Wonders why there are so many ugly fat women on maury with sexy whores of men... How did that happen?!\n",
      "[{'label': 'NEGATIVE', 'score': 0.9961680769920349}]\n",
      "\n",
      "A new iOS version of #SmurfLife has arrived with new trainers &amp; quests! Update now to join the fun! @BeelineGames http://t.co/H2ugkjbBwZ\n",
      "[{'label': 'POSITIVE', 'score': 0.9560735821723938}]\n",
      "\n",
      "Have you been to the mountain? Reach new heights on the #SmurfVillage mountain! http://t.co/d9BVrqiU82 @BeelineGames\n",
      "[{'label': 'NEGATIVE', 'score': 0.8024985194206238}]\n",
      "\n",
      "Plant &amp; harvest all your space crops at once with Farmer Smurfs Moon Buggy tractor, coming soon to #SmurfsVillage! http://t.co/wPV94GMKx1\n",
      "[{'label': 'NEGATIVE', 'score': 0.9945492148399353}]\n",
      "\n"
     ]
    }
   ],
   "source": [
    "for i in range(10):\n",
    "    text = en_tweets['text'].iloc[i]\n",
    "    print(text)\n",
    "    prediction = sa_pipeline(text)\n",
    "    print(prediction)\n",
    "    print()"
   ]
  },
  {
   "cell_type": "markdown",
   "metadata": {},
   "source": [
    "----------------\n",
    "# Extra code\n",
    "\n",
    "-------------"
   ]
  },
  {
   "cell_type": "markdown",
   "metadata": {},
   "source": [
    "## Results with the raw tweets"
   ]
  },
  {
   "cell_type": "code",
   "execution_count": 73,
   "metadata": {},
   "outputs": [],
   "source": [
    "#Initializing the Rule-based sentiment analyzer \n",
    "analyzer = SentimentIntensityAnalyzer()"
   ]
  },
  {
   "cell_type": "code",
   "execution_count": 74,
   "metadata": {},
   "outputs": [],
   "source": [
    "en_tweets['sent_score'] = [analyzer.polarity_scores(x)['compound'] for x in en_tweets['text']]"
   ]
  },
  {
   "cell_type": "code",
   "execution_count": 75,
   "metadata": {},
   "outputs": [],
   "source": [
    "def sentiment(scores):\n",
    "    sents = []\n",
    "    for score in scores:\n",
    "        if score >=0.05:\n",
    "            sent = 'pos'\n",
    "        elif score <=-0.05:\n",
    "            sent = 'neg'\n",
    "        elif abs(score) <0.05:\n",
    "            sent = 'neu'\n",
    "        sents.append(sent)\n",
    "    return sents"
   ]
  },
  {
   "cell_type": "code",
   "execution_count": 76,
   "metadata": {},
   "outputs": [],
   "source": [
    "en_tweets['sentiment'] = sentiment(en_tweets.sent_score)"
   ]
  },
  {
   "cell_type": "code",
   "execution_count": 77,
   "metadata": {},
   "outputs": [],
   "source": [
    "grouped_sents = en_tweets.groupby(by='sentiment')"
   ]
  },
  {
   "cell_type": "code",
   "execution_count": 78,
   "metadata": {},
   "outputs": [
    {
     "name": "stdout",
     "output_type": "stream",
     "text": [
      "Number of positive sentences: 485976\n",
      "Number of negative sentences: 210152\n",
      "Number of neutral sentences: 358491\n"
     ]
    }
   ],
   "source": [
    "print('Number of positive sentences:',sum(np.array(en_tweets['sent_score'])>=0.05))\n",
    "print('Number of negative sentences:',sum(np.array(en_tweets['sent_score'])<=-0.05))\n",
    "print('Number of neutral sentences:',sum(np.abs(np.array(en_tweets['sent_score']))<0.05))"
   ]
  },
  {
   "cell_type": "code",
   "execution_count": 79,
   "metadata": {},
   "outputs": [
    {
     "data": {
      "image/png": "[encoded data removed]",
      "text/plain": [
       "<Figure size 432x432 with 1 Axes>"
      ]
     },
     "metadata": {
      "needs_background": "light"
     },
     "output_type": "display_data"
    }
   ],
   "source": [
    "plt.figure(figsize=(6,6))\n",
    "plt.bar(grouped_sents.size().index, grouped_sents.size().values, width=0.8)\n",
    "plt.xlabel('Sentiment')\n",
    "plt.ylabel('Number of Tweets')\n",
    "plt.show()"
   ]
  }
 ],
 "metadata": {
  "kernelspec": {
   "display_name": "Python 3",
   "language": "python",
   "name": "python3"
  },
  "language_info": {
   "codemirror_mode": {
    "name": "ipython",
    "version": 3
   },
   "file_extension": ".py",
   "mimetype": "text/x-python",
   "name": "python",
   "nbconvert_exporter": "python",
   "pygments_lexer": "ipython3",
   "version": "3.8.5"
  }
 },
 "nbformat": 4,
 "nbformat_minor": 4
}
